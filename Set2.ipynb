{
 "cells": [
  {
   "cell_type": "markdown",
   "metadata": {},
   "source": [
    "# Zadania\n",
    "1. Utwórz dwie nowe kolumny w ramce \"Countries\", w których powierzchnia i gęstość zaludnienia wyrażone sa odpowiednio w milach kwadratowych i osobach na milę kwadratową. \n",
    "  - Przelicznik: 1 mila kwadratowa = 0.38610 km kwadratowego (powierzchnię należy pomnożyć, a gęstość zaludnienia podzielić przez ten współczynnik)\n",
    "  - Typami nowych kolumn mają być odpowiednio integer (powierzchnia) i float (gęstość). Zaokrąglanie do integer: \"int(x)\"\n",
    "  - Nazwy nowych kolumn proszę ustawić odpowiednio na '<tt>Area (sq mi)</tt>' oraz '<tt>Pop Density (per sq mi)</tt>'\n",
    "2. Na wykresie scatterplot narysuj zależność liczby lotnisk od powierzchni kraju. \n",
    "  - Dane potrzebne do wykresu są w dwóch ramkach (Countries i Airports), konieczne więc będzie ich złączenie (join).\n",
    "  - Wskazówka: w pierwszym etapie stwórz ramkę agregującą liczbę lotnisk w zależności od kraju. W drugim etapie złącz (join) tę ramkę z ramką countries. Kolumną wspólną (warunkiem złączenia) będzie Country.\n",
    "  - Nie zawsze nazwy tych samych krajów będą identyczne w obu ramkach, co może stanowić problem (złączenie nie powstanie). Zastanów się jak przy pomocy mechanizmu złączeń wykryć, które nazwy się różnią. Stwórz odpowiednią ramkę, która zawiera takie nazwy. \n",
    "  - Następnie zmień nazwy kilku największych państw w jednej z ramek, tak żeby ujednolicić nazwy. Można to zrobić funkcją replace:\n",
    "<br><tt>cdf=cdf.replace(['Korea, South', 'Korea, North'], ['South Korea', 'North Korea'], 'Country')</tt>\n",
    "3. Do ramki \"Countries\" dodaj nową kolumnę \"Continent\" (według klasyfikacji Africa, Asia, Europe, North America, South America, Antarctica, Australia/Oceania). \n",
    "  - Skorzystaj z kolumny \"Region\" i pomocniczej funkcji (UDF) mapującej region na kontynent.\n",
    "4. Oblicz, ile lotnisk jest na poszczególnych kontynentach. To zadanie również wymaga złączenia ramek \"Countries\" i \"Airports\". Wynik przedstaw na wykresie słupkowym.\n"
   ]
  },
  {
   "cell_type": "code",
   "execution_count": 1018,
   "metadata": {},
   "outputs": [],
   "source": [
    "from pyspark.sql import SparkSession"
   ]
  },
  {
   "cell_type": "code",
   "execution_count": 1019,
   "metadata": {},
   "outputs": [],
   "source": [
    "import pandas as pd"
   ]
  },
  {
   "cell_type": "code",
   "execution_count": 1020,
   "metadata": {},
   "outputs": [],
   "source": [
    "import numpy as np"
   ]
  },
  {
   "cell_type": "code",
   "execution_count": 1021,
   "metadata": {},
   "outputs": [],
   "source": [
    "spark = SparkSession.builder.getOrCreate()"
   ]
  },
  {
   "cell_type": "code",
   "execution_count": 1022,
   "metadata": {},
   "outputs": [],
   "source": [
    "import matplotlib\n",
    "import matplotlib.pyplot as plt\n",
    "matplotlib.style.use('ggplot')"
   ]
  },
  {
   "cell_type": "code",
   "execution_count": 1023,
   "metadata": {},
   "outputs": [],
   "source": [
    "# Wbudowane funkcje, które mogą być przydatne:\n",
    "# - udf: służy do tworzenia funkcji użytkownika\n",
    "# - trim: usuwa białe spacje z początku i końca stringu\n",
    "# - isnull: testuje, czy wartość jest pusta\n",
    "from pyspark.sql.functions import col, udf, trim, isnull\n",
    "from pyspark.sql.types import FloatType, IntegerType\n",
    "import pyspark.sql.functions as F"
   ]
  },
  {
   "cell_type": "code",
   "execution_count": 1024,
   "metadata": {},
   "outputs": [],
   "source": [
    "def to_float(s):\n",
    "   return float(s.replace(',','.'))\n",
    "float_udf = udf(to_float, FloatType())"
   ]
  },
  {
   "cell_type": "code",
   "execution_count": 1025,
   "metadata": {
    "scrolled": false
   },
   "outputs": [
    {
     "output_type": "display_data",
     "data": {
      "text/plain": "             Country                               Region  Population  \\\n0       Afghanistan         ASIA (EX. NEAR EAST)             31056997   \n1           Albania   EASTERN EUROPE                          3581655   \n2           Algeria   NORTHERN AFRICA                        32930091   \n3    American Samoa   OCEANIA                                   57794   \n4           Andorra   WESTERN EUROPE                            71201   \n..               ...                                  ...         ...   \n222       West Bank   NEAR EAST                               2460492   \n223  Western Sahara   NORTHERN AFRICA                          273008   \n224           Yemen   NEAR EAST                              21456188   \n225          Zambia   SUB-SAHARAN AFRICA                     11502010   \n226        Zimbabwe   SUB-SAHARAN AFRICA                     12236805   \n\n     Area (sq mi) Pop Density (per sq mi) Coastline (coast/area ratio)  \\\n0          647500                    48,0                         0,00   \n1           28748                   124,6                         1,26   \n2         2381740                    13,8                         0,04   \n3             199                   290,4                        58,29   \n4             468                   152,1                         0,00   \n..            ...                     ...                          ...   \n222          5860                   419,9                         0,00   \n223        266000                     1,0                         0,42   \n224        527970                    40,6                         0,36   \n225        752614                    15,3                         0,00   \n226        390580                    31,3                         0,00   \n\n    Net migration Infant mortality (per 1000 births)  GDP ($ per capita)  \\\n0           23,06                             163,07               700.0   \n1           -4,93                              21,52              4500.0   \n2           -0,39                                 31              6000.0   \n3          -20,71                               9,27              8000.0   \n4             6,6                               4,05             19000.0   \n..            ...                                ...                 ...   \n222          2,98                              19,62               800.0   \n223          None                               None                 NaN   \n224             0                               61,5               800.0   \n225             0                              88,29               800.0   \n226             0                              67,69              1900.0   \n\n    Literacy (%) Phones (per 1000) Arable (%) Crops (%) Other (%) Climate  \\\n0           36,0               3,2      12,13      0,22     87,65       1   \n1           86,5              71,2      21,09      4,42     74,49       3   \n2           70,0              78,1       3,22      0,25     96,53       1   \n3           97,0             259,5         10        15        75       2   \n4          100,0             497,2       2,22         0     97,78       3   \n..           ...               ...        ...       ...       ...     ...   \n222         None             145,2       16,9     18,97     64,13       3   \n223         None              None       0,02         0     99,98       1   \n224         50,2              37,2       2,78      0,24     96,98       1   \n225         80,6               8,2       7,08      0,03      92,9       2   \n226         90,7              26,8       8,32      0,34     91,34       2   \n\n    Birthrate Deathrate Agriculture Industry Service  \n0        46,6     20,34        0,38     0,24    0,38  \n1       15,11      5,22       0,232    0,188   0,579  \n2       17,14      4,61       0,101      0,6   0,298  \n3       22,46      3,27        None     None    None  \n4        8,71      6,25        None     None    None  \n..        ...       ...         ...      ...     ...  \n222     31,67      3,92        0,09     0,28    0,63  \n223      None      None        None     None     0,4  \n224     42,89       8,3       0,135    0,472   0,393  \n225        41     19,93        0,22     0,29   0,489  \n226     28,01     21,84       0,179    0,243   0,579  \n\n[227 rows x 20 columns]",
      "text/html": "<div>\n<style scoped>\n    .dataframe tbody tr th:only-of-type {\n        vertical-align: middle;\n    }\n\n    .dataframe tbody tr th {\n        vertical-align: top;\n    }\n\n    .dataframe thead th {\n        text-align: right;\n    }\n</style>\n<table border=\"1\" class=\"dataframe\">\n  <thead>\n    <tr style=\"text-align: right;\">\n      <th></th>\n      <th>Country</th>\n      <th>Region</th>\n      <th>Population</th>\n      <th>Area (sq mi)</th>\n      <th>Pop Density (per sq mi)</th>\n      <th>Coastline (coast/area ratio)</th>\n      <th>Net migration</th>\n      <th>Infant mortality (per 1000 births)</th>\n      <th>GDP ($ per capita)</th>\n      <th>Literacy (%)</th>\n      <th>Phones (per 1000)</th>\n      <th>Arable (%)</th>\n      <th>Crops (%)</th>\n      <th>Other (%)</th>\n      <th>Climate</th>\n      <th>Birthrate</th>\n      <th>Deathrate</th>\n      <th>Agriculture</th>\n      <th>Industry</th>\n      <th>Service</th>\n    </tr>\n  </thead>\n  <tbody>\n    <tr>\n      <th>0</th>\n      <td>Afghanistan</td>\n      <td>ASIA (EX. NEAR EAST)</td>\n      <td>31056997</td>\n      <td>647500</td>\n      <td>48,0</td>\n      <td>0,00</td>\n      <td>23,06</td>\n      <td>163,07</td>\n      <td>700.0</td>\n      <td>36,0</td>\n      <td>3,2</td>\n      <td>12,13</td>\n      <td>0,22</td>\n      <td>87,65</td>\n      <td>1</td>\n      <td>46,6</td>\n      <td>20,34</td>\n      <td>0,38</td>\n      <td>0,24</td>\n      <td>0,38</td>\n    </tr>\n    <tr>\n      <th>1</th>\n      <td>Albania</td>\n      <td>EASTERN EUROPE</td>\n      <td>3581655</td>\n      <td>28748</td>\n      <td>124,6</td>\n      <td>1,26</td>\n      <td>-4,93</td>\n      <td>21,52</td>\n      <td>4500.0</td>\n      <td>86,5</td>\n      <td>71,2</td>\n      <td>21,09</td>\n      <td>4,42</td>\n      <td>74,49</td>\n      <td>3</td>\n      <td>15,11</td>\n      <td>5,22</td>\n      <td>0,232</td>\n      <td>0,188</td>\n      <td>0,579</td>\n    </tr>\n    <tr>\n      <th>2</th>\n      <td>Algeria</td>\n      <td>NORTHERN AFRICA</td>\n      <td>32930091</td>\n      <td>2381740</td>\n      <td>13,8</td>\n      <td>0,04</td>\n      <td>-0,39</td>\n      <td>31</td>\n      <td>6000.0</td>\n      <td>70,0</td>\n      <td>78,1</td>\n      <td>3,22</td>\n      <td>0,25</td>\n      <td>96,53</td>\n      <td>1</td>\n      <td>17,14</td>\n      <td>4,61</td>\n      <td>0,101</td>\n      <td>0,6</td>\n      <td>0,298</td>\n    </tr>\n    <tr>\n      <th>3</th>\n      <td>American Samoa</td>\n      <td>OCEANIA</td>\n      <td>57794</td>\n      <td>199</td>\n      <td>290,4</td>\n      <td>58,29</td>\n      <td>-20,71</td>\n      <td>9,27</td>\n      <td>8000.0</td>\n      <td>97,0</td>\n      <td>259,5</td>\n      <td>10</td>\n      <td>15</td>\n      <td>75</td>\n      <td>2</td>\n      <td>22,46</td>\n      <td>3,27</td>\n      <td>None</td>\n      <td>None</td>\n      <td>None</td>\n    </tr>\n    <tr>\n      <th>4</th>\n      <td>Andorra</td>\n      <td>WESTERN EUROPE</td>\n      <td>71201</td>\n      <td>468</td>\n      <td>152,1</td>\n      <td>0,00</td>\n      <td>6,6</td>\n      <td>4,05</td>\n      <td>19000.0</td>\n      <td>100,0</td>\n      <td>497,2</td>\n      <td>2,22</td>\n      <td>0</td>\n      <td>97,78</td>\n      <td>3</td>\n      <td>8,71</td>\n      <td>6,25</td>\n      <td>None</td>\n      <td>None</td>\n      <td>None</td>\n    </tr>\n    <tr>\n      <th>...</th>\n      <td>...</td>\n      <td>...</td>\n      <td>...</td>\n      <td>...</td>\n      <td>...</td>\n      <td>...</td>\n      <td>...</td>\n      <td>...</td>\n      <td>...</td>\n      <td>...</td>\n      <td>...</td>\n      <td>...</td>\n      <td>...</td>\n      <td>...</td>\n      <td>...</td>\n      <td>...</td>\n      <td>...</td>\n      <td>...</td>\n      <td>...</td>\n      <td>...</td>\n    </tr>\n    <tr>\n      <th>222</th>\n      <td>West Bank</td>\n      <td>NEAR EAST</td>\n      <td>2460492</td>\n      <td>5860</td>\n      <td>419,9</td>\n      <td>0,00</td>\n      <td>2,98</td>\n      <td>19,62</td>\n      <td>800.0</td>\n      <td>None</td>\n      <td>145,2</td>\n      <td>16,9</td>\n      <td>18,97</td>\n      <td>64,13</td>\n      <td>3</td>\n      <td>31,67</td>\n      <td>3,92</td>\n      <td>0,09</td>\n      <td>0,28</td>\n      <td>0,63</td>\n    </tr>\n    <tr>\n      <th>223</th>\n      <td>Western Sahara</td>\n      <td>NORTHERN AFRICA</td>\n      <td>273008</td>\n      <td>266000</td>\n      <td>1,0</td>\n      <td>0,42</td>\n      <td>None</td>\n      <td>None</td>\n      <td>NaN</td>\n      <td>None</td>\n      <td>None</td>\n      <td>0,02</td>\n      <td>0</td>\n      <td>99,98</td>\n      <td>1</td>\n      <td>None</td>\n      <td>None</td>\n      <td>None</td>\n      <td>None</td>\n      <td>0,4</td>\n    </tr>\n    <tr>\n      <th>224</th>\n      <td>Yemen</td>\n      <td>NEAR EAST</td>\n      <td>21456188</td>\n      <td>527970</td>\n      <td>40,6</td>\n      <td>0,36</td>\n      <td>0</td>\n      <td>61,5</td>\n      <td>800.0</td>\n      <td>50,2</td>\n      <td>37,2</td>\n      <td>2,78</td>\n      <td>0,24</td>\n      <td>96,98</td>\n      <td>1</td>\n      <td>42,89</td>\n      <td>8,3</td>\n      <td>0,135</td>\n      <td>0,472</td>\n      <td>0,393</td>\n    </tr>\n    <tr>\n      <th>225</th>\n      <td>Zambia</td>\n      <td>SUB-SAHARAN AFRICA</td>\n      <td>11502010</td>\n      <td>752614</td>\n      <td>15,3</td>\n      <td>0,00</td>\n      <td>0</td>\n      <td>88,29</td>\n      <td>800.0</td>\n      <td>80,6</td>\n      <td>8,2</td>\n      <td>7,08</td>\n      <td>0,03</td>\n      <td>92,9</td>\n      <td>2</td>\n      <td>41</td>\n      <td>19,93</td>\n      <td>0,22</td>\n      <td>0,29</td>\n      <td>0,489</td>\n    </tr>\n    <tr>\n      <th>226</th>\n      <td>Zimbabwe</td>\n      <td>SUB-SAHARAN AFRICA</td>\n      <td>12236805</td>\n      <td>390580</td>\n      <td>31,3</td>\n      <td>0,00</td>\n      <td>0</td>\n      <td>67,69</td>\n      <td>1900.0</td>\n      <td>90,7</td>\n      <td>26,8</td>\n      <td>8,32</td>\n      <td>0,34</td>\n      <td>91,34</td>\n      <td>2</td>\n      <td>28,01</td>\n      <td>21,84</td>\n      <td>0,179</td>\n      <td>0,243</td>\n      <td>0,579</td>\n    </tr>\n  </tbody>\n</table>\n<p>227 rows × 20 columns</p>\n</div>"
     },
     "metadata": {}
    }
   ],
   "source": [
    "countries = spark.read.csv(\"countries of the world.csv\", inferSchema=True, header=True)\n",
    "\n",
    "# Usuwa kropki z wszystkich nazw kolumn (powodują wiele błędów, prawdopodobnie bug w Sparku)\n",
    "# (Nb. wszystkie inne metody zmiany tych nazw (np. użycie columnRenamed) zawiodły)\n",
    "new_columns = [s.replace('.','') for s in countries.columns]\n",
    "countries = countries.toDF(*new_columns) # tutaj '*' to operator \"splat\" -- robi z tablicy listę argumentów\n",
    "\n",
    "# Tak można ustawić wyświetlanie większej liczby wierszy w Jupyterze\n",
    "pd.set_option('display.max_rows', 20)\n",
    "display(countries.toPandas())"
   ]
  },
  {
   "cell_type": "code",
   "execution_count": 1026,
   "metadata": {},
   "outputs": [],
   "source": [
    "# Utworzenie nowej ramki 'cdf':\n",
    "# - wartosci puste wypelnione \"-1\", zeby nie usuwac wierszy\n",
    "# - trim stringów (w nazwach występują niepożądane spacje na końcu)\n",
    "# - konwersja wszystkich kolumn zmiennoprzecinkowych na float\n",
    "# - zmiana 'sq mi' na 'sq km', bo w zbiorze wartości są faktycznie w km^2, a nie milach^2\n",
    "cdf = countries.na.fill(\"-1\").select( \n",
    "                 trim(col('Country')).alias('Country'),\\\n",
    "                 trim(col('Region')).alias('Region'),'Population',\\\n",
    "                 col('`Area (sq mi)`').alias('Area (sq km)'),\\\n",
    "                 float_udf('`Pop Density (per sq mi)`').alias('Pop Density (per sq km)'),\\\n",
    "                 float_udf('Coastline (coast/area ratio)').alias('Coastline (coast/area ratio)'),\\\n",
    "                 float_udf('Net migration').alias('Net migration'),\\\n",
    "                 float_udf('Infant mortality (per 1000 births)').alias('Infant mortality (per 1000 births)'),\\\n",
    "                 'GDP ($ per capita)',\\\n",
    "                 float_udf('Literacy (%)').alias('Literacy (%)'),\\\n",
    "                 float_udf('Phones (per 1000)').alias('Phones (per 1000)'),\\\n",
    "                 float_udf('Arable (%)').alias('Arable (%)'),\\\n",
    "                 float_udf('Crops (%)').alias('Crops (%)'),\\\n",
    "                 float_udf('Other (%)').alias('Other (%)'),\\\n",
    "                 float_udf('Birthrate').alias('Birthrate'),\\\n",
    "                 float_udf('Deathrate').alias('Deathrate'),\\\n",
    "                 float_udf('Agriculture').alias('Agriculture'),\\\n",
    "                 float_udf('Industry').alias('Industry'),\\\n",
    "                 float_udf('Service').alias('Service'))"
   ]
  },
  {
   "cell_type": "markdown",
   "metadata": {},
   "source": [
    "# Zadanie 1: nowe kolumny"
   ]
  },
  {
   "cell_type": "code",
   "execution_count": 1027,
   "metadata": {},
   "outputs": [
    {
     "output_type": "execute_result",
     "data": {
      "text/plain": [
       "            Country                Region  Population  Area (sq km)  \\\n",
       "0       Afghanistan  ASIA (EX. NEAR EAST)    31056997        647500   \n",
       "1           Albania        EASTERN EUROPE     3581655         28748   \n",
       "2           Algeria       NORTHERN AFRICA    32930091       2381740   \n",
       "3    American Samoa               OCEANIA       57794           199   \n",
       "4           Andorra        WESTERN EUROPE       71201           468   \n",
       "..              ...                   ...         ...           ...   \n",
       "222       West Bank             NEAR EAST     2460492          5860   \n",
       "223  Western Sahara       NORTHERN AFRICA      273008        266000   \n",
       "224           Yemen             NEAR EAST    21456188        527970   \n",
       "225          Zambia    SUB-SAHARAN AFRICA    11502010        752614   \n",
       "226        Zimbabwe    SUB-SAHARAN AFRICA    12236805        390580   \n",
       "\n",
       "     Pop Density (per sq km)  Coastline (coast/area ratio)  Net migration  \\\n",
       "0                  48.000000                      0.000000      23.059999   \n",
       "1                 124.599998                      1.260000      -4.930000   \n",
       "2                  13.800000                      0.040000      -0.390000   \n",
       "3                 290.399994                     58.290001     -20.709999   \n",
       "4                 152.100006                      0.000000       6.600000   \n",
       "..                       ...                           ...            ...   \n",
       "222               419.899994                      0.000000       2.980000   \n",
       "223                 1.000000                      0.420000      -1.000000   \n",
       "224                40.599998                      0.360000       0.000000   \n",
       "225                15.300000                      0.000000       0.000000   \n",
       "226                31.299999                      0.000000       0.000000   \n",
       "\n",
       "     Infant mortality (per 1000 births)  GDP ($ per capita)  Literacy (%)  \\\n",
       "0                            163.070007               700.0     36.000000   \n",
       "1                             21.520000              4500.0     86.500000   \n",
       "2                             31.000000              6000.0     70.000000   \n",
       "3                              9.270000              8000.0     97.000000   \n",
       "4                              4.050000             19000.0    100.000000   \n",
       "..                                  ...                 ...           ...   \n",
       "222                           19.620001               800.0     -1.000000   \n",
       "223                           -1.000000                 NaN     -1.000000   \n",
       "224                           61.500000               800.0     50.200001   \n",
       "225                           88.290001               800.0     80.599998   \n",
       "226                           67.690002              1900.0     90.699997   \n",
       "\n",
       "     Phones (per 1000)  Arable (%)  Crops (%)  Other (%)  Birthrate  \\\n",
       "0             3.200000       12.13   0.220000  87.650002  46.599998   \n",
       "1            71.199997       21.09   4.420000  74.489998  15.110000   \n",
       "2            78.099998        3.22   0.250000  96.529999  17.139999   \n",
       "3           259.500000       10.00  15.000000  75.000000  22.459999   \n",
       "4           497.200012        2.22   0.000000  97.779999   8.710000   \n",
       "..                 ...         ...        ...        ...        ...   \n",
       "222         145.199997       16.90  18.969999  64.129997  31.670000   \n",
       "223          -1.000000        0.02   0.000000  99.980003  -1.000000   \n",
       "224          37.200001        2.78   0.240000  96.980003  42.889999   \n",
       "225           8.200000        7.08   0.030000  92.900002  41.000000   \n",
       "226          26.799999        8.32   0.340000  91.339996  28.010000   \n",
       "\n",
       "     Deathrate  Agriculture  Industry  Service  \n",
       "0        20.34        0.380     0.240    0.380  \n",
       "1         5.22        0.232     0.188    0.579  \n",
       "2         4.61        0.101     0.600    0.298  \n",
       "3         3.27       -1.000    -1.000   -1.000  \n",
       "4         6.25       -1.000    -1.000   -1.000  \n",
       "..         ...          ...       ...      ...  \n",
       "222       3.92        0.090     0.280    0.630  \n",
       "223      -1.00       -1.000    -1.000    0.400  \n",
       "224       8.30        0.135     0.472    0.393  \n",
       "225      19.93        0.220     0.290    0.489  \n",
       "226      21.84        0.179     0.243    0.579  \n",
       "\n",
       "[227 rows x 19 columns]"
      ],
      "text/html": "<div>\n<style scoped>\n    .dataframe tbody tr th:only-of-type {\n        vertical-align: middle;\n    }\n\n    .dataframe tbody tr th {\n        vertical-align: top;\n    }\n\n    .dataframe thead th {\n        text-align: right;\n    }\n</style>\n<table border=\"1\" class=\"dataframe\">\n  <thead>\n    <tr style=\"text-align: right;\">\n      <th></th>\n      <th>Country</th>\n      <th>Region</th>\n      <th>Population</th>\n      <th>Area (sq km)</th>\n      <th>Pop Density (per sq km)</th>\n      <th>Coastline (coast/area ratio)</th>\n      <th>Net migration</th>\n      <th>Infant mortality (per 1000 births)</th>\n      <th>GDP ($ per capita)</th>\n      <th>Literacy (%)</th>\n      <th>Phones (per 1000)</th>\n      <th>Arable (%)</th>\n      <th>Crops (%)</th>\n      <th>Other (%)</th>\n      <th>Birthrate</th>\n      <th>Deathrate</th>\n      <th>Agriculture</th>\n      <th>Industry</th>\n      <th>Service</th>\n    </tr>\n  </thead>\n  <tbody>\n    <tr>\n      <th>0</th>\n      <td>Afghanistan</td>\n      <td>ASIA (EX. NEAR EAST)</td>\n      <td>31056997</td>\n      <td>647500</td>\n      <td>48.000000</td>\n      <td>0.000000</td>\n      <td>23.059999</td>\n      <td>163.070007</td>\n      <td>700.0</td>\n      <td>36.000000</td>\n      <td>3.200000</td>\n      <td>12.13</td>\n      <td>0.220000</td>\n      <td>87.650002</td>\n      <td>46.599998</td>\n      <td>20.34</td>\n      <td>0.380</td>\n      <td>0.240</td>\n      <td>0.380</td>\n    </tr>\n    <tr>\n      <th>1</th>\n      <td>Albania</td>\n      <td>EASTERN EUROPE</td>\n      <td>3581655</td>\n      <td>28748</td>\n      <td>124.599998</td>\n      <td>1.260000</td>\n      <td>-4.930000</td>\n      <td>21.520000</td>\n      <td>4500.0</td>\n      <td>86.500000</td>\n      <td>71.199997</td>\n      <td>21.09</td>\n      <td>4.420000</td>\n      <td>74.489998</td>\n      <td>15.110000</td>\n      <td>5.22</td>\n      <td>0.232</td>\n      <td>0.188</td>\n      <td>0.579</td>\n    </tr>\n    <tr>\n      <th>2</th>\n      <td>Algeria</td>\n      <td>NORTHERN AFRICA</td>\n      <td>32930091</td>\n      <td>2381740</td>\n      <td>13.800000</td>\n      <td>0.040000</td>\n      <td>-0.390000</td>\n      <td>31.000000</td>\n      <td>6000.0</td>\n      <td>70.000000</td>\n      <td>78.099998</td>\n      <td>3.22</td>\n      <td>0.250000</td>\n      <td>96.529999</td>\n      <td>17.139999</td>\n      <td>4.61</td>\n      <td>0.101</td>\n      <td>0.600</td>\n      <td>0.298</td>\n    </tr>\n    <tr>\n      <th>3</th>\n      <td>American Samoa</td>\n      <td>OCEANIA</td>\n      <td>57794</td>\n      <td>199</td>\n      <td>290.399994</td>\n      <td>58.290001</td>\n      <td>-20.709999</td>\n      <td>9.270000</td>\n      <td>8000.0</td>\n      <td>97.000000</td>\n      <td>259.500000</td>\n      <td>10.00</td>\n      <td>15.000000</td>\n      <td>75.000000</td>\n      <td>22.459999</td>\n      <td>3.27</td>\n      <td>-1.000</td>\n      <td>-1.000</td>\n      <td>-1.000</td>\n    </tr>\n    <tr>\n      <th>4</th>\n      <td>Andorra</td>\n      <td>WESTERN EUROPE</td>\n      <td>71201</td>\n      <td>468</td>\n      <td>152.100006</td>\n      <td>0.000000</td>\n      <td>6.600000</td>\n      <td>4.050000</td>\n      <td>19000.0</td>\n      <td>100.000000</td>\n      <td>497.200012</td>\n      <td>2.22</td>\n      <td>0.000000</td>\n      <td>97.779999</td>\n      <td>8.710000</td>\n      <td>6.25</td>\n      <td>-1.000</td>\n      <td>-1.000</td>\n      <td>-1.000</td>\n    </tr>\n    <tr>\n      <th>...</th>\n      <td>...</td>\n      <td>...</td>\n      <td>...</td>\n      <td>...</td>\n      <td>...</td>\n      <td>...</td>\n      <td>...</td>\n      <td>...</td>\n      <td>...</td>\n      <td>...</td>\n      <td>...</td>\n      <td>...</td>\n      <td>...</td>\n      <td>...</td>\n      <td>...</td>\n      <td>...</td>\n      <td>...</td>\n      <td>...</td>\n      <td>...</td>\n    </tr>\n    <tr>\n      <th>222</th>\n      <td>West Bank</td>\n      <td>NEAR EAST</td>\n      <td>2460492</td>\n      <td>5860</td>\n      <td>419.899994</td>\n      <td>0.000000</td>\n      <td>2.980000</td>\n      <td>19.620001</td>\n      <td>800.0</td>\n      <td>-1.000000</td>\n      <td>145.199997</td>\n      <td>16.90</td>\n      <td>18.969999</td>\n      <td>64.129997</td>\n      <td>31.670000</td>\n      <td>3.92</td>\n      <td>0.090</td>\n      <td>0.280</td>\n      <td>0.630</td>\n    </tr>\n    <tr>\n      <th>223</th>\n      <td>Western Sahara</td>\n      <td>NORTHERN AFRICA</td>\n      <td>273008</td>\n      <td>266000</td>\n      <td>1.000000</td>\n      <td>0.420000</td>\n      <td>-1.000000</td>\n      <td>-1.000000</td>\n      <td>NaN</td>\n      <td>-1.000000</td>\n      <td>-1.000000</td>\n      <td>0.02</td>\n      <td>0.000000</td>\n      <td>99.980003</td>\n      <td>-1.000000</td>\n      <td>-1.00</td>\n      <td>-1.000</td>\n      <td>-1.000</td>\n      <td>0.400</td>\n    </tr>\n    <tr>\n      <th>224</th>\n      <td>Yemen</td>\n      <td>NEAR EAST</td>\n      <td>21456188</td>\n      <td>527970</td>\n      <td>40.599998</td>\n      <td>0.360000</td>\n      <td>0.000000</td>\n      <td>61.500000</td>\n      <td>800.0</td>\n      <td>50.200001</td>\n      <td>37.200001</td>\n      <td>2.78</td>\n      <td>0.240000</td>\n      <td>96.980003</td>\n      <td>42.889999</td>\n      <td>8.30</td>\n      <td>0.135</td>\n      <td>0.472</td>\n      <td>0.393</td>\n    </tr>\n    <tr>\n      <th>225</th>\n      <td>Zambia</td>\n      <td>SUB-SAHARAN AFRICA</td>\n      <td>11502010</td>\n      <td>752614</td>\n      <td>15.300000</td>\n      <td>0.000000</td>\n      <td>0.000000</td>\n      <td>88.290001</td>\n      <td>800.0</td>\n      <td>80.599998</td>\n      <td>8.200000</td>\n      <td>7.08</td>\n      <td>0.030000</td>\n      <td>92.900002</td>\n      <td>41.000000</td>\n      <td>19.93</td>\n      <td>0.220</td>\n      <td>0.290</td>\n      <td>0.489</td>\n    </tr>\n    <tr>\n      <th>226</th>\n      <td>Zimbabwe</td>\n      <td>SUB-SAHARAN AFRICA</td>\n      <td>12236805</td>\n      <td>390580</td>\n      <td>31.299999</td>\n      <td>0.000000</td>\n      <td>0.000000</td>\n      <td>67.690002</td>\n      <td>1900.0</td>\n      <td>90.699997</td>\n      <td>26.799999</td>\n      <td>8.32</td>\n      <td>0.340000</td>\n      <td>91.339996</td>\n      <td>28.010000</td>\n      <td>21.84</td>\n      <td>0.179</td>\n      <td>0.243</td>\n      <td>0.579</td>\n    </tr>\n  </tbody>\n</table>\n<p>227 rows × 19 columns</p>\n</div>"
     },
     "metadata": {},
     "execution_count": 1027
    }
   ],
   "source": [
    "cdf.toPandas()"
   ]
  },
  {
   "cell_type": "code",
   "execution_count": 1028,
   "metadata": {},
   "outputs": [],
   "source": [
    "cdf = cdf.withColumn('Area (sq mi)', col('Area (sq km)') * 0.38610)\\\n",
    "    .withColumn('Pop Density (per sq mi)', col('Pop Density (per sq km)') / 0.38610)"
   ]
  },
  {
   "cell_type": "code",
   "execution_count": 1029,
   "metadata": {},
   "outputs": [],
   "source": [
    "cdf = cdf.withColumn('Area (sq mi)', cdf['Area (sq mi)'].cast(IntegerType()))"
   ]
  },
  {
   "cell_type": "code",
   "execution_count": 1030,
   "metadata": {},
   "outputs": [
    {
     "output_type": "execute_result",
     "data": {
      "text/plain": [
       "            Country                Region  Population  Area (sq km)  \\\n",
       "0       Afghanistan  ASIA (EX. NEAR EAST)    31056997        647500   \n",
       "1           Albania        EASTERN EUROPE     3581655         28748   \n",
       "2           Algeria       NORTHERN AFRICA    32930091       2381740   \n",
       "3    American Samoa               OCEANIA       57794           199   \n",
       "4           Andorra        WESTERN EUROPE       71201           468   \n",
       "..              ...                   ...         ...           ...   \n",
       "222       West Bank             NEAR EAST     2460492          5860   \n",
       "223  Western Sahara       NORTHERN AFRICA      273008        266000   \n",
       "224           Yemen             NEAR EAST    21456188        527970   \n",
       "225          Zambia    SUB-SAHARAN AFRICA    11502010        752614   \n",
       "226        Zimbabwe    SUB-SAHARAN AFRICA    12236805        390580   \n",
       "\n",
       "     Pop Density (per sq km)  Coastline (coast/area ratio)  Net migration  \\\n",
       "0                  48.000000                      0.000000      23.059999   \n",
       "1                 124.599998                      1.260000      -4.930000   \n",
       "2                  13.800000                      0.040000      -0.390000   \n",
       "3                 290.399994                     58.290001     -20.709999   \n",
       "4                 152.100006                      0.000000       6.600000   \n",
       "..                       ...                           ...            ...   \n",
       "222               419.899994                      0.000000       2.980000   \n",
       "223                 1.000000                      0.420000      -1.000000   \n",
       "224                40.599998                      0.360000       0.000000   \n",
       "225                15.300000                      0.000000       0.000000   \n",
       "226                31.299999                      0.000000       0.000000   \n",
       "\n",
       "     Infant mortality (per 1000 births)  GDP ($ per capita)  Literacy (%)  \\\n",
       "0                            163.070007               700.0     36.000000   \n",
       "1                             21.520000              4500.0     86.500000   \n",
       "2                             31.000000              6000.0     70.000000   \n",
       "3                              9.270000              8000.0     97.000000   \n",
       "4                              4.050000             19000.0    100.000000   \n",
       "..                                  ...                 ...           ...   \n",
       "222                           19.620001               800.0     -1.000000   \n",
       "223                           -1.000000                 NaN     -1.000000   \n",
       "224                           61.500000               800.0     50.200001   \n",
       "225                           88.290001               800.0     80.599998   \n",
       "226                           67.690002              1900.0     90.699997   \n",
       "\n",
       "     ...  Arable (%)  Crops (%)  Other (%)  Birthrate  Deathrate  Agriculture  \\\n",
       "0    ...       12.13   0.220000  87.650002  46.599998      20.34        0.380   \n",
       "1    ...       21.09   4.420000  74.489998  15.110000       5.22        0.232   \n",
       "2    ...        3.22   0.250000  96.529999  17.139999       4.61        0.101   \n",
       "3    ...       10.00  15.000000  75.000000  22.459999       3.27       -1.000   \n",
       "4    ...        2.22   0.000000  97.779999   8.710000       6.25       -1.000   \n",
       "..   ...         ...        ...        ...        ...        ...          ...   \n",
       "222  ...       16.90  18.969999  64.129997  31.670000       3.92        0.090   \n",
       "223  ...        0.02   0.000000  99.980003  -1.000000      -1.00       -1.000   \n",
       "224  ...        2.78   0.240000  96.980003  42.889999       8.30        0.135   \n",
       "225  ...        7.08   0.030000  92.900002  41.000000      19.93        0.220   \n",
       "226  ...        8.32   0.340000  91.339996  28.010000      21.84        0.179   \n",
       "\n",
       "     Industry  Service  Area (sq mi)  Pop Density (per sq mi)  \n",
       "0       0.240    0.380        249999               124.320124  \n",
       "1       0.188    0.579         11099               322.714319  \n",
       "2       0.600    0.298        919589                35.742036  \n",
       "3      -1.000   -1.000            76               752.136736  \n",
       "4      -1.000   -1.000           180               393.939410  \n",
       "..        ...      ...           ...                      ...  \n",
       "222     0.280    0.630          2262              1087.542072  \n",
       "223    -1.000    0.400        102702                 2.590003  \n",
       "224     0.472    0.393        203849               105.154101  \n",
       "225     0.290    0.489        290584                39.627040  \n",
       "226     0.243    0.579        150802                81.067079  \n",
       "\n",
       "[227 rows x 21 columns]"
      ],
      "text/html": "<div>\n<style scoped>\n    .dataframe tbody tr th:only-of-type {\n        vertical-align: middle;\n    }\n\n    .dataframe tbody tr th {\n        vertical-align: top;\n    }\n\n    .dataframe thead th {\n        text-align: right;\n    }\n</style>\n<table border=\"1\" class=\"dataframe\">\n  <thead>\n    <tr style=\"text-align: right;\">\n      <th></th>\n      <th>Country</th>\n      <th>Region</th>\n      <th>Population</th>\n      <th>Area (sq km)</th>\n      <th>Pop Density (per sq km)</th>\n      <th>Coastline (coast/area ratio)</th>\n      <th>Net migration</th>\n      <th>Infant mortality (per 1000 births)</th>\n      <th>GDP ($ per capita)</th>\n      <th>Literacy (%)</th>\n      <th>...</th>\n      <th>Arable (%)</th>\n      <th>Crops (%)</th>\n      <th>Other (%)</th>\n      <th>Birthrate</th>\n      <th>Deathrate</th>\n      <th>Agriculture</th>\n      <th>Industry</th>\n      <th>Service</th>\n      <th>Area (sq mi)</th>\n      <th>Pop Density (per sq mi)</th>\n    </tr>\n  </thead>\n  <tbody>\n    <tr>\n      <th>0</th>\n      <td>Afghanistan</td>\n      <td>ASIA (EX. NEAR EAST)</td>\n      <td>31056997</td>\n      <td>647500</td>\n      <td>48.000000</td>\n      <td>0.000000</td>\n      <td>23.059999</td>\n      <td>163.070007</td>\n      <td>700.0</td>\n      <td>36.000000</td>\n      <td>...</td>\n      <td>12.13</td>\n      <td>0.220000</td>\n      <td>87.650002</td>\n      <td>46.599998</td>\n      <td>20.34</td>\n      <td>0.380</td>\n      <td>0.240</td>\n      <td>0.380</td>\n      <td>249999</td>\n      <td>124.320124</td>\n    </tr>\n    <tr>\n      <th>1</th>\n      <td>Albania</td>\n      <td>EASTERN EUROPE</td>\n      <td>3581655</td>\n      <td>28748</td>\n      <td>124.599998</td>\n      <td>1.260000</td>\n      <td>-4.930000</td>\n      <td>21.520000</td>\n      <td>4500.0</td>\n      <td>86.500000</td>\n      <td>...</td>\n      <td>21.09</td>\n      <td>4.420000</td>\n      <td>74.489998</td>\n      <td>15.110000</td>\n      <td>5.22</td>\n      <td>0.232</td>\n      <td>0.188</td>\n      <td>0.579</td>\n      <td>11099</td>\n      <td>322.714319</td>\n    </tr>\n    <tr>\n      <th>2</th>\n      <td>Algeria</td>\n      <td>NORTHERN AFRICA</td>\n      <td>32930091</td>\n      <td>2381740</td>\n      <td>13.800000</td>\n      <td>0.040000</td>\n      <td>-0.390000</td>\n      <td>31.000000</td>\n      <td>6000.0</td>\n      <td>70.000000</td>\n      <td>...</td>\n      <td>3.22</td>\n      <td>0.250000</td>\n      <td>96.529999</td>\n      <td>17.139999</td>\n      <td>4.61</td>\n      <td>0.101</td>\n      <td>0.600</td>\n      <td>0.298</td>\n      <td>919589</td>\n      <td>35.742036</td>\n    </tr>\n    <tr>\n      <th>3</th>\n      <td>American Samoa</td>\n      <td>OCEANIA</td>\n      <td>57794</td>\n      <td>199</td>\n      <td>290.399994</td>\n      <td>58.290001</td>\n      <td>-20.709999</td>\n      <td>9.270000</td>\n      <td>8000.0</td>\n      <td>97.000000</td>\n      <td>...</td>\n      <td>10.00</td>\n      <td>15.000000</td>\n      <td>75.000000</td>\n      <td>22.459999</td>\n      <td>3.27</td>\n      <td>-1.000</td>\n      <td>-1.000</td>\n      <td>-1.000</td>\n      <td>76</td>\n      <td>752.136736</td>\n    </tr>\n    <tr>\n      <th>4</th>\n      <td>Andorra</td>\n      <td>WESTERN EUROPE</td>\n      <td>71201</td>\n      <td>468</td>\n      <td>152.100006</td>\n      <td>0.000000</td>\n      <td>6.600000</td>\n      <td>4.050000</td>\n      <td>19000.0</td>\n      <td>100.000000</td>\n      <td>...</td>\n      <td>2.22</td>\n      <td>0.000000</td>\n      <td>97.779999</td>\n      <td>8.710000</td>\n      <td>6.25</td>\n      <td>-1.000</td>\n      <td>-1.000</td>\n      <td>-1.000</td>\n      <td>180</td>\n      <td>393.939410</td>\n    </tr>\n    <tr>\n      <th>...</th>\n      <td>...</td>\n      <td>...</td>\n      <td>...</td>\n      <td>...</td>\n      <td>...</td>\n      <td>...</td>\n      <td>...</td>\n      <td>...</td>\n      <td>...</td>\n      <td>...</td>\n      <td>...</td>\n      <td>...</td>\n      <td>...</td>\n      <td>...</td>\n      <td>...</td>\n      <td>...</td>\n      <td>...</td>\n      <td>...</td>\n      <td>...</td>\n      <td>...</td>\n      <td>...</td>\n    </tr>\n    <tr>\n      <th>222</th>\n      <td>West Bank</td>\n      <td>NEAR EAST</td>\n      <td>2460492</td>\n      <td>5860</td>\n      <td>419.899994</td>\n      <td>0.000000</td>\n      <td>2.980000</td>\n      <td>19.620001</td>\n      <td>800.0</td>\n      <td>-1.000000</td>\n      <td>...</td>\n      <td>16.90</td>\n      <td>18.969999</td>\n      <td>64.129997</td>\n      <td>31.670000</td>\n      <td>3.92</td>\n      <td>0.090</td>\n      <td>0.280</td>\n      <td>0.630</td>\n      <td>2262</td>\n      <td>1087.542072</td>\n    </tr>\n    <tr>\n      <th>223</th>\n      <td>Western Sahara</td>\n      <td>NORTHERN AFRICA</td>\n      <td>273008</td>\n      <td>266000</td>\n      <td>1.000000</td>\n      <td>0.420000</td>\n      <td>-1.000000</td>\n      <td>-1.000000</td>\n      <td>NaN</td>\n      <td>-1.000000</td>\n      <td>...</td>\n      <td>0.02</td>\n      <td>0.000000</td>\n      <td>99.980003</td>\n      <td>-1.000000</td>\n      <td>-1.00</td>\n      <td>-1.000</td>\n      <td>-1.000</td>\n      <td>0.400</td>\n      <td>102702</td>\n      <td>2.590003</td>\n    </tr>\n    <tr>\n      <th>224</th>\n      <td>Yemen</td>\n      <td>NEAR EAST</td>\n      <td>21456188</td>\n      <td>527970</td>\n      <td>40.599998</td>\n      <td>0.360000</td>\n      <td>0.000000</td>\n      <td>61.500000</td>\n      <td>800.0</td>\n      <td>50.200001</td>\n      <td>...</td>\n      <td>2.78</td>\n      <td>0.240000</td>\n      <td>96.980003</td>\n      <td>42.889999</td>\n      <td>8.30</td>\n      <td>0.135</td>\n      <td>0.472</td>\n      <td>0.393</td>\n      <td>203849</td>\n      <td>105.154101</td>\n    </tr>\n    <tr>\n      <th>225</th>\n      <td>Zambia</td>\n      <td>SUB-SAHARAN AFRICA</td>\n      <td>11502010</td>\n      <td>752614</td>\n      <td>15.300000</td>\n      <td>0.000000</td>\n      <td>0.000000</td>\n      <td>88.290001</td>\n      <td>800.0</td>\n      <td>80.599998</td>\n      <td>...</td>\n      <td>7.08</td>\n      <td>0.030000</td>\n      <td>92.900002</td>\n      <td>41.000000</td>\n      <td>19.93</td>\n      <td>0.220</td>\n      <td>0.290</td>\n      <td>0.489</td>\n      <td>290584</td>\n      <td>39.627040</td>\n    </tr>\n    <tr>\n      <th>226</th>\n      <td>Zimbabwe</td>\n      <td>SUB-SAHARAN AFRICA</td>\n      <td>12236805</td>\n      <td>390580</td>\n      <td>31.299999</td>\n      <td>0.000000</td>\n      <td>0.000000</td>\n      <td>67.690002</td>\n      <td>1900.0</td>\n      <td>90.699997</td>\n      <td>...</td>\n      <td>8.32</td>\n      <td>0.340000</td>\n      <td>91.339996</td>\n      <td>28.010000</td>\n      <td>21.84</td>\n      <td>0.179</td>\n      <td>0.243</td>\n      <td>0.579</td>\n      <td>150802</td>\n      <td>81.067079</td>\n    </tr>\n  </tbody>\n</table>\n<p>227 rows × 21 columns</p>\n</div>"
     },
     "metadata": {},
     "execution_count": 1030
    }
   ],
   "source": [
    "cdf.toPandas()"
   ]
  },
  {
   "cell_type": "markdown",
   "metadata": {},
   "source": [
    "# Join examples"
   ]
  },
  {
   "cell_type": "code",
   "execution_count": 1031,
   "metadata": {},
   "outputs": [],
   "source": [
    "valuesA = [('Pirate',1),('Monkey',2),('Ninja',3),('Spaghetti',4)]\n",
    "TableA = spark.createDataFrame(valuesA,['name','id'])\n",
    " \n",
    "valuesB = [('Rutabaga',1),('Pirate',2),('Ninja',3),('Darth Vader',4)]\n",
    "TableB = spark.createDataFrame(valuesB,['name','id'])"
   ]
  },
  {
   "cell_type": "code",
   "execution_count": 1032,
   "metadata": {},
   "outputs": [],
   "source": [
    "a = TableA.alias('a')\n",
    "b = TableB.alias('b')"
   ]
  },
  {
   "cell_type": "code",
   "execution_count": 1033,
   "metadata": {},
   "outputs": [
    {
     "output_type": "stream",
     "name": "stdout",
     "text": [
      "+------+---+------+---+\n|  name| id|  name| id|\n+------+---+------+---+\n| Ninja|  3| Ninja|  3|\n|Pirate|  1|Pirate|  2|\n+------+---+------+---+\n\n"
     ]
    }
   ],
   "source": [
    "a.join(b, a.name==b.name).show() # how='inner'"
   ]
  },
  {
   "cell_type": "code",
   "execution_count": 1034,
   "metadata": {},
   "outputs": [
    {
     "output_type": "stream",
     "name": "stdout",
     "text": [
      "+---------+---+------+----+\n|     name| id|  name|  id|\n+---------+---+------+----+\n|Spaghetti|  4|  null|null|\n|    Ninja|  3| Ninja|   3|\n|   Pirate|  1|Pirate|   2|\n|   Monkey|  2|  null|null|\n+---------+---+------+----+\n\n"
     ]
    }
   ],
   "source": [
    "a.join(b, a.name==b.name, how='left').show()"
   ]
  },
  {
   "cell_type": "code",
   "execution_count": 1035,
   "metadata": {},
   "outputs": [
    {
     "output_type": "stream",
     "name": "stdout",
     "text": [
      "+------+----+-----------+---+\n|  name|  id|       name| id|\n+------+----+-----------+---+\n|  null|null|   Rutabaga|  1|\n| Ninja|   3|      Ninja|  3|\n|Pirate|   1|     Pirate|  2|\n|  null|null|Darth Vader|  4|\n+------+----+-----------+---+\n\n"
     ]
    }
   ],
   "source": [
    "a.join(b, a.name==b.name, how='right').show()"
   ]
  },
  {
   "cell_type": "code",
   "execution_count": 1036,
   "metadata": {},
   "outputs": [
    {
     "output_type": "stream",
     "name": "stdout",
     "text": [
      "+---------+----+-----------+----+\n|     name|  id|       name|  id|\n+---------+----+-----------+----+\n|     null|null|   Rutabaga|   1|\n|Spaghetti|   4|       null|null|\n|    Ninja|   3|      Ninja|   3|\n|   Pirate|   1|     Pirate|   2|\n|   Monkey|   2|       null|null|\n|     null|null|Darth Vader|   4|\n+---------+----+-----------+----+\n\n"
     ]
    }
   ],
   "source": [
    "a.join(b, a.name==b.name, how='full_outer').show()"
   ]
  },
  {
   "cell_type": "markdown",
   "metadata": {},
   "source": [
    "# Zadanie 2: zależność liczby lotnisk od powierzchni kraju "
   ]
  },
  {
   "cell_type": "code",
   "execution_count": 1037,
   "metadata": {},
   "outputs": [],
   "source": [
    "airports = spark.read.csv(\"airports2.csv\", inferSchema=True, header=False)"
   ]
  },
  {
   "cell_type": "code",
   "execution_count": 1038,
   "metadata": {},
   "outputs": [],
   "source": [
    "airports = airports.toDF('Airport ID', 'Name', 'City', 'Country', \n",
    "'IATA', 'ICAO', 'Latitude', 'Longitude', 'Altitude', 'Timezone',\n",
    "'DST', 'Tz database time zone', 'Type', 'Source'\n",
    ")"
   ]
  },
  {
   "cell_type": "code",
   "execution_count": 1039,
   "metadata": {},
   "outputs": [
    {
     "output_type": "execute_result",
     "data": {
      "text/plain": [
       "      Airport ID                                         Name          City  \\\n",
       "0              1                               Goroka Airport        Goroka   \n",
       "1              2                               Madang Airport        Madang   \n",
       "2              3                 Mount Hagen Kagamuga Airport   Mount Hagen   \n",
       "3              4                               Nadzab Airport        Nadzab   \n",
       "4              5  Port Moresby Jacksons International Airport  Port Moresby   \n",
       "...          ...                                          ...           ...   \n",
       "7179       12053                               Rugao Air Base         Rugao   \n",
       "7180       12054                                Wuhu Air Base          Wuhu   \n",
       "7181       12055                             Shanshan Airport      Shanshan   \n",
       "7182       12056                        Yingkou Lanqi Airport       Yingkou   \n",
       "7183       12057                      Shenyang Dongta Airport      Shenyang   \n",
       "\n",
       "               Country IATA  ICAO   Latitude   Longitude  Altitude Timezone  \\\n",
       "0     Papua New Guinea  GKA  AYGA  -6.081690  145.391998      5282       10   \n",
       "1     Papua New Guinea  MAG  AYMD  -5.207080  145.789001        20       10   \n",
       "2     Papua New Guinea  HGU  AYMH  -5.826790  144.296005      5388       10   \n",
       "3     Papua New Guinea  LAE  AYNZ  -6.569803  146.725977       239       10   \n",
       "4     Papua New Guinea  POM  AYPY  -9.443380  147.220001       146       10   \n",
       "...                ...  ...   ...        ...         ...       ...      ...   \n",
       "7179             China  RUG  ZSRG  32.257885  120.501656         0       \\N   \n",
       "7180             China  WHU  ZSWU  31.390600  118.408997         0       \\N   \n",
       "7181             China  SXJ  ZWSS  42.911701   90.247498         0       \\N   \n",
       "7182             China  YKH  ZYYK  40.542524  122.358600         0       \\N   \n",
       "7183             China   \\N  ZYYY  41.784401  123.496002         0       \\N   \n",
       "\n",
       "     DST Tz database time zone     Type       Source  \n",
       "0      U  Pacific/Port_Moresby  airport  OurAirports  \n",
       "1      U  Pacific/Port_Moresby  airport  OurAirports  \n",
       "2      U  Pacific/Port_Moresby  airport  OurAirports  \n",
       "3      U  Pacific/Port_Moresby  airport  OurAirports  \n",
       "4      U  Pacific/Port_Moresby  airport  OurAirports  \n",
       "...   ..                   ...      ...          ...  \n",
       "7179  \\N                    \\N  airport  OurAirports  \n",
       "7180  \\N                    \\N  airport  OurAirports  \n",
       "7181  \\N                    \\N  airport  OurAirports  \n",
       "7182  \\N                    \\N  airport  OurAirports  \n",
       "7183  \\N                    \\N  airport  OurAirports  \n",
       "\n",
       "[7184 rows x 14 columns]"
      ],
      "text/html": "<div>\n<style scoped>\n    .dataframe tbody tr th:only-of-type {\n        vertical-align: middle;\n    }\n\n    .dataframe tbody tr th {\n        vertical-align: top;\n    }\n\n    .dataframe thead th {\n        text-align: right;\n    }\n</style>\n<table border=\"1\" class=\"dataframe\">\n  <thead>\n    <tr style=\"text-align: right;\">\n      <th></th>\n      <th>Airport ID</th>\n      <th>Name</th>\n      <th>City</th>\n      <th>Country</th>\n      <th>IATA</th>\n      <th>ICAO</th>\n      <th>Latitude</th>\n      <th>Longitude</th>\n      <th>Altitude</th>\n      <th>Timezone</th>\n      <th>DST</th>\n      <th>Tz database time zone</th>\n      <th>Type</th>\n      <th>Source</th>\n    </tr>\n  </thead>\n  <tbody>\n    <tr>\n      <th>0</th>\n      <td>1</td>\n      <td>Goroka Airport</td>\n      <td>Goroka</td>\n      <td>Papua New Guinea</td>\n      <td>GKA</td>\n      <td>AYGA</td>\n      <td>-6.081690</td>\n      <td>145.391998</td>\n      <td>5282</td>\n      <td>10</td>\n      <td>U</td>\n      <td>Pacific/Port_Moresby</td>\n      <td>airport</td>\n      <td>OurAirports</td>\n    </tr>\n    <tr>\n      <th>1</th>\n      <td>2</td>\n      <td>Madang Airport</td>\n      <td>Madang</td>\n      <td>Papua New Guinea</td>\n      <td>MAG</td>\n      <td>AYMD</td>\n      <td>-5.207080</td>\n      <td>145.789001</td>\n      <td>20</td>\n      <td>10</td>\n      <td>U</td>\n      <td>Pacific/Port_Moresby</td>\n      <td>airport</td>\n      <td>OurAirports</td>\n    </tr>\n    <tr>\n      <th>2</th>\n      <td>3</td>\n      <td>Mount Hagen Kagamuga Airport</td>\n      <td>Mount Hagen</td>\n      <td>Papua New Guinea</td>\n      <td>HGU</td>\n      <td>AYMH</td>\n      <td>-5.826790</td>\n      <td>144.296005</td>\n      <td>5388</td>\n      <td>10</td>\n      <td>U</td>\n      <td>Pacific/Port_Moresby</td>\n      <td>airport</td>\n      <td>OurAirports</td>\n    </tr>\n    <tr>\n      <th>3</th>\n      <td>4</td>\n      <td>Nadzab Airport</td>\n      <td>Nadzab</td>\n      <td>Papua New Guinea</td>\n      <td>LAE</td>\n      <td>AYNZ</td>\n      <td>-6.569803</td>\n      <td>146.725977</td>\n      <td>239</td>\n      <td>10</td>\n      <td>U</td>\n      <td>Pacific/Port_Moresby</td>\n      <td>airport</td>\n      <td>OurAirports</td>\n    </tr>\n    <tr>\n      <th>4</th>\n      <td>5</td>\n      <td>Port Moresby Jacksons International Airport</td>\n      <td>Port Moresby</td>\n      <td>Papua New Guinea</td>\n      <td>POM</td>\n      <td>AYPY</td>\n      <td>-9.443380</td>\n      <td>147.220001</td>\n      <td>146</td>\n      <td>10</td>\n      <td>U</td>\n      <td>Pacific/Port_Moresby</td>\n      <td>airport</td>\n      <td>OurAirports</td>\n    </tr>\n    <tr>\n      <th>...</th>\n      <td>...</td>\n      <td>...</td>\n      <td>...</td>\n      <td>...</td>\n      <td>...</td>\n      <td>...</td>\n      <td>...</td>\n      <td>...</td>\n      <td>...</td>\n      <td>...</td>\n      <td>...</td>\n      <td>...</td>\n      <td>...</td>\n      <td>...</td>\n    </tr>\n    <tr>\n      <th>7179</th>\n      <td>12053</td>\n      <td>Rugao Air Base</td>\n      <td>Rugao</td>\n      <td>China</td>\n      <td>RUG</td>\n      <td>ZSRG</td>\n      <td>32.257885</td>\n      <td>120.501656</td>\n      <td>0</td>\n      <td>\\N</td>\n      <td>\\N</td>\n      <td>\\N</td>\n      <td>airport</td>\n      <td>OurAirports</td>\n    </tr>\n    <tr>\n      <th>7180</th>\n      <td>12054</td>\n      <td>Wuhu Air Base</td>\n      <td>Wuhu</td>\n      <td>China</td>\n      <td>WHU</td>\n      <td>ZSWU</td>\n      <td>31.390600</td>\n      <td>118.408997</td>\n      <td>0</td>\n      <td>\\N</td>\n      <td>\\N</td>\n      <td>\\N</td>\n      <td>airport</td>\n      <td>OurAirports</td>\n    </tr>\n    <tr>\n      <th>7181</th>\n      <td>12055</td>\n      <td>Shanshan Airport</td>\n      <td>Shanshan</td>\n      <td>China</td>\n      <td>SXJ</td>\n      <td>ZWSS</td>\n      <td>42.911701</td>\n      <td>90.247498</td>\n      <td>0</td>\n      <td>\\N</td>\n      <td>\\N</td>\n      <td>\\N</td>\n      <td>airport</td>\n      <td>OurAirports</td>\n    </tr>\n    <tr>\n      <th>7182</th>\n      <td>12056</td>\n      <td>Yingkou Lanqi Airport</td>\n      <td>Yingkou</td>\n      <td>China</td>\n      <td>YKH</td>\n      <td>ZYYK</td>\n      <td>40.542524</td>\n      <td>122.358600</td>\n      <td>0</td>\n      <td>\\N</td>\n      <td>\\N</td>\n      <td>\\N</td>\n      <td>airport</td>\n      <td>OurAirports</td>\n    </tr>\n    <tr>\n      <th>7183</th>\n      <td>12057</td>\n      <td>Shenyang Dongta Airport</td>\n      <td>Shenyang</td>\n      <td>China</td>\n      <td>\\N</td>\n      <td>ZYYY</td>\n      <td>41.784401</td>\n      <td>123.496002</td>\n      <td>0</td>\n      <td>\\N</td>\n      <td>\\N</td>\n      <td>\\N</td>\n      <td>airport</td>\n      <td>OurAirports</td>\n    </tr>\n  </tbody>\n</table>\n<p>7184 rows × 14 columns</p>\n</div>"
     },
     "metadata": {},
     "execution_count": 1039
    }
   ],
   "source": [
    "airports.toPandas()"
   ]
  },
  {
   "cell_type": "code",
   "execution_count": 1040,
   "metadata": {},
   "outputs": [],
   "source": [
    "# TODO\n",
    "# zacznij od stworzenia ramki, która zawiera posortowaną liczbę lotnisk w poszczególnych krajach"
   ]
  },
  {
   "cell_type": "code",
   "execution_count": 1041,
   "metadata": {},
   "outputs": [],
   "source": [
    "import pyspark.sql.functions as func"
   ]
  },
  {
   "cell_type": "code",
   "execution_count": 1042,
   "metadata": {},
   "outputs": [],
   "source": [
    "sumAirports = airports \\\n",
    "    .groupBy(\"Country\") \\\n",
    "    .agg(func.count(\"Name\").alias(\"Airports sum\")) \\\n",
    "    .select(\"Country\", \"Airports sum\") \\\n",
    "    .sort(\"Airports sum\") \\\n",
    "    .withColumn(\"Country\", trim(col(\"Country\")))"
   ]
  },
  {
   "cell_type": "code",
   "execution_count": 1043,
   "metadata": {},
   "outputs": [
    {
     "output_type": "execute_result",
     "data": {
      "text/plain": [
       "                            Country  Airports sum\n",
       "0                          Anguilla             1\n",
       "1    British Indian Ocean Territory             1\n",
       "2                            Jersey             1\n",
       "3                    Norfolk Island             1\n",
       "4                      Saint Helena             1\n",
       "..                              ...           ...\n",
       "232                          Russia           238\n",
       "233                         Germany           241\n",
       "234                       Australia           296\n",
       "235                          Canada           417\n",
       "236                   United States          1435\n",
       "\n",
       "[237 rows x 2 columns]"
      ],
      "text/html": "<div>\n<style scoped>\n    .dataframe tbody tr th:only-of-type {\n        vertical-align: middle;\n    }\n\n    .dataframe tbody tr th {\n        vertical-align: top;\n    }\n\n    .dataframe thead th {\n        text-align: right;\n    }\n</style>\n<table border=\"1\" class=\"dataframe\">\n  <thead>\n    <tr style=\"text-align: right;\">\n      <th></th>\n      <th>Country</th>\n      <th>Airports sum</th>\n    </tr>\n  </thead>\n  <tbody>\n    <tr>\n      <th>0</th>\n      <td>Anguilla</td>\n      <td>1</td>\n    </tr>\n    <tr>\n      <th>1</th>\n      <td>British Indian Ocean Territory</td>\n      <td>1</td>\n    </tr>\n    <tr>\n      <th>2</th>\n      <td>Jersey</td>\n      <td>1</td>\n    </tr>\n    <tr>\n      <th>3</th>\n      <td>Norfolk Island</td>\n      <td>1</td>\n    </tr>\n    <tr>\n      <th>4</th>\n      <td>Saint Helena</td>\n      <td>1</td>\n    </tr>\n    <tr>\n      <th>...</th>\n      <td>...</td>\n      <td>...</td>\n    </tr>\n    <tr>\n      <th>232</th>\n      <td>Russia</td>\n      <td>238</td>\n    </tr>\n    <tr>\n      <th>233</th>\n      <td>Germany</td>\n      <td>241</td>\n    </tr>\n    <tr>\n      <th>234</th>\n      <td>Australia</td>\n      <td>296</td>\n    </tr>\n    <tr>\n      <th>235</th>\n      <td>Canada</td>\n      <td>417</td>\n    </tr>\n    <tr>\n      <th>236</th>\n      <td>United States</td>\n      <td>1435</td>\n    </tr>\n  </tbody>\n</table>\n<p>237 rows × 2 columns</p>\n</div>"
     },
     "metadata": {},
     "execution_count": 1043
    }
   ],
   "source": [
    "sumAirports.toPandas()"
   ]
  },
  {
   "cell_type": "code",
   "execution_count": 1044,
   "metadata": {},
   "outputs": [],
   "source": [
    "# TODO złączenie ramek i wykres\n",
    "# TODO wykrycie niepasujących nazw państwa i ujednolicenie wartości "
   ]
  },
  {
   "cell_type": "code",
   "execution_count": 1045,
   "metadata": {},
   "outputs": [],
   "source": [
    "cdf = cdf \\\n",
    "    .withColumn(\"Country\", trim(col(\"Country\")))"
   ]
  },
  {
   "cell_type": "code",
   "execution_count": 1046,
   "metadata": {},
   "outputs": [],
   "source": [
    "cdf = cdf.replace(('Korea, South', 'Korea, North', 'Bosnia & Herzegovina'), ('South Korea', 'North Korea', 'Bosnia and Herzegovina'), 'Country')"
   ]
  },
  {
   "cell_type": "code",
   "execution_count": 1047,
   "metadata": {},
   "outputs": [],
   "source": [
    "a = cdf.alias('a')\n",
    "b = sumAirports.alias('b')"
   ]
  },
  {
   "cell_type": "code",
   "execution_count": 1048,
   "metadata": {},
   "outputs": [],
   "source": [
    "joined = a.join(b, on=['Country'], how='left')"
   ]
  },
  {
   "cell_type": "code",
   "execution_count": 1049,
   "metadata": {},
   "outputs": [
    {
     "output_type": "execute_result",
     "data": {
      "text/plain": [
       "            Country                Region  Population  Area (sq km)  \\\n",
       "0       Afghanistan  ASIA (EX. NEAR EAST)    31056997        647500   \n",
       "1           Albania        EASTERN EUROPE     3581655         28748   \n",
       "2           Algeria       NORTHERN AFRICA    32930091       2381740   \n",
       "3    American Samoa               OCEANIA       57794           199   \n",
       "4           Andorra        WESTERN EUROPE       71201           468   \n",
       "..              ...                   ...         ...           ...   \n",
       "222       West Bank             NEAR EAST     2460492          5860   \n",
       "223  Western Sahara       NORTHERN AFRICA      273008        266000   \n",
       "224           Yemen             NEAR EAST    21456188        527970   \n",
       "225          Zambia    SUB-SAHARAN AFRICA    11502010        752614   \n",
       "226        Zimbabwe    SUB-SAHARAN AFRICA    12236805        390580   \n",
       "\n",
       "     Pop Density (per sq km)  Coastline (coast/area ratio)  Net migration  \\\n",
       "0                  48.000000                      0.000000      23.059999   \n",
       "1                 124.599998                      1.260000      -4.930000   \n",
       "2                  13.800000                      0.040000      -0.390000   \n",
       "3                 290.399994                     58.290001     -20.709999   \n",
       "4                 152.100006                      0.000000       6.600000   \n",
       "..                       ...                           ...            ...   \n",
       "222               419.899994                      0.000000       2.980000   \n",
       "223                 1.000000                      0.420000      -1.000000   \n",
       "224                40.599998                      0.360000       0.000000   \n",
       "225                15.300000                      0.000000       0.000000   \n",
       "226                31.299999                      0.000000       0.000000   \n",
       "\n",
       "     Infant mortality (per 1000 births)  GDP ($ per capita)  Literacy (%)  \\\n",
       "0                            163.070007               700.0     36.000000   \n",
       "1                             21.520000              4500.0     86.500000   \n",
       "2                             31.000000              6000.0     70.000000   \n",
       "3                              9.270000              8000.0     97.000000   \n",
       "4                              4.050000             19000.0    100.000000   \n",
       "..                                  ...                 ...           ...   \n",
       "222                           19.620001               800.0     -1.000000   \n",
       "223                           -1.000000                 NaN     -1.000000   \n",
       "224                           61.500000               800.0     50.200001   \n",
       "225                           88.290001               800.0     80.599998   \n",
       "226                           67.690002              1900.0     90.699997   \n",
       "\n",
       "     ...  Crops (%)  Other (%)  Birthrate  Deathrate  Agriculture  Industry  \\\n",
       "0    ...   0.220000  87.650002  46.599998      20.34        0.380     0.240   \n",
       "1    ...   4.420000  74.489998  15.110000       5.22        0.232     0.188   \n",
       "2    ...   0.250000  96.529999  17.139999       4.61        0.101     0.600   \n",
       "3    ...  15.000000  75.000000  22.459999       3.27       -1.000    -1.000   \n",
       "4    ...   0.000000  97.779999   8.710000       6.25       -1.000    -1.000   \n",
       "..   ...        ...        ...        ...        ...          ...       ...   \n",
       "222  ...  18.969999  64.129997  31.670000       3.92        0.090     0.280   \n",
       "223  ...   0.000000  99.980003  -1.000000      -1.00       -1.000    -1.000   \n",
       "224  ...   0.240000  96.980003  42.889999       8.30        0.135     0.472   \n",
       "225  ...   0.030000  92.900002  41.000000      19.93        0.220     0.290   \n",
       "226  ...   0.340000  91.339996  28.010000      21.84        0.179     0.243   \n",
       "\n",
       "     Service  Area (sq mi)  Pop Density (per sq mi)  Airports sum  \n",
       "0      0.380        249999               124.320124          20.0  \n",
       "1      0.579         11099               322.714319           5.0  \n",
       "2      0.298        919589                35.742036          43.0  \n",
       "3     -1.000            76               752.136736           2.0  \n",
       "4     -1.000           180               393.939410           NaN  \n",
       "..       ...           ...                      ...           ...  \n",
       "222    0.630          2262              1087.542072           1.0  \n",
       "223    0.400        102702                 2.590003           3.0  \n",
       "224    0.393        203849               105.154101          11.0  \n",
       "225    0.489        290584                39.627040          12.0  \n",
       "226    0.579        150802                81.067079          15.0  \n",
       "\n",
       "[227 rows x 22 columns]"
      ],
      "text/html": "<div>\n<style scoped>\n    .dataframe tbody tr th:only-of-type {\n        vertical-align: middle;\n    }\n\n    .dataframe tbody tr th {\n        vertical-align: top;\n    }\n\n    .dataframe thead th {\n        text-align: right;\n    }\n</style>\n<table border=\"1\" class=\"dataframe\">\n  <thead>\n    <tr style=\"text-align: right;\">\n      <th></th>\n      <th>Country</th>\n      <th>Region</th>\n      <th>Population</th>\n      <th>Area (sq km)</th>\n      <th>Pop Density (per sq km)</th>\n      <th>Coastline (coast/area ratio)</th>\n      <th>Net migration</th>\n      <th>Infant mortality (per 1000 births)</th>\n      <th>GDP ($ per capita)</th>\n      <th>Literacy (%)</th>\n      <th>...</th>\n      <th>Crops (%)</th>\n      <th>Other (%)</th>\n      <th>Birthrate</th>\n      <th>Deathrate</th>\n      <th>Agriculture</th>\n      <th>Industry</th>\n      <th>Service</th>\n      <th>Area (sq mi)</th>\n      <th>Pop Density (per sq mi)</th>\n      <th>Airports sum</th>\n    </tr>\n  </thead>\n  <tbody>\n    <tr>\n      <th>0</th>\n      <td>Afghanistan</td>\n      <td>ASIA (EX. NEAR EAST)</td>\n      <td>31056997</td>\n      <td>647500</td>\n      <td>48.000000</td>\n      <td>0.000000</td>\n      <td>23.059999</td>\n      <td>163.070007</td>\n      <td>700.0</td>\n      <td>36.000000</td>\n      <td>...</td>\n      <td>0.220000</td>\n      <td>87.650002</td>\n      <td>46.599998</td>\n      <td>20.34</td>\n      <td>0.380</td>\n      <td>0.240</td>\n      <td>0.380</td>\n      <td>249999</td>\n      <td>124.320124</td>\n      <td>20.0</td>\n    </tr>\n    <tr>\n      <th>1</th>\n      <td>Albania</td>\n      <td>EASTERN EUROPE</td>\n      <td>3581655</td>\n      <td>28748</td>\n      <td>124.599998</td>\n      <td>1.260000</td>\n      <td>-4.930000</td>\n      <td>21.520000</td>\n      <td>4500.0</td>\n      <td>86.500000</td>\n      <td>...</td>\n      <td>4.420000</td>\n      <td>74.489998</td>\n      <td>15.110000</td>\n      <td>5.22</td>\n      <td>0.232</td>\n      <td>0.188</td>\n      <td>0.579</td>\n      <td>11099</td>\n      <td>322.714319</td>\n      <td>5.0</td>\n    </tr>\n    <tr>\n      <th>2</th>\n      <td>Algeria</td>\n      <td>NORTHERN AFRICA</td>\n      <td>32930091</td>\n      <td>2381740</td>\n      <td>13.800000</td>\n      <td>0.040000</td>\n      <td>-0.390000</td>\n      <td>31.000000</td>\n      <td>6000.0</td>\n      <td>70.000000</td>\n      <td>...</td>\n      <td>0.250000</td>\n      <td>96.529999</td>\n      <td>17.139999</td>\n      <td>4.61</td>\n      <td>0.101</td>\n      <td>0.600</td>\n      <td>0.298</td>\n      <td>919589</td>\n      <td>35.742036</td>\n      <td>43.0</td>\n    </tr>\n    <tr>\n      <th>3</th>\n      <td>American Samoa</td>\n      <td>OCEANIA</td>\n      <td>57794</td>\n      <td>199</td>\n      <td>290.399994</td>\n      <td>58.290001</td>\n      <td>-20.709999</td>\n      <td>9.270000</td>\n      <td>8000.0</td>\n      <td>97.000000</td>\n      <td>...</td>\n      <td>15.000000</td>\n      <td>75.000000</td>\n      <td>22.459999</td>\n      <td>3.27</td>\n      <td>-1.000</td>\n      <td>-1.000</td>\n      <td>-1.000</td>\n      <td>76</td>\n      <td>752.136736</td>\n      <td>2.0</td>\n    </tr>\n    <tr>\n      <th>4</th>\n      <td>Andorra</td>\n      <td>WESTERN EUROPE</td>\n      <td>71201</td>\n      <td>468</td>\n      <td>152.100006</td>\n      <td>0.000000</td>\n      <td>6.600000</td>\n      <td>4.050000</td>\n      <td>19000.0</td>\n      <td>100.000000</td>\n      <td>...</td>\n      <td>0.000000</td>\n      <td>97.779999</td>\n      <td>8.710000</td>\n      <td>6.25</td>\n      <td>-1.000</td>\n      <td>-1.000</td>\n      <td>-1.000</td>\n      <td>180</td>\n      <td>393.939410</td>\n      <td>NaN</td>\n    </tr>\n    <tr>\n      <th>...</th>\n      <td>...</td>\n      <td>...</td>\n      <td>...</td>\n      <td>...</td>\n      <td>...</td>\n      <td>...</td>\n      <td>...</td>\n      <td>...</td>\n      <td>...</td>\n      <td>...</td>\n      <td>...</td>\n      <td>...</td>\n      <td>...</td>\n      <td>...</td>\n      <td>...</td>\n      <td>...</td>\n      <td>...</td>\n      <td>...</td>\n      <td>...</td>\n      <td>...</td>\n      <td>...</td>\n    </tr>\n    <tr>\n      <th>222</th>\n      <td>West Bank</td>\n      <td>NEAR EAST</td>\n      <td>2460492</td>\n      <td>5860</td>\n      <td>419.899994</td>\n      <td>0.000000</td>\n      <td>2.980000</td>\n      <td>19.620001</td>\n      <td>800.0</td>\n      <td>-1.000000</td>\n      <td>...</td>\n      <td>18.969999</td>\n      <td>64.129997</td>\n      <td>31.670000</td>\n      <td>3.92</td>\n      <td>0.090</td>\n      <td>0.280</td>\n      <td>0.630</td>\n      <td>2262</td>\n      <td>1087.542072</td>\n      <td>1.0</td>\n    </tr>\n    <tr>\n      <th>223</th>\n      <td>Western Sahara</td>\n      <td>NORTHERN AFRICA</td>\n      <td>273008</td>\n      <td>266000</td>\n      <td>1.000000</td>\n      <td>0.420000</td>\n      <td>-1.000000</td>\n      <td>-1.000000</td>\n      <td>NaN</td>\n      <td>-1.000000</td>\n      <td>...</td>\n      <td>0.000000</td>\n      <td>99.980003</td>\n      <td>-1.000000</td>\n      <td>-1.00</td>\n      <td>-1.000</td>\n      <td>-1.000</td>\n      <td>0.400</td>\n      <td>102702</td>\n      <td>2.590003</td>\n      <td>3.0</td>\n    </tr>\n    <tr>\n      <th>224</th>\n      <td>Yemen</td>\n      <td>NEAR EAST</td>\n      <td>21456188</td>\n      <td>527970</td>\n      <td>40.599998</td>\n      <td>0.360000</td>\n      <td>0.000000</td>\n      <td>61.500000</td>\n      <td>800.0</td>\n      <td>50.200001</td>\n      <td>...</td>\n      <td>0.240000</td>\n      <td>96.980003</td>\n      <td>42.889999</td>\n      <td>8.30</td>\n      <td>0.135</td>\n      <td>0.472</td>\n      <td>0.393</td>\n      <td>203849</td>\n      <td>105.154101</td>\n      <td>11.0</td>\n    </tr>\n    <tr>\n      <th>225</th>\n      <td>Zambia</td>\n      <td>SUB-SAHARAN AFRICA</td>\n      <td>11502010</td>\n      <td>752614</td>\n      <td>15.300000</td>\n      <td>0.000000</td>\n      <td>0.000000</td>\n      <td>88.290001</td>\n      <td>800.0</td>\n      <td>80.599998</td>\n      <td>...</td>\n      <td>0.030000</td>\n      <td>92.900002</td>\n      <td>41.000000</td>\n      <td>19.93</td>\n      <td>0.220</td>\n      <td>0.290</td>\n      <td>0.489</td>\n      <td>290584</td>\n      <td>39.627040</td>\n      <td>12.0</td>\n    </tr>\n    <tr>\n      <th>226</th>\n      <td>Zimbabwe</td>\n      <td>SUB-SAHARAN AFRICA</td>\n      <td>12236805</td>\n      <td>390580</td>\n      <td>31.299999</td>\n      <td>0.000000</td>\n      <td>0.000000</td>\n      <td>67.690002</td>\n      <td>1900.0</td>\n      <td>90.699997</td>\n      <td>...</td>\n      <td>0.340000</td>\n      <td>91.339996</td>\n      <td>28.010000</td>\n      <td>21.84</td>\n      <td>0.179</td>\n      <td>0.243</td>\n      <td>0.579</td>\n      <td>150802</td>\n      <td>81.067079</td>\n      <td>15.0</td>\n    </tr>\n  </tbody>\n</table>\n<p>227 rows × 22 columns</p>\n</div>"
     },
     "metadata": {},
     "execution_count": 1049
    }
   ],
   "source": [
    "joined.toPandas()"
   ]
  },
  {
   "cell_type": "code",
   "execution_count": 1050,
   "metadata": {},
   "outputs": [],
   "source": [
    "not_joined = joined.filter(F.isnull('Airports sum'))"
   ]
  },
  {
   "cell_type": "code",
   "execution_count": 1051,
   "metadata": {},
   "outputs": [
    {
     "output_type": "execute_result",
     "data": {
      "text/plain": [
       "                 Country               Region  Population  Area (sq km)  \\\n",
       "0                Andorra       WESTERN EUROPE       71201           468   \n",
       "1      Antigua & Barbuda  LATIN AMER. & CARIB       69108           443   \n",
       "2           Bahamas, The  LATIN AMER. & CARIB      303770         13940   \n",
       "3     British Virgin Is.  LATIN AMER. & CARIB       23098           153   \n",
       "4   Central African Rep.   SUB-SAHARAN AFRICA     4303356        622984   \n",
       "5       Congo, Dem. Rep.   SUB-SAHARAN AFRICA    62660551       2345410   \n",
       "6   Congo, Repub. of the   SUB-SAHARAN AFRICA     3702314        342000   \n",
       "7            Gambia, The   SUB-SAHARAN AFRICA     1641564         11300   \n",
       "8             Gaza Strip            NEAR EAST     1428757           360   \n",
       "9          Liechtenstein       WESTERN EUROPE       33987           160   \n",
       "10  Micronesia, Fed. St.              OCEANIA      108004           702   \n",
       "11                Monaco       WESTERN EUROPE       32543             2   \n",
       "12    N. Mariana Islands              OCEANIA       82459           477   \n",
       "13   Saint Kitts & Nevis  LATIN AMER. & CARIB       39129           261   \n",
       "14  St Pierre & Miquelon     NORTHERN AMERICA        7026           242   \n",
       "15            San Marino       WESTERN EUROPE       29251            61   \n",
       "16   Sao Tome & Principe   SUB-SAHARAN AFRICA      193413          1001   \n",
       "17     Trinidad & Tobago  LATIN AMER. & CARIB     1065842          5128   \n",
       "18     Turks & Caicos Is  LATIN AMER. & CARIB       21152           430   \n",
       "\n",
       "    Pop Density (per sq km)  Coastline (coast/area ratio)  Net migration  \\\n",
       "0                152.100006                      0.000000           6.60   \n",
       "1                156.000000                     34.540001          -6.15   \n",
       "2                 21.799999                     25.410000          -2.20   \n",
       "3                151.000000                     52.290001          10.01   \n",
       "4                  6.900000                      0.000000           0.00   \n",
       "5                 26.700001                      0.000000           0.00   \n",
       "6                 10.800000                      0.050000          -0.17   \n",
       "7                145.300003                      0.710000           1.57   \n",
       "8               3968.800049                     11.110000           1.60   \n",
       "9                212.399994                      0.000000           4.85   \n",
       "10               153.899994                    870.659973         -20.99   \n",
       "11             16271.500000                    205.000000           7.75   \n",
       "12               172.899994                    310.690002           9.61   \n",
       "13               149.899994                     51.720001          -7.11   \n",
       "14                29.000000                     49.590000          -4.86   \n",
       "15               479.500000                      0.000000          10.98   \n",
       "16               193.199997                     20.879999          -2.72   \n",
       "17               207.899994                      7.060000         -10.83   \n",
       "18                49.200001                     90.470001          11.68   \n",
       "\n",
       "    Infant mortality (per 1000 births)  GDP ($ per capita)  Literacy (%)  ...  \\\n",
       "0                             4.050000               19000    100.000000  ...   \n",
       "1                            19.459999               11000     89.000000  ...   \n",
       "2                            25.209999               16700     95.599998  ...   \n",
       "3                            18.049999               16000     97.800003  ...   \n",
       "4                            91.000000                1100     51.000000  ...   \n",
       "5                            94.690002                 700     65.500000  ...   \n",
       "6                            93.860001                 700     83.800003  ...   \n",
       "7                            72.019997                1700     40.099998  ...   \n",
       "8                            22.930000                 600     -1.000000  ...   \n",
       "9                             4.700000               25000    100.000000  ...   \n",
       "10                           30.209999                2000     89.000000  ...   \n",
       "11                            5.430000               27000     99.000000  ...   \n",
       "12                            7.110000               12500     97.000000  ...   \n",
       "13                           14.490000                8800     97.000000  ...   \n",
       "14                            7.540000                6900     99.000000  ...   \n",
       "15                            5.730000               34600     96.000000  ...   \n",
       "16                           43.110001                1200     79.300003  ...   \n",
       "17                           24.309999                9500     98.599998  ...   \n",
       "18                           15.670000                9600     98.000000  ...   \n",
       "\n",
       "    Crops (%)   Other (%)  Birthrate  Deathrate  Agriculture  Industry  \\\n",
       "0    0.000000   97.779999   8.710000       6.25       -1.000    -1.000   \n",
       "1    4.550000   77.269997  16.930000       5.37        0.038     0.220   \n",
       "2    0.400000   98.800003  17.570000       9.05        0.030     0.070   \n",
       "3    6.670000   73.330002  14.890000       4.42        0.018     0.062   \n",
       "4    0.140000   96.760002  33.910000      18.65        0.550     0.200   \n",
       "5    0.520000   96.519997  43.689999      13.27        0.550     0.110   \n",
       "6    0.130000   99.360001  42.570000      12.93        0.062     0.570   \n",
       "7    0.500000   74.500000  39.369999      12.25        0.308     0.142   \n",
       "8   21.049999   50.000000  39.450001       3.80        0.030     0.283   \n",
       "9    0.000000   75.000000  10.210000       7.18        0.060     0.390   \n",
       "10  45.709999   48.580002  24.680000       4.75        0.289     0.152   \n",
       "11   0.000000  100.000000   9.190000      12.91        0.170    -1.000   \n",
       "12   4.350000   82.610001  19.430000       2.29       -1.000    -1.000   \n",
       "13   2.780000   77.779999  18.020000       8.33        0.035     0.258   \n",
       "14   0.000000   86.959999  13.520000       6.83       -1.000    -1.000   \n",
       "15   0.000000   83.330002  10.020000       8.17       -1.000    -1.000   \n",
       "16  48.959999   44.790001  40.250000       6.47        0.167     0.148   \n",
       "17   9.160000   76.220001  12.900000      10.57        0.007     0.570   \n",
       "18   0.000000   97.669998  21.840000       4.21       -1.000    -1.000   \n",
       "\n",
       "    Service  Area (sq mi)  Pop Density (per sq mi)  Airports sum  \n",
       "0    -1.000           180               393.939410           NaN  \n",
       "1     0.743           171               404.040404           NaN  \n",
       "2     0.900          5382                56.462054           NaN  \n",
       "3     0.920            59               391.090391           NaN  \n",
       "4     0.250        240534                17.871018           NaN  \n",
       "5     0.340        905562                69.153071           NaN  \n",
       "6     0.369        132046                27.972028           NaN  \n",
       "7     0.549          4362               376.327384           NaN  \n",
       "8     0.687           138             10279.202406           NaN  \n",
       "9     0.550            61               550.116534           NaN  \n",
       "10    0.559           271               398.601383           NaN  \n",
       "11   -1.000             0             42143.227143           NaN  \n",
       "12   -1.000           184               447.811432           NaN  \n",
       "13    0.707           100               388.241372           NaN  \n",
       "14   -1.000            93                75.110075           NaN  \n",
       "15   -1.000            23              1241.906242           NaN  \n",
       "16    0.684           386               500.388492           NaN  \n",
       "17    0.423          1979               538.461523           NaN  \n",
       "18   -1.000           166               127.428129           NaN  \n",
       "\n",
       "[19 rows x 22 columns]"
      ],
      "text/html": "<div>\n<style scoped>\n    .dataframe tbody tr th:only-of-type {\n        vertical-align: middle;\n    }\n\n    .dataframe tbody tr th {\n        vertical-align: top;\n    }\n\n    .dataframe thead th {\n        text-align: right;\n    }\n</style>\n<table border=\"1\" class=\"dataframe\">\n  <thead>\n    <tr style=\"text-align: right;\">\n      <th></th>\n      <th>Country</th>\n      <th>Region</th>\n      <th>Population</th>\n      <th>Area (sq km)</th>\n      <th>Pop Density (per sq km)</th>\n      <th>Coastline (coast/area ratio)</th>\n      <th>Net migration</th>\n      <th>Infant mortality (per 1000 births)</th>\n      <th>GDP ($ per capita)</th>\n      <th>Literacy (%)</th>\n      <th>...</th>\n      <th>Crops (%)</th>\n      <th>Other (%)</th>\n      <th>Birthrate</th>\n      <th>Deathrate</th>\n      <th>Agriculture</th>\n      <th>Industry</th>\n      <th>Service</th>\n      <th>Area (sq mi)</th>\n      <th>Pop Density (per sq mi)</th>\n      <th>Airports sum</th>\n    </tr>\n  </thead>\n  <tbody>\n    <tr>\n      <th>0</th>\n      <td>Andorra</td>\n      <td>WESTERN EUROPE</td>\n      <td>71201</td>\n      <td>468</td>\n      <td>152.100006</td>\n      <td>0.000000</td>\n      <td>6.60</td>\n      <td>4.050000</td>\n      <td>19000</td>\n      <td>100.000000</td>\n      <td>...</td>\n      <td>0.000000</td>\n      <td>97.779999</td>\n      <td>8.710000</td>\n      <td>6.25</td>\n      <td>-1.000</td>\n      <td>-1.000</td>\n      <td>-1.000</td>\n      <td>180</td>\n      <td>393.939410</td>\n      <td>NaN</td>\n    </tr>\n    <tr>\n      <th>1</th>\n      <td>Antigua &amp; Barbuda</td>\n      <td>LATIN AMER. &amp; CARIB</td>\n      <td>69108</td>\n      <td>443</td>\n      <td>156.000000</td>\n      <td>34.540001</td>\n      <td>-6.15</td>\n      <td>19.459999</td>\n      <td>11000</td>\n      <td>89.000000</td>\n      <td>...</td>\n      <td>4.550000</td>\n      <td>77.269997</td>\n      <td>16.930000</td>\n      <td>5.37</td>\n      <td>0.038</td>\n      <td>0.220</td>\n      <td>0.743</td>\n      <td>171</td>\n      <td>404.040404</td>\n      <td>NaN</td>\n    </tr>\n    <tr>\n      <th>2</th>\n      <td>Bahamas, The</td>\n      <td>LATIN AMER. &amp; CARIB</td>\n      <td>303770</td>\n      <td>13940</td>\n      <td>21.799999</td>\n      <td>25.410000</td>\n      <td>-2.20</td>\n      <td>25.209999</td>\n      <td>16700</td>\n      <td>95.599998</td>\n      <td>...</td>\n      <td>0.400000</td>\n      <td>98.800003</td>\n      <td>17.570000</td>\n      <td>9.05</td>\n      <td>0.030</td>\n      <td>0.070</td>\n      <td>0.900</td>\n      <td>5382</td>\n      <td>56.462054</td>\n      <td>NaN</td>\n    </tr>\n    <tr>\n      <th>3</th>\n      <td>British Virgin Is.</td>\n      <td>LATIN AMER. &amp; CARIB</td>\n      <td>23098</td>\n      <td>153</td>\n      <td>151.000000</td>\n      <td>52.290001</td>\n      <td>10.01</td>\n      <td>18.049999</td>\n      <td>16000</td>\n      <td>97.800003</td>\n      <td>...</td>\n      <td>6.670000</td>\n      <td>73.330002</td>\n      <td>14.890000</td>\n      <td>4.42</td>\n      <td>0.018</td>\n      <td>0.062</td>\n      <td>0.920</td>\n      <td>59</td>\n      <td>391.090391</td>\n      <td>NaN</td>\n    </tr>\n    <tr>\n      <th>4</th>\n      <td>Central African Rep.</td>\n      <td>SUB-SAHARAN AFRICA</td>\n      <td>4303356</td>\n      <td>622984</td>\n      <td>6.900000</td>\n      <td>0.000000</td>\n      <td>0.00</td>\n      <td>91.000000</td>\n      <td>1100</td>\n      <td>51.000000</td>\n      <td>...</td>\n      <td>0.140000</td>\n      <td>96.760002</td>\n      <td>33.910000</td>\n      <td>18.65</td>\n      <td>0.550</td>\n      <td>0.200</td>\n      <td>0.250</td>\n      <td>240534</td>\n      <td>17.871018</td>\n      <td>NaN</td>\n    </tr>\n    <tr>\n      <th>5</th>\n      <td>Congo, Dem. Rep.</td>\n      <td>SUB-SAHARAN AFRICA</td>\n      <td>62660551</td>\n      <td>2345410</td>\n      <td>26.700001</td>\n      <td>0.000000</td>\n      <td>0.00</td>\n      <td>94.690002</td>\n      <td>700</td>\n      <td>65.500000</td>\n      <td>...</td>\n      <td>0.520000</td>\n      <td>96.519997</td>\n      <td>43.689999</td>\n      <td>13.27</td>\n      <td>0.550</td>\n      <td>0.110</td>\n      <td>0.340</td>\n      <td>905562</td>\n      <td>69.153071</td>\n      <td>NaN</td>\n    </tr>\n    <tr>\n      <th>6</th>\n      <td>Congo, Repub. of the</td>\n      <td>SUB-SAHARAN AFRICA</td>\n      <td>3702314</td>\n      <td>342000</td>\n      <td>10.800000</td>\n      <td>0.050000</td>\n      <td>-0.17</td>\n      <td>93.860001</td>\n      <td>700</td>\n      <td>83.800003</td>\n      <td>...</td>\n      <td>0.130000</td>\n      <td>99.360001</td>\n      <td>42.570000</td>\n      <td>12.93</td>\n      <td>0.062</td>\n      <td>0.570</td>\n      <td>0.369</td>\n      <td>132046</td>\n      <td>27.972028</td>\n      <td>NaN</td>\n    </tr>\n    <tr>\n      <th>7</th>\n      <td>Gambia, The</td>\n      <td>SUB-SAHARAN AFRICA</td>\n      <td>1641564</td>\n      <td>11300</td>\n      <td>145.300003</td>\n      <td>0.710000</td>\n      <td>1.57</td>\n      <td>72.019997</td>\n      <td>1700</td>\n      <td>40.099998</td>\n      <td>...</td>\n      <td>0.500000</td>\n      <td>74.500000</td>\n      <td>39.369999</td>\n      <td>12.25</td>\n      <td>0.308</td>\n      <td>0.142</td>\n      <td>0.549</td>\n      <td>4362</td>\n      <td>376.327384</td>\n      <td>NaN</td>\n    </tr>\n    <tr>\n      <th>8</th>\n      <td>Gaza Strip</td>\n      <td>NEAR EAST</td>\n      <td>1428757</td>\n      <td>360</td>\n      <td>3968.800049</td>\n      <td>11.110000</td>\n      <td>1.60</td>\n      <td>22.930000</td>\n      <td>600</td>\n      <td>-1.000000</td>\n      <td>...</td>\n      <td>21.049999</td>\n      <td>50.000000</td>\n      <td>39.450001</td>\n      <td>3.80</td>\n      <td>0.030</td>\n      <td>0.283</td>\n      <td>0.687</td>\n      <td>138</td>\n      <td>10279.202406</td>\n      <td>NaN</td>\n    </tr>\n    <tr>\n      <th>9</th>\n      <td>Liechtenstein</td>\n      <td>WESTERN EUROPE</td>\n      <td>33987</td>\n      <td>160</td>\n      <td>212.399994</td>\n      <td>0.000000</td>\n      <td>4.85</td>\n      <td>4.700000</td>\n      <td>25000</td>\n      <td>100.000000</td>\n      <td>...</td>\n      <td>0.000000</td>\n      <td>75.000000</td>\n      <td>10.210000</td>\n      <td>7.18</td>\n      <td>0.060</td>\n      <td>0.390</td>\n      <td>0.550</td>\n      <td>61</td>\n      <td>550.116534</td>\n      <td>NaN</td>\n    </tr>\n    <tr>\n      <th>10</th>\n      <td>Micronesia, Fed. St.</td>\n      <td>OCEANIA</td>\n      <td>108004</td>\n      <td>702</td>\n      <td>153.899994</td>\n      <td>870.659973</td>\n      <td>-20.99</td>\n      <td>30.209999</td>\n      <td>2000</td>\n      <td>89.000000</td>\n      <td>...</td>\n      <td>45.709999</td>\n      <td>48.580002</td>\n      <td>24.680000</td>\n      <td>4.75</td>\n      <td>0.289</td>\n      <td>0.152</td>\n      <td>0.559</td>\n      <td>271</td>\n      <td>398.601383</td>\n      <td>NaN</td>\n    </tr>\n    <tr>\n      <th>11</th>\n      <td>Monaco</td>\n      <td>WESTERN EUROPE</td>\n      <td>32543</td>\n      <td>2</td>\n      <td>16271.500000</td>\n      <td>205.000000</td>\n      <td>7.75</td>\n      <td>5.430000</td>\n      <td>27000</td>\n      <td>99.000000</td>\n      <td>...</td>\n      <td>0.000000</td>\n      <td>100.000000</td>\n      <td>9.190000</td>\n      <td>12.91</td>\n      <td>0.170</td>\n      <td>-1.000</td>\n      <td>-1.000</td>\n      <td>0</td>\n      <td>42143.227143</td>\n      <td>NaN</td>\n    </tr>\n    <tr>\n      <th>12</th>\n      <td>N. Mariana Islands</td>\n      <td>OCEANIA</td>\n      <td>82459</td>\n      <td>477</td>\n      <td>172.899994</td>\n      <td>310.690002</td>\n      <td>9.61</td>\n      <td>7.110000</td>\n      <td>12500</td>\n      <td>97.000000</td>\n      <td>...</td>\n      <td>4.350000</td>\n      <td>82.610001</td>\n      <td>19.430000</td>\n      <td>2.29</td>\n      <td>-1.000</td>\n      <td>-1.000</td>\n      <td>-1.000</td>\n      <td>184</td>\n      <td>447.811432</td>\n      <td>NaN</td>\n    </tr>\n    <tr>\n      <th>13</th>\n      <td>Saint Kitts &amp; Nevis</td>\n      <td>LATIN AMER. &amp; CARIB</td>\n      <td>39129</td>\n      <td>261</td>\n      <td>149.899994</td>\n      <td>51.720001</td>\n      <td>-7.11</td>\n      <td>14.490000</td>\n      <td>8800</td>\n      <td>97.000000</td>\n      <td>...</td>\n      <td>2.780000</td>\n      <td>77.779999</td>\n      <td>18.020000</td>\n      <td>8.33</td>\n      <td>0.035</td>\n      <td>0.258</td>\n      <td>0.707</td>\n      <td>100</td>\n      <td>388.241372</td>\n      <td>NaN</td>\n    </tr>\n    <tr>\n      <th>14</th>\n      <td>St Pierre &amp; Miquelon</td>\n      <td>NORTHERN AMERICA</td>\n      <td>7026</td>\n      <td>242</td>\n      <td>29.000000</td>\n      <td>49.590000</td>\n      <td>-4.86</td>\n      <td>7.540000</td>\n      <td>6900</td>\n      <td>99.000000</td>\n      <td>...</td>\n      <td>0.000000</td>\n      <td>86.959999</td>\n      <td>13.520000</td>\n      <td>6.83</td>\n      <td>-1.000</td>\n      <td>-1.000</td>\n      <td>-1.000</td>\n      <td>93</td>\n      <td>75.110075</td>\n      <td>NaN</td>\n    </tr>\n    <tr>\n      <th>15</th>\n      <td>San Marino</td>\n      <td>WESTERN EUROPE</td>\n      <td>29251</td>\n      <td>61</td>\n      <td>479.500000</td>\n      <td>0.000000</td>\n      <td>10.98</td>\n      <td>5.730000</td>\n      <td>34600</td>\n      <td>96.000000</td>\n      <td>...</td>\n      <td>0.000000</td>\n      <td>83.330002</td>\n      <td>10.020000</td>\n      <td>8.17</td>\n      <td>-1.000</td>\n      <td>-1.000</td>\n      <td>-1.000</td>\n      <td>23</td>\n      <td>1241.906242</td>\n      <td>NaN</td>\n    </tr>\n    <tr>\n      <th>16</th>\n      <td>Sao Tome &amp; Principe</td>\n      <td>SUB-SAHARAN AFRICA</td>\n      <td>193413</td>\n      <td>1001</td>\n      <td>193.199997</td>\n      <td>20.879999</td>\n      <td>-2.72</td>\n      <td>43.110001</td>\n      <td>1200</td>\n      <td>79.300003</td>\n      <td>...</td>\n      <td>48.959999</td>\n      <td>44.790001</td>\n      <td>40.250000</td>\n      <td>6.47</td>\n      <td>0.167</td>\n      <td>0.148</td>\n      <td>0.684</td>\n      <td>386</td>\n      <td>500.388492</td>\n      <td>NaN</td>\n    </tr>\n    <tr>\n      <th>17</th>\n      <td>Trinidad &amp; Tobago</td>\n      <td>LATIN AMER. &amp; CARIB</td>\n      <td>1065842</td>\n      <td>5128</td>\n      <td>207.899994</td>\n      <td>7.060000</td>\n      <td>-10.83</td>\n      <td>24.309999</td>\n      <td>9500</td>\n      <td>98.599998</td>\n      <td>...</td>\n      <td>9.160000</td>\n      <td>76.220001</td>\n      <td>12.900000</td>\n      <td>10.57</td>\n      <td>0.007</td>\n      <td>0.570</td>\n      <td>0.423</td>\n      <td>1979</td>\n      <td>538.461523</td>\n      <td>NaN</td>\n    </tr>\n    <tr>\n      <th>18</th>\n      <td>Turks &amp; Caicos Is</td>\n      <td>LATIN AMER. &amp; CARIB</td>\n      <td>21152</td>\n      <td>430</td>\n      <td>49.200001</td>\n      <td>90.470001</td>\n      <td>11.68</td>\n      <td>15.670000</td>\n      <td>9600</td>\n      <td>98.000000</td>\n      <td>...</td>\n      <td>0.000000</td>\n      <td>97.669998</td>\n      <td>21.840000</td>\n      <td>4.21</td>\n      <td>-1.000</td>\n      <td>-1.000</td>\n      <td>-1.000</td>\n      <td>166</td>\n      <td>127.428129</td>\n      <td>NaN</td>\n    </tr>\n  </tbody>\n</table>\n<p>19 rows × 22 columns</p>\n</div>"
     },
     "metadata": {},
     "execution_count": 1051
    }
   ],
   "source": [
    "not_joined.toPandas()"
   ]
  },
  {
   "cell_type": "code",
   "execution_count": 1052,
   "metadata": {},
   "outputs": [
    {
     "output_type": "execute_result",
     "data": {
      "text/plain": [
       "<AxesSubplot:xlabel='Area (sq mi)', ylabel='Airports sum'>"
      ]
     },
     "metadata": {},
     "execution_count": 1052
    },
    {
     "output_type": "display_data",
     "data": {
      "text/plain": "<Figure size 1440x720 with 1 Axes>",
      "image/svg+xml": "<?xml version=\"1.0\" encoding=\"utf-8\" standalone=\"no\"?>\n<!DOCTYPE svg PUBLIC \"-//W3C//DTD SVG 1.1//EN\"\n  \"http://www.w3.org/Graphics/SVG/1.1/DTD/svg11.dtd\">\n<!-- Created with matplotlib (https://matplotlib.org/) -->\n<svg height=\"590.291875pt\" version=\"1.1\" viewBox=\"0 0 1178.46375 590.291875\" width=\"1178.46375pt\" xmlns=\"http://www.w3.org/2000/svg\" xmlns:xlink=\"http://www.w3.org/1999/xlink\">\n <metadata>\n  <rdf:RDF xmlns:cc=\"http://creativecommons.org/ns#\" xmlns:dc=\"http://purl.org/dc/elements/1.1/\" xmlns:rdf=\"http://www.w3.org/1999/02/22-rdf-syntax-ns#\">\n   <cc:Work>\n    <dc:type rdf:resource=\"http://purl.org/dc/dcmitype/StillImage\"/>\n    <dc:date>2021-03-14T19:55:03.035294</dc:date>\n    <dc:format>image/svg+xml</dc:format>\n    <dc:creator>\n     <cc:Agent>\n      <dc:title>Matplotlib v3.3.4, https://matplotlib.org/</dc:title>\n     </cc:Agent>\n    </dc:creator>\n   </cc:Work>\n  </rdf:RDF>\n </metadata>\n <defs>\n  <style type=\"text/css\">*{stroke-linecap:butt;stroke-linejoin:round;}</style>\n </defs>\n <g id=\"figure_1\">\n  <g id=\"patch_1\">\n   <path d=\"M 0 590.291875 \nL 1178.46375 590.291875 \nL 1178.46375 0 \nL 0 0 \nz\n\" style=\"fill:#ffffff;\"/>\n  </g>\n  <g id=\"axes_1\">\n   <g id=\"patch_2\">\n    <path d=\"M 55.26375 550.8 \nL 1171.26375 550.8 \nL 1171.26375 7.2 \nL 55.26375 7.2 \nz\n\" style=\"fill:#e5e5e5;\"/>\n   </g>\n   <g id=\"matplotlib.axis_1\">\n    <g id=\"xtick_1\">\n     <g id=\"line2d_1\">\n      <path clip-path=\"url(#p0abcda8072)\" d=\"M 105.990715 550.8 \nL 105.990715 7.2 \n\" style=\"fill:none;stroke:#ffffff;stroke-linecap:square;stroke-width:0.8;\"/>\n     </g>\n     <g id=\"line2d_2\">\n      <defs>\n       <path d=\"M 0 0 \nL 0 3.5 \n\" id=\"m6c327cf5cf\" style=\"stroke:#555555;stroke-width:0.8;\"/>\n      </defs>\n      <g>\n       <use style=\"fill:#555555;stroke:#555555;stroke-width:0.8;\" x=\"105.990715\" xlink:href=\"#m6c327cf5cf\" y=\"550.8\"/>\n      </g>\n     </g>\n     <g id=\"text_1\">\n      <!-- 0 -->\n      <g style=\"fill:#555555;\" transform=\"translate(102.809465 565.398438)scale(0.1 -0.1)\">\n       <defs>\n        <path d=\"M 31.78125 66.40625 \nQ 24.171875 66.40625 20.328125 58.90625 \nQ 16.5 51.421875 16.5 36.375 \nQ 16.5 21.390625 20.328125 13.890625 \nQ 24.171875 6.390625 31.78125 6.390625 \nQ 39.453125 6.390625 43.28125 13.890625 \nQ 47.125 21.390625 47.125 36.375 \nQ 47.125 51.421875 43.28125 58.90625 \nQ 39.453125 66.40625 31.78125 66.40625 \nz\nM 31.78125 74.21875 \nQ 44.046875 74.21875 50.515625 64.515625 \nQ 56.984375 54.828125 56.984375 36.375 \nQ 56.984375 17.96875 50.515625 8.265625 \nQ 44.046875 -1.421875 31.78125 -1.421875 \nQ 19.53125 -1.421875 13.0625 8.265625 \nQ 6.59375 17.96875 6.59375 36.375 \nQ 6.59375 54.828125 13.0625 64.515625 \nQ 19.53125 74.21875 31.78125 74.21875 \nz\n\" id=\"DejaVuSans-48\"/>\n       </defs>\n       <use xlink:href=\"#DejaVuSans-48\"/>\n      </g>\n     </g>\n    </g>\n    <g id=\"xtick_2\">\n     <g id=\"line2d_3\">\n      <path clip-path=\"url(#p0abcda8072)\" d=\"M 259.879187 550.8 \nL 259.879187 7.2 \n\" style=\"fill:none;stroke:#ffffff;stroke-linecap:square;stroke-width:0.8;\"/>\n     </g>\n     <g id=\"line2d_4\">\n      <g>\n       <use style=\"fill:#555555;stroke:#555555;stroke-width:0.8;\" x=\"259.879187\" xlink:href=\"#m6c327cf5cf\" y=\"550.8\"/>\n      </g>\n     </g>\n     <g id=\"text_2\">\n      <!-- 1 -->\n      <g style=\"fill:#555555;\" transform=\"translate(256.697937 565.398438)scale(0.1 -0.1)\">\n       <defs>\n        <path d=\"M 12.40625 8.296875 \nL 28.515625 8.296875 \nL 28.515625 63.921875 \nL 10.984375 60.40625 \nL 10.984375 69.390625 \nL 28.421875 72.90625 \nL 38.28125 72.90625 \nL 38.28125 8.296875 \nL 54.390625 8.296875 \nL 54.390625 0 \nL 12.40625 0 \nz\n\" id=\"DejaVuSans-49\"/>\n       </defs>\n       <use xlink:href=\"#DejaVuSans-49\"/>\n      </g>\n     </g>\n    </g>\n    <g id=\"xtick_3\">\n     <g id=\"line2d_5\">\n      <path clip-path=\"url(#p0abcda8072)\" d=\"M 413.767659 550.8 \nL 413.767659 7.2 \n\" style=\"fill:none;stroke:#ffffff;stroke-linecap:square;stroke-width:0.8;\"/>\n     </g>\n     <g id=\"line2d_6\">\n      <g>\n       <use style=\"fill:#555555;stroke:#555555;stroke-width:0.8;\" x=\"413.767659\" xlink:href=\"#m6c327cf5cf\" y=\"550.8\"/>\n      </g>\n     </g>\n     <g id=\"text_3\">\n      <!-- 2 -->\n      <g style=\"fill:#555555;\" transform=\"translate(410.586409 565.398438)scale(0.1 -0.1)\">\n       <defs>\n        <path d=\"M 19.1875 8.296875 \nL 53.609375 8.296875 \nL 53.609375 0 \nL 7.328125 0 \nL 7.328125 8.296875 \nQ 12.9375 14.109375 22.625 23.890625 \nQ 32.328125 33.6875 34.8125 36.53125 \nQ 39.546875 41.84375 41.421875 45.53125 \nQ 43.3125 49.21875 43.3125 52.78125 \nQ 43.3125 58.59375 39.234375 62.25 \nQ 35.15625 65.921875 28.609375 65.921875 \nQ 23.96875 65.921875 18.8125 64.3125 \nQ 13.671875 62.703125 7.8125 59.421875 \nL 7.8125 69.390625 \nQ 13.765625 71.78125 18.9375 73 \nQ 24.125 74.21875 28.421875 74.21875 \nQ 39.75 74.21875 46.484375 68.546875 \nQ 53.21875 62.890625 53.21875 53.421875 \nQ 53.21875 48.921875 51.53125 44.890625 \nQ 49.859375 40.875 45.40625 35.40625 \nQ 44.1875 33.984375 37.640625 27.21875 \nQ 31.109375 20.453125 19.1875 8.296875 \nz\n\" id=\"DejaVuSans-50\"/>\n       </defs>\n       <use xlink:href=\"#DejaVuSans-50\"/>\n      </g>\n     </g>\n    </g>\n    <g id=\"xtick_4\">\n     <g id=\"line2d_7\">\n      <path clip-path=\"url(#p0abcda8072)\" d=\"M 567.656131 550.8 \nL 567.656131 7.2 \n\" style=\"fill:none;stroke:#ffffff;stroke-linecap:square;stroke-width:0.8;\"/>\n     </g>\n     <g id=\"line2d_8\">\n      <g>\n       <use style=\"fill:#555555;stroke:#555555;stroke-width:0.8;\" x=\"567.656131\" xlink:href=\"#m6c327cf5cf\" y=\"550.8\"/>\n      </g>\n     </g>\n     <g id=\"text_4\">\n      <!-- 3 -->\n      <g style=\"fill:#555555;\" transform=\"translate(564.474881 565.398438)scale(0.1 -0.1)\">\n       <defs>\n        <path d=\"M 40.578125 39.3125 \nQ 47.65625 37.796875 51.625 33 \nQ 55.609375 28.21875 55.609375 21.1875 \nQ 55.609375 10.40625 48.1875 4.484375 \nQ 40.765625 -1.421875 27.09375 -1.421875 \nQ 22.515625 -1.421875 17.65625 -0.515625 \nQ 12.796875 0.390625 7.625 2.203125 \nL 7.625 11.71875 \nQ 11.71875 9.328125 16.59375 8.109375 \nQ 21.484375 6.890625 26.8125 6.890625 \nQ 36.078125 6.890625 40.9375 10.546875 \nQ 45.796875 14.203125 45.796875 21.1875 \nQ 45.796875 27.640625 41.28125 31.265625 \nQ 36.765625 34.90625 28.71875 34.90625 \nL 20.21875 34.90625 \nL 20.21875 43.015625 \nL 29.109375 43.015625 \nQ 36.375 43.015625 40.234375 45.921875 \nQ 44.09375 48.828125 44.09375 54.296875 \nQ 44.09375 59.90625 40.109375 62.90625 \nQ 36.140625 65.921875 28.71875 65.921875 \nQ 24.65625 65.921875 20.015625 65.03125 \nQ 15.375 64.15625 9.8125 62.3125 \nL 9.8125 71.09375 \nQ 15.4375 72.65625 20.34375 73.4375 \nQ 25.25 74.21875 29.59375 74.21875 \nQ 40.828125 74.21875 47.359375 69.109375 \nQ 53.90625 64.015625 53.90625 55.328125 \nQ 53.90625 49.265625 50.4375 45.09375 \nQ 46.96875 40.921875 40.578125 39.3125 \nz\n\" id=\"DejaVuSans-51\"/>\n       </defs>\n       <use xlink:href=\"#DejaVuSans-51\"/>\n      </g>\n     </g>\n    </g>\n    <g id=\"xtick_5\">\n     <g id=\"line2d_9\">\n      <path clip-path=\"url(#p0abcda8072)\" d=\"M 721.544603 550.8 \nL 721.544603 7.2 \n\" style=\"fill:none;stroke:#ffffff;stroke-linecap:square;stroke-width:0.8;\"/>\n     </g>\n     <g id=\"line2d_10\">\n      <g>\n       <use style=\"fill:#555555;stroke:#555555;stroke-width:0.8;\" x=\"721.544603\" xlink:href=\"#m6c327cf5cf\" y=\"550.8\"/>\n      </g>\n     </g>\n     <g id=\"text_5\">\n      <!-- 4 -->\n      <g style=\"fill:#555555;\" transform=\"translate(718.363353 565.398438)scale(0.1 -0.1)\">\n       <defs>\n        <path d=\"M 37.796875 64.3125 \nL 12.890625 25.390625 \nL 37.796875 25.390625 \nz\nM 35.203125 72.90625 \nL 47.609375 72.90625 \nL 47.609375 25.390625 \nL 58.015625 25.390625 \nL 58.015625 17.1875 \nL 47.609375 17.1875 \nL 47.609375 0 \nL 37.796875 0 \nL 37.796875 17.1875 \nL 4.890625 17.1875 \nL 4.890625 26.703125 \nz\n\" id=\"DejaVuSans-52\"/>\n       </defs>\n       <use xlink:href=\"#DejaVuSans-52\"/>\n      </g>\n     </g>\n    </g>\n    <g id=\"xtick_6\">\n     <g id=\"line2d_11\">\n      <path clip-path=\"url(#p0abcda8072)\" d=\"M 875.433076 550.8 \nL 875.433076 7.2 \n\" style=\"fill:none;stroke:#ffffff;stroke-linecap:square;stroke-width:0.8;\"/>\n     </g>\n     <g id=\"line2d_12\">\n      <g>\n       <use style=\"fill:#555555;stroke:#555555;stroke-width:0.8;\" x=\"875.433076\" xlink:href=\"#m6c327cf5cf\" y=\"550.8\"/>\n      </g>\n     </g>\n     <g id=\"text_6\">\n      <!-- 5 -->\n      <g style=\"fill:#555555;\" transform=\"translate(872.251826 565.398438)scale(0.1 -0.1)\">\n       <defs>\n        <path d=\"M 10.796875 72.90625 \nL 49.515625 72.90625 \nL 49.515625 64.59375 \nL 19.828125 64.59375 \nL 19.828125 46.734375 \nQ 21.96875 47.46875 24.109375 47.828125 \nQ 26.265625 48.1875 28.421875 48.1875 \nQ 40.625 48.1875 47.75 41.5 \nQ 54.890625 34.8125 54.890625 23.390625 \nQ 54.890625 11.625 47.5625 5.09375 \nQ 40.234375 -1.421875 26.90625 -1.421875 \nQ 22.3125 -1.421875 17.546875 -0.640625 \nQ 12.796875 0.140625 7.71875 1.703125 \nL 7.71875 11.625 \nQ 12.109375 9.234375 16.796875 8.0625 \nQ 21.484375 6.890625 26.703125 6.890625 \nQ 35.15625 6.890625 40.078125 11.328125 \nQ 45.015625 15.765625 45.015625 23.390625 \nQ 45.015625 31 40.078125 35.4375 \nQ 35.15625 39.890625 26.703125 39.890625 \nQ 22.75 39.890625 18.8125 39.015625 \nQ 14.890625 38.140625 10.796875 36.28125 \nz\n\" id=\"DejaVuSans-53\"/>\n       </defs>\n       <use xlink:href=\"#DejaVuSans-53\"/>\n      </g>\n     </g>\n    </g>\n    <g id=\"xtick_7\">\n     <g id=\"line2d_13\">\n      <path clip-path=\"url(#p0abcda8072)\" d=\"M 1029.321548 550.8 \nL 1029.321548 7.2 \n\" style=\"fill:none;stroke:#ffffff;stroke-linecap:square;stroke-width:0.8;\"/>\n     </g>\n     <g id=\"line2d_14\">\n      <g>\n       <use style=\"fill:#555555;stroke:#555555;stroke-width:0.8;\" x=\"1029.321548\" xlink:href=\"#m6c327cf5cf\" y=\"550.8\"/>\n      </g>\n     </g>\n     <g id=\"text_7\">\n      <!-- 6 -->\n      <g style=\"fill:#555555;\" transform=\"translate(1026.140298 565.398438)scale(0.1 -0.1)\">\n       <defs>\n        <path d=\"M 33.015625 40.375 \nQ 26.375 40.375 22.484375 35.828125 \nQ 18.609375 31.296875 18.609375 23.390625 \nQ 18.609375 15.53125 22.484375 10.953125 \nQ 26.375 6.390625 33.015625 6.390625 \nQ 39.65625 6.390625 43.53125 10.953125 \nQ 47.40625 15.53125 47.40625 23.390625 \nQ 47.40625 31.296875 43.53125 35.828125 \nQ 39.65625 40.375 33.015625 40.375 \nz\nM 52.59375 71.296875 \nL 52.59375 62.3125 \nQ 48.875 64.0625 45.09375 64.984375 \nQ 41.3125 65.921875 37.59375 65.921875 \nQ 27.828125 65.921875 22.671875 59.328125 \nQ 17.53125 52.734375 16.796875 39.40625 \nQ 19.671875 43.65625 24.015625 45.921875 \nQ 28.375 48.1875 33.59375 48.1875 \nQ 44.578125 48.1875 50.953125 41.515625 \nQ 57.328125 34.859375 57.328125 23.390625 \nQ 57.328125 12.15625 50.6875 5.359375 \nQ 44.046875 -1.421875 33.015625 -1.421875 \nQ 20.359375 -1.421875 13.671875 8.265625 \nQ 6.984375 17.96875 6.984375 36.375 \nQ 6.984375 53.65625 15.1875 63.9375 \nQ 23.390625 74.21875 37.203125 74.21875 \nQ 40.921875 74.21875 44.703125 73.484375 \nQ 48.484375 72.75 52.59375 71.296875 \nz\n\" id=\"DejaVuSans-54\"/>\n       </defs>\n       <use xlink:href=\"#DejaVuSans-54\"/>\n      </g>\n     </g>\n    </g>\n    <g id=\"text_8\">\n     <!-- Area (sq mi) -->\n     <g style=\"fill:#555555;\" transform=\"translate(576.5175 580.59625)scale(0.12 -0.12)\">\n      <defs>\n       <path d=\"M 34.1875 63.1875 \nL 20.796875 26.90625 \nL 47.609375 26.90625 \nz\nM 28.609375 72.90625 \nL 39.796875 72.90625 \nL 67.578125 0 \nL 57.328125 0 \nL 50.6875 18.703125 \nL 17.828125 18.703125 \nL 11.1875 0 \nL 0.78125 0 \nz\n\" id=\"DejaVuSans-65\"/>\n       <path d=\"M 41.109375 46.296875 \nQ 39.59375 47.171875 37.8125 47.578125 \nQ 36.03125 48 33.890625 48 \nQ 26.265625 48 22.1875 43.046875 \nQ 18.109375 38.09375 18.109375 28.8125 \nL 18.109375 0 \nL 9.078125 0 \nL 9.078125 54.6875 \nL 18.109375 54.6875 \nL 18.109375 46.1875 \nQ 20.953125 51.171875 25.484375 53.578125 \nQ 30.03125 56 36.53125 56 \nQ 37.453125 56 38.578125 55.875 \nQ 39.703125 55.765625 41.0625 55.515625 \nz\n\" id=\"DejaVuSans-114\"/>\n       <path d=\"M 56.203125 29.59375 \nL 56.203125 25.203125 \nL 14.890625 25.203125 \nQ 15.484375 15.921875 20.484375 11.0625 \nQ 25.484375 6.203125 34.421875 6.203125 \nQ 39.59375 6.203125 44.453125 7.46875 \nQ 49.3125 8.734375 54.109375 11.28125 \nL 54.109375 2.78125 \nQ 49.265625 0.734375 44.1875 -0.34375 \nQ 39.109375 -1.421875 33.890625 -1.421875 \nQ 20.796875 -1.421875 13.15625 6.1875 \nQ 5.515625 13.8125 5.515625 26.8125 \nQ 5.515625 40.234375 12.765625 48.109375 \nQ 20.015625 56 32.328125 56 \nQ 43.359375 56 49.78125 48.890625 \nQ 56.203125 41.796875 56.203125 29.59375 \nz\nM 47.21875 32.234375 \nQ 47.125 39.59375 43.09375 43.984375 \nQ 39.0625 48.390625 32.421875 48.390625 \nQ 24.90625 48.390625 20.390625 44.140625 \nQ 15.875 39.890625 15.1875 32.171875 \nz\n\" id=\"DejaVuSans-101\"/>\n       <path d=\"M 34.28125 27.484375 \nQ 23.390625 27.484375 19.1875 25 \nQ 14.984375 22.515625 14.984375 16.5 \nQ 14.984375 11.71875 18.140625 8.90625 \nQ 21.296875 6.109375 26.703125 6.109375 \nQ 34.1875 6.109375 38.703125 11.40625 \nQ 43.21875 16.703125 43.21875 25.484375 \nL 43.21875 27.484375 \nz\nM 52.203125 31.203125 \nL 52.203125 0 \nL 43.21875 0 \nL 43.21875 8.296875 \nQ 40.140625 3.328125 35.546875 0.953125 \nQ 30.953125 -1.421875 24.3125 -1.421875 \nQ 15.921875 -1.421875 10.953125 3.296875 \nQ 6 8.015625 6 15.921875 \nQ 6 25.140625 12.171875 29.828125 \nQ 18.359375 34.515625 30.609375 34.515625 \nL 43.21875 34.515625 \nL 43.21875 35.40625 \nQ 43.21875 41.609375 39.140625 45 \nQ 35.0625 48.390625 27.6875 48.390625 \nQ 23 48.390625 18.546875 47.265625 \nQ 14.109375 46.140625 10.015625 43.890625 \nL 10.015625 52.203125 \nQ 14.9375 54.109375 19.578125 55.046875 \nQ 24.21875 56 28.609375 56 \nQ 40.484375 56 46.34375 49.84375 \nQ 52.203125 43.703125 52.203125 31.203125 \nz\n\" id=\"DejaVuSans-97\"/>\n       <path id=\"DejaVuSans-32\"/>\n       <path d=\"M 31 75.875 \nQ 24.46875 64.65625 21.28125 53.65625 \nQ 18.109375 42.671875 18.109375 31.390625 \nQ 18.109375 20.125 21.3125 9.0625 \nQ 24.515625 -2 31 -13.1875 \nL 23.1875 -13.1875 \nQ 15.875 -1.703125 12.234375 9.375 \nQ 8.59375 20.453125 8.59375 31.390625 \nQ 8.59375 42.28125 12.203125 53.3125 \nQ 15.828125 64.359375 23.1875 75.875 \nz\n\" id=\"DejaVuSans-40\"/>\n       <path d=\"M 44.28125 53.078125 \nL 44.28125 44.578125 \nQ 40.484375 46.53125 36.375 47.5 \nQ 32.28125 48.484375 27.875 48.484375 \nQ 21.1875 48.484375 17.84375 46.4375 \nQ 14.5 44.390625 14.5 40.28125 \nQ 14.5 37.15625 16.890625 35.375 \nQ 19.28125 33.59375 26.515625 31.984375 \nL 29.59375 31.296875 \nQ 39.15625 29.25 43.1875 25.515625 \nQ 47.21875 21.78125 47.21875 15.09375 \nQ 47.21875 7.46875 41.1875 3.015625 \nQ 35.15625 -1.421875 24.609375 -1.421875 \nQ 20.21875 -1.421875 15.453125 -0.5625 \nQ 10.6875 0.296875 5.421875 2 \nL 5.421875 11.28125 \nQ 10.40625 8.6875 15.234375 7.390625 \nQ 20.0625 6.109375 24.8125 6.109375 \nQ 31.15625 6.109375 34.5625 8.28125 \nQ 37.984375 10.453125 37.984375 14.40625 \nQ 37.984375 18.0625 35.515625 20.015625 \nQ 33.0625 21.96875 24.703125 23.78125 \nL 21.578125 24.515625 \nQ 13.234375 26.265625 9.515625 29.90625 \nQ 5.8125 33.546875 5.8125 39.890625 \nQ 5.8125 47.609375 11.28125 51.796875 \nQ 16.75 56 26.8125 56 \nQ 31.78125 56 36.171875 55.265625 \nQ 40.578125 54.546875 44.28125 53.078125 \nz\n\" id=\"DejaVuSans-115\"/>\n       <path d=\"M 14.796875 27.296875 \nQ 14.796875 17.390625 18.875 11.75 \nQ 22.953125 6.109375 30.078125 6.109375 \nQ 37.203125 6.109375 41.296875 11.75 \nQ 45.40625 17.390625 45.40625 27.296875 \nQ 45.40625 37.203125 41.296875 42.84375 \nQ 37.203125 48.484375 30.078125 48.484375 \nQ 22.953125 48.484375 18.875 42.84375 \nQ 14.796875 37.203125 14.796875 27.296875 \nz\nM 45.40625 8.203125 \nQ 42.578125 3.328125 38.25 0.953125 \nQ 33.9375 -1.421875 27.875 -1.421875 \nQ 17.96875 -1.421875 11.734375 6.484375 \nQ 5.515625 14.40625 5.515625 27.296875 \nQ 5.515625 40.1875 11.734375 48.09375 \nQ 17.96875 56 27.875 56 \nQ 33.9375 56 38.25 53.625 \nQ 42.578125 51.265625 45.40625 46.390625 \nL 45.40625 54.6875 \nL 54.390625 54.6875 \nL 54.390625 -20.796875 \nL 45.40625 -20.796875 \nz\n\" id=\"DejaVuSans-113\"/>\n       <path d=\"M 52 44.1875 \nQ 55.375 50.25 60.0625 53.125 \nQ 64.75 56 71.09375 56 \nQ 79.640625 56 84.28125 50.015625 \nQ 88.921875 44.046875 88.921875 33.015625 \nL 88.921875 0 \nL 79.890625 0 \nL 79.890625 32.71875 \nQ 79.890625 40.578125 77.09375 44.375 \nQ 74.3125 48.1875 68.609375 48.1875 \nQ 61.625 48.1875 57.5625 43.546875 \nQ 53.515625 38.921875 53.515625 30.90625 \nL 53.515625 0 \nL 44.484375 0 \nL 44.484375 32.71875 \nQ 44.484375 40.625 41.703125 44.40625 \nQ 38.921875 48.1875 33.109375 48.1875 \nQ 26.21875 48.1875 22.15625 43.53125 \nQ 18.109375 38.875 18.109375 30.90625 \nL 18.109375 0 \nL 9.078125 0 \nL 9.078125 54.6875 \nL 18.109375 54.6875 \nL 18.109375 46.1875 \nQ 21.1875 51.21875 25.484375 53.609375 \nQ 29.78125 56 35.6875 56 \nQ 41.65625 56 45.828125 52.96875 \nQ 50 49.953125 52 44.1875 \nz\n\" id=\"DejaVuSans-109\"/>\n       <path d=\"M 9.421875 54.6875 \nL 18.40625 54.6875 \nL 18.40625 0 \nL 9.421875 0 \nz\nM 9.421875 75.984375 \nL 18.40625 75.984375 \nL 18.40625 64.59375 \nL 9.421875 64.59375 \nz\n\" id=\"DejaVuSans-105\"/>\n       <path d=\"M 8.015625 75.875 \nL 15.828125 75.875 \nQ 23.140625 64.359375 26.78125 53.3125 \nQ 30.421875 42.28125 30.421875 31.390625 \nQ 30.421875 20.453125 26.78125 9.375 \nQ 23.140625 -1.703125 15.828125 -13.1875 \nL 8.015625 -13.1875 \nQ 14.5 -2 17.703125 9.0625 \nQ 20.90625 20.125 20.90625 31.390625 \nQ 20.90625 42.671875 17.703125 53.65625 \nQ 14.5 64.65625 8.015625 75.875 \nz\n\" id=\"DejaVuSans-41\"/>\n      </defs>\n      <use xlink:href=\"#DejaVuSans-65\"/>\n      <use x=\"68.408203\" xlink:href=\"#DejaVuSans-114\"/>\n      <use x=\"107.271484\" xlink:href=\"#DejaVuSans-101\"/>\n      <use x=\"168.794922\" xlink:href=\"#DejaVuSans-97\"/>\n      <use x=\"230.074219\" xlink:href=\"#DejaVuSans-32\"/>\n      <use x=\"261.861328\" xlink:href=\"#DejaVuSans-40\"/>\n      <use x=\"300.875\" xlink:href=\"#DejaVuSans-115\"/>\n      <use x=\"352.974609\" xlink:href=\"#DejaVuSans-113\"/>\n      <use x=\"416.451172\" xlink:href=\"#DejaVuSans-32\"/>\n      <use x=\"448.238281\" xlink:href=\"#DejaVuSans-109\"/>\n      <use x=\"545.650391\" xlink:href=\"#DejaVuSans-105\"/>\n      <use x=\"573.433594\" xlink:href=\"#DejaVuSans-41\"/>\n     </g>\n    </g>\n    <g id=\"text_9\">\n     <!-- 1e6 -->\n     <g style=\"fill:#555555;\" transform=\"translate(1152.385625 578.076563)scale(0.1 -0.1)\">\n      <use xlink:href=\"#DejaVuSans-49\"/>\n      <use x=\"63.623047\" xlink:href=\"#DejaVuSans-101\"/>\n      <use x=\"125.146484\" xlink:href=\"#DejaVuSans-54\"/>\n     </g>\n    </g>\n   </g>\n   <g id=\"matplotlib.axis_2\">\n    <g id=\"ytick_1\">\n     <g id=\"line2d_15\">\n      <path clip-path=\"url(#p0abcda8072)\" d=\"M 55.26375 526.435527 \nL 1171.26375 526.435527 \n\" style=\"fill:none;stroke:#ffffff;stroke-linecap:square;stroke-width:0.8;\"/>\n     </g>\n     <g id=\"line2d_16\">\n      <defs>\n       <path d=\"M 0 0 \nL -3.5 0 \n\" id=\"mad64f5c774\" style=\"stroke:#555555;stroke-width:0.8;\"/>\n      </defs>\n      <g>\n       <use style=\"fill:#555555;stroke:#555555;stroke-width:0.8;\" x=\"55.26375\" xlink:href=\"#mad64f5c774\" y=\"526.435527\"/>\n      </g>\n     </g>\n     <g id=\"text_10\">\n      <!-- 0 -->\n      <g style=\"fill:#555555;\" transform=\"translate(41.90125 530.234746)scale(0.1 -0.1)\">\n       <use xlink:href=\"#DejaVuSans-48\"/>\n      </g>\n     </g>\n    </g>\n    <g id=\"ytick_2\">\n     <g id=\"line2d_17\">\n      <path clip-path=\"url(#p0abcda8072)\" d=\"M 55.26375 457.511982 \nL 1171.26375 457.511982 \n\" style=\"fill:none;stroke:#ffffff;stroke-linecap:square;stroke-width:0.8;\"/>\n     </g>\n     <g id=\"line2d_18\">\n      <g>\n       <use style=\"fill:#555555;stroke:#555555;stroke-width:0.8;\" x=\"55.26375\" xlink:href=\"#mad64f5c774\" y=\"457.511982\"/>\n      </g>\n     </g>\n     <g id=\"text_11\">\n      <!-- 200 -->\n      <g style=\"fill:#555555;\" transform=\"translate(29.17625 461.3112)scale(0.1 -0.1)\">\n       <use xlink:href=\"#DejaVuSans-50\"/>\n       <use x=\"63.623047\" xlink:href=\"#DejaVuSans-48\"/>\n       <use x=\"127.246094\" xlink:href=\"#DejaVuSans-48\"/>\n      </g>\n     </g>\n    </g>\n    <g id=\"ytick_3\">\n     <g id=\"line2d_19\">\n      <path clip-path=\"url(#p0abcda8072)\" d=\"M 55.26375 388.588437 \nL 1171.26375 388.588437 \n\" style=\"fill:none;stroke:#ffffff;stroke-linecap:square;stroke-width:0.8;\"/>\n     </g>\n     <g id=\"line2d_20\">\n      <g>\n       <use style=\"fill:#555555;stroke:#555555;stroke-width:0.8;\" x=\"55.26375\" xlink:href=\"#mad64f5c774\" y=\"388.588437\"/>\n      </g>\n     </g>\n     <g id=\"text_12\">\n      <!-- 400 -->\n      <g style=\"fill:#555555;\" transform=\"translate(29.17625 392.387655)scale(0.1 -0.1)\">\n       <use xlink:href=\"#DejaVuSans-52\"/>\n       <use x=\"63.623047\" xlink:href=\"#DejaVuSans-48\"/>\n       <use x=\"127.246094\" xlink:href=\"#DejaVuSans-48\"/>\n      </g>\n     </g>\n    </g>\n    <g id=\"ytick_4\">\n     <g id=\"line2d_21\">\n      <path clip-path=\"url(#p0abcda8072)\" d=\"M 55.26375 319.664892 \nL 1171.26375 319.664892 \n\" style=\"fill:none;stroke:#ffffff;stroke-linecap:square;stroke-width:0.8;\"/>\n     </g>\n     <g id=\"line2d_22\">\n      <g>\n       <use style=\"fill:#555555;stroke:#555555;stroke-width:0.8;\" x=\"55.26375\" xlink:href=\"#mad64f5c774\" y=\"319.664892\"/>\n      </g>\n     </g>\n     <g id=\"text_13\">\n      <!-- 600 -->\n      <g style=\"fill:#555555;\" transform=\"translate(29.17625 323.46411)scale(0.1 -0.1)\">\n       <use xlink:href=\"#DejaVuSans-54\"/>\n       <use x=\"63.623047\" xlink:href=\"#DejaVuSans-48\"/>\n       <use x=\"127.246094\" xlink:href=\"#DejaVuSans-48\"/>\n      </g>\n     </g>\n    </g>\n    <g id=\"ytick_5\">\n     <g id=\"line2d_23\">\n      <path clip-path=\"url(#p0abcda8072)\" d=\"M 55.26375 250.741347 \nL 1171.26375 250.741347 \n\" style=\"fill:none;stroke:#ffffff;stroke-linecap:square;stroke-width:0.8;\"/>\n     </g>\n     <g id=\"line2d_24\">\n      <g>\n       <use style=\"fill:#555555;stroke:#555555;stroke-width:0.8;\" x=\"55.26375\" xlink:href=\"#mad64f5c774\" y=\"250.741347\"/>\n      </g>\n     </g>\n     <g id=\"text_14\">\n      <!-- 800 -->\n      <g style=\"fill:#555555;\" transform=\"translate(29.17625 254.540565)scale(0.1 -0.1)\">\n       <defs>\n        <path d=\"M 31.78125 34.625 \nQ 24.75 34.625 20.71875 30.859375 \nQ 16.703125 27.09375 16.703125 20.515625 \nQ 16.703125 13.921875 20.71875 10.15625 \nQ 24.75 6.390625 31.78125 6.390625 \nQ 38.8125 6.390625 42.859375 10.171875 \nQ 46.921875 13.96875 46.921875 20.515625 \nQ 46.921875 27.09375 42.890625 30.859375 \nQ 38.875 34.625 31.78125 34.625 \nz\nM 21.921875 38.8125 \nQ 15.578125 40.375 12.03125 44.71875 \nQ 8.5 49.078125 8.5 55.328125 \nQ 8.5 64.0625 14.71875 69.140625 \nQ 20.953125 74.21875 31.78125 74.21875 \nQ 42.671875 74.21875 48.875 69.140625 \nQ 55.078125 64.0625 55.078125 55.328125 \nQ 55.078125 49.078125 51.53125 44.71875 \nQ 48 40.375 41.703125 38.8125 \nQ 48.828125 37.15625 52.796875 32.3125 \nQ 56.78125 27.484375 56.78125 20.515625 \nQ 56.78125 9.90625 50.3125 4.234375 \nQ 43.84375 -1.421875 31.78125 -1.421875 \nQ 19.734375 -1.421875 13.25 4.234375 \nQ 6.78125 9.90625 6.78125 20.515625 \nQ 6.78125 27.484375 10.78125 32.3125 \nQ 14.796875 37.15625 21.921875 38.8125 \nz\nM 18.3125 54.390625 \nQ 18.3125 48.734375 21.84375 45.5625 \nQ 25.390625 42.390625 31.78125 42.390625 \nQ 38.140625 42.390625 41.71875 45.5625 \nQ 45.3125 48.734375 45.3125 54.390625 \nQ 45.3125 60.0625 41.71875 63.234375 \nQ 38.140625 66.40625 31.78125 66.40625 \nQ 25.390625 66.40625 21.84375 63.234375 \nQ 18.3125 60.0625 18.3125 54.390625 \nz\n\" id=\"DejaVuSans-56\"/>\n       </defs>\n       <use xlink:href=\"#DejaVuSans-56\"/>\n       <use x=\"63.623047\" xlink:href=\"#DejaVuSans-48\"/>\n       <use x=\"127.246094\" xlink:href=\"#DejaVuSans-48\"/>\n      </g>\n     </g>\n    </g>\n    <g id=\"ytick_6\">\n     <g id=\"line2d_25\">\n      <path clip-path=\"url(#p0abcda8072)\" d=\"M 55.26375 181.817801 \nL 1171.26375 181.817801 \n\" style=\"fill:none;stroke:#ffffff;stroke-linecap:square;stroke-width:0.8;\"/>\n     </g>\n     <g id=\"line2d_26\">\n      <g>\n       <use style=\"fill:#555555;stroke:#555555;stroke-width:0.8;\" x=\"55.26375\" xlink:href=\"#mad64f5c774\" y=\"181.817801\"/>\n      </g>\n     </g>\n     <g id=\"text_15\">\n      <!-- 1000 -->\n      <g style=\"fill:#555555;\" transform=\"translate(22.81375 185.61702)scale(0.1 -0.1)\">\n       <use xlink:href=\"#DejaVuSans-49\"/>\n       <use x=\"63.623047\" xlink:href=\"#DejaVuSans-48\"/>\n       <use x=\"127.246094\" xlink:href=\"#DejaVuSans-48\"/>\n       <use x=\"190.869141\" xlink:href=\"#DejaVuSans-48\"/>\n      </g>\n     </g>\n    </g>\n    <g id=\"ytick_7\">\n     <g id=\"line2d_27\">\n      <path clip-path=\"url(#p0abcda8072)\" d=\"M 55.26375 112.894256 \nL 1171.26375 112.894256 \n\" style=\"fill:none;stroke:#ffffff;stroke-linecap:square;stroke-width:0.8;\"/>\n     </g>\n     <g id=\"line2d_28\">\n      <g>\n       <use style=\"fill:#555555;stroke:#555555;stroke-width:0.8;\" x=\"55.26375\" xlink:href=\"#mad64f5c774\" y=\"112.894256\"/>\n      </g>\n     </g>\n     <g id=\"text_16\">\n      <!-- 1200 -->\n      <g style=\"fill:#555555;\" transform=\"translate(22.81375 116.693475)scale(0.1 -0.1)\">\n       <use xlink:href=\"#DejaVuSans-49\"/>\n       <use x=\"63.623047\" xlink:href=\"#DejaVuSans-50\"/>\n       <use x=\"127.246094\" xlink:href=\"#DejaVuSans-48\"/>\n       <use x=\"190.869141\" xlink:href=\"#DejaVuSans-48\"/>\n      </g>\n     </g>\n    </g>\n    <g id=\"ytick_8\">\n     <g id=\"line2d_29\">\n      <path clip-path=\"url(#p0abcda8072)\" d=\"M 55.26375 43.970711 \nL 1171.26375 43.970711 \n\" style=\"fill:none;stroke:#ffffff;stroke-linecap:square;stroke-width:0.8;\"/>\n     </g>\n     <g id=\"line2d_30\">\n      <g>\n       <use style=\"fill:#555555;stroke:#555555;stroke-width:0.8;\" x=\"55.26375\" xlink:href=\"#mad64f5c774\" y=\"43.970711\"/>\n      </g>\n     </g>\n     <g id=\"text_17\">\n      <!-- 1400 -->\n      <g style=\"fill:#555555;\" transform=\"translate(22.81375 47.76993)scale(0.1 -0.1)\">\n       <use xlink:href=\"#DejaVuSans-49\"/>\n       <use x=\"63.623047\" xlink:href=\"#DejaVuSans-52\"/>\n       <use x=\"127.246094\" xlink:href=\"#DejaVuSans-48\"/>\n       <use x=\"190.869141\" xlink:href=\"#DejaVuSans-48\"/>\n      </g>\n     </g>\n    </g>\n    <g id=\"text_18\">\n     <!-- Airports sum -->\n     <g style=\"fill:#555555;\" transform=\"translate(16.318125 317.341875)rotate(-90)scale(0.12 -0.12)\">\n      <defs>\n       <path d=\"M 18.109375 8.203125 \nL 18.109375 -20.796875 \nL 9.078125 -20.796875 \nL 9.078125 54.6875 \nL 18.109375 54.6875 \nL 18.109375 46.390625 \nQ 20.953125 51.265625 25.265625 53.625 \nQ 29.59375 56 35.59375 56 \nQ 45.5625 56 51.78125 48.09375 \nQ 58.015625 40.1875 58.015625 27.296875 \nQ 58.015625 14.40625 51.78125 6.484375 \nQ 45.5625 -1.421875 35.59375 -1.421875 \nQ 29.59375 -1.421875 25.265625 0.953125 \nQ 20.953125 3.328125 18.109375 8.203125 \nz\nM 48.6875 27.296875 \nQ 48.6875 37.203125 44.609375 42.84375 \nQ 40.53125 48.484375 33.40625 48.484375 \nQ 26.265625 48.484375 22.1875 42.84375 \nQ 18.109375 37.203125 18.109375 27.296875 \nQ 18.109375 17.390625 22.1875 11.75 \nQ 26.265625 6.109375 33.40625 6.109375 \nQ 40.53125 6.109375 44.609375 11.75 \nQ 48.6875 17.390625 48.6875 27.296875 \nz\n\" id=\"DejaVuSans-112\"/>\n       <path d=\"M 30.609375 48.390625 \nQ 23.390625 48.390625 19.1875 42.75 \nQ 14.984375 37.109375 14.984375 27.296875 \nQ 14.984375 17.484375 19.15625 11.84375 \nQ 23.34375 6.203125 30.609375 6.203125 \nQ 37.796875 6.203125 41.984375 11.859375 \nQ 46.1875 17.53125 46.1875 27.296875 \nQ 46.1875 37.015625 41.984375 42.703125 \nQ 37.796875 48.390625 30.609375 48.390625 \nz\nM 30.609375 56 \nQ 42.328125 56 49.015625 48.375 \nQ 55.71875 40.765625 55.71875 27.296875 \nQ 55.71875 13.875 49.015625 6.21875 \nQ 42.328125 -1.421875 30.609375 -1.421875 \nQ 18.84375 -1.421875 12.171875 6.21875 \nQ 5.515625 13.875 5.515625 27.296875 \nQ 5.515625 40.765625 12.171875 48.375 \nQ 18.84375 56 30.609375 56 \nz\n\" id=\"DejaVuSans-111\"/>\n       <path d=\"M 18.3125 70.21875 \nL 18.3125 54.6875 \nL 36.8125 54.6875 \nL 36.8125 47.703125 \nL 18.3125 47.703125 \nL 18.3125 18.015625 \nQ 18.3125 11.328125 20.140625 9.421875 \nQ 21.96875 7.515625 27.59375 7.515625 \nL 36.8125 7.515625 \nL 36.8125 0 \nL 27.59375 0 \nQ 17.1875 0 13.234375 3.875 \nQ 9.28125 7.765625 9.28125 18.015625 \nL 9.28125 47.703125 \nL 2.6875 47.703125 \nL 2.6875 54.6875 \nL 9.28125 54.6875 \nL 9.28125 70.21875 \nz\n\" id=\"DejaVuSans-116\"/>\n       <path d=\"M 8.5 21.578125 \nL 8.5 54.6875 \nL 17.484375 54.6875 \nL 17.484375 21.921875 \nQ 17.484375 14.15625 20.5 10.265625 \nQ 23.53125 6.390625 29.59375 6.390625 \nQ 36.859375 6.390625 41.078125 11.03125 \nQ 45.3125 15.671875 45.3125 23.6875 \nL 45.3125 54.6875 \nL 54.296875 54.6875 \nL 54.296875 0 \nL 45.3125 0 \nL 45.3125 8.40625 \nQ 42.046875 3.421875 37.71875 1 \nQ 33.40625 -1.421875 27.6875 -1.421875 \nQ 18.265625 -1.421875 13.375 4.4375 \nQ 8.5 10.296875 8.5 21.578125 \nz\nM 31.109375 56 \nz\n\" id=\"DejaVuSans-117\"/>\n      </defs>\n      <use xlink:href=\"#DejaVuSans-65\"/>\n      <use x=\"68.408203\" xlink:href=\"#DejaVuSans-105\"/>\n      <use x=\"96.191406\" xlink:href=\"#DejaVuSans-114\"/>\n      <use x=\"137.304688\" xlink:href=\"#DejaVuSans-112\"/>\n      <use x=\"200.78125\" xlink:href=\"#DejaVuSans-111\"/>\n      <use x=\"261.962891\" xlink:href=\"#DejaVuSans-114\"/>\n      <use x=\"303.076172\" xlink:href=\"#DejaVuSans-116\"/>\n      <use x=\"342.285156\" xlink:href=\"#DejaVuSans-115\"/>\n      <use x=\"394.384766\" xlink:href=\"#DejaVuSans-32\"/>\n      <use x=\"426.171875\" xlink:href=\"#DejaVuSans-115\"/>\n      <use x=\"478.271484\" xlink:href=\"#DejaVuSans-117\"/>\n      <use x=\"541.650391\" xlink:href=\"#DejaVuSans-109\"/>\n     </g>\n    </g>\n   </g>\n   <g id=\"PathCollection_1\">\n    <defs>\n     <path d=\"M 0 2.236068 \nC 0.593012 2.236068 1.161816 2.000462 1.581139 1.581139 \nC 2.000462 1.161816 2.236068 0.593012 2.236068 0 \nC 2.236068 -0.593012 2.000462 -1.161816 1.581139 -1.581139 \nC 1.161816 -2.000462 0.593012 -2.236068 0 -2.236068 \nC -0.593012 -2.236068 -1.161816 -2.000462 -1.581139 -1.581139 \nC -2.000462 -1.161816 -2.236068 -0.593012 -2.236068 0 \nC -2.236068 0.593012 -2.000462 1.161816 -1.581139 1.581139 \nC -1.161816 2.000462 -0.593012 2.236068 0 2.236068 \nz\n\" id=\"m06c426acc0\" style=\"stroke:#348abd;stroke-width:0.5;\"/>\n    </defs>\n    <g clip-path=\"url(#p0abcda8072)\">\n     <use style=\"fill:#348abd;stroke:#348abd;stroke-width:0.5;\" x=\"144.462679\" xlink:href=\"#m06c426acc0\" y=\"519.543172\"/>\n     <use style=\"fill:#348abd;stroke:#348abd;stroke-width:0.5;\" x=\"107.698723\" xlink:href=\"#m06c426acc0\" y=\"524.712438\"/>\n     <use style=\"fill:#348abd;stroke:#348abd;stroke-width:0.5;\" x=\"247.504861\" xlink:href=\"#m06c426acc0\" y=\"511.616965\"/>\n     <use style=\"fill:#348abd;stroke:#348abd;stroke-width:0.5;\" x=\"106.00241\" xlink:href=\"#m06c426acc0\" y=\"525.746291\"/>\n     <use style=\"fill:#348abd;stroke:#348abd;stroke-width:0.5;\" x=\"180.064931\" xlink:href=\"#m06c426acc0\" y=\"518.164701\"/>\n     <use style=\"fill:#348abd;stroke:#348abd;stroke-width:0.5;\" x=\"105.996717\" xlink:href=\"#m06c426acc0\" y=\"526.090909\"/>\n     <use style=\"fill:#348abd;stroke:#348abd;stroke-width:0.5;\" x=\"270.389154\" xlink:href=\"#m06c426acc0\" y=\"494.041461\"/>\n     <use style=\"fill:#348abd;stroke:#348abd;stroke-width:0.5;\" x=\"107.761202\" xlink:href=\"#m06c426acc0\" y=\"524.712438\"/>\n     <use style=\"fill:#348abd;stroke:#348abd;stroke-width:0.5;\" x=\"106.002103\" xlink:href=\"#m06c426acc0\" y=\"526.090909\"/>\n     <use style=\"fill:#348abd;stroke:#348abd;stroke-width:0.5;\" x=\"562.71508\" xlink:href=\"#m06c426acc0\" y=\"424.42868\"/>\n     <use style=\"fill:#348abd;stroke:#348abd;stroke-width:0.5;\" x=\"110.973931\" xlink:href=\"#m06c426acc0\" y=\"519.88779\"/>\n     <use style=\"fill:#348abd;stroke:#348abd;stroke-width:0.5;\" x=\"111.13613\" xlink:href=\"#m06c426acc0\" y=\"524.023203\"/>\n     <use style=\"fill:#348abd;stroke:#348abd;stroke-width:0.5;\" x=\"106.03011\" xlink:href=\"#m06c426acc0\" y=\"525.746291\"/>\n     <use style=\"fill:#348abd;stroke:#348abd;stroke-width:0.5;\" x=\"114.546606\" xlink:href=\"#m06c426acc0\" y=\"522.98935\"/>\n     <use style=\"fill:#348abd;stroke:#348abd;stroke-width:0.5;\" x=\"106.01626\" xlink:href=\"#m06c426acc0\" y=\"526.090909\"/>\n     <use style=\"fill:#348abd;stroke:#348abd;stroke-width:0.5;\" x=\"118.325492\" xlink:href=\"#m06c426acc0\" y=\"522.98935\"/>\n     <use style=\"fill:#348abd;stroke:#348abd;stroke-width:0.5;\" x=\"107.804444\" xlink:href=\"#m06c426acc0\" y=\"518.164701\"/>\n     <use style=\"fill:#348abd;stroke:#348abd;stroke-width:0.5;\" x=\"107.355244\" xlink:href=\"#m06c426acc0\" y=\"525.746291\"/>\n     <use style=\"fill:#348abd;stroke:#348abd;stroke-width:0.5;\" x=\"112.682093\" xlink:href=\"#m06c426acc0\" y=\"526.090909\"/>\n     <use style=\"fill:#348abd;stroke:#348abd;stroke-width:0.5;\" x=\"105.993793\" xlink:href=\"#m06c426acc0\" y=\"526.090909\"/>\n     <use style=\"fill:#348abd;stroke:#348abd;stroke-width:0.5;\" x=\"108.783175\" xlink:href=\"#m06c426acc0\" y=\"525.401674\"/>\n     <use style=\"fill:#348abd;stroke:#348abd;stroke-width:0.5;\" x=\"171.264203\" xlink:href=\"#m06c426acc0\" y=\"518.509319\"/>\n     <use style=\"fill:#348abd;stroke:#348abd;stroke-width:0.5;\" x=\"109.028473\" xlink:href=\"#m06c426acc0\" y=\"525.057056\"/>\n     <use style=\"fill:#348abd;stroke:#348abd;stroke-width:0.5;\" x=\"141.662371\" xlink:href=\"#m06c426acc0\" y=\"521.955496\"/>\n     <use style=\"fill:#348abd;stroke:#348abd;stroke-width:0.5;\" x=\"611.740408\" xlink:href=\"#m06c426acc0\" y=\"445.794979\"/>\n     <use style=\"fill:#348abd;stroke:#348abd;stroke-width:0.5;\" x=\"106.333425\" xlink:href=\"#m06c426acc0\" y=\"525.746291\"/>\n     <use style=\"fill:#348abd;stroke:#348abd;stroke-width:0.5;\" x=\"112.580527\" xlink:href=\"#m06c426acc0\" y=\"522.644732\"/>\n     <use style=\"fill:#348abd;stroke:#348abd;stroke-width:0.5;\" x=\"122.28258\" xlink:href=\"#m06c426acc0\" y=\"525.746291\"/>\n     <use style=\"fill:#348abd;stroke:#348abd;stroke-width:0.5;\" x=\"146.30457\" xlink:href=\"#m06c426acc0\" y=\"511.616965\"/>\n     <use style=\"fill:#348abd;stroke:#348abd;stroke-width:0.5;\" x=\"107.644247\" xlink:href=\"#m06c426acc0\" y=\"526.090909\"/>\n     <use style=\"fill:#348abd;stroke:#348abd;stroke-width:0.5;\" x=\"116.747365\" xlink:href=\"#m06c426acc0\" y=\"523.333967\"/>\n     <use style=\"fill:#348abd;stroke:#348abd;stroke-width:0.5;\" x=\"134.23956\" xlink:href=\"#m06c426acc0\" y=\"522.98935\"/>\n     <use style=\"fill:#348abd;stroke:#348abd;stroke-width:0.5;\" x=\"699.24324\" xlink:href=\"#m06c426acc0\" y=\"382.729935\"/>\n     <use style=\"fill:#348abd;stroke:#348abd;stroke-width:0.5;\" x=\"106.230319\" xlink:href=\"#m06c426acc0\" y=\"524.023203\"/>\n     <use style=\"fill:#348abd;stroke:#348abd;stroke-width:0.5;\" x=\"106.006258\" xlink:href=\"#m06c426acc0\" y=\"525.401674\"/>\n     <use style=\"fill:#348abd;stroke:#348abd;stroke-width:0.5;\" x=\"182.281233\" xlink:href=\"#m06c426acc0\" y=\"524.36782\"/>\n     <use style=\"fill:#348abd;stroke:#348abd;stroke-width:0.5;\" x=\"150.965852\" xlink:href=\"#m06c426acc0\" y=\"511.272347\"/>\n     <use style=\"fill:#348abd;stroke:#348abd;stroke-width:0.5;\" x=\"676.206905\" xlink:href=\"#m06c426acc0\" y=\"464.404336\"/>\n     <use style=\"fill:#348abd;stroke:#348abd;stroke-width:0.5;\" x=\"173.660554\" xlink:href=\"#m06c426acc0\" y=\"500.933815\"/>\n     <use style=\"fill:#348abd;stroke:#348abd;stroke-width:0.5;\" x=\"106.11952\" xlink:href=\"#m06c426acc0\" y=\"525.057056\"/>\n     <use style=\"fill:#348abd;stroke:#348abd;stroke-width:0.5;\" x=\"106.004873\" xlink:href=\"#m06c426acc0\" y=\"523.678585\"/>\n     <use style=\"fill:#348abd;stroke:#348abd;stroke-width:0.5;\" x=\"109.026781\" xlink:href=\"#m06c426acc0\" y=\"516.096995\"/>\n     <use style=\"fill:#348abd;stroke:#348abd;stroke-width:0.5;\" x=\"125.149984\" xlink:href=\"#m06c426acc0\" y=\"524.023203\"/>\n     <use style=\"fill:#348abd;stroke:#348abd;stroke-width:0.5;\" x=\"109.3501\" xlink:href=\"#m06c426acc0\" y=\"521.610879\"/>\n     <use style=\"fill:#348abd;stroke:#348abd;stroke-width:0.5;\" x=\"112.577603\" xlink:href=\"#m06c426acc0\" y=\"515.40776\"/>\n     <use style=\"fill:#348abd;stroke:#348abd;stroke-width:0.5;\" x=\"106.540251\" xlink:href=\"#m06c426acc0\" y=\"525.057056\"/>\n     <use style=\"fill:#348abd;stroke:#348abd;stroke-width:0.5;\" x=\"110.676619\" xlink:href=\"#m06c426acc0\" y=\"518.164701\"/>\n     <use style=\"fill:#348abd;stroke:#348abd;stroke-width:0.5;\" x=\"108.551111\" xlink:href=\"#m06c426acc0\" y=\"517.130848\"/>\n     <use style=\"fill:#348abd;stroke:#348abd;stroke-width:0.5;\" x=\"107.357245\" xlink:href=\"#m06c426acc0\" y=\"525.401674\"/>\n     <use style=\"fill:#348abd;stroke:#348abd;stroke-width:0.5;\" x=\"106.035496\" xlink:href=\"#m06c426acc0\" y=\"525.746291\"/>\n     <use style=\"fill:#348abd;stroke:#348abd;stroke-width:0.5;\" x=\"108.885973\" xlink:href=\"#m06c426acc0\" y=\"521.955496\"/>\n     <use style=\"fill:#348abd;stroke:#348abd;stroke-width:0.5;\" x=\"106.882345\" xlink:href=\"#m06c426acc0\" y=\"525.401674\"/>\n     <use style=\"fill:#348abd;stroke:#348abd;stroke-width:0.5;\" x=\"122.838733\" xlink:href=\"#m06c426acc0\" y=\"514.373906\"/>\n     <use style=\"fill:#348abd;stroke:#348abd;stroke-width:0.5;\" x=\"165.493078\" xlink:href=\"#m06c426acc0\" y=\"518.164701\"/>\n     <use style=\"fill:#348abd;stroke:#348abd;stroke-width:0.5;\" x=\"107.240751\" xlink:href=\"#m06c426acc0\" y=\"525.746291\"/>\n     <use style=\"fill:#348abd;stroke:#348abd;stroke-width:0.5;\" x=\"107.657327\" xlink:href=\"#m06c426acc0\" y=\"525.746291\"/>\n     <use style=\"fill:#348abd;stroke:#348abd;stroke-width:0.5;\" x=\"113.199005\" xlink:href=\"#m06c426acc0\" y=\"525.401674\"/>\n     <use style=\"fill:#348abd;stroke:#348abd;stroke-width:0.5;\" x=\"108.677762\" xlink:href=\"#m06c426acc0\" y=\"523.333967\"/>\n     <use style=\"fill:#348abd;stroke:#348abd;stroke-width:0.5;\" x=\"172.960362\" xlink:href=\"#m06c426acc0\" y=\"516.441613\"/>\n     <use style=\"fill:#348abd;stroke:#348abd;stroke-width:0.5;\" x=\"106.073815\" xlink:href=\"#m06c426acc0\" y=\"524.712438\"/>\n     <use style=\"fill:#348abd;stroke:#348abd;stroke-width:0.5;\" x=\"107.076244\" xlink:href=\"#m06c426acc0\" y=\"520.577025\"/>\n     <use style=\"fill:#348abd;stroke:#348abd;stroke-width:0.5;\" x=\"126.081932\" xlink:href=\"#m06c426acc0\" y=\"508.860023\"/>\n     <use style=\"fill:#348abd;stroke:#348abd;stroke-width:0.5;\" x=\"138.493191\" xlink:href=\"#m06c426acc0\" y=\"452.687334\"/>\n     <use style=\"fill:#348abd;stroke:#348abd;stroke-width:0.5;\" x=\"111.397586\" xlink:href=\"#m06c426acc0\" y=\"524.36782\"/>\n     <use style=\"fill:#348abd;stroke:#348abd;stroke-width:0.5;\" x=\"106.238168\" xlink:href=\"#m06c426acc0\" y=\"514.029289\"/>\n     <use style=\"fill:#348abd;stroke:#348abd;stroke-width:0.5;\" x=\"121.894473\" xlink:href=\"#m06c426acc0\" y=\"521.955496\"/>\n     <use style=\"fill:#348abd;stroke:#348abd;stroke-width:0.5;\" x=\"110.132008\" xlink:href=\"#m06c426acc0\" y=\"524.712438\"/>\n     <use style=\"fill:#348abd;stroke:#348abd;stroke-width:0.5;\" x=\"127.203471\" xlink:href=\"#m06c426acc0\" y=\"443.382655\"/>\n     <use style=\"fill:#348abd;stroke:#348abd;stroke-width:0.5;\" x=\"120.218474\" xlink:href=\"#m06c426acc0\" y=\"524.36782\"/>\n     <use style=\"fill:#348abd;stroke:#348abd;stroke-width:0.5;\" x=\"105.991023\" xlink:href=\"#m06c426acc0\" y=\"526.090909\"/>\n     <use style=\"fill:#348abd;stroke:#348abd;stroke-width:0.5;\" x=\"113.830101\" xlink:href=\"#m06c426acc0\" y=\"507.481552\"/>\n     <use style=\"fill:#348abd;stroke:#348abd;stroke-width:0.5;\" x=\"234.691491\" xlink:href=\"#m06c426acc0\" y=\"518.853937\"/>\n     <use style=\"fill:#348abd;stroke:#348abd;stroke-width:0.5;\" x=\"106.011028\" xlink:href=\"#m06c426acc0\" y=\"526.090909\"/>\n     <use style=\"fill:#348abd;stroke:#348abd;stroke-width:0.5;\" x=\"106.096436\" xlink:href=\"#m06c426acc0\" y=\"524.023203\"/>\n     <use style=\"fill:#348abd;stroke:#348abd;stroke-width:0.5;\" x=\"106.022724\" xlink:href=\"#m06c426acc0\" y=\"525.746291\"/>\n     <use style=\"fill:#348abd;stroke:#348abd;stroke-width:0.5;\" x=\"112.460494\" xlink:href=\"#m06c426acc0\" y=\"522.98935\"/>\n     <use style=\"fill:#348abd;stroke:#348abd;stroke-width:0.5;\" x=\"105.995332\" xlink:href=\"#m06c426acc0\" y=\"525.746291\"/>\n     <use style=\"fill:#348abd;stroke:#348abd;stroke-width:0.5;\" x=\"120.598578\" xlink:href=\"#m06c426acc0\" y=\"524.36782\"/>\n     <use style=\"fill:#348abd;stroke:#348abd;stroke-width:0.5;\" x=\"108.13669\" xlink:href=\"#m06c426acc0\" y=\"525.401674\"/>\n     <use style=\"fill:#348abd;stroke:#348abd;stroke-width:0.5;\" x=\"118.763304\" xlink:href=\"#m06c426acc0\" y=\"521.955496\"/>\n     <use style=\"fill:#348abd;stroke:#348abd;stroke-width:0.5;\" x=\"107.639476\" xlink:href=\"#m06c426acc0\" y=\"524.36782\"/>\n     <use style=\"fill:#348abd;stroke:#348abd;stroke-width:0.5;\" x=\"112.650546\" xlink:href=\"#m06c426acc0\" y=\"522.300114\"/>\n     <use style=\"fill:#348abd;stroke:#348abd;stroke-width:0.5;\" x=\"106.055502\" xlink:href=\"#m06c426acc0\" y=\"525.401674\"/>\n     <use style=\"fill:#348abd;stroke:#348abd;stroke-width:0.5;\" x=\"111.518081\" xlink:href=\"#m06c426acc0\" y=\"522.300114\"/>\n     <use style=\"fill:#348abd;stroke:#348abd;stroke-width:0.5;\" x=\"112.110552\" xlink:href=\"#m06c426acc0\" y=\"519.543172\"/>\n     <use style=\"fill:#348abd;stroke:#348abd;stroke-width:0.5;\" x=\"301.3272\" xlink:href=\"#m06c426acc0\" y=\"483.358311\"/>\n     <use style=\"fill:#348abd;stroke:#348abd;stroke-width:0.5;\" x=\"220.036692\" xlink:href=\"#m06c426acc0\" y=\"483.358311\"/>\n     <use style=\"fill:#348abd;stroke:#348abd;stroke-width:0.5;\" x=\"203.908719\" xlink:href=\"#m06c426acc0\" y=\"498.521491\"/>\n     <use style=\"fill:#348abd;stroke:#348abd;stroke-width:0.5;\" x=\"131.959856\" xlink:href=\"#m06c426acc0\" y=\"520.921643\"/>\n     <use style=\"fill:#348abd;stroke:#348abd;stroke-width:0.5;\" x=\"110.166479\" xlink:href=\"#m06c426acc0\" y=\"520.577025\"/>\n     <use style=\"fill:#348abd;stroke:#348abd;stroke-width:0.5;\" x=\"106.02457\" xlink:href=\"#m06c426acc0\" y=\"526.090909\"/>\n     <use style=\"fill:#348abd;stroke:#348abd;stroke-width:0.5;\" x=\"107.224747\" xlink:href=\"#m06c426acc0\" y=\"520.921643\"/>\n     <use style=\"fill:#348abd;stroke:#348abd;stroke-width:0.5;\" x=\"123.88856\" xlink:href=\"#m06c426acc0\" y=\"498.176873\"/>\n     <use style=\"fill:#348abd;stroke:#348abd;stroke-width:0.5;\" x=\"106.643664\" xlink:href=\"#m06c426acc0\" y=\"524.36782\"/>\n     <use style=\"fill:#348abd;stroke:#348abd;stroke-width:0.5;\" x=\"128.440273\" xlink:href=\"#m06c426acc0\" y=\"485.426017\"/>\n     <use style=\"fill:#348abd;stroke:#348abd;stroke-width:0.5;\" x=\"105.997486\" xlink:href=\"#m06c426acc0\" y=\"526.090909\"/>\n     <use style=\"fill:#348abd;stroke:#348abd;stroke-width:0.5;\" x=\"111.474838\" xlink:href=\"#m06c426acc0\" y=\"524.712438\"/>\n     <use style=\"fill:#348abd;stroke:#348abd;stroke-width:0.5;\" x=\"267.442652\" xlink:href=\"#m06c426acc0\" y=\"518.164701\"/>\n     <use style=\"fill:#348abd;stroke:#348abd;stroke-width:0.5;\" x=\"140.60962\" xlink:href=\"#m06c426acc0\" y=\"514.373906\"/>\n     <use style=\"fill:#348abd;stroke:#348abd;stroke-width:0.5;\" x=\"106.038882\" xlink:href=\"#m06c426acc0\" y=\"520.232408\"/>\n     <use style=\"fill:#348abd;stroke:#348abd;stroke-width:0.5;\" x=\"113.152684\" xlink:href=\"#m06c426acc0\" y=\"525.057056\"/>\n     <use style=\"fill:#348abd;stroke:#348abd;stroke-width:0.5;\" x=\"111.842016\" xlink:href=\"#m06c426acc0\" y=\"516.441613\"/>\n     <use style=\"fill:#348abd;stroke:#348abd;stroke-width:0.5;\" x=\"107.049468\" xlink:href=\"#m06c426acc0\" y=\"525.401674\"/>\n     <use style=\"fill:#348abd;stroke:#348abd;stroke-width:0.5;\" x=\"117.784727\" xlink:href=\"#m06c426acc0\" y=\"524.712438\"/>\n     <use style=\"fill:#348abd;stroke:#348abd;stroke-width:0.5;\" x=\"120.06043\" xlink:href=\"#m06c426acc0\" y=\"522.300114\"/>\n     <use style=\"fill:#348abd;stroke:#348abd;stroke-width:0.5;\" x=\"109.828232\" xlink:href=\"#m06c426acc0\" y=\"524.36782\"/>\n     <use style=\"fill:#348abd;stroke:#348abd;stroke-width:0.5;\" x=\"106.608577\" xlink:href=\"#m06c426acc0\" y=\"525.401674\"/>\n     <use style=\"fill:#348abd;stroke:#348abd;stroke-width:0.5;\" x=\"107.794288\" xlink:href=\"#m06c426acc0\" y=\"525.401674\"/>\n     <use style=\"fill:#348abd;stroke:#348abd;stroke-width:0.5;\" x=\"112.607765\" xlink:href=\"#m06c426acc0\" y=\"525.401674\"/>\n     <use style=\"fill:#348abd;stroke:#348abd;stroke-width:0.5;\" x=\"210.53608\" xlink:href=\"#m06c426acc0\" y=\"520.577025\"/>\n     <use style=\"fill:#348abd;stroke:#348abd;stroke-width:0.5;\" x=\"109.864549\" xlink:href=\"#m06c426acc0\" y=\"523.333967\"/>\n     <use style=\"fill:#348abd;stroke:#348abd;stroke-width:0.5;\" x=\"106.144296\" xlink:href=\"#m06c426acc0\" y=\"526.090909\"/>\n     <use style=\"fill:#348abd;stroke:#348abd;stroke-width:0.5;\" x=\"105.992254\" xlink:href=\"#m06c426acc0\" y=\"526.090909\"/>\n     <use style=\"fill:#348abd;stroke:#348abd;stroke-width:0.5;\" x=\"107.495898\" xlink:href=\"#m06c426acc0\" y=\"525.746291\"/>\n     <use style=\"fill:#348abd;stroke:#348abd;stroke-width:0.5;\" x=\"140.87046\" xlink:href=\"#m06c426acc0\" y=\"511.616965\"/>\n     <use style=\"fill:#348abd;stroke:#348abd;stroke-width:0.5;\" x=\"113.030343\" xlink:href=\"#m06c426acc0\" y=\"523.678585\"/>\n     <use style=\"fill:#348abd;stroke:#348abd;stroke-width:0.5;\" x=\"125.58318\" xlink:href=\"#m06c426acc0\" y=\"512.650818\"/>\n     <use style=\"fill:#348abd;stroke:#348abd;stroke-width:0.5;\" x=\"106.008412\" xlink:href=\"#m06c426acc0\" y=\"522.644732\"/>\n     <use style=\"fill:#348abd;stroke:#348abd;stroke-width:0.5;\" x=\"179.666975\" xlink:href=\"#m06c426acc0\" y=\"523.678585\"/>\n     <use style=\"fill:#348abd;stroke:#348abd;stroke-width:0.5;\" x=\"106.009489\" xlink:href=\"#m06c426acc0\" y=\"525.746291\"/>\n     <use style=\"fill:#348abd;stroke:#348abd;stroke-width:0.5;\" x=\"106.694909\" xlink:href=\"#m06c426acc0\" y=\"523.678585\"/>\n     <use style=\"fill:#348abd;stroke:#348abd;stroke-width:0.5;\" x=\"106.055964\" xlink:href=\"#m06c426acc0\" y=\"526.090909\"/>\n     <use style=\"fill:#348abd;stroke:#348abd;stroke-width:0.5;\" x=\"167.231094\" xlink:href=\"#m06c426acc0\" y=\"522.644732\"/>\n     <use style=\"fill:#348abd;stroke:#348abd;stroke-width:0.5;\" x=\"106.111825\" xlink:href=\"#m06c426acc0\" y=\"525.746291\"/>\n     <use style=\"fill:#348abd;stroke:#348abd;stroke-width:0.5;\" x=\"106.012875\" xlink:href=\"#m06c426acc0\" y=\"526.090909\"/>\n     <use style=\"fill:#348abd;stroke:#348abd;stroke-width:0.5;\" x=\"223.192329\" xlink:href=\"#m06c426acc0\" y=\"497.832256\"/>\n     <use style=\"fill:#348abd;stroke:#348abd;stroke-width:0.5;\" x=\"108.001422\" xlink:href=\"#m06c426acc0\" y=\"524.712438\"/>\n     <use style=\"fill:#348abd;stroke:#348abd;stroke-width:0.5;\" x=\"198.924733\" xlink:href=\"#m06c426acc0\" y=\"521.955496\"/>\n     <use style=\"fill:#348abd;stroke:#348abd;stroke-width:0.5;\" x=\"105.996717\" xlink:href=\"#m06c426acc0\" y=\"526.090909\"/>\n     <use style=\"fill:#348abd;stroke:#348abd;stroke-width:0.5;\" x=\"132.522934\" xlink:href=\"#m06c426acc0\" y=\"518.853937\"/>\n     <use style=\"fill:#348abd;stroke:#348abd;stroke-width:0.5;\" x=\"153.61812\" xlink:href=\"#m06c426acc0\" y=\"519.88779\"/>\n     <use style=\"fill:#348abd;stroke:#348abd;stroke-width:0.5;\" x=\"155.033894\" xlink:href=\"#m06c426acc0\" y=\"520.921643\"/>\n     <use style=\"fill:#348abd;stroke:#348abd;stroke-width:0.5;\" x=\"105.991946\" xlink:href=\"#m06c426acc0\" y=\"526.090909\"/>\n     <use style=\"fill:#348abd;stroke:#348abd;stroke-width:0.5;\" x=\"114.735581\" xlink:href=\"#m06c426acc0\" y=\"515.40776\"/>\n     <use style=\"fill:#348abd;stroke:#348abd;stroke-width:0.5;\" x=\"108.458009\" xlink:href=\"#m06c426acc0\" y=\"517.475466\"/>\n     <use style=\"fill:#348abd;stroke:#348abd;stroke-width:0.5;\" x=\"106.047654\" xlink:href=\"#m06c426acc0\" y=\"524.712438\"/>\n     <use style=\"fill:#348abd;stroke:#348abd;stroke-width:0.5;\" x=\"107.12318\" xlink:href=\"#m06c426acc0\" y=\"522.644732\"/>\n     <use style=\"fill:#348abd;stroke:#348abd;stroke-width:0.5;\" x=\"121.954643\" xlink:href=\"#m06c426acc0\" y=\"508.515405\"/>\n     <use style=\"fill:#348abd;stroke:#348abd;stroke-width:0.5;\" x=\"113.684677\" xlink:href=\"#m06c426acc0\" y=\"522.300114\"/>\n     <use style=\"fill:#348abd;stroke:#348abd;stroke-width:0.5;\" x=\"181.271109\" xlink:href=\"#m06c426acc0\" y=\"524.023203\"/>\n     <use style=\"fill:#348abd;stroke:#348abd;stroke-width:0.5;\" x=\"160.877501\" xlink:href=\"#m06c426acc0\" y=\"518.853937\"/>\n     <use style=\"fill:#348abd;stroke:#348abd;stroke-width:0.5;\" x=\"125.229698\" xlink:href=\"#m06c426acc0\" y=\"505.413846\"/>\n     <use style=\"fill:#348abd;stroke:#348abd;stroke-width:0.5;\" x=\"118.614186\" xlink:href=\"#m06c426acc0\" y=\"524.36782\"/>\n     <use style=\"fill:#348abd;stroke:#348abd;stroke-width:0.5;\" x=\"153.757851\" xlink:href=\"#m06c426acc0\" y=\"508.515405\"/>\n     <use style=\"fill:#348abd;stroke:#348abd;stroke-width:0.5;\" x=\"106.017799\" xlink:href=\"#m06c426acc0\" y=\"526.090909\"/>\n     <use style=\"fill:#348abd;stroke:#348abd;stroke-width:0.5;\" x=\"110.63707\" xlink:href=\"#m06c426acc0\" y=\"521.955496\"/>\n     <use style=\"fill:#348abd;stroke:#348abd;stroke-width:0.5;\" x=\"133.490893\" xlink:href=\"#m06c426acc0\" y=\"517.475466\"/>\n     <use style=\"fill:#348abd;stroke:#348abd;stroke-width:0.5;\" x=\"130.158284\" xlink:href=\"#m06c426acc0\" y=\"523.678585\"/>\n     <use style=\"fill:#348abd;stroke:#348abd;stroke-width:0.5;\" x=\"182.353714\" xlink:href=\"#m06c426acc0\" y=\"511.961582\"/>\n     <use style=\"fill:#348abd;stroke:#348abd;stroke-width:0.5;\" x=\"123.815617\" xlink:href=\"#m06c426acc0\" y=\"504.379992\"/>\n     <use style=\"fill:#348abd;stroke:#348abd;stroke-width:0.5;\" x=\"124.569209\" xlink:href=\"#m06c426acc0\" y=\"513.340053\"/>\n     <use style=\"fill:#348abd;stroke:#348abd;stroke-width:0.5;\" x=\"111.480225\" xlink:href=\"#m06c426acc0\" y=\"515.40776\"/>\n     <use style=\"fill:#348abd;stroke:#348abd;stroke-width:0.5;\" x=\"106.810017\" xlink:href=\"#m06c426acc0\" y=\"522.98935\"/>\n     <use style=\"fill:#348abd;stroke:#348abd;stroke-width:0.5;\" x=\"106.670133\" xlink:href=\"#m06c426acc0\" y=\"525.746291\"/>\n     <use style=\"fill:#348abd;stroke:#348abd;stroke-width:0.5;\" x=\"106.140141\" xlink:href=\"#m06c426acc0\" y=\"525.401674\"/>\n     <use style=\"fill:#348abd;stroke:#348abd;stroke-width:0.5;\" x=\"120.10198\" xlink:href=\"#m06c426acc0\" y=\"519.88779\"/>\n     <use style=\"fill:#348abd;stroke:#348abd;stroke-width:0.5;\" x=\"1120.536477\" xlink:href=\"#m06c426acc0\" y=\"444.416508\"/>\n     <use style=\"fill:#348abd;stroke:#348abd;stroke-width:0.5;\" x=\"107.555607\" xlink:href=\"#m06c426acc0\" y=\"525.401674\"/>\n     <use style=\"fill:#348abd;stroke:#348abd;stroke-width:0.5;\" x=\"106.015183\" xlink:href=\"#m06c426acc0\" y=\"526.090909\"/>\n     <use style=\"fill:#348abd;stroke:#348abd;stroke-width:0.5;\" x=\"106.027187\" xlink:href=\"#m06c426acc0\" y=\"525.746291\"/>\n     <use style=\"fill:#348abd;stroke:#348abd;stroke-width:0.5;\" x=\"106.013798\" xlink:href=\"#m06c426acc0\" y=\"524.712438\"/>\n     <use style=\"fill:#348abd;stroke:#348abd;stroke-width:0.5;\" x=\"106.165532\" xlink:href=\"#m06c426acc0\" y=\"525.401674\"/>\n     <use style=\"fill:#348abd;stroke:#348abd;stroke-width:0.5;\" x=\"222.481211\" xlink:href=\"#m06c426acc0\" y=\"511.272347\"/>\n     <use style=\"fill:#348abd;stroke:#348abd;stroke-width:0.5;\" x=\"117.647459\" xlink:href=\"#m06c426acc0\" y=\"523.333967\"/>\n     <use style=\"fill:#348abd;stroke:#348abd;stroke-width:0.5;\" x=\"111.240774\" xlink:href=\"#m06c426acc0\" y=\"524.712438\"/>\n     <use style=\"fill:#348abd;stroke:#348abd;stroke-width:0.5;\" x=\"106.017645\" xlink:href=\"#m06c426acc0\" y=\"523.678585\"/>\n     <use style=\"fill:#348abd;stroke:#348abd;stroke-width:0.5;\" x=\"110.253118\" xlink:href=\"#m06c426acc0\" y=\"524.023203\"/>\n     <use style=\"fill:#348abd;stroke:#348abd;stroke-width:0.5;\" x=\"106.031803\" xlink:href=\"#m06c426acc0\" y=\"524.36782\"/>\n     <use style=\"fill:#348abd;stroke:#348abd;stroke-width:0.5;\" x=\"108.892898\" xlink:href=\"#m06c426acc0\" y=\"523.678585\"/>\n     <use style=\"fill:#348abd;stroke:#348abd;stroke-width:0.5;\" x=\"107.1952\" xlink:href=\"#m06c426acc0\" y=\"524.712438\"/>\n     <use style=\"fill:#348abd;stroke:#348abd;stroke-width:0.5;\" x=\"107.681026\" xlink:href=\"#m06c426acc0\" y=\"518.509319\"/>\n     <use style=\"fill:#348abd;stroke:#348abd;stroke-width:0.5;\" x=\"143.877903\" xlink:href=\"#m06c426acc0\" y=\"523.678585\"/>\n     <use style=\"fill:#348abd;stroke:#348abd;stroke-width:0.5;\" x=\"178.473416\" xlink:href=\"#m06c426acc0\" y=\"493.352225\"/>\n     <use style=\"fill:#348abd;stroke:#348abd;stroke-width:0.5;\" x=\"135.982963\" xlink:href=\"#m06c426acc0\" y=\"505.069228\"/>\n     <use style=\"fill:#348abd;stroke:#348abd;stroke-width:0.5;\" x=\"109.889018\" xlink:href=\"#m06c426acc0\" y=\"522.300114\"/>\n     <use style=\"fill:#348abd;stroke:#348abd;stroke-width:0.5;\" x=\"254.876735\" xlink:href=\"#m06c426acc0\" y=\"520.232408\"/>\n     <use style=\"fill:#348abd;stroke:#348abd;stroke-width:0.5;\" x=\"115.691536\" xlink:href=\"#m06c426acc0\" y=\"520.921643\"/>\n     <use style=\"fill:#348abd;stroke:#348abd;stroke-width:0.5;\" x=\"107.022229\" xlink:href=\"#m06c426acc0\" y=\"526.090909\"/>\n     <use style=\"fill:#348abd;stroke:#348abd;stroke-width:0.5;\" x=\"132.725913\" xlink:href=\"#m06c426acc0\" y=\"499.899962\"/>\n     <use style=\"fill:#348abd;stroke:#348abd;stroke-width:0.5;\" x=\"108.444005\" xlink:href=\"#m06c426acc0\" y=\"512.3062\"/>\n     <use style=\"fill:#348abd;stroke:#348abd;stroke-width:0.5;\" x=\"116.993279\" xlink:href=\"#m06c426acc0\" y=\"524.36782\"/>\n     <use style=\"fill:#348abd;stroke:#348abd;stroke-width:0.5;\" x=\"108.12838\" xlink:href=\"#m06c426acc0\" y=\"518.164701\"/>\n     <use style=\"fill:#348abd;stroke:#348abd;stroke-width:0.5;\" x=\"114.493053\" xlink:href=\"#m06c426acc0\" y=\"525.057056\"/>\n     <use style=\"fill:#348abd;stroke:#348abd;stroke-width:0.5;\" x=\"162.144311\" xlink:href=\"#m06c426acc0\" y=\"518.509319\"/>\n     <use style=\"fill:#348abd;stroke:#348abd;stroke-width:0.5;\" x=\"136.530652\" xlink:href=\"#m06c426acc0\" y=\"509.204641\"/>\n     <use style=\"fill:#348abd;stroke:#348abd;stroke-width:0.5;\" x=\"109.364566\" xlink:href=\"#m06c426acc0\" y=\"525.746291\"/>\n     <use style=\"fill:#348abd;stroke:#348abd;stroke-width:0.5;\" x=\"106.035035\" xlink:href=\"#m06c426acc0\" y=\"524.36782\"/>\n     <use style=\"fill:#348abd;stroke:#348abd;stroke-width:0.5;\" x=\"115.711696\" xlink:href=\"#m06c426acc0\" y=\"522.300114\"/>\n     <use style=\"fill:#348abd;stroke:#348abd;stroke-width:0.5;\" x=\"152.369777\" xlink:href=\"#m06c426acc0\" y=\"501.623051\"/>\n     <use style=\"fill:#348abd;stroke:#348abd;stroke-width:0.5;\" x=\"134.991767\" xlink:href=\"#m06c426acc0\" y=\"524.712438\"/>\n     <use style=\"fill:#348abd;stroke:#348abd;stroke-width:0.5;\" x=\"105.992254\" xlink:href=\"#m06c426acc0\" y=\"526.090909\"/>\n     <use style=\"fill:#348abd;stroke:#348abd;stroke-width:0.5;\" x=\"120.015341\" xlink:href=\"#m06c426acc0\" y=\"522.98935\"/>\n     <use style=\"fill:#348abd;stroke:#348abd;stroke-width:0.5;\" x=\"141.860271\" xlink:href=\"#m06c426acc0\" y=\"514.029289\"/>\n     <use style=\"fill:#348abd;stroke:#348abd;stroke-width:0.5;\" x=\"110.914992\" xlink:href=\"#m06c426acc0\" y=\"520.577025\"/>\n     <use style=\"fill:#348abd;stroke:#348abd;stroke-width:0.5;\" x=\"120.537023\" xlink:href=\"#m06c426acc0\" y=\"470.607455\"/>\n     <use style=\"fill:#348abd;stroke:#348abd;stroke-width:0.5;\" x=\"678.254391\" xlink:href=\"#m06c426acc0\" y=\"31.909091\"/>\n     <use style=\"fill:#348abd;stroke:#348abd;stroke-width:0.5;\" x=\"116.460979\" xlink:href=\"#m06c426acc0\" y=\"522.644732\"/>\n     <use style=\"fill:#348abd;stroke:#348abd;stroke-width:0.5;\" x=\"132.573564\" xlink:href=\"#m06c426acc0\" y=\"521.955496\"/>\n     <use style=\"fill:#348abd;stroke:#348abd;stroke-width:0.5;\" x=\"106.71553\" xlink:href=\"#m06c426acc0\" y=\"516.441613\"/>\n     <use style=\"fill:#348abd;stroke:#348abd;stroke-width:0.5;\" x=\"160.181309\" xlink:href=\"#m06c426acc0\" y=\"506.792316\"/>\n     <use style=\"fill:#348abd;stroke:#348abd;stroke-width:0.5;\" x=\"125.571946\" xlink:href=\"#m06c426acc0\" y=\"518.164701\"/>\n     <use style=\"fill:#348abd;stroke:#348abd;stroke-width:0.5;\" x=\"106.104131\" xlink:href=\"#m06c426acc0\" y=\"525.401674\"/>\n     <use style=\"fill:#348abd;stroke:#348abd;stroke-width:0.5;\" x=\"106.006873\" xlink:href=\"#m06c426acc0\" y=\"525.746291\"/>\n     <use style=\"fill:#348abd;stroke:#348abd;stroke-width:0.5;\" x=\"106.338811\" xlink:href=\"#m06c426acc0\" y=\"526.090909\"/>\n     <use style=\"fill:#348abd;stroke:#348abd;stroke-width:0.5;\" x=\"121.795369\" xlink:href=\"#m06c426acc0\" y=\"525.401674\"/>\n     <use style=\"fill:#348abd;stroke:#348abd;stroke-width:0.5;\" x=\"137.360726\" xlink:href=\"#m06c426acc0\" y=\"522.644732\"/>\n     <use style=\"fill:#348abd;stroke:#348abd;stroke-width:0.5;\" x=\"150.708243\" xlink:href=\"#m06c426acc0\" y=\"522.300114\"/>\n     <use style=\"fill:#348abd;stroke:#348abd;stroke-width:0.5;\" x=\"129.197404\" xlink:href=\"#m06c426acc0\" y=\"521.266261\"/>\n    </g>\n   </g>\n   <g id=\"patch_3\">\n    <path d=\"M 55.26375 550.8 \nL 55.26375 7.2 \n\" style=\"fill:none;stroke:#ffffff;stroke-linecap:square;stroke-linejoin:miter;\"/>\n   </g>\n   <g id=\"patch_4\">\n    <path d=\"M 1171.26375 550.8 \nL 1171.26375 7.2 \n\" style=\"fill:none;stroke:#ffffff;stroke-linecap:square;stroke-linejoin:miter;\"/>\n   </g>\n   <g id=\"patch_5\">\n    <path d=\"M 55.26375 550.8 \nL 1171.26375 550.8 \n\" style=\"fill:none;stroke:#ffffff;stroke-linecap:square;stroke-linejoin:miter;\"/>\n   </g>\n   <g id=\"patch_6\">\n    <path d=\"M 55.26375 7.2 \nL 1171.26375 7.2 \n\" style=\"fill:none;stroke:#ffffff;stroke-linecap:square;stroke-linejoin:miter;\"/>\n   </g>\n  </g>\n </g>\n <defs>\n  <clipPath id=\"p0abcda8072\">\n   <rect height=\"543.6\" width=\"1116\" x=\"55.26375\" y=\"7.2\"/>\n  </clipPath>\n </defs>\n</svg>\n",
      "image/png": "[encoded data removed]"
     },
     "metadata": {}
    }
   ],
   "source": [
    "joined.toPandas().plot.scatter(x=\"Area (sq mi)\", y=\"Airports sum\", figsize=(20, 10))"
   ]
  },
  {
   "cell_type": "markdown",
   "metadata": {},
   "source": [
    "# Zadanie 3"
   ]
  },
  {
   "cell_type": "code",
   "execution_count": 1055,
   "metadata": {},
   "outputs": [
    {
     "output_type": "execute_result",
     "data": {
      "text/plain": [
       "             Country                               Region  Population  \\\n",
       "0       Afghanistan         ASIA (EX. NEAR EAST)             31056997   \n",
       "1           Albania   EASTERN EUROPE                          3581655   \n",
       "2           Algeria   NORTHERN AFRICA                        32930091   \n",
       "3    American Samoa   OCEANIA                                   57794   \n",
       "4           Andorra   WESTERN EUROPE                            71201   \n",
       "..               ...                                  ...         ...   \n",
       "222       West Bank   NEAR EAST                               2460492   \n",
       "223  Western Sahara   NORTHERN AFRICA                          273008   \n",
       "224           Yemen   NEAR EAST                              21456188   \n",
       "225          Zambia   SUB-SAHARAN AFRICA                     11502010   \n",
       "226        Zimbabwe   SUB-SAHARAN AFRICA                     12236805   \n",
       "\n",
       "     Area (sq mi) Pop Density (per sq mi) Coastline (coast/area ratio)  \\\n",
       "0          647500                    48,0                         0,00   \n",
       "1           28748                   124,6                         1,26   \n",
       "2         2381740                    13,8                         0,04   \n",
       "3             199                   290,4                        58,29   \n",
       "4             468                   152,1                         0,00   \n",
       "..            ...                     ...                          ...   \n",
       "222          5860                   419,9                         0,00   \n",
       "223        266000                     1,0                         0,42   \n",
       "224        527970                    40,6                         0,36   \n",
       "225        752614                    15,3                         0,00   \n",
       "226        390580                    31,3                         0,00   \n",
       "\n",
       "    Net migration Infant mortality (per 1000 births)  GDP ($ per capita)  \\\n",
       "0           23,06                             163,07               700.0   \n",
       "1           -4,93                              21,52              4500.0   \n",
       "2           -0,39                                 31              6000.0   \n",
       "3          -20,71                               9,27              8000.0   \n",
       "4             6,6                               4,05             19000.0   \n",
       "..            ...                                ...                 ...   \n",
       "222          2,98                              19,62               800.0   \n",
       "223          None                               None                 NaN   \n",
       "224             0                               61,5               800.0   \n",
       "225             0                              88,29               800.0   \n",
       "226             0                              67,69              1900.0   \n",
       "\n",
       "    Literacy (%) Phones (per 1000) Arable (%) Crops (%) Other (%) Climate  \\\n",
       "0           36,0               3,2      12,13      0,22     87,65       1   \n",
       "1           86,5              71,2      21,09      4,42     74,49       3   \n",
       "2           70,0              78,1       3,22      0,25     96,53       1   \n",
       "3           97,0             259,5         10        15        75       2   \n",
       "4          100,0             497,2       2,22         0     97,78       3   \n",
       "..           ...               ...        ...       ...       ...     ...   \n",
       "222         None             145,2       16,9     18,97     64,13       3   \n",
       "223         None              None       0,02         0     99,98       1   \n",
       "224         50,2              37,2       2,78      0,24     96,98       1   \n",
       "225         80,6               8,2       7,08      0,03      92,9       2   \n",
       "226         90,7              26,8       8,32      0,34     91,34       2   \n",
       "\n",
       "    Birthrate Deathrate Agriculture Industry Service  \n",
       "0        46,6     20,34        0,38     0,24    0,38  \n",
       "1       15,11      5,22       0,232    0,188   0,579  \n",
       "2       17,14      4,61       0,101      0,6   0,298  \n",
       "3       22,46      3,27        None     None    None  \n",
       "4        8,71      6,25        None     None    None  \n",
       "..        ...       ...         ...      ...     ...  \n",
       "222     31,67      3,92        0,09     0,28    0,63  \n",
       "223      None      None        None     None     0,4  \n",
       "224     42,89       8,3       0,135    0,472   0,393  \n",
       "225        41     19,93        0,22     0,29   0,489  \n",
       "226     28,01     21,84       0,179    0,243   0,579  \n",
       "\n",
       "[227 rows x 20 columns]"
      ],
      "text/html": "<div>\n<style scoped>\n    .dataframe tbody tr th:only-of-type {\n        vertical-align: middle;\n    }\n\n    .dataframe tbody tr th {\n        vertical-align: top;\n    }\n\n    .dataframe thead th {\n        text-align: right;\n    }\n</style>\n<table border=\"1\" class=\"dataframe\">\n  <thead>\n    <tr style=\"text-align: right;\">\n      <th></th>\n      <th>Country</th>\n      <th>Region</th>\n      <th>Population</th>\n      <th>Area (sq mi)</th>\n      <th>Pop Density (per sq mi)</th>\n      <th>Coastline (coast/area ratio)</th>\n      <th>Net migration</th>\n      <th>Infant mortality (per 1000 births)</th>\n      <th>GDP ($ per capita)</th>\n      <th>Literacy (%)</th>\n      <th>Phones (per 1000)</th>\n      <th>Arable (%)</th>\n      <th>Crops (%)</th>\n      <th>Other (%)</th>\n      <th>Climate</th>\n      <th>Birthrate</th>\n      <th>Deathrate</th>\n      <th>Agriculture</th>\n      <th>Industry</th>\n      <th>Service</th>\n    </tr>\n  </thead>\n  <tbody>\n    <tr>\n      <th>0</th>\n      <td>Afghanistan</td>\n      <td>ASIA (EX. NEAR EAST)</td>\n      <td>31056997</td>\n      <td>647500</td>\n      <td>48,0</td>\n      <td>0,00</td>\n      <td>23,06</td>\n      <td>163,07</td>\n      <td>700.0</td>\n      <td>36,0</td>\n      <td>3,2</td>\n      <td>12,13</td>\n      <td>0,22</td>\n      <td>87,65</td>\n      <td>1</td>\n      <td>46,6</td>\n      <td>20,34</td>\n      <td>0,38</td>\n      <td>0,24</td>\n      <td>0,38</td>\n    </tr>\n    <tr>\n      <th>1</th>\n      <td>Albania</td>\n      <td>EASTERN EUROPE</td>\n      <td>3581655</td>\n      <td>28748</td>\n      <td>124,6</td>\n      <td>1,26</td>\n      <td>-4,93</td>\n      <td>21,52</td>\n      <td>4500.0</td>\n      <td>86,5</td>\n      <td>71,2</td>\n      <td>21,09</td>\n      <td>4,42</td>\n      <td>74,49</td>\n      <td>3</td>\n      <td>15,11</td>\n      <td>5,22</td>\n      <td>0,232</td>\n      <td>0,188</td>\n      <td>0,579</td>\n    </tr>\n    <tr>\n      <th>2</th>\n      <td>Algeria</td>\n      <td>NORTHERN AFRICA</td>\n      <td>32930091</td>\n      <td>2381740</td>\n      <td>13,8</td>\n      <td>0,04</td>\n      <td>-0,39</td>\n      <td>31</td>\n      <td>6000.0</td>\n      <td>70,0</td>\n      <td>78,1</td>\n      <td>3,22</td>\n      <td>0,25</td>\n      <td>96,53</td>\n      <td>1</td>\n      <td>17,14</td>\n      <td>4,61</td>\n      <td>0,101</td>\n      <td>0,6</td>\n      <td>0,298</td>\n    </tr>\n    <tr>\n      <th>3</th>\n      <td>American Samoa</td>\n      <td>OCEANIA</td>\n      <td>57794</td>\n      <td>199</td>\n      <td>290,4</td>\n      <td>58,29</td>\n      <td>-20,71</td>\n      <td>9,27</td>\n      <td>8000.0</td>\n      <td>97,0</td>\n      <td>259,5</td>\n      <td>10</td>\n      <td>15</td>\n      <td>75</td>\n      <td>2</td>\n      <td>22,46</td>\n      <td>3,27</td>\n      <td>None</td>\n      <td>None</td>\n      <td>None</td>\n    </tr>\n    <tr>\n      <th>4</th>\n      <td>Andorra</td>\n      <td>WESTERN EUROPE</td>\n      <td>71201</td>\n      <td>468</td>\n      <td>152,1</td>\n      <td>0,00</td>\n      <td>6,6</td>\n      <td>4,05</td>\n      <td>19000.0</td>\n      <td>100,0</td>\n      <td>497,2</td>\n      <td>2,22</td>\n      <td>0</td>\n      <td>97,78</td>\n      <td>3</td>\n      <td>8,71</td>\n      <td>6,25</td>\n      <td>None</td>\n      <td>None</td>\n      <td>None</td>\n    </tr>\n    <tr>\n      <th>...</th>\n      <td>...</td>\n      <td>...</td>\n      <td>...</td>\n      <td>...</td>\n      <td>...</td>\n      <td>...</td>\n      <td>...</td>\n      <td>...</td>\n      <td>...</td>\n      <td>...</td>\n      <td>...</td>\n      <td>...</td>\n      <td>...</td>\n      <td>...</td>\n      <td>...</td>\n      <td>...</td>\n      <td>...</td>\n      <td>...</td>\n      <td>...</td>\n      <td>...</td>\n    </tr>\n    <tr>\n      <th>222</th>\n      <td>West Bank</td>\n      <td>NEAR EAST</td>\n      <td>2460492</td>\n      <td>5860</td>\n      <td>419,9</td>\n      <td>0,00</td>\n      <td>2,98</td>\n      <td>19,62</td>\n      <td>800.0</td>\n      <td>None</td>\n      <td>145,2</td>\n      <td>16,9</td>\n      <td>18,97</td>\n      <td>64,13</td>\n      <td>3</td>\n      <td>31,67</td>\n      <td>3,92</td>\n      <td>0,09</td>\n      <td>0,28</td>\n      <td>0,63</td>\n    </tr>\n    <tr>\n      <th>223</th>\n      <td>Western Sahara</td>\n      <td>NORTHERN AFRICA</td>\n      <td>273008</td>\n      <td>266000</td>\n      <td>1,0</td>\n      <td>0,42</td>\n      <td>None</td>\n      <td>None</td>\n      <td>NaN</td>\n      <td>None</td>\n      <td>None</td>\n      <td>0,02</td>\n      <td>0</td>\n      <td>99,98</td>\n      <td>1</td>\n      <td>None</td>\n      <td>None</td>\n      <td>None</td>\n      <td>None</td>\n      <td>0,4</td>\n    </tr>\n    <tr>\n      <th>224</th>\n      <td>Yemen</td>\n      <td>NEAR EAST</td>\n      <td>21456188</td>\n      <td>527970</td>\n      <td>40,6</td>\n      <td>0,36</td>\n      <td>0</td>\n      <td>61,5</td>\n      <td>800.0</td>\n      <td>50,2</td>\n      <td>37,2</td>\n      <td>2,78</td>\n      <td>0,24</td>\n      <td>96,98</td>\n      <td>1</td>\n      <td>42,89</td>\n      <td>8,3</td>\n      <td>0,135</td>\n      <td>0,472</td>\n      <td>0,393</td>\n    </tr>\n    <tr>\n      <th>225</th>\n      <td>Zambia</td>\n      <td>SUB-SAHARAN AFRICA</td>\n      <td>11502010</td>\n      <td>752614</td>\n      <td>15,3</td>\n      <td>0,00</td>\n      <td>0</td>\n      <td>88,29</td>\n      <td>800.0</td>\n      <td>80,6</td>\n      <td>8,2</td>\n      <td>7,08</td>\n      <td>0,03</td>\n      <td>92,9</td>\n      <td>2</td>\n      <td>41</td>\n      <td>19,93</td>\n      <td>0,22</td>\n      <td>0,29</td>\n      <td>0,489</td>\n    </tr>\n    <tr>\n      <th>226</th>\n      <td>Zimbabwe</td>\n      <td>SUB-SAHARAN AFRICA</td>\n      <td>12236805</td>\n      <td>390580</td>\n      <td>31,3</td>\n      <td>0,00</td>\n      <td>0</td>\n      <td>67,69</td>\n      <td>1900.0</td>\n      <td>90,7</td>\n      <td>26,8</td>\n      <td>8,32</td>\n      <td>0,34</td>\n      <td>91,34</td>\n      <td>2</td>\n      <td>28,01</td>\n      <td>21,84</td>\n      <td>0,179</td>\n      <td>0,243</td>\n      <td>0,579</td>\n    </tr>\n  </tbody>\n</table>\n<p>227 rows × 20 columns</p>\n</div>"
     },
     "metadata": {},
     "execution_count": 1055
    }
   ],
   "source": [
    "countries.toPandas()"
   ]
  },
  {
   "cell_type": "code",
   "execution_count": 1056,
   "metadata": {},
   "outputs": [],
   "source": [
    "countries = countries.withColumn('Continent', trim(col('Region')))"
   ]
  },
  {
   "cell_type": "code",
   "execution_count": 1057,
   "metadata": {},
   "outputs": [],
   "source": [
    "asia = ['ASIA (EX. NEAR EAST)', \n",
    "        'C.W. OF IND. STATES', \n",
    "        'NEAR EAST',]\n",
    "europe = ['BALTICS', \n",
    "        'EASTERN EUROPE', \n",
    "        'WESTERN EUROPE',]\n",
    "south_america = ['LATIN AMER. & CARIB',]\n",
    "north_america = ['NORTHERN AMERICA',]\n",
    "australia = ['OCEANIA',]\n",
    "africa = ['SUB-SAHARAN AFRICA', \n",
    "        'NORTHERN AFRICA',]"
   ]
  },
  {
   "cell_type": "code",
   "execution_count": 1058,
   "metadata": {},
   "outputs": [],
   "source": [
    "def get_continent(region):\n",
    "    if region in asia:\n",
    "        return 'Asia'\n",
    "    elif region in europe:\n",
    "        return 'Europe'\n",
    "    elif region in south_america:\n",
    "        return 'South America'\n",
    "    elif region in north_america:\n",
    "        return 'North America'\n",
    "    elif region in australia:\n",
    "        return 'Australia/Oceania'\n",
    "    elif region in africa:\n",
    "        return 'Africa'\n"
   ]
  },
  {
   "cell_type": "code",
   "execution_count": 1059,
   "metadata": {},
   "outputs": [],
   "source": [
    "get_continent_udf = udf(get_continent, StringType())"
   ]
  },
  {
   "cell_type": "code",
   "execution_count": 1060,
   "metadata": {},
   "outputs": [],
   "source": [
    "countries_continents = countries.withColumn(\n",
    "    'Continent',\n",
    "    get_continent_udf('Continent')\n",
    ")"
   ]
  },
  {
   "cell_type": "code",
   "execution_count": 1061,
   "metadata": {},
   "outputs": [
    {
     "output_type": "execute_result",
     "data": {
      "text/plain": [
       "             Country                               Region  Population  \\\n",
       "0       Afghanistan         ASIA (EX. NEAR EAST)             31056997   \n",
       "1           Albania   EASTERN EUROPE                          3581655   \n",
       "2           Algeria   NORTHERN AFRICA                        32930091   \n",
       "3    American Samoa   OCEANIA                                   57794   \n",
       "4           Andorra   WESTERN EUROPE                            71201   \n",
       "..               ...                                  ...         ...   \n",
       "222       West Bank   NEAR EAST                               2460492   \n",
       "223  Western Sahara   NORTHERN AFRICA                          273008   \n",
       "224           Yemen   NEAR EAST                              21456188   \n",
       "225          Zambia   SUB-SAHARAN AFRICA                     11502010   \n",
       "226        Zimbabwe   SUB-SAHARAN AFRICA                     12236805   \n",
       "\n",
       "     Area (sq mi) Pop Density (per sq mi) Coastline (coast/area ratio)  \\\n",
       "0          647500                    48,0                         0,00   \n",
       "1           28748                   124,6                         1,26   \n",
       "2         2381740                    13,8                         0,04   \n",
       "3             199                   290,4                        58,29   \n",
       "4             468                   152,1                         0,00   \n",
       "..            ...                     ...                          ...   \n",
       "222          5860                   419,9                         0,00   \n",
       "223        266000                     1,0                         0,42   \n",
       "224        527970                    40,6                         0,36   \n",
       "225        752614                    15,3                         0,00   \n",
       "226        390580                    31,3                         0,00   \n",
       "\n",
       "    Net migration Infant mortality (per 1000 births)  GDP ($ per capita)  \\\n",
       "0           23,06                             163,07               700.0   \n",
       "1           -4,93                              21,52              4500.0   \n",
       "2           -0,39                                 31              6000.0   \n",
       "3          -20,71                               9,27              8000.0   \n",
       "4             6,6                               4,05             19000.0   \n",
       "..            ...                                ...                 ...   \n",
       "222          2,98                              19,62               800.0   \n",
       "223          None                               None                 NaN   \n",
       "224             0                               61,5               800.0   \n",
       "225             0                              88,29               800.0   \n",
       "226             0                              67,69              1900.0   \n",
       "\n",
       "    Literacy (%)  ... Arable (%) Crops (%) Other (%) Climate Birthrate  \\\n",
       "0           36,0  ...      12,13      0,22     87,65       1      46,6   \n",
       "1           86,5  ...      21,09      4,42     74,49       3     15,11   \n",
       "2           70,0  ...       3,22      0,25     96,53       1     17,14   \n",
       "3           97,0  ...         10        15        75       2     22,46   \n",
       "4          100,0  ...       2,22         0     97,78       3      8,71   \n",
       "..           ...  ...        ...       ...       ...     ...       ...   \n",
       "222         None  ...       16,9     18,97     64,13       3     31,67   \n",
       "223         None  ...       0,02         0     99,98       1      None   \n",
       "224         50,2  ...       2,78      0,24     96,98       1     42,89   \n",
       "225         80,6  ...       7,08      0,03      92,9       2        41   \n",
       "226         90,7  ...       8,32      0,34     91,34       2     28,01   \n",
       "\n",
       "    Deathrate Agriculture Industry Service          Continent  \n",
       "0       20,34        0,38     0,24    0,38               Asia  \n",
       "1        5,22       0,232    0,188   0,579             Europe  \n",
       "2        4,61       0,101      0,6   0,298             Africa  \n",
       "3        3,27        None     None    None  Australia/Oceania  \n",
       "4        6,25        None     None    None             Europe  \n",
       "..        ...         ...      ...     ...                ...  \n",
       "222      3,92        0,09     0,28    0,63               Asia  \n",
       "223      None        None     None     0,4             Africa  \n",
       "224       8,3       0,135    0,472   0,393               Asia  \n",
       "225     19,93        0,22     0,29   0,489             Africa  \n",
       "226     21,84       0,179    0,243   0,579             Africa  \n",
       "\n",
       "[227 rows x 21 columns]"
      ],
      "text/html": "<div>\n<style scoped>\n    .dataframe tbody tr th:only-of-type {\n        vertical-align: middle;\n    }\n\n    .dataframe tbody tr th {\n        vertical-align: top;\n    }\n\n    .dataframe thead th {\n        text-align: right;\n    }\n</style>\n<table border=\"1\" class=\"dataframe\">\n  <thead>\n    <tr style=\"text-align: right;\">\n      <th></th>\n      <th>Country</th>\n      <th>Region</th>\n      <th>Population</th>\n      <th>Area (sq mi)</th>\n      <th>Pop Density (per sq mi)</th>\n      <th>Coastline (coast/area ratio)</th>\n      <th>Net migration</th>\n      <th>Infant mortality (per 1000 births)</th>\n      <th>GDP ($ per capita)</th>\n      <th>Literacy (%)</th>\n      <th>...</th>\n      <th>Arable (%)</th>\n      <th>Crops (%)</th>\n      <th>Other (%)</th>\n      <th>Climate</th>\n      <th>Birthrate</th>\n      <th>Deathrate</th>\n      <th>Agriculture</th>\n      <th>Industry</th>\n      <th>Service</th>\n      <th>Continent</th>\n    </tr>\n  </thead>\n  <tbody>\n    <tr>\n      <th>0</th>\n      <td>Afghanistan</td>\n      <td>ASIA (EX. NEAR EAST)</td>\n      <td>31056997</td>\n      <td>647500</td>\n      <td>48,0</td>\n      <td>0,00</td>\n      <td>23,06</td>\n      <td>163,07</td>\n      <td>700.0</td>\n      <td>36,0</td>\n      <td>...</td>\n      <td>12,13</td>\n      <td>0,22</td>\n      <td>87,65</td>\n      <td>1</td>\n      <td>46,6</td>\n      <td>20,34</td>\n      <td>0,38</td>\n      <td>0,24</td>\n      <td>0,38</td>\n      <td>Asia</td>\n    </tr>\n    <tr>\n      <th>1</th>\n      <td>Albania</td>\n      <td>EASTERN EUROPE</td>\n      <td>3581655</td>\n      <td>28748</td>\n      <td>124,6</td>\n      <td>1,26</td>\n      <td>-4,93</td>\n      <td>21,52</td>\n      <td>4500.0</td>\n      <td>86,5</td>\n      <td>...</td>\n      <td>21,09</td>\n      <td>4,42</td>\n      <td>74,49</td>\n      <td>3</td>\n      <td>15,11</td>\n      <td>5,22</td>\n      <td>0,232</td>\n      <td>0,188</td>\n      <td>0,579</td>\n      <td>Europe</td>\n    </tr>\n    <tr>\n      <th>2</th>\n      <td>Algeria</td>\n      <td>NORTHERN AFRICA</td>\n      <td>32930091</td>\n      <td>2381740</td>\n      <td>13,8</td>\n      <td>0,04</td>\n      <td>-0,39</td>\n      <td>31</td>\n      <td>6000.0</td>\n      <td>70,0</td>\n      <td>...</td>\n      <td>3,22</td>\n      <td>0,25</td>\n      <td>96,53</td>\n      <td>1</td>\n      <td>17,14</td>\n      <td>4,61</td>\n      <td>0,101</td>\n      <td>0,6</td>\n      <td>0,298</td>\n      <td>Africa</td>\n    </tr>\n    <tr>\n      <th>3</th>\n      <td>American Samoa</td>\n      <td>OCEANIA</td>\n      <td>57794</td>\n      <td>199</td>\n      <td>290,4</td>\n      <td>58,29</td>\n      <td>-20,71</td>\n      <td>9,27</td>\n      <td>8000.0</td>\n      <td>97,0</td>\n      <td>...</td>\n      <td>10</td>\n      <td>15</td>\n      <td>75</td>\n      <td>2</td>\n      <td>22,46</td>\n      <td>3,27</td>\n      <td>None</td>\n      <td>None</td>\n      <td>None</td>\n      <td>Australia/Oceania</td>\n    </tr>\n    <tr>\n      <th>4</th>\n      <td>Andorra</td>\n      <td>WESTERN EUROPE</td>\n      <td>71201</td>\n      <td>468</td>\n      <td>152,1</td>\n      <td>0,00</td>\n      <td>6,6</td>\n      <td>4,05</td>\n      <td>19000.0</td>\n      <td>100,0</td>\n      <td>...</td>\n      <td>2,22</td>\n      <td>0</td>\n      <td>97,78</td>\n      <td>3</td>\n      <td>8,71</td>\n      <td>6,25</td>\n      <td>None</td>\n      <td>None</td>\n      <td>None</td>\n      <td>Europe</td>\n    </tr>\n    <tr>\n      <th>...</th>\n      <td>...</td>\n      <td>...</td>\n      <td>...</td>\n      <td>...</td>\n      <td>...</td>\n      <td>...</td>\n      <td>...</td>\n      <td>...</td>\n      <td>...</td>\n      <td>...</td>\n      <td>...</td>\n      <td>...</td>\n      <td>...</td>\n      <td>...</td>\n      <td>...</td>\n      <td>...</td>\n      <td>...</td>\n      <td>...</td>\n      <td>...</td>\n      <td>...</td>\n      <td>...</td>\n    </tr>\n    <tr>\n      <th>222</th>\n      <td>West Bank</td>\n      <td>NEAR EAST</td>\n      <td>2460492</td>\n      <td>5860</td>\n      <td>419,9</td>\n      <td>0,00</td>\n      <td>2,98</td>\n      <td>19,62</td>\n      <td>800.0</td>\n      <td>None</td>\n      <td>...</td>\n      <td>16,9</td>\n      <td>18,97</td>\n      <td>64,13</td>\n      <td>3</td>\n      <td>31,67</td>\n      <td>3,92</td>\n      <td>0,09</td>\n      <td>0,28</td>\n      <td>0,63</td>\n      <td>Asia</td>\n    </tr>\n    <tr>\n      <th>223</th>\n      <td>Western Sahara</td>\n      <td>NORTHERN AFRICA</td>\n      <td>273008</td>\n      <td>266000</td>\n      <td>1,0</td>\n      <td>0,42</td>\n      <td>None</td>\n      <td>None</td>\n      <td>NaN</td>\n      <td>None</td>\n      <td>...</td>\n      <td>0,02</td>\n      <td>0</td>\n      <td>99,98</td>\n      <td>1</td>\n      <td>None</td>\n      <td>None</td>\n      <td>None</td>\n      <td>None</td>\n      <td>0,4</td>\n      <td>Africa</td>\n    </tr>\n    <tr>\n      <th>224</th>\n      <td>Yemen</td>\n      <td>NEAR EAST</td>\n      <td>21456188</td>\n      <td>527970</td>\n      <td>40,6</td>\n      <td>0,36</td>\n      <td>0</td>\n      <td>61,5</td>\n      <td>800.0</td>\n      <td>50,2</td>\n      <td>...</td>\n      <td>2,78</td>\n      <td>0,24</td>\n      <td>96,98</td>\n      <td>1</td>\n      <td>42,89</td>\n      <td>8,3</td>\n      <td>0,135</td>\n      <td>0,472</td>\n      <td>0,393</td>\n      <td>Asia</td>\n    </tr>\n    <tr>\n      <th>225</th>\n      <td>Zambia</td>\n      <td>SUB-SAHARAN AFRICA</td>\n      <td>11502010</td>\n      <td>752614</td>\n      <td>15,3</td>\n      <td>0,00</td>\n      <td>0</td>\n      <td>88,29</td>\n      <td>800.0</td>\n      <td>80,6</td>\n      <td>...</td>\n      <td>7,08</td>\n      <td>0,03</td>\n      <td>92,9</td>\n      <td>2</td>\n      <td>41</td>\n      <td>19,93</td>\n      <td>0,22</td>\n      <td>0,29</td>\n      <td>0,489</td>\n      <td>Africa</td>\n    </tr>\n    <tr>\n      <th>226</th>\n      <td>Zimbabwe</td>\n      <td>SUB-SAHARAN AFRICA</td>\n      <td>12236805</td>\n      <td>390580</td>\n      <td>31,3</td>\n      <td>0,00</td>\n      <td>0</td>\n      <td>67,69</td>\n      <td>1900.0</td>\n      <td>90,7</td>\n      <td>...</td>\n      <td>8,32</td>\n      <td>0,34</td>\n      <td>91,34</td>\n      <td>2</td>\n      <td>28,01</td>\n      <td>21,84</td>\n      <td>0,179</td>\n      <td>0,243</td>\n      <td>0,579</td>\n      <td>Africa</td>\n    </tr>\n  </tbody>\n</table>\n<p>227 rows × 21 columns</p>\n</div>"
     },
     "metadata": {},
     "execution_count": 1061
    }
   ],
   "source": [
    "countries_continents.toPandas()"
   ]
  },
  {
   "cell_type": "markdown",
   "metadata": {},
   "source": [
    "# Zadanie 4"
   ]
  },
  {
   "cell_type": "code",
   "execution_count": 1063,
   "metadata": {},
   "outputs": [],
   "source": [
    "joined = joined.withColumn('Continent', trim(col('Region')))"
   ]
  },
  {
   "cell_type": "code",
   "execution_count": 1064,
   "metadata": {},
   "outputs": [],
   "source": [
    "joined = joined.withColumn(\n",
    "    'Continent',\n",
    "    get_continent_udf('Continent')\n",
    ")"
   ]
  },
  {
   "cell_type": "code",
   "execution_count": 1065,
   "metadata": {},
   "outputs": [
    {
     "output_type": "execute_result",
     "data": {
      "text/plain": [
       "            Country                Region  Population  Area (sq km)  \\\n",
       "0       Afghanistan  ASIA (EX. NEAR EAST)    31056997        647500   \n",
       "1           Albania        EASTERN EUROPE     3581655         28748   \n",
       "2           Algeria       NORTHERN AFRICA    32930091       2381740   \n",
       "3    American Samoa               OCEANIA       57794           199   \n",
       "4           Andorra        WESTERN EUROPE       71201           468   \n",
       "..              ...                   ...         ...           ...   \n",
       "222       West Bank             NEAR EAST     2460492          5860   \n",
       "223  Western Sahara       NORTHERN AFRICA      273008        266000   \n",
       "224           Yemen             NEAR EAST    21456188        527970   \n",
       "225          Zambia    SUB-SAHARAN AFRICA    11502010        752614   \n",
       "226        Zimbabwe    SUB-SAHARAN AFRICA    12236805        390580   \n",
       "\n",
       "     Pop Density (per sq km)  Coastline (coast/area ratio)  Net migration  \\\n",
       "0                  48.000000                      0.000000      23.059999   \n",
       "1                 124.599998                      1.260000      -4.930000   \n",
       "2                  13.800000                      0.040000      -0.390000   \n",
       "3                 290.399994                     58.290001     -20.709999   \n",
       "4                 152.100006                      0.000000       6.600000   \n",
       "..                       ...                           ...            ...   \n",
       "222               419.899994                      0.000000       2.980000   \n",
       "223                 1.000000                      0.420000      -1.000000   \n",
       "224                40.599998                      0.360000       0.000000   \n",
       "225                15.300000                      0.000000       0.000000   \n",
       "226                31.299999                      0.000000       0.000000   \n",
       "\n",
       "     Infant mortality (per 1000 births)  GDP ($ per capita)  Literacy (%)  \\\n",
       "0                            163.070007               700.0     36.000000   \n",
       "1                             21.520000              4500.0     86.500000   \n",
       "2                             31.000000              6000.0     70.000000   \n",
       "3                              9.270000              8000.0     97.000000   \n",
       "4                              4.050000             19000.0    100.000000   \n",
       "..                                  ...                 ...           ...   \n",
       "222                           19.620001               800.0     -1.000000   \n",
       "223                           -1.000000                 NaN     -1.000000   \n",
       "224                           61.500000               800.0     50.200001   \n",
       "225                           88.290001               800.0     80.599998   \n",
       "226                           67.690002              1900.0     90.699997   \n",
       "\n",
       "     ...  Other (%)  Birthrate  Deathrate  Agriculture  Industry  Service  \\\n",
       "0    ...  87.650002  46.599998      20.34        0.380     0.240    0.380   \n",
       "1    ...  74.489998  15.110000       5.22        0.232     0.188    0.579   \n",
       "2    ...  96.529999  17.139999       4.61        0.101     0.600    0.298   \n",
       "3    ...  75.000000  22.459999       3.27       -1.000    -1.000   -1.000   \n",
       "4    ...  97.779999   8.710000       6.25       -1.000    -1.000   -1.000   \n",
       "..   ...        ...        ...        ...          ...       ...      ...   \n",
       "222  ...  64.129997  31.670000       3.92        0.090     0.280    0.630   \n",
       "223  ...  99.980003  -1.000000      -1.00       -1.000    -1.000    0.400   \n",
       "224  ...  96.980003  42.889999       8.30        0.135     0.472    0.393   \n",
       "225  ...  92.900002  41.000000      19.93        0.220     0.290    0.489   \n",
       "226  ...  91.339996  28.010000      21.84        0.179     0.243    0.579   \n",
       "\n",
       "     Area (sq mi)  Pop Density (per sq mi)  Airports sum          Continent  \n",
       "0          249999               124.320124          20.0               Asia  \n",
       "1           11099               322.714319           5.0             Europe  \n",
       "2          919589                35.742036          43.0             Africa  \n",
       "3              76               752.136736           2.0  Australia/Oceania  \n",
       "4             180               393.939410           NaN             Europe  \n",
       "..            ...                      ...           ...                ...  \n",
       "222          2262              1087.542072           1.0               Asia  \n",
       "223        102702                 2.590003           3.0             Africa  \n",
       "224        203849               105.154101          11.0               Asia  \n",
       "225        290584                39.627040          12.0             Africa  \n",
       "226        150802                81.067079          15.0             Africa  \n",
       "\n",
       "[227 rows x 23 columns]"
      ],
      "text/html": "<div>\n<style scoped>\n    .dataframe tbody tr th:only-of-type {\n        vertical-align: middle;\n    }\n\n    .dataframe tbody tr th {\n        vertical-align: top;\n    }\n\n    .dataframe thead th {\n        text-align: right;\n    }\n</style>\n<table border=\"1\" class=\"dataframe\">\n  <thead>\n    <tr style=\"text-align: right;\">\n      <th></th>\n      <th>Country</th>\n      <th>Region</th>\n      <th>Population</th>\n      <th>Area (sq km)</th>\n      <th>Pop Density (per sq km)</th>\n      <th>Coastline (coast/area ratio)</th>\n      <th>Net migration</th>\n      <th>Infant mortality (per 1000 births)</th>\n      <th>GDP ($ per capita)</th>\n      <th>Literacy (%)</th>\n      <th>...</th>\n      <th>Other (%)</th>\n      <th>Birthrate</th>\n      <th>Deathrate</th>\n      <th>Agriculture</th>\n      <th>Industry</th>\n      <th>Service</th>\n      <th>Area (sq mi)</th>\n      <th>Pop Density (per sq mi)</th>\n      <th>Airports sum</th>\n      <th>Continent</th>\n    </tr>\n  </thead>\n  <tbody>\n    <tr>\n      <th>0</th>\n      <td>Afghanistan</td>\n      <td>ASIA (EX. NEAR EAST)</td>\n      <td>31056997</td>\n      <td>647500</td>\n      <td>48.000000</td>\n      <td>0.000000</td>\n      <td>23.059999</td>\n      <td>163.070007</td>\n      <td>700.0</td>\n      <td>36.000000</td>\n      <td>...</td>\n      <td>87.650002</td>\n      <td>46.599998</td>\n      <td>20.34</td>\n      <td>0.380</td>\n      <td>0.240</td>\n      <td>0.380</td>\n      <td>249999</td>\n      <td>124.320124</td>\n      <td>20.0</td>\n      <td>Asia</td>\n    </tr>\n    <tr>\n      <th>1</th>\n      <td>Albania</td>\n      <td>EASTERN EUROPE</td>\n      <td>3581655</td>\n      <td>28748</td>\n      <td>124.599998</td>\n      <td>1.260000</td>\n      <td>-4.930000</td>\n      <td>21.520000</td>\n      <td>4500.0</td>\n      <td>86.500000</td>\n      <td>...</td>\n      <td>74.489998</td>\n      <td>15.110000</td>\n      <td>5.22</td>\n      <td>0.232</td>\n      <td>0.188</td>\n      <td>0.579</td>\n      <td>11099</td>\n      <td>322.714319</td>\n      <td>5.0</td>\n      <td>Europe</td>\n    </tr>\n    <tr>\n      <th>2</th>\n      <td>Algeria</td>\n      <td>NORTHERN AFRICA</td>\n      <td>32930091</td>\n      <td>2381740</td>\n      <td>13.800000</td>\n      <td>0.040000</td>\n      <td>-0.390000</td>\n      <td>31.000000</td>\n      <td>6000.0</td>\n      <td>70.000000</td>\n      <td>...</td>\n      <td>96.529999</td>\n      <td>17.139999</td>\n      <td>4.61</td>\n      <td>0.101</td>\n      <td>0.600</td>\n      <td>0.298</td>\n      <td>919589</td>\n      <td>35.742036</td>\n      <td>43.0</td>\n      <td>Africa</td>\n    </tr>\n    <tr>\n      <th>3</th>\n      <td>American Samoa</td>\n      <td>OCEANIA</td>\n      <td>57794</td>\n      <td>199</td>\n      <td>290.399994</td>\n      <td>58.290001</td>\n      <td>-20.709999</td>\n      <td>9.270000</td>\n      <td>8000.0</td>\n      <td>97.000000</td>\n      <td>...</td>\n      <td>75.000000</td>\n      <td>22.459999</td>\n      <td>3.27</td>\n      <td>-1.000</td>\n      <td>-1.000</td>\n      <td>-1.000</td>\n      <td>76</td>\n      <td>752.136736</td>\n      <td>2.0</td>\n      <td>Australia/Oceania</td>\n    </tr>\n    <tr>\n      <th>4</th>\n      <td>Andorra</td>\n      <td>WESTERN EUROPE</td>\n      <td>71201</td>\n      <td>468</td>\n      <td>152.100006</td>\n      <td>0.000000</td>\n      <td>6.600000</td>\n      <td>4.050000</td>\n      <td>19000.0</td>\n      <td>100.000000</td>\n      <td>...</td>\n      <td>97.779999</td>\n      <td>8.710000</td>\n      <td>6.25</td>\n      <td>-1.000</td>\n      <td>-1.000</td>\n      <td>-1.000</td>\n      <td>180</td>\n      <td>393.939410</td>\n      <td>NaN</td>\n      <td>Europe</td>\n    </tr>\n    <tr>\n      <th>...</th>\n      <td>...</td>\n      <td>...</td>\n      <td>...</td>\n      <td>...</td>\n      <td>...</td>\n      <td>...</td>\n      <td>...</td>\n      <td>...</td>\n      <td>...</td>\n      <td>...</td>\n      <td>...</td>\n      <td>...</td>\n      <td>...</td>\n      <td>...</td>\n      <td>...</td>\n      <td>...</td>\n      <td>...</td>\n      <td>...</td>\n      <td>...</td>\n      <td>...</td>\n      <td>...</td>\n    </tr>\n    <tr>\n      <th>222</th>\n      <td>West Bank</td>\n      <td>NEAR EAST</td>\n      <td>2460492</td>\n      <td>5860</td>\n      <td>419.899994</td>\n      <td>0.000000</td>\n      <td>2.980000</td>\n      <td>19.620001</td>\n      <td>800.0</td>\n      <td>-1.000000</td>\n      <td>...</td>\n      <td>64.129997</td>\n      <td>31.670000</td>\n      <td>3.92</td>\n      <td>0.090</td>\n      <td>0.280</td>\n      <td>0.630</td>\n      <td>2262</td>\n      <td>1087.542072</td>\n      <td>1.0</td>\n      <td>Asia</td>\n    </tr>\n    <tr>\n      <th>223</th>\n      <td>Western Sahara</td>\n      <td>NORTHERN AFRICA</td>\n      <td>273008</td>\n      <td>266000</td>\n      <td>1.000000</td>\n      <td>0.420000</td>\n      <td>-1.000000</td>\n      <td>-1.000000</td>\n      <td>NaN</td>\n      <td>-1.000000</td>\n      <td>...</td>\n      <td>99.980003</td>\n      <td>-1.000000</td>\n      <td>-1.00</td>\n      <td>-1.000</td>\n      <td>-1.000</td>\n      <td>0.400</td>\n      <td>102702</td>\n      <td>2.590003</td>\n      <td>3.0</td>\n      <td>Africa</td>\n    </tr>\n    <tr>\n      <th>224</th>\n      <td>Yemen</td>\n      <td>NEAR EAST</td>\n      <td>21456188</td>\n      <td>527970</td>\n      <td>40.599998</td>\n      <td>0.360000</td>\n      <td>0.000000</td>\n      <td>61.500000</td>\n      <td>800.0</td>\n      <td>50.200001</td>\n      <td>...</td>\n      <td>96.980003</td>\n      <td>42.889999</td>\n      <td>8.30</td>\n      <td>0.135</td>\n      <td>0.472</td>\n      <td>0.393</td>\n      <td>203849</td>\n      <td>105.154101</td>\n      <td>11.0</td>\n      <td>Asia</td>\n    </tr>\n    <tr>\n      <th>225</th>\n      <td>Zambia</td>\n      <td>SUB-SAHARAN AFRICA</td>\n      <td>11502010</td>\n      <td>752614</td>\n      <td>15.300000</td>\n      <td>0.000000</td>\n      <td>0.000000</td>\n      <td>88.290001</td>\n      <td>800.0</td>\n      <td>80.599998</td>\n      <td>...</td>\n      <td>92.900002</td>\n      <td>41.000000</td>\n      <td>19.93</td>\n      <td>0.220</td>\n      <td>0.290</td>\n      <td>0.489</td>\n      <td>290584</td>\n      <td>39.627040</td>\n      <td>12.0</td>\n      <td>Africa</td>\n    </tr>\n    <tr>\n      <th>226</th>\n      <td>Zimbabwe</td>\n      <td>SUB-SAHARAN AFRICA</td>\n      <td>12236805</td>\n      <td>390580</td>\n      <td>31.299999</td>\n      <td>0.000000</td>\n      <td>0.000000</td>\n      <td>67.690002</td>\n      <td>1900.0</td>\n      <td>90.699997</td>\n      <td>...</td>\n      <td>91.339996</td>\n      <td>28.010000</td>\n      <td>21.84</td>\n      <td>0.179</td>\n      <td>0.243</td>\n      <td>0.579</td>\n      <td>150802</td>\n      <td>81.067079</td>\n      <td>15.0</td>\n      <td>Africa</td>\n    </tr>\n  </tbody>\n</table>\n<p>227 rows × 23 columns</p>\n</div>"
     },
     "metadata": {},
     "execution_count": 1065
    }
   ],
   "source": [
    "joined.toPandas()"
   ]
  },
  {
   "cell_type": "code",
   "execution_count": 1066,
   "metadata": {},
   "outputs": [],
   "source": [
    "joined = joined \\\n",
    "    .groupBy(\"Continent\") \\\n",
    "    .agg(F.sum(\"Airports sum\").alias(\"Airports sum\")) \\\n",
    "    .select(\"Continent\", \"Airports sum\") \\\n",
    "    .sort(\"Airports sum\") \\\n",
    "    .withColumn(\"Continent\", trim(col(\"Continent\")))"
   ]
  },
  {
   "cell_type": "code",
   "execution_count": 1067,
   "metadata": {},
   "outputs": [
    {
     "output_type": "execute_result",
     "data": {
      "text/plain": [
       "           Continent  Airports sum\n",
       "0  Australia/Oceania           542\n",
       "1             Africa           655\n",
       "2      South America           921\n",
       "3             Europe          1395\n",
       "4               Asia          1662\n",
       "5      North America          1875"
      ],
      "text/html": "<div>\n<style scoped>\n    .dataframe tbody tr th:only-of-type {\n        vertical-align: middle;\n    }\n\n    .dataframe tbody tr th {\n        vertical-align: top;\n    }\n\n    .dataframe thead th {\n        text-align: right;\n    }\n</style>\n<table border=\"1\" class=\"dataframe\">\n  <thead>\n    <tr style=\"text-align: right;\">\n      <th></th>\n      <th>Continent</th>\n      <th>Airports sum</th>\n    </tr>\n  </thead>\n  <tbody>\n    <tr>\n      <th>0</th>\n      <td>Australia/Oceania</td>\n      <td>542</td>\n    </tr>\n    <tr>\n      <th>1</th>\n      <td>Africa</td>\n      <td>655</td>\n    </tr>\n    <tr>\n      <th>2</th>\n      <td>South America</td>\n      <td>921</td>\n    </tr>\n    <tr>\n      <th>3</th>\n      <td>Europe</td>\n      <td>1395</td>\n    </tr>\n    <tr>\n      <th>4</th>\n      <td>Asia</td>\n      <td>1662</td>\n    </tr>\n    <tr>\n      <th>5</th>\n      <td>North America</td>\n      <td>1875</td>\n    </tr>\n  </tbody>\n</table>\n</div>"
     },
     "metadata": {},
     "execution_count": 1067
    }
   ],
   "source": [
    "joined.toPandas()"
   ]
  },
  {
   "cell_type": "code",
   "execution_count": 1068,
   "metadata": {},
   "outputs": [
    {
     "output_type": "execute_result",
     "data": {
      "text/plain": [
       "<AxesSubplot:xlabel='Continent'>"
      ]
     },
     "metadata": {},
     "execution_count": 1068
    },
    {
     "output_type": "display_data",
     "data": {
      "text/plain": "<Figure size 720x432 with 1 Axes>",
      "image/svg+xml": "<?xml version=\"1.0\" encoding=\"utf-8\" standalone=\"no\"?>\n<!DOCTYPE svg PUBLIC \"-//W3C//DTD SVG 1.1//EN\"\n  \"http://www.w3.org/Graphics/SVG/1.1/DTD/svg11.dtd\">\n<!-- Created with matplotlib (https://matplotlib.org/) -->\n<svg height=\"451.669062pt\" version=\"1.1\" viewBox=\"0 0 604.85 451.669062\" width=\"604.85pt\" xmlns=\"http://www.w3.org/2000/svg\" xmlns:xlink=\"http://www.w3.org/1999/xlink\">\n <metadata>\n  <rdf:RDF xmlns:cc=\"http://creativecommons.org/ns#\" xmlns:dc=\"http://purl.org/dc/elements/1.1/\" xmlns:rdf=\"http://www.w3.org/1999/02/22-rdf-syntax-ns#\">\n   <cc:Work>\n    <dc:type rdf:resource=\"http://purl.org/dc/dcmitype/StillImage\"/>\n    <dc:date>2021-03-14T19:55:05.052571</dc:date>\n    <dc:format>image/svg+xml</dc:format>\n    <dc:creator>\n     <cc:Agent>\n      <dc:title>Matplotlib v3.3.4, https://matplotlib.org/</dc:title>\n     </cc:Agent>\n    </dc:creator>\n   </cc:Work>\n  </rdf:RDF>\n </metadata>\n <defs>\n  <style type=\"text/css\">*{stroke-linecap:butt;stroke-linejoin:round;}</style>\n </defs>\n <g id=\"figure_1\">\n  <g id=\"patch_1\">\n   <path d=\"M 0 451.669062 \nL 604.85 451.669062 \nL 604.85 0 \nL 0 0 \nz\n\" style=\"fill:#ffffff;\"/>\n  </g>\n  <g id=\"axes_1\">\n   <g id=\"patch_2\">\n    <path d=\"M 39.65 333.36 \nL 597.65 333.36 \nL 597.65 7.2 \nL 39.65 7.2 \nz\n\" style=\"fill:#e5e5e5;\"/>\n   </g>\n   <g id=\"matplotlib.axis_1\">\n    <g id=\"xtick_1\">\n     <g id=\"line2d_1\">\n      <path clip-path=\"url(#p08ce9103c3)\" d=\"M 86.15 333.36 \nL 86.15 7.2 \n\" style=\"fill:none;stroke:#ffffff;stroke-linecap:square;stroke-width:0.8;\"/>\n     </g>\n     <g id=\"line2d_2\">\n      <defs>\n       <path d=\"M 0 0 \nL 0 3.5 \n\" id=\"m5a7e82a8a4\" style=\"stroke:#555555;stroke-width:0.8;\"/>\n      </defs>\n      <g>\n       <use style=\"fill:#555555;stroke:#555555;stroke-width:0.8;\" x=\"86.15\" xlink:href=\"#m5a7e82a8a4\" y=\"333.36\"/>\n      </g>\n     </g>\n     <g id=\"text_1\">\n      <!-- Australia/Oceania -->\n      <g style=\"fill:#555555;\" transform=\"translate(88.909375 428.855312)rotate(-90)scale(0.1 -0.1)\">\n       <defs>\n        <path d=\"M 34.1875 63.1875 \nL 20.796875 26.90625 \nL 47.609375 26.90625 \nz\nM 28.609375 72.90625 \nL 39.796875 72.90625 \nL 67.578125 0 \nL 57.328125 0 \nL 50.6875 18.703125 \nL 17.828125 18.703125 \nL 11.1875 0 \nL 0.78125 0 \nz\n\" id=\"DejaVuSans-65\"/>\n        <path d=\"M 8.5 21.578125 \nL 8.5 54.6875 \nL 17.484375 54.6875 \nL 17.484375 21.921875 \nQ 17.484375 14.15625 20.5 10.265625 \nQ 23.53125 6.390625 29.59375 6.390625 \nQ 36.859375 6.390625 41.078125 11.03125 \nQ 45.3125 15.671875 45.3125 23.6875 \nL 45.3125 54.6875 \nL 54.296875 54.6875 \nL 54.296875 0 \nL 45.3125 0 \nL 45.3125 8.40625 \nQ 42.046875 3.421875 37.71875 1 \nQ 33.40625 -1.421875 27.6875 -1.421875 \nQ 18.265625 -1.421875 13.375 4.4375 \nQ 8.5 10.296875 8.5 21.578125 \nz\nM 31.109375 56 \nz\n\" id=\"DejaVuSans-117\"/>\n        <path d=\"M 44.28125 53.078125 \nL 44.28125 44.578125 \nQ 40.484375 46.53125 36.375 47.5 \nQ 32.28125 48.484375 27.875 48.484375 \nQ 21.1875 48.484375 17.84375 46.4375 \nQ 14.5 44.390625 14.5 40.28125 \nQ 14.5 37.15625 16.890625 35.375 \nQ 19.28125 33.59375 26.515625 31.984375 \nL 29.59375 31.296875 \nQ 39.15625 29.25 43.1875 25.515625 \nQ 47.21875 21.78125 47.21875 15.09375 \nQ 47.21875 7.46875 41.1875 3.015625 \nQ 35.15625 -1.421875 24.609375 -1.421875 \nQ 20.21875 -1.421875 15.453125 -0.5625 \nQ 10.6875 0.296875 5.421875 2 \nL 5.421875 11.28125 \nQ 10.40625 8.6875 15.234375 7.390625 \nQ 20.0625 6.109375 24.8125 6.109375 \nQ 31.15625 6.109375 34.5625 8.28125 \nQ 37.984375 10.453125 37.984375 14.40625 \nQ 37.984375 18.0625 35.515625 20.015625 \nQ 33.0625 21.96875 24.703125 23.78125 \nL 21.578125 24.515625 \nQ 13.234375 26.265625 9.515625 29.90625 \nQ 5.8125 33.546875 5.8125 39.890625 \nQ 5.8125 47.609375 11.28125 51.796875 \nQ 16.75 56 26.8125 56 \nQ 31.78125 56 36.171875 55.265625 \nQ 40.578125 54.546875 44.28125 53.078125 \nz\n\" id=\"DejaVuSans-115\"/>\n        <path d=\"M 18.3125 70.21875 \nL 18.3125 54.6875 \nL 36.8125 54.6875 \nL 36.8125 47.703125 \nL 18.3125 47.703125 \nL 18.3125 18.015625 \nQ 18.3125 11.328125 20.140625 9.421875 \nQ 21.96875 7.515625 27.59375 7.515625 \nL 36.8125 7.515625 \nL 36.8125 0 \nL 27.59375 0 \nQ 17.1875 0 13.234375 3.875 \nQ 9.28125 7.765625 9.28125 18.015625 \nL 9.28125 47.703125 \nL 2.6875 47.703125 \nL 2.6875 54.6875 \nL 9.28125 54.6875 \nL 9.28125 70.21875 \nz\n\" id=\"DejaVuSans-116\"/>\n        <path d=\"M 41.109375 46.296875 \nQ 39.59375 47.171875 37.8125 47.578125 \nQ 36.03125 48 33.890625 48 \nQ 26.265625 48 22.1875 43.046875 \nQ 18.109375 38.09375 18.109375 28.8125 \nL 18.109375 0 \nL 9.078125 0 \nL 9.078125 54.6875 \nL 18.109375 54.6875 \nL 18.109375 46.1875 \nQ 20.953125 51.171875 25.484375 53.578125 \nQ 30.03125 56 36.53125 56 \nQ 37.453125 56 38.578125 55.875 \nQ 39.703125 55.765625 41.0625 55.515625 \nz\n\" id=\"DejaVuSans-114\"/>\n        <path d=\"M 34.28125 27.484375 \nQ 23.390625 27.484375 19.1875 25 \nQ 14.984375 22.515625 14.984375 16.5 \nQ 14.984375 11.71875 18.140625 8.90625 \nQ 21.296875 6.109375 26.703125 6.109375 \nQ 34.1875 6.109375 38.703125 11.40625 \nQ 43.21875 16.703125 43.21875 25.484375 \nL 43.21875 27.484375 \nz\nM 52.203125 31.203125 \nL 52.203125 0 \nL 43.21875 0 \nL 43.21875 8.296875 \nQ 40.140625 3.328125 35.546875 0.953125 \nQ 30.953125 -1.421875 24.3125 -1.421875 \nQ 15.921875 -1.421875 10.953125 3.296875 \nQ 6 8.015625 6 15.921875 \nQ 6 25.140625 12.171875 29.828125 \nQ 18.359375 34.515625 30.609375 34.515625 \nL 43.21875 34.515625 \nL 43.21875 35.40625 \nQ 43.21875 41.609375 39.140625 45 \nQ 35.0625 48.390625 27.6875 48.390625 \nQ 23 48.390625 18.546875 47.265625 \nQ 14.109375 46.140625 10.015625 43.890625 \nL 10.015625 52.203125 \nQ 14.9375 54.109375 19.578125 55.046875 \nQ 24.21875 56 28.609375 56 \nQ 40.484375 56 46.34375 49.84375 \nQ 52.203125 43.703125 52.203125 31.203125 \nz\n\" id=\"DejaVuSans-97\"/>\n        <path d=\"M 9.421875 75.984375 \nL 18.40625 75.984375 \nL 18.40625 0 \nL 9.421875 0 \nz\n\" id=\"DejaVuSans-108\"/>\n        <path d=\"M 9.421875 54.6875 \nL 18.40625 54.6875 \nL 18.40625 0 \nL 9.421875 0 \nz\nM 9.421875 75.984375 \nL 18.40625 75.984375 \nL 18.40625 64.59375 \nL 9.421875 64.59375 \nz\n\" id=\"DejaVuSans-105\"/>\n        <path d=\"M 25.390625 72.90625 \nL 33.6875 72.90625 \nL 8.296875 -9.28125 \nL 0 -9.28125 \nz\n\" id=\"DejaVuSans-47\"/>\n        <path d=\"M 39.40625 66.21875 \nQ 28.65625 66.21875 22.328125 58.203125 \nQ 16.015625 50.203125 16.015625 36.375 \nQ 16.015625 22.609375 22.328125 14.59375 \nQ 28.65625 6.59375 39.40625 6.59375 \nQ 50.140625 6.59375 56.421875 14.59375 \nQ 62.703125 22.609375 62.703125 36.375 \nQ 62.703125 50.203125 56.421875 58.203125 \nQ 50.140625 66.21875 39.40625 66.21875 \nz\nM 39.40625 74.21875 \nQ 54.734375 74.21875 63.90625 63.9375 \nQ 73.09375 53.65625 73.09375 36.375 \nQ 73.09375 19.140625 63.90625 8.859375 \nQ 54.734375 -1.421875 39.40625 -1.421875 \nQ 24.03125 -1.421875 14.8125 8.828125 \nQ 5.609375 19.09375 5.609375 36.375 \nQ 5.609375 53.65625 14.8125 63.9375 \nQ 24.03125 74.21875 39.40625 74.21875 \nz\n\" id=\"DejaVuSans-79\"/>\n        <path d=\"M 48.78125 52.59375 \nL 48.78125 44.1875 \nQ 44.96875 46.296875 41.140625 47.34375 \nQ 37.3125 48.390625 33.40625 48.390625 \nQ 24.65625 48.390625 19.8125 42.84375 \nQ 14.984375 37.3125 14.984375 27.296875 \nQ 14.984375 17.28125 19.8125 11.734375 \nQ 24.65625 6.203125 33.40625 6.203125 \nQ 37.3125 6.203125 41.140625 7.25 \nQ 44.96875 8.296875 48.78125 10.40625 \nL 48.78125 2.09375 \nQ 45.015625 0.34375 40.984375 -0.53125 \nQ 36.96875 -1.421875 32.421875 -1.421875 \nQ 20.0625 -1.421875 12.78125 6.34375 \nQ 5.515625 14.109375 5.515625 27.296875 \nQ 5.515625 40.671875 12.859375 48.328125 \nQ 20.21875 56 33.015625 56 \nQ 37.15625 56 41.109375 55.140625 \nQ 45.0625 54.296875 48.78125 52.59375 \nz\n\" id=\"DejaVuSans-99\"/>\n        <path d=\"M 56.203125 29.59375 \nL 56.203125 25.203125 \nL 14.890625 25.203125 \nQ 15.484375 15.921875 20.484375 11.0625 \nQ 25.484375 6.203125 34.421875 6.203125 \nQ 39.59375 6.203125 44.453125 7.46875 \nQ 49.3125 8.734375 54.109375 11.28125 \nL 54.109375 2.78125 \nQ 49.265625 0.734375 44.1875 -0.34375 \nQ 39.109375 -1.421875 33.890625 -1.421875 \nQ 20.796875 -1.421875 13.15625 6.1875 \nQ 5.515625 13.8125 5.515625 26.8125 \nQ 5.515625 40.234375 12.765625 48.109375 \nQ 20.015625 56 32.328125 56 \nQ 43.359375 56 49.78125 48.890625 \nQ 56.203125 41.796875 56.203125 29.59375 \nz\nM 47.21875 32.234375 \nQ 47.125 39.59375 43.09375 43.984375 \nQ 39.0625 48.390625 32.421875 48.390625 \nQ 24.90625 48.390625 20.390625 44.140625 \nQ 15.875 39.890625 15.1875 32.171875 \nz\n\" id=\"DejaVuSans-101\"/>\n        <path d=\"M 54.890625 33.015625 \nL 54.890625 0 \nL 45.90625 0 \nL 45.90625 32.71875 \nQ 45.90625 40.484375 42.875 44.328125 \nQ 39.84375 48.1875 33.796875 48.1875 \nQ 26.515625 48.1875 22.3125 43.546875 \nQ 18.109375 38.921875 18.109375 30.90625 \nL 18.109375 0 \nL 9.078125 0 \nL 9.078125 54.6875 \nL 18.109375 54.6875 \nL 18.109375 46.1875 \nQ 21.34375 51.125 25.703125 53.5625 \nQ 30.078125 56 35.796875 56 \nQ 45.21875 56 50.046875 50.171875 \nQ 54.890625 44.34375 54.890625 33.015625 \nz\n\" id=\"DejaVuSans-110\"/>\n       </defs>\n       <use xlink:href=\"#DejaVuSans-65\"/>\n       <use x=\"68.408203\" xlink:href=\"#DejaVuSans-117\"/>\n       <use x=\"131.787109\" xlink:href=\"#DejaVuSans-115\"/>\n       <use x=\"183.886719\" xlink:href=\"#DejaVuSans-116\"/>\n       <use x=\"223.095703\" xlink:href=\"#DejaVuSans-114\"/>\n       <use x=\"264.208984\" xlink:href=\"#DejaVuSans-97\"/>\n       <use x=\"325.488281\" xlink:href=\"#DejaVuSans-108\"/>\n       <use x=\"353.271484\" xlink:href=\"#DejaVuSans-105\"/>\n       <use x=\"381.054688\" xlink:href=\"#DejaVuSans-97\"/>\n       <use x=\"442.333984\" xlink:href=\"#DejaVuSans-47\"/>\n       <use x=\"476.025391\" xlink:href=\"#DejaVuSans-79\"/>\n       <use x=\"554.736328\" xlink:href=\"#DejaVuSans-99\"/>\n       <use x=\"609.716797\" xlink:href=\"#DejaVuSans-101\"/>\n       <use x=\"671.240234\" xlink:href=\"#DejaVuSans-97\"/>\n       <use x=\"732.519531\" xlink:href=\"#DejaVuSans-110\"/>\n       <use x=\"795.898438\" xlink:href=\"#DejaVuSans-105\"/>\n       <use x=\"823.681641\" xlink:href=\"#DejaVuSans-97\"/>\n      </g>\n     </g>\n    </g>\n    <g id=\"xtick_2\">\n     <g id=\"line2d_3\">\n      <path clip-path=\"url(#p08ce9103c3)\" d=\"M 179.15 333.36 \nL 179.15 7.2 \n\" style=\"fill:none;stroke:#ffffff;stroke-linecap:square;stroke-width:0.8;\"/>\n     </g>\n     <g id=\"line2d_4\">\n      <g>\n       <use style=\"fill:#555555;stroke:#555555;stroke-width:0.8;\" x=\"179.15\" xlink:href=\"#m5a7e82a8a4\" y=\"333.36\"/>\n      </g>\n     </g>\n     <g id=\"text_2\">\n      <!-- Africa -->\n      <g style=\"fill:#555555;\" transform=\"translate(181.909375 368.874062)rotate(-90)scale(0.1 -0.1)\">\n       <defs>\n        <path d=\"M 37.109375 75.984375 \nL 37.109375 68.5 \nL 28.515625 68.5 \nQ 23.6875 68.5 21.796875 66.546875 \nQ 19.921875 64.59375 19.921875 59.515625 \nL 19.921875 54.6875 \nL 34.71875 54.6875 \nL 34.71875 47.703125 \nL 19.921875 47.703125 \nL 19.921875 0 \nL 10.890625 0 \nL 10.890625 47.703125 \nL 2.296875 47.703125 \nL 2.296875 54.6875 \nL 10.890625 54.6875 \nL 10.890625 58.5 \nQ 10.890625 67.625 15.140625 71.796875 \nQ 19.390625 75.984375 28.609375 75.984375 \nz\n\" id=\"DejaVuSans-102\"/>\n       </defs>\n       <use xlink:href=\"#DejaVuSans-65\"/>\n       <use x=\"64.783203\" xlink:href=\"#DejaVuSans-102\"/>\n       <use x=\"99.988281\" xlink:href=\"#DejaVuSans-114\"/>\n       <use x=\"141.101562\" xlink:href=\"#DejaVuSans-105\"/>\n       <use x=\"168.884766\" xlink:href=\"#DejaVuSans-99\"/>\n       <use x=\"223.865234\" xlink:href=\"#DejaVuSans-97\"/>\n      </g>\n     </g>\n    </g>\n    <g id=\"xtick_3\">\n     <g id=\"line2d_5\">\n      <path clip-path=\"url(#p08ce9103c3)\" d=\"M 272.15 333.36 \nL 272.15 7.2 \n\" style=\"fill:none;stroke:#ffffff;stroke-linecap:square;stroke-width:0.8;\"/>\n     </g>\n     <g id=\"line2d_6\">\n      <g>\n       <use style=\"fill:#555555;stroke:#555555;stroke-width:0.8;\" x=\"272.15\" xlink:href=\"#m5a7e82a8a4\" y=\"333.36\"/>\n      </g>\n     </g>\n     <g id=\"text_3\">\n      <!-- South America -->\n      <g style=\"fill:#555555;\" transform=\"translate(274.909375 413.850625)rotate(-90)scale(0.1 -0.1)\">\n       <defs>\n        <path d=\"M 53.515625 70.515625 \nL 53.515625 60.890625 \nQ 47.90625 63.578125 42.921875 64.890625 \nQ 37.9375 66.21875 33.296875 66.21875 \nQ 25.25 66.21875 20.875 63.09375 \nQ 16.5 59.96875 16.5 54.203125 \nQ 16.5 49.359375 19.40625 46.890625 \nQ 22.3125 44.4375 30.421875 42.921875 \nL 36.375 41.703125 \nQ 47.40625 39.59375 52.65625 34.296875 \nQ 57.90625 29 57.90625 20.125 \nQ 57.90625 9.515625 50.796875 4.046875 \nQ 43.703125 -1.421875 29.984375 -1.421875 \nQ 24.8125 -1.421875 18.96875 -0.25 \nQ 13.140625 0.921875 6.890625 3.21875 \nL 6.890625 13.375 \nQ 12.890625 10.015625 18.65625 8.296875 \nQ 24.421875 6.59375 29.984375 6.59375 \nQ 38.421875 6.59375 43.015625 9.90625 \nQ 47.609375 13.234375 47.609375 19.390625 \nQ 47.609375 24.75 44.3125 27.78125 \nQ 41.015625 30.8125 33.5 32.328125 \nL 27.484375 33.5 \nQ 16.453125 35.6875 11.515625 40.375 \nQ 6.59375 45.0625 6.59375 53.421875 \nQ 6.59375 63.09375 13.40625 68.65625 \nQ 20.21875 74.21875 32.171875 74.21875 \nQ 37.3125 74.21875 42.625 73.28125 \nQ 47.953125 72.359375 53.515625 70.515625 \nz\n\" id=\"DejaVuSans-83\"/>\n        <path d=\"M 30.609375 48.390625 \nQ 23.390625 48.390625 19.1875 42.75 \nQ 14.984375 37.109375 14.984375 27.296875 \nQ 14.984375 17.484375 19.15625 11.84375 \nQ 23.34375 6.203125 30.609375 6.203125 \nQ 37.796875 6.203125 41.984375 11.859375 \nQ 46.1875 17.53125 46.1875 27.296875 \nQ 46.1875 37.015625 41.984375 42.703125 \nQ 37.796875 48.390625 30.609375 48.390625 \nz\nM 30.609375 56 \nQ 42.328125 56 49.015625 48.375 \nQ 55.71875 40.765625 55.71875 27.296875 \nQ 55.71875 13.875 49.015625 6.21875 \nQ 42.328125 -1.421875 30.609375 -1.421875 \nQ 18.84375 -1.421875 12.171875 6.21875 \nQ 5.515625 13.875 5.515625 27.296875 \nQ 5.515625 40.765625 12.171875 48.375 \nQ 18.84375 56 30.609375 56 \nz\n\" id=\"DejaVuSans-111\"/>\n        <path d=\"M 54.890625 33.015625 \nL 54.890625 0 \nL 45.90625 0 \nL 45.90625 32.71875 \nQ 45.90625 40.484375 42.875 44.328125 \nQ 39.84375 48.1875 33.796875 48.1875 \nQ 26.515625 48.1875 22.3125 43.546875 \nQ 18.109375 38.921875 18.109375 30.90625 \nL 18.109375 0 \nL 9.078125 0 \nL 9.078125 75.984375 \nL 18.109375 75.984375 \nL 18.109375 46.1875 \nQ 21.34375 51.125 25.703125 53.5625 \nQ 30.078125 56 35.796875 56 \nQ 45.21875 56 50.046875 50.171875 \nQ 54.890625 44.34375 54.890625 33.015625 \nz\n\" id=\"DejaVuSans-104\"/>\n        <path id=\"DejaVuSans-32\"/>\n        <path d=\"M 52 44.1875 \nQ 55.375 50.25 60.0625 53.125 \nQ 64.75 56 71.09375 56 \nQ 79.640625 56 84.28125 50.015625 \nQ 88.921875 44.046875 88.921875 33.015625 \nL 88.921875 0 \nL 79.890625 0 \nL 79.890625 32.71875 \nQ 79.890625 40.578125 77.09375 44.375 \nQ 74.3125 48.1875 68.609375 48.1875 \nQ 61.625 48.1875 57.5625 43.546875 \nQ 53.515625 38.921875 53.515625 30.90625 \nL 53.515625 0 \nL 44.484375 0 \nL 44.484375 32.71875 \nQ 44.484375 40.625 41.703125 44.40625 \nQ 38.921875 48.1875 33.109375 48.1875 \nQ 26.21875 48.1875 22.15625 43.53125 \nQ 18.109375 38.875 18.109375 30.90625 \nL 18.109375 0 \nL 9.078125 0 \nL 9.078125 54.6875 \nL 18.109375 54.6875 \nL 18.109375 46.1875 \nQ 21.1875 51.21875 25.484375 53.609375 \nQ 29.78125 56 35.6875 56 \nQ 41.65625 56 45.828125 52.96875 \nQ 50 49.953125 52 44.1875 \nz\n\" id=\"DejaVuSans-109\"/>\n       </defs>\n       <use xlink:href=\"#DejaVuSans-83\"/>\n       <use x=\"63.476562\" xlink:href=\"#DejaVuSans-111\"/>\n       <use x=\"124.658203\" xlink:href=\"#DejaVuSans-117\"/>\n       <use x=\"188.037109\" xlink:href=\"#DejaVuSans-116\"/>\n       <use x=\"227.246094\" xlink:href=\"#DejaVuSans-104\"/>\n       <use x=\"290.625\" xlink:href=\"#DejaVuSans-32\"/>\n       <use x=\"322.412109\" xlink:href=\"#DejaVuSans-65\"/>\n       <use x=\"390.820312\" xlink:href=\"#DejaVuSans-109\"/>\n       <use x=\"488.232422\" xlink:href=\"#DejaVuSans-101\"/>\n       <use x=\"549.755859\" xlink:href=\"#DejaVuSans-114\"/>\n       <use x=\"590.869141\" xlink:href=\"#DejaVuSans-105\"/>\n       <use x=\"618.652344\" xlink:href=\"#DejaVuSans-99\"/>\n       <use x=\"673.632812\" xlink:href=\"#DejaVuSans-97\"/>\n      </g>\n     </g>\n    </g>\n    <g id=\"xtick_4\">\n     <g id=\"line2d_7\">\n      <path clip-path=\"url(#p08ce9103c3)\" d=\"M 365.15 333.36 \nL 365.15 7.2 \n\" style=\"fill:none;stroke:#ffffff;stroke-linecap:square;stroke-width:0.8;\"/>\n     </g>\n     <g id=\"line2d_8\">\n      <g>\n       <use style=\"fill:#555555;stroke:#555555;stroke-width:0.8;\" x=\"365.15\" xlink:href=\"#m5a7e82a8a4\" y=\"333.36\"/>\n      </g>\n     </g>\n     <g id=\"text_4\">\n      <!-- Europe -->\n      <g style=\"fill:#555555;\" transform=\"translate(367.909375 375.5225)rotate(-90)scale(0.1 -0.1)\">\n       <defs>\n        <path d=\"M 9.8125 72.90625 \nL 55.90625 72.90625 \nL 55.90625 64.59375 \nL 19.671875 64.59375 \nL 19.671875 43.015625 \nL 54.390625 43.015625 \nL 54.390625 34.71875 \nL 19.671875 34.71875 \nL 19.671875 8.296875 \nL 56.78125 8.296875 \nL 56.78125 0 \nL 9.8125 0 \nz\n\" id=\"DejaVuSans-69\"/>\n        <path d=\"M 18.109375 8.203125 \nL 18.109375 -20.796875 \nL 9.078125 -20.796875 \nL 9.078125 54.6875 \nL 18.109375 54.6875 \nL 18.109375 46.390625 \nQ 20.953125 51.265625 25.265625 53.625 \nQ 29.59375 56 35.59375 56 \nQ 45.5625 56 51.78125 48.09375 \nQ 58.015625 40.1875 58.015625 27.296875 \nQ 58.015625 14.40625 51.78125 6.484375 \nQ 45.5625 -1.421875 35.59375 -1.421875 \nQ 29.59375 -1.421875 25.265625 0.953125 \nQ 20.953125 3.328125 18.109375 8.203125 \nz\nM 48.6875 27.296875 \nQ 48.6875 37.203125 44.609375 42.84375 \nQ 40.53125 48.484375 33.40625 48.484375 \nQ 26.265625 48.484375 22.1875 42.84375 \nQ 18.109375 37.203125 18.109375 27.296875 \nQ 18.109375 17.390625 22.1875 11.75 \nQ 26.265625 6.109375 33.40625 6.109375 \nQ 40.53125 6.109375 44.609375 11.75 \nQ 48.6875 17.390625 48.6875 27.296875 \nz\n\" id=\"DejaVuSans-112\"/>\n       </defs>\n       <use xlink:href=\"#DejaVuSans-69\"/>\n       <use x=\"63.183594\" xlink:href=\"#DejaVuSans-117\"/>\n       <use x=\"126.5625\" xlink:href=\"#DejaVuSans-114\"/>\n       <use x=\"165.425781\" xlink:href=\"#DejaVuSans-111\"/>\n       <use x=\"226.607422\" xlink:href=\"#DejaVuSans-112\"/>\n       <use x=\"290.083984\" xlink:href=\"#DejaVuSans-101\"/>\n      </g>\n     </g>\n    </g>\n    <g id=\"xtick_5\">\n     <g id=\"line2d_9\">\n      <path clip-path=\"url(#p08ce9103c3)\" d=\"M 458.15 333.36 \nL 458.15 7.2 \n\" style=\"fill:none;stroke:#ffffff;stroke-linecap:square;stroke-width:0.8;\"/>\n     </g>\n     <g id=\"line2d_10\">\n      <g>\n       <use style=\"fill:#555555;stroke:#555555;stroke-width:0.8;\" x=\"458.15\" xlink:href=\"#m5a7e82a8a4\" y=\"333.36\"/>\n      </g>\n     </g>\n     <g id=\"text_5\">\n      <!-- Asia -->\n      <g style=\"fill:#555555;\" transform=\"translate(460.909375 361.31625)rotate(-90)scale(0.1 -0.1)\">\n       <use xlink:href=\"#DejaVuSans-65\"/>\n       <use x=\"68.408203\" xlink:href=\"#DejaVuSans-115\"/>\n       <use x=\"120.507812\" xlink:href=\"#DejaVuSans-105\"/>\n       <use x=\"148.291016\" xlink:href=\"#DejaVuSans-97\"/>\n      </g>\n     </g>\n    </g>\n    <g id=\"xtick_6\">\n     <g id=\"line2d_11\">\n      <path clip-path=\"url(#p08ce9103c3)\" d=\"M 551.15 333.36 \nL 551.15 7.2 \n\" style=\"fill:none;stroke:#ffffff;stroke-linecap:square;stroke-width:0.8;\"/>\n     </g>\n     <g id=\"line2d_12\">\n      <g>\n       <use style=\"fill:#555555;stroke:#555555;stroke-width:0.8;\" x=\"551.15\" xlink:href=\"#m5a7e82a8a4\" y=\"333.36\"/>\n      </g>\n     </g>\n     <g id=\"text_6\">\n      <!-- North America -->\n      <g style=\"fill:#555555;\" transform=\"translate(553.909375 412.756875)rotate(-90)scale(0.1 -0.1)\">\n       <defs>\n        <path d=\"M 9.8125 72.90625 \nL 23.09375 72.90625 \nL 55.421875 11.921875 \nL 55.421875 72.90625 \nL 64.984375 72.90625 \nL 64.984375 0 \nL 51.703125 0 \nL 19.390625 60.984375 \nL 19.390625 0 \nL 9.8125 0 \nz\n\" id=\"DejaVuSans-78\"/>\n       </defs>\n       <use xlink:href=\"#DejaVuSans-78\"/>\n       <use x=\"74.804688\" xlink:href=\"#DejaVuSans-111\"/>\n       <use x=\"135.986328\" xlink:href=\"#DejaVuSans-114\"/>\n       <use x=\"177.099609\" xlink:href=\"#DejaVuSans-116\"/>\n       <use x=\"216.308594\" xlink:href=\"#DejaVuSans-104\"/>\n       <use x=\"279.6875\" xlink:href=\"#DejaVuSans-32\"/>\n       <use x=\"311.474609\" xlink:href=\"#DejaVuSans-65\"/>\n       <use x=\"379.882812\" xlink:href=\"#DejaVuSans-109\"/>\n       <use x=\"477.294922\" xlink:href=\"#DejaVuSans-101\"/>\n       <use x=\"538.818359\" xlink:href=\"#DejaVuSans-114\"/>\n       <use x=\"579.931641\" xlink:href=\"#DejaVuSans-105\"/>\n       <use x=\"607.714844\" xlink:href=\"#DejaVuSans-99\"/>\n       <use x=\"662.695312\" xlink:href=\"#DejaVuSans-97\"/>\n      </g>\n     </g>\n    </g>\n    <g id=\"text_7\">\n     <!-- Continent -->\n     <g style=\"fill:#555555;\" transform=\"translate(289.318437 441.973437)scale(0.12 -0.12)\">\n      <defs>\n       <path d=\"M 64.40625 67.28125 \nL 64.40625 56.890625 \nQ 59.421875 61.53125 53.78125 63.8125 \nQ 48.140625 66.109375 41.796875 66.109375 \nQ 29.296875 66.109375 22.65625 58.46875 \nQ 16.015625 50.828125 16.015625 36.375 \nQ 16.015625 21.96875 22.65625 14.328125 \nQ 29.296875 6.6875 41.796875 6.6875 \nQ 48.140625 6.6875 53.78125 8.984375 \nQ 59.421875 11.28125 64.40625 15.921875 \nL 64.40625 5.609375 \nQ 59.234375 2.09375 53.4375 0.328125 \nQ 47.65625 -1.421875 41.21875 -1.421875 \nQ 24.65625 -1.421875 15.125 8.703125 \nQ 5.609375 18.84375 5.609375 36.375 \nQ 5.609375 53.953125 15.125 64.078125 \nQ 24.65625 74.21875 41.21875 74.21875 \nQ 47.75 74.21875 53.53125 72.484375 \nQ 59.328125 70.75 64.40625 67.28125 \nz\n\" id=\"DejaVuSans-67\"/>\n      </defs>\n      <use xlink:href=\"#DejaVuSans-67\"/>\n      <use x=\"69.824219\" xlink:href=\"#DejaVuSans-111\"/>\n      <use x=\"131.005859\" xlink:href=\"#DejaVuSans-110\"/>\n      <use x=\"194.384766\" xlink:href=\"#DejaVuSans-116\"/>\n      <use x=\"233.59375\" xlink:href=\"#DejaVuSans-105\"/>\n      <use x=\"261.376953\" xlink:href=\"#DejaVuSans-110\"/>\n      <use x=\"324.755859\" xlink:href=\"#DejaVuSans-101\"/>\n      <use x=\"386.279297\" xlink:href=\"#DejaVuSans-110\"/>\n      <use x=\"449.658203\" xlink:href=\"#DejaVuSans-116\"/>\n     </g>\n    </g>\n   </g>\n   <g id=\"matplotlib.axis_2\">\n    <g id=\"ytick_1\">\n     <g id=\"line2d_13\">\n      <path clip-path=\"url(#p08ce9103c3)\" d=\"M 39.65 333.36 \nL 597.65 333.36 \n\" style=\"fill:none;stroke:#ffffff;stroke-linecap:square;stroke-width:0.8;\"/>\n     </g>\n     <g id=\"line2d_14\">\n      <defs>\n       <path d=\"M 0 0 \nL -3.5 0 \n\" id=\"m6bc5de011b\" style=\"stroke:#555555;stroke-width:0.8;\"/>\n      </defs>\n      <g>\n       <use style=\"fill:#555555;stroke:#555555;stroke-width:0.8;\" x=\"39.65\" xlink:href=\"#m6bc5de011b\" y=\"333.36\"/>\n      </g>\n     </g>\n     <g id=\"text_8\">\n      <!-- 0 -->\n      <g style=\"fill:#555555;\" transform=\"translate(26.2875 337.159219)scale(0.1 -0.1)\">\n       <defs>\n        <path d=\"M 31.78125 66.40625 \nQ 24.171875 66.40625 20.328125 58.90625 \nQ 16.5 51.421875 16.5 36.375 \nQ 16.5 21.390625 20.328125 13.890625 \nQ 24.171875 6.390625 31.78125 6.390625 \nQ 39.453125 6.390625 43.28125 13.890625 \nQ 47.125 21.390625 47.125 36.375 \nQ 47.125 51.421875 43.28125 58.90625 \nQ 39.453125 66.40625 31.78125 66.40625 \nz\nM 31.78125 74.21875 \nQ 44.046875 74.21875 50.515625 64.515625 \nQ 56.984375 54.828125 56.984375 36.375 \nQ 56.984375 17.96875 50.515625 8.265625 \nQ 44.046875 -1.421875 31.78125 -1.421875 \nQ 19.53125 -1.421875 13.0625 8.265625 \nQ 6.59375 17.96875 6.59375 36.375 \nQ 6.59375 54.828125 13.0625 64.515625 \nQ 19.53125 74.21875 31.78125 74.21875 \nz\n\" id=\"DejaVuSans-48\"/>\n       </defs>\n       <use xlink:href=\"#DejaVuSans-48\"/>\n      </g>\n     </g>\n    </g>\n    <g id=\"ytick_2\">\n     <g id=\"line2d_15\">\n      <path clip-path=\"url(#p08ce9103c3)\" d=\"M 39.65 291.942857 \nL 597.65 291.942857 \n\" style=\"fill:none;stroke:#ffffff;stroke-linecap:square;stroke-width:0.8;\"/>\n     </g>\n     <g id=\"line2d_16\">\n      <g>\n       <use style=\"fill:#555555;stroke:#555555;stroke-width:0.8;\" x=\"39.65\" xlink:href=\"#m6bc5de011b\" y=\"291.942857\"/>\n      </g>\n     </g>\n     <g id=\"text_9\">\n      <!-- 250 -->\n      <g style=\"fill:#555555;\" transform=\"translate(13.5625 295.742076)scale(0.1 -0.1)\">\n       <defs>\n        <path d=\"M 19.1875 8.296875 \nL 53.609375 8.296875 \nL 53.609375 0 \nL 7.328125 0 \nL 7.328125 8.296875 \nQ 12.9375 14.109375 22.625 23.890625 \nQ 32.328125 33.6875 34.8125 36.53125 \nQ 39.546875 41.84375 41.421875 45.53125 \nQ 43.3125 49.21875 43.3125 52.78125 \nQ 43.3125 58.59375 39.234375 62.25 \nQ 35.15625 65.921875 28.609375 65.921875 \nQ 23.96875 65.921875 18.8125 64.3125 \nQ 13.671875 62.703125 7.8125 59.421875 \nL 7.8125 69.390625 \nQ 13.765625 71.78125 18.9375 73 \nQ 24.125 74.21875 28.421875 74.21875 \nQ 39.75 74.21875 46.484375 68.546875 \nQ 53.21875 62.890625 53.21875 53.421875 \nQ 53.21875 48.921875 51.53125 44.890625 \nQ 49.859375 40.875 45.40625 35.40625 \nQ 44.1875 33.984375 37.640625 27.21875 \nQ 31.109375 20.453125 19.1875 8.296875 \nz\n\" id=\"DejaVuSans-50\"/>\n        <path d=\"M 10.796875 72.90625 \nL 49.515625 72.90625 \nL 49.515625 64.59375 \nL 19.828125 64.59375 \nL 19.828125 46.734375 \nQ 21.96875 47.46875 24.109375 47.828125 \nQ 26.265625 48.1875 28.421875 48.1875 \nQ 40.625 48.1875 47.75 41.5 \nQ 54.890625 34.8125 54.890625 23.390625 \nQ 54.890625 11.625 47.5625 5.09375 \nQ 40.234375 -1.421875 26.90625 -1.421875 \nQ 22.3125 -1.421875 17.546875 -0.640625 \nQ 12.796875 0.140625 7.71875 1.703125 \nL 7.71875 11.625 \nQ 12.109375 9.234375 16.796875 8.0625 \nQ 21.484375 6.890625 26.703125 6.890625 \nQ 35.15625 6.890625 40.078125 11.328125 \nQ 45.015625 15.765625 45.015625 23.390625 \nQ 45.015625 31 40.078125 35.4375 \nQ 35.15625 39.890625 26.703125 39.890625 \nQ 22.75 39.890625 18.8125 39.015625 \nQ 14.890625 38.140625 10.796875 36.28125 \nz\n\" id=\"DejaVuSans-53\"/>\n       </defs>\n       <use xlink:href=\"#DejaVuSans-50\"/>\n       <use x=\"63.623047\" xlink:href=\"#DejaVuSans-53\"/>\n       <use x=\"127.246094\" xlink:href=\"#DejaVuSans-48\"/>\n      </g>\n     </g>\n    </g>\n    <g id=\"ytick_3\">\n     <g id=\"line2d_17\">\n      <path clip-path=\"url(#p08ce9103c3)\" d=\"M 39.65 250.525714 \nL 597.65 250.525714 \n\" style=\"fill:none;stroke:#ffffff;stroke-linecap:square;stroke-width:0.8;\"/>\n     </g>\n     <g id=\"line2d_18\">\n      <g>\n       <use style=\"fill:#555555;stroke:#555555;stroke-width:0.8;\" x=\"39.65\" xlink:href=\"#m6bc5de011b\" y=\"250.525714\"/>\n      </g>\n     </g>\n     <g id=\"text_10\">\n      <!-- 500 -->\n      <g style=\"fill:#555555;\" transform=\"translate(13.5625 254.324933)scale(0.1 -0.1)\">\n       <use xlink:href=\"#DejaVuSans-53\"/>\n       <use x=\"63.623047\" xlink:href=\"#DejaVuSans-48\"/>\n       <use x=\"127.246094\" xlink:href=\"#DejaVuSans-48\"/>\n      </g>\n     </g>\n    </g>\n    <g id=\"ytick_4\">\n     <g id=\"line2d_19\">\n      <path clip-path=\"url(#p08ce9103c3)\" d=\"M 39.65 209.108571 \nL 597.65 209.108571 \n\" style=\"fill:none;stroke:#ffffff;stroke-linecap:square;stroke-width:0.8;\"/>\n     </g>\n     <g id=\"line2d_20\">\n      <g>\n       <use style=\"fill:#555555;stroke:#555555;stroke-width:0.8;\" x=\"39.65\" xlink:href=\"#m6bc5de011b\" y=\"209.108571\"/>\n      </g>\n     </g>\n     <g id=\"text_11\">\n      <!-- 750 -->\n      <g style=\"fill:#555555;\" transform=\"translate(13.5625 212.90779)scale(0.1 -0.1)\">\n       <defs>\n        <path d=\"M 8.203125 72.90625 \nL 55.078125 72.90625 \nL 55.078125 68.703125 \nL 28.609375 0 \nL 18.3125 0 \nL 43.21875 64.59375 \nL 8.203125 64.59375 \nz\n\" id=\"DejaVuSans-55\"/>\n       </defs>\n       <use xlink:href=\"#DejaVuSans-55\"/>\n       <use x=\"63.623047\" xlink:href=\"#DejaVuSans-53\"/>\n       <use x=\"127.246094\" xlink:href=\"#DejaVuSans-48\"/>\n      </g>\n     </g>\n    </g>\n    <g id=\"ytick_5\">\n     <g id=\"line2d_21\">\n      <path clip-path=\"url(#p08ce9103c3)\" d=\"M 39.65 167.691429 \nL 597.65 167.691429 \n\" style=\"fill:none;stroke:#ffffff;stroke-linecap:square;stroke-width:0.8;\"/>\n     </g>\n     <g id=\"line2d_22\">\n      <g>\n       <use style=\"fill:#555555;stroke:#555555;stroke-width:0.8;\" x=\"39.65\" xlink:href=\"#m6bc5de011b\" y=\"167.691429\"/>\n      </g>\n     </g>\n     <g id=\"text_12\">\n      <!-- 1000 -->\n      <g style=\"fill:#555555;\" transform=\"translate(7.2 171.490647)scale(0.1 -0.1)\">\n       <defs>\n        <path d=\"M 12.40625 8.296875 \nL 28.515625 8.296875 \nL 28.515625 63.921875 \nL 10.984375 60.40625 \nL 10.984375 69.390625 \nL 28.421875 72.90625 \nL 38.28125 72.90625 \nL 38.28125 8.296875 \nL 54.390625 8.296875 \nL 54.390625 0 \nL 12.40625 0 \nz\n\" id=\"DejaVuSans-49\"/>\n       </defs>\n       <use xlink:href=\"#DejaVuSans-49\"/>\n       <use x=\"63.623047\" xlink:href=\"#DejaVuSans-48\"/>\n       <use x=\"127.246094\" xlink:href=\"#DejaVuSans-48\"/>\n       <use x=\"190.869141\" xlink:href=\"#DejaVuSans-48\"/>\n      </g>\n     </g>\n    </g>\n    <g id=\"ytick_6\">\n     <g id=\"line2d_23\">\n      <path clip-path=\"url(#p08ce9103c3)\" d=\"M 39.65 126.274286 \nL 597.65 126.274286 \n\" style=\"fill:none;stroke:#ffffff;stroke-linecap:square;stroke-width:0.8;\"/>\n     </g>\n     <g id=\"line2d_24\">\n      <g>\n       <use style=\"fill:#555555;stroke:#555555;stroke-width:0.8;\" x=\"39.65\" xlink:href=\"#m6bc5de011b\" y=\"126.274286\"/>\n      </g>\n     </g>\n     <g id=\"text_13\">\n      <!-- 1250 -->\n      <g style=\"fill:#555555;\" transform=\"translate(7.2 130.073504)scale(0.1 -0.1)\">\n       <use xlink:href=\"#DejaVuSans-49\"/>\n       <use x=\"63.623047\" xlink:href=\"#DejaVuSans-50\"/>\n       <use x=\"127.246094\" xlink:href=\"#DejaVuSans-53\"/>\n       <use x=\"190.869141\" xlink:href=\"#DejaVuSans-48\"/>\n      </g>\n     </g>\n    </g>\n    <g id=\"ytick_7\">\n     <g id=\"line2d_25\">\n      <path clip-path=\"url(#p08ce9103c3)\" d=\"M 39.65 84.857143 \nL 597.65 84.857143 \n\" style=\"fill:none;stroke:#ffffff;stroke-linecap:square;stroke-width:0.8;\"/>\n     </g>\n     <g id=\"line2d_26\">\n      <g>\n       <use style=\"fill:#555555;stroke:#555555;stroke-width:0.8;\" x=\"39.65\" xlink:href=\"#m6bc5de011b\" y=\"84.857143\"/>\n      </g>\n     </g>\n     <g id=\"text_14\">\n      <!-- 1500 -->\n      <g style=\"fill:#555555;\" transform=\"translate(7.2 88.656362)scale(0.1 -0.1)\">\n       <use xlink:href=\"#DejaVuSans-49\"/>\n       <use x=\"63.623047\" xlink:href=\"#DejaVuSans-53\"/>\n       <use x=\"127.246094\" xlink:href=\"#DejaVuSans-48\"/>\n       <use x=\"190.869141\" xlink:href=\"#DejaVuSans-48\"/>\n      </g>\n     </g>\n    </g>\n    <g id=\"ytick_8\">\n     <g id=\"line2d_27\">\n      <path clip-path=\"url(#p08ce9103c3)\" d=\"M 39.65 43.44 \nL 597.65 43.44 \n\" style=\"fill:none;stroke:#ffffff;stroke-linecap:square;stroke-width:0.8;\"/>\n     </g>\n     <g id=\"line2d_28\">\n      <g>\n       <use style=\"fill:#555555;stroke:#555555;stroke-width:0.8;\" x=\"39.65\" xlink:href=\"#m6bc5de011b\" y=\"43.44\"/>\n      </g>\n     </g>\n     <g id=\"text_15\">\n      <!-- 1750 -->\n      <g style=\"fill:#555555;\" transform=\"translate(7.2 47.239219)scale(0.1 -0.1)\">\n       <use xlink:href=\"#DejaVuSans-49\"/>\n       <use x=\"63.623047\" xlink:href=\"#DejaVuSans-55\"/>\n       <use x=\"127.246094\" xlink:href=\"#DejaVuSans-53\"/>\n       <use x=\"190.869141\" xlink:href=\"#DejaVuSans-48\"/>\n      </g>\n     </g>\n    </g>\n   </g>\n   <g id=\"patch_3\">\n    <path clip-path=\"url(#p08ce9103c3)\" d=\"M 62.9 333.36 \nL 109.4 333.36 \nL 109.4 243.567634 \nL 62.9 243.567634 \nz\n\" style=\"fill:#e24a33;\"/>\n   </g>\n   <g id=\"patch_4\">\n    <path clip-path=\"url(#p08ce9103c3)\" d=\"M 155.9 333.36 \nL 202.4 333.36 \nL 202.4 224.847086 \nL 155.9 224.847086 \nz\n\" style=\"fill:#e24a33;\"/>\n   </g>\n   <g id=\"patch_5\">\n    <path clip-path=\"url(#p08ce9103c3)\" d=\"M 248.9 333.36 \nL 295.4 333.36 \nL 295.4 180.779246 \nL 248.9 180.779246 \nz\n\" style=\"fill:#e24a33;\"/>\n   </g>\n   <g id=\"patch_6\">\n    <path clip-path=\"url(#p08ce9103c3)\" d=\"M 341.9 333.36 \nL 388.4 333.36 \nL 388.4 102.252343 \nL 341.9 102.252343 \nz\n\" style=\"fill:#e24a33;\"/>\n   </g>\n   <g id=\"patch_7\">\n    <path clip-path=\"url(#p08ce9103c3)\" d=\"M 434.9 333.36 \nL 481.4 333.36 \nL 481.4 58.018834 \nL 434.9 58.018834 \nz\n\" style=\"fill:#e24a33;\"/>\n   </g>\n   <g id=\"patch_8\">\n    <path clip-path=\"url(#p08ce9103c3)\" d=\"M 527.9 333.36 \nL 574.4 333.36 \nL 574.4 22.731429 \nL 527.9 22.731429 \nz\n\" style=\"fill:#e24a33;\"/>\n   </g>\n   <g id=\"patch_9\">\n    <path d=\"M 39.65 333.36 \nL 39.65 7.2 \n\" style=\"fill:none;stroke:#ffffff;stroke-linecap:square;stroke-linejoin:miter;\"/>\n   </g>\n   <g id=\"patch_10\">\n    <path d=\"M 597.65 333.36 \nL 597.65 7.2 \n\" style=\"fill:none;stroke:#ffffff;stroke-linecap:square;stroke-linejoin:miter;\"/>\n   </g>\n   <g id=\"patch_11\">\n    <path d=\"M 39.65 333.36 \nL 597.65 333.36 \n\" style=\"fill:none;stroke:#ffffff;stroke-linecap:square;stroke-linejoin:miter;\"/>\n   </g>\n   <g id=\"patch_12\">\n    <path d=\"M 39.65 7.2 \nL 597.65 7.2 \n\" style=\"fill:none;stroke:#ffffff;stroke-linecap:square;stroke-linejoin:miter;\"/>\n   </g>\n   <g id=\"legend_1\">\n    <g id=\"patch_13\">\n     <path d=\"M 46.65 29.878125 \nL 142.553125 29.878125 \nQ 144.553125 29.878125 144.553125 27.878125 \nL 144.553125 14.2 \nQ 144.553125 12.2 142.553125 12.2 \nL 46.65 12.2 \nQ 44.65 12.2 44.65 14.2 \nL 44.65 27.878125 \nQ 44.65 29.878125 46.65 29.878125 \nz\n\" style=\"fill:#e5e5e5;opacity:0.8;stroke:#cccccc;stroke-linejoin:miter;stroke-width:0.5;\"/>\n    </g>\n    <g id=\"patch_14\">\n     <path d=\"M 48.65 23.798437 \nL 68.65 23.798437 \nL 68.65 16.798437 \nL 48.65 16.798437 \nz\n\" style=\"fill:#e24a33;\"/>\n    </g>\n    <g id=\"text_16\">\n     <!-- Airports sum -->\n     <g transform=\"translate(76.65 23.798437)scale(0.1 -0.1)\">\n      <use xlink:href=\"#DejaVuSans-65\"/>\n      <use x=\"68.408203\" xlink:href=\"#DejaVuSans-105\"/>\n      <use x=\"96.191406\" xlink:href=\"#DejaVuSans-114\"/>\n      <use x=\"137.304688\" xlink:href=\"#DejaVuSans-112\"/>\n      <use x=\"200.78125\" xlink:href=\"#DejaVuSans-111\"/>\n      <use x=\"261.962891\" xlink:href=\"#DejaVuSans-114\"/>\n      <use x=\"303.076172\" xlink:href=\"#DejaVuSans-116\"/>\n      <use x=\"342.285156\" xlink:href=\"#DejaVuSans-115\"/>\n      <use x=\"394.384766\" xlink:href=\"#DejaVuSans-32\"/>\n      <use x=\"426.171875\" xlink:href=\"#DejaVuSans-115\"/>\n      <use x=\"478.271484\" xlink:href=\"#DejaVuSans-117\"/>\n      <use x=\"541.650391\" xlink:href=\"#DejaVuSans-109\"/>\n     </g>\n    </g>\n   </g>\n  </g>\n </g>\n <defs>\n  <clipPath id=\"p08ce9103c3\">\n   <rect height=\"326.16\" width=\"558\" x=\"39.65\" y=\"7.2\"/>\n  </clipPath>\n </defs>\n</svg>\n",
      "image/png": "[encoded data removed]"
     },
     "metadata": {}
    }
   ],
   "source": [
    "joined.toPandas().plot.bar(x=\"Continent\", y=\"Airports sum\", figsize=(10, 6))"
   ]
  }
 ],
 "metadata": {
  "kernelspec": {
   "display_name": "Python 3.8.5 64-bit ('spk')",
   "language": "python",
   "name": "python38564bitspk7ccd36030465488981be9a4d844688af"
  },
  "language_info": {
   "codemirror_mode": {
    "name": "ipython",
    "version": 3
   },
   "file_extension": ".py",
   "mimetype": "text/x-python",
   "name": "python",
   "nbconvert_exporter": "python",
   "pygments_lexer": "ipython3",
   "version": "3.8.5-final"
  }
 },
 "nbformat": 4,
 "nbformat_minor": 2
}