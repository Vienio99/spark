{
 "cells": [
  {
   "cell_type": "markdown",
   "metadata": {},
   "source": [
    "# Zadania\n",
    "1. Utwórz dwie nowe kolumny w ramce \"Countries\", w których powierzchnia i gęstość zaludnienia wyrażone sa odpowiednio w milach kwadratowych i osobach na milę kwadratową. \n",
    "  - Przelicznik: 1 mila kwadratowa = 0.38610 km kwadratowego (powierzchnię należy pomnożyć, a gęstość zaludnienia podzielić przez ten współczynnik)\n",
    "  - Typami nowych kolumn mają być odpowiednio integer (powierzchnia) i float (gęstość). Zaokrąglanie do integer: \"int(x)\"\n",
    "  - Nazwy nowych kolumn proszę ustawić odpowiednio na '<tt>Area (sq mi)</tt>' oraz '<tt>Pop Density (per sq mi)</tt>'\n",
    "2. Na wykresie scatterplot narysuj zależność liczby lotnisk od powierzchni kraju. \n",
    "  - Dane potrzebne do wykresu są w dwóch ramkach (Countries i Airports), konieczne więc będzie ich złączenie (join).\n",
    "  - Wskazówka: w pierwszym etapie stwórz ramkę agregującą liczbę lotnisk w zależności od kraju. W drugim etapie złącz (join) tę ramkę z ramką countries. Kolumną wspólną (warunkiem złączenia) będzie Country.\n",
    "  - Nie zawsze nazwy tych samych krajów będą identyczne w obu ramkach, co może stanowić problem (złączenie nie powstanie). Zastanów się jak przy pomocy mechanizmu złączeń wykryć, które nazwy się różnią. Stwórz odpowiednią ramkę, która zawiera takie nazwy. \n",
    "  - Następnie zmień nazwy kilku największych państw w jednej z ramek, tak żeby ujednolicić nazwy. Można to zrobić funkcją replace:\n",
    "<br><tt>cdf=cdf.replace(['Korea, South', 'Korea, North'], ['South Korea', 'North Korea'], 'Country')</tt>\n",
    "3. Do ramki \"Countries\" dodaj nową kolumnę \"Continent\" (według klasyfikacji Africa, Asia, Europe, North America, South America, Antarctica, Australia/Oceania). \n",
    "  - Skorzystaj z kolumny \"Region\" i pomocniczej funkcji (UDF) mapującej region na kontynent.\n",
    "4. Oblicz, ile lotnisk jest na poszczególnych kontynentach. To zadanie również wymaga złączenia ramek \"Countries\" i \"Airports\". Wynik przedstaw na wykresie słupkowym.\n"
   ]
  },
  {
   "cell_type": "code",
   "execution_count": 402,
   "metadata": {},
   "outputs": [],
   "source": [
    "from pyspark.sql import SparkSession"
   ]
  },
  {
   "cell_type": "code",
   "execution_count": 403,
   "metadata": {},
   "outputs": [],
   "source": [
    "import pandas as pd"
   ]
  },
  {
   "cell_type": "code",
   "execution_count": 404,
   "metadata": {},
   "outputs": [],
   "source": [
    "import numpy as np"
   ]
  },
  {
   "cell_type": "code",
   "execution_count": 405,
   "metadata": {},
   "outputs": [],
   "source": [
    "spark = SparkSession.builder.getOrCreate()"
   ]
  },
  {
   "cell_type": "code",
   "execution_count": 406,
   "metadata": {},
   "outputs": [],
   "source": [
    "import matplotlib\n",
    "import matplotlib.pyplot as plt\n",
    "matplotlib.style.use('ggplot')"
   ]
  },
  {
   "cell_type": "code",
   "execution_count": 407,
   "metadata": {},
   "outputs": [],
   "source": [
    "# Wbudowane funkcje, które mogą być przydatne:\n",
    "# - udf: służy do tworzenia funkcji użytkownika\n",
    "# - trim: usuwa białe spacje z początku i końca stringu\n",
    "# - isnull: testuje, czy wartość jest pusta\n",
    "from pyspark.sql.functions import col, udf, trim, isnull\n",
    "from pyspark.sql.types import FloatType, IntegerType"
   ]
  },
  {
   "cell_type": "code",
   "execution_count": 408,
   "metadata": {},
   "outputs": [],
   "source": [
    "def to_float (s) :\n",
    "   return float(s.replace(',','.'))\n",
    "float_udf = udf(to_float , FloatType())"
   ]
  },
  {
   "cell_type": "code",
   "execution_count": 409,
   "metadata": {
    "scrolled": false
   },
   "outputs": [
    {
     "output_type": "display_data",
     "data": {
      "text/plain": "             Country                               Region  Population  \\\n0       Afghanistan         ASIA (EX. NEAR EAST)             31056997   \n1           Albania   EASTERN EUROPE                          3581655   \n2           Algeria   NORTHERN AFRICA                        32930091   \n3    American Samoa   OCEANIA                                   57794   \n4           Andorra   WESTERN EUROPE                            71201   \n..               ...                                  ...         ...   \n222       West Bank   NEAR EAST                               2460492   \n223  Western Sahara   NORTHERN AFRICA                          273008   \n224           Yemen   NEAR EAST                              21456188   \n225          Zambia   SUB-SAHARAN AFRICA                     11502010   \n226        Zimbabwe   SUB-SAHARAN AFRICA                     12236805   \n\n     Area (sq mi) Pop Density (per sq mi) Coastline (coast/area ratio)  \\\n0          647500                    48,0                         0,00   \n1           28748                   124,6                         1,26   \n2         2381740                    13,8                         0,04   \n3             199                   290,4                        58,29   \n4             468                   152,1                         0,00   \n..            ...                     ...                          ...   \n222          5860                   419,9                         0,00   \n223        266000                     1,0                         0,42   \n224        527970                    40,6                         0,36   \n225        752614                    15,3                         0,00   \n226        390580                    31,3                         0,00   \n\n    Net migration Infant mortality (per 1000 births)  GDP ($ per capita)  \\\n0           23,06                             163,07               700.0   \n1           -4,93                              21,52              4500.0   \n2           -0,39                                 31              6000.0   \n3          -20,71                               9,27              8000.0   \n4             6,6                               4,05             19000.0   \n..            ...                                ...                 ...   \n222          2,98                              19,62               800.0   \n223          None                               None                 NaN   \n224             0                               61,5               800.0   \n225             0                              88,29               800.0   \n226             0                              67,69              1900.0   \n\n    Literacy (%) Phones (per 1000) Arable (%) Crops (%) Other (%) Climate  \\\n0           36,0               3,2      12,13      0,22     87,65       1   \n1           86,5              71,2      21,09      4,42     74,49       3   \n2           70,0              78,1       3,22      0,25     96,53       1   \n3           97,0             259,5         10        15        75       2   \n4          100,0             497,2       2,22         0     97,78       3   \n..           ...               ...        ...       ...       ...     ...   \n222         None             145,2       16,9     18,97     64,13       3   \n223         None              None       0,02         0     99,98       1   \n224         50,2              37,2       2,78      0,24     96,98       1   \n225         80,6               8,2       7,08      0,03      92,9       2   \n226         90,7              26,8       8,32      0,34     91,34       2   \n\n    Birthrate Deathrate Agriculture Industry Service  \n0        46,6     20,34        0,38     0,24    0,38  \n1       15,11      5,22       0,232    0,188   0,579  \n2       17,14      4,61       0,101      0,6   0,298  \n3       22,46      3,27        None     None    None  \n4        8,71      6,25        None     None    None  \n..        ...       ...         ...      ...     ...  \n222     31,67      3,92        0,09     0,28    0,63  \n223      None      None        None     None     0,4  \n224     42,89       8,3       0,135    0,472   0,393  \n225        41     19,93        0,22     0,29   0,489  \n226     28,01     21,84       0,179    0,243   0,579  \n\n[227 rows x 20 columns]",
      "text/html": "<div>\n<style scoped>\n    .dataframe tbody tr th:only-of-type {\n        vertical-align: middle;\n    }\n\n    .dataframe tbody tr th {\n        vertical-align: top;\n    }\n\n    .dataframe thead th {\n        text-align: right;\n    }\n</style>\n<table border=\"1\" class=\"dataframe\">\n  <thead>\n    <tr style=\"text-align: right;\">\n      <th></th>\n      <th>Country</th>\n      <th>Region</th>\n      <th>Population</th>\n      <th>Area (sq mi)</th>\n      <th>Pop Density (per sq mi)</th>\n      <th>Coastline (coast/area ratio)</th>\n      <th>Net migration</th>\n      <th>Infant mortality (per 1000 births)</th>\n      <th>GDP ($ per capita)</th>\n      <th>Literacy (%)</th>\n      <th>Phones (per 1000)</th>\n      <th>Arable (%)</th>\n      <th>Crops (%)</th>\n      <th>Other (%)</th>\n      <th>Climate</th>\n      <th>Birthrate</th>\n      <th>Deathrate</th>\n      <th>Agriculture</th>\n      <th>Industry</th>\n      <th>Service</th>\n    </tr>\n  </thead>\n  <tbody>\n    <tr>\n      <th>0</th>\n      <td>Afghanistan</td>\n      <td>ASIA (EX. NEAR EAST)</td>\n      <td>31056997</td>\n      <td>647500</td>\n      <td>48,0</td>\n      <td>0,00</td>\n      <td>23,06</td>\n      <td>163,07</td>\n      <td>700.0</td>\n      <td>36,0</td>\n      <td>3,2</td>\n      <td>12,13</td>\n      <td>0,22</td>\n      <td>87,65</td>\n      <td>1</td>\n      <td>46,6</td>\n      <td>20,34</td>\n      <td>0,38</td>\n      <td>0,24</td>\n      <td>0,38</td>\n    </tr>\n    <tr>\n      <th>1</th>\n      <td>Albania</td>\n      <td>EASTERN EUROPE</td>\n      <td>3581655</td>\n      <td>28748</td>\n      <td>124,6</td>\n      <td>1,26</td>\n      <td>-4,93</td>\n      <td>21,52</td>\n      <td>4500.0</td>\n      <td>86,5</td>\n      <td>71,2</td>\n      <td>21,09</td>\n      <td>4,42</td>\n      <td>74,49</td>\n      <td>3</td>\n      <td>15,11</td>\n      <td>5,22</td>\n      <td>0,232</td>\n      <td>0,188</td>\n      <td>0,579</td>\n    </tr>\n    <tr>\n      <th>2</th>\n      <td>Algeria</td>\n      <td>NORTHERN AFRICA</td>\n      <td>32930091</td>\n      <td>2381740</td>\n      <td>13,8</td>\n      <td>0,04</td>\n      <td>-0,39</td>\n      <td>31</td>\n      <td>6000.0</td>\n      <td>70,0</td>\n      <td>78,1</td>\n      <td>3,22</td>\n      <td>0,25</td>\n      <td>96,53</td>\n      <td>1</td>\n      <td>17,14</td>\n      <td>4,61</td>\n      <td>0,101</td>\n      <td>0,6</td>\n      <td>0,298</td>\n    </tr>\n    <tr>\n      <th>3</th>\n      <td>American Samoa</td>\n      <td>OCEANIA</td>\n      <td>57794</td>\n      <td>199</td>\n      <td>290,4</td>\n      <td>58,29</td>\n      <td>-20,71</td>\n      <td>9,27</td>\n      <td>8000.0</td>\n      <td>97,0</td>\n      <td>259,5</td>\n      <td>10</td>\n      <td>15</td>\n      <td>75</td>\n      <td>2</td>\n      <td>22,46</td>\n      <td>3,27</td>\n      <td>None</td>\n      <td>None</td>\n      <td>None</td>\n    </tr>\n    <tr>\n      <th>4</th>\n      <td>Andorra</td>\n      <td>WESTERN EUROPE</td>\n      <td>71201</td>\n      <td>468</td>\n      <td>152,1</td>\n      <td>0,00</td>\n      <td>6,6</td>\n      <td>4,05</td>\n      <td>19000.0</td>\n      <td>100,0</td>\n      <td>497,2</td>\n      <td>2,22</td>\n      <td>0</td>\n      <td>97,78</td>\n      <td>3</td>\n      <td>8,71</td>\n      <td>6,25</td>\n      <td>None</td>\n      <td>None</td>\n      <td>None</td>\n    </tr>\n    <tr>\n      <th>...</th>\n      <td>...</td>\n      <td>...</td>\n      <td>...</td>\n      <td>...</td>\n      <td>...</td>\n      <td>...</td>\n      <td>...</td>\n      <td>...</td>\n      <td>...</td>\n      <td>...</td>\n      <td>...</td>\n      <td>...</td>\n      <td>...</td>\n      <td>...</td>\n      <td>...</td>\n      <td>...</td>\n      <td>...</td>\n      <td>...</td>\n      <td>...</td>\n      <td>...</td>\n    </tr>\n    <tr>\n      <th>222</th>\n      <td>West Bank</td>\n      <td>NEAR EAST</td>\n      <td>2460492</td>\n      <td>5860</td>\n      <td>419,9</td>\n      <td>0,00</td>\n      <td>2,98</td>\n      <td>19,62</td>\n      <td>800.0</td>\n      <td>None</td>\n      <td>145,2</td>\n      <td>16,9</td>\n      <td>18,97</td>\n      <td>64,13</td>\n      <td>3</td>\n      <td>31,67</td>\n      <td>3,92</td>\n      <td>0,09</td>\n      <td>0,28</td>\n      <td>0,63</td>\n    </tr>\n    <tr>\n      <th>223</th>\n      <td>Western Sahara</td>\n      <td>NORTHERN AFRICA</td>\n      <td>273008</td>\n      <td>266000</td>\n      <td>1,0</td>\n      <td>0,42</td>\n      <td>None</td>\n      <td>None</td>\n      <td>NaN</td>\n      <td>None</td>\n      <td>None</td>\n      <td>0,02</td>\n      <td>0</td>\n      <td>99,98</td>\n      <td>1</td>\n      <td>None</td>\n      <td>None</td>\n      <td>None</td>\n      <td>None</td>\n      <td>0,4</td>\n    </tr>\n    <tr>\n      <th>224</th>\n      <td>Yemen</td>\n      <td>NEAR EAST</td>\n      <td>21456188</td>\n      <td>527970</td>\n      <td>40,6</td>\n      <td>0,36</td>\n      <td>0</td>\n      <td>61,5</td>\n      <td>800.0</td>\n      <td>50,2</td>\n      <td>37,2</td>\n      <td>2,78</td>\n      <td>0,24</td>\n      <td>96,98</td>\n      <td>1</td>\n      <td>42,89</td>\n      <td>8,3</td>\n      <td>0,135</td>\n      <td>0,472</td>\n      <td>0,393</td>\n    </tr>\n    <tr>\n      <th>225</th>\n      <td>Zambia</td>\n      <td>SUB-SAHARAN AFRICA</td>\n      <td>11502010</td>\n      <td>752614</td>\n      <td>15,3</td>\n      <td>0,00</td>\n      <td>0</td>\n      <td>88,29</td>\n      <td>800.0</td>\n      <td>80,6</td>\n      <td>8,2</td>\n      <td>7,08</td>\n      <td>0,03</td>\n      <td>92,9</td>\n      <td>2</td>\n      <td>41</td>\n      <td>19,93</td>\n      <td>0,22</td>\n      <td>0,29</td>\n      <td>0,489</td>\n    </tr>\n    <tr>\n      <th>226</th>\n      <td>Zimbabwe</td>\n      <td>SUB-SAHARAN AFRICA</td>\n      <td>12236805</td>\n      <td>390580</td>\n      <td>31,3</td>\n      <td>0,00</td>\n      <td>0</td>\n      <td>67,69</td>\n      <td>1900.0</td>\n      <td>90,7</td>\n      <td>26,8</td>\n      <td>8,32</td>\n      <td>0,34</td>\n      <td>91,34</td>\n      <td>2</td>\n      <td>28,01</td>\n      <td>21,84</td>\n      <td>0,179</td>\n      <td>0,243</td>\n      <td>0,579</td>\n    </tr>\n  </tbody>\n</table>\n<p>227 rows × 20 columns</p>\n</div>"
     },
     "metadata": {}
    }
   ],
   "source": [
    "countries = spark.read.csv(\"countries of the world.csv\", inferSchema=True, header=True)\n",
    "\n",
    "# Usuwa kropki z wszystkich nazw kolumn (powodują wiele błędów, prawdopodobnie bug w Sparku)\n",
    "# (Nb. wszystkie inne metody zmiany tych nazw (np. użycie columnRenamed) zawiodły)\n",
    "new_columns = [s.replace('.','') for s in countries.columns]\n",
    "countries = countries.toDF(*new_columns) # tutaj '*' to operator \"splat\" -- robi z tablicy listę argumentów\n",
    "\n",
    "# Tak można ustawić wyświetlanie większej liczby wierszy w Jupyterze\n",
    "pd.set_option('display.max_rows', 20)\n",
    "display(countries.toPandas())"
   ]
  },
  {
   "cell_type": "code",
   "execution_count": 410,
   "metadata": {},
   "outputs": [],
   "source": [
    "# Utworzenie nowej ramki 'cdf':\n",
    "# - wartosci puste wypelnione \"-1\", zeby nie usuwac wierszy\n",
    "# - trim stringów (w nazwach występują niepożądane spacje na końcu)\n",
    "# - konwersja wszystkich kolumn zmiennoprzecinkowych na float\n",
    "# - zmiana 'sq mi' na 'sq km', bo w zbiorze wartości są faktycznie w km^2, a nie milach^2\n",
    "cdf = countries.na.fill(\"-1\").select( \n",
    "                 trim(col('Country')).alias('Country'),\\\n",
    "                 trim(col('Region')).alias('Region'),'Population',\\\n",
    "                 col('`Area (sq mi)`').alias('Area (sq km)'),\\\n",
    "                 float_udf('`Pop Density (per sq mi)`').alias('Pop Density (per sq km)'),\\\n",
    "                 float_udf('Coastline (coast/area ratio)').alias('Coastline (coast/area ratio)'),\\\n",
    "                 float_udf('Net migration').alias('Net migration'),\\\n",
    "                 float_udf('Infant mortality (per 1000 births)').alias('Infant mortality (per 1000 births)'),\\\n",
    "                 'GDP ($ per capita)',\\\n",
    "                 float_udf('Literacy (%)').alias('Literacy (%)'),\\\n",
    "                 float_udf('Phones (per 1000)').alias('Phones (per 1000)'),\\\n",
    "                 float_udf('Arable (%)').alias('Arable (%)'),\\\n",
    "                 float_udf('Crops (%)').alias('Crops (%)'),\\\n",
    "                 float_udf('Other (%)').alias('Other (%)'),\\\n",
    "                 float_udf('Birthrate').alias('Birthrate'),\\\n",
    "                 float_udf('Deathrate').alias('Deathrate'),\\\n",
    "                 float_udf('Agriculture').alias('Agriculture'),\\\n",
    "                 float_udf('Industry').alias('Industry'),\\\n",
    "                 float_udf('Service').alias('Service'))"
   ]
  },
  {
   "cell_type": "markdown",
   "metadata": {},
   "source": [
    "# Zadanie 1: nowe kolumny"
   ]
  },
  {
   "cell_type": "code",
   "execution_count": 411,
   "metadata": {},
   "outputs": [
    {
     "output_type": "execute_result",
     "data": {
      "text/plain": [
       "            Country                Region  Population  Area (sq km)  \\\n",
       "0       Afghanistan  ASIA (EX. NEAR EAST)    31056997        647500   \n",
       "1           Albania        EASTERN EUROPE     3581655         28748   \n",
       "2           Algeria       NORTHERN AFRICA    32930091       2381740   \n",
       "3    American Samoa               OCEANIA       57794           199   \n",
       "4           Andorra        WESTERN EUROPE       71201           468   \n",
       "..              ...                   ...         ...           ...   \n",
       "222       West Bank             NEAR EAST     2460492          5860   \n",
       "223  Western Sahara       NORTHERN AFRICA      273008        266000   \n",
       "224           Yemen             NEAR EAST    21456188        527970   \n",
       "225          Zambia    SUB-SAHARAN AFRICA    11502010        752614   \n",
       "226        Zimbabwe    SUB-SAHARAN AFRICA    12236805        390580   \n",
       "\n",
       "     Pop Density (per sq km)  Coastline (coast/area ratio)  Net migration  \\\n",
       "0                  48.000000                      0.000000      23.059999   \n",
       "1                 124.599998                      1.260000      -4.930000   \n",
       "2                  13.800000                      0.040000      -0.390000   \n",
       "3                 290.399994                     58.290001     -20.709999   \n",
       "4                 152.100006                      0.000000       6.600000   \n",
       "..                       ...                           ...            ...   \n",
       "222               419.899994                      0.000000       2.980000   \n",
       "223                 1.000000                      0.420000      -1.000000   \n",
       "224                40.599998                      0.360000       0.000000   \n",
       "225                15.300000                      0.000000       0.000000   \n",
       "226                31.299999                      0.000000       0.000000   \n",
       "\n",
       "     Infant mortality (per 1000 births)  GDP ($ per capita)  Literacy (%)  \\\n",
       "0                            163.070007               700.0     36.000000   \n",
       "1                             21.520000              4500.0     86.500000   \n",
       "2                             31.000000              6000.0     70.000000   \n",
       "3                              9.270000              8000.0     97.000000   \n",
       "4                              4.050000             19000.0    100.000000   \n",
       "..                                  ...                 ...           ...   \n",
       "222                           19.620001               800.0     -1.000000   \n",
       "223                           -1.000000                 NaN     -1.000000   \n",
       "224                           61.500000               800.0     50.200001   \n",
       "225                           88.290001               800.0     80.599998   \n",
       "226                           67.690002              1900.0     90.699997   \n",
       "\n",
       "     Phones (per 1000)  Arable (%)  Crops (%)  Other (%)  Birthrate  \\\n",
       "0             3.200000       12.13   0.220000  87.650002  46.599998   \n",
       "1            71.199997       21.09   4.420000  74.489998  15.110000   \n",
       "2            78.099998        3.22   0.250000  96.529999  17.139999   \n",
       "3           259.500000       10.00  15.000000  75.000000  22.459999   \n",
       "4           497.200012        2.22   0.000000  97.779999   8.710000   \n",
       "..                 ...         ...        ...        ...        ...   \n",
       "222         145.199997       16.90  18.969999  64.129997  31.670000   \n",
       "223          -1.000000        0.02   0.000000  99.980003  -1.000000   \n",
       "224          37.200001        2.78   0.240000  96.980003  42.889999   \n",
       "225           8.200000        7.08   0.030000  92.900002  41.000000   \n",
       "226          26.799999        8.32   0.340000  91.339996  28.010000   \n",
       "\n",
       "     Deathrate  Agriculture  Industry  Service  \n",
       "0        20.34        0.380     0.240    0.380  \n",
       "1         5.22        0.232     0.188    0.579  \n",
       "2         4.61        0.101     0.600    0.298  \n",
       "3         3.27       -1.000    -1.000   -1.000  \n",
       "4         6.25       -1.000    -1.000   -1.000  \n",
       "..         ...          ...       ...      ...  \n",
       "222       3.92        0.090     0.280    0.630  \n",
       "223      -1.00       -1.000    -1.000    0.400  \n",
       "224       8.30        0.135     0.472    0.393  \n",
       "225      19.93        0.220     0.290    0.489  \n",
       "226      21.84        0.179     0.243    0.579  \n",
       "\n",
       "[227 rows x 19 columns]"
      ],
      "text/html": "<div>\n<style scoped>\n    .dataframe tbody tr th:only-of-type {\n        vertical-align: middle;\n    }\n\n    .dataframe tbody tr th {\n        vertical-align: top;\n    }\n\n    .dataframe thead th {\n        text-align: right;\n    }\n</style>\n<table border=\"1\" class=\"dataframe\">\n  <thead>\n    <tr style=\"text-align: right;\">\n      <th></th>\n      <th>Country</th>\n      <th>Region</th>\n      <th>Population</th>\n      <th>Area (sq km)</th>\n      <th>Pop Density (per sq km)</th>\n      <th>Coastline (coast/area ratio)</th>\n      <th>Net migration</th>\n      <th>Infant mortality (per 1000 births)</th>\n      <th>GDP ($ per capita)</th>\n      <th>Literacy (%)</th>\n      <th>Phones (per 1000)</th>\n      <th>Arable (%)</th>\n      <th>Crops (%)</th>\n      <th>Other (%)</th>\n      <th>Birthrate</th>\n      <th>Deathrate</th>\n      <th>Agriculture</th>\n      <th>Industry</th>\n      <th>Service</th>\n    </tr>\n  </thead>\n  <tbody>\n    <tr>\n      <th>0</th>\n      <td>Afghanistan</td>\n      <td>ASIA (EX. NEAR EAST)</td>\n      <td>31056997</td>\n      <td>647500</td>\n      <td>48.000000</td>\n      <td>0.000000</td>\n      <td>23.059999</td>\n      <td>163.070007</td>\n      <td>700.0</td>\n      <td>36.000000</td>\n      <td>3.200000</td>\n      <td>12.13</td>\n      <td>0.220000</td>\n      <td>87.650002</td>\n      <td>46.599998</td>\n      <td>20.34</td>\n      <td>0.380</td>\n      <td>0.240</td>\n      <td>0.380</td>\n    </tr>\n    <tr>\n      <th>1</th>\n      <td>Albania</td>\n      <td>EASTERN EUROPE</td>\n      <td>3581655</td>\n      <td>28748</td>\n      <td>124.599998</td>\n      <td>1.260000</td>\n      <td>-4.930000</td>\n      <td>21.520000</td>\n      <td>4500.0</td>\n      <td>86.500000</td>\n      <td>71.199997</td>\n      <td>21.09</td>\n      <td>4.420000</td>\n      <td>74.489998</td>\n      <td>15.110000</td>\n      <td>5.22</td>\n      <td>0.232</td>\n      <td>0.188</td>\n      <td>0.579</td>\n    </tr>\n    <tr>\n      <th>2</th>\n      <td>Algeria</td>\n      <td>NORTHERN AFRICA</td>\n      <td>32930091</td>\n      <td>2381740</td>\n      <td>13.800000</td>\n      <td>0.040000</td>\n      <td>-0.390000</td>\n      <td>31.000000</td>\n      <td>6000.0</td>\n      <td>70.000000</td>\n      <td>78.099998</td>\n      <td>3.22</td>\n      <td>0.250000</td>\n      <td>96.529999</td>\n      <td>17.139999</td>\n      <td>4.61</td>\n      <td>0.101</td>\n      <td>0.600</td>\n      <td>0.298</td>\n    </tr>\n    <tr>\n      <th>3</th>\n      <td>American Samoa</td>\n      <td>OCEANIA</td>\n      <td>57794</td>\n      <td>199</td>\n      <td>290.399994</td>\n      <td>58.290001</td>\n      <td>-20.709999</td>\n      <td>9.270000</td>\n      <td>8000.0</td>\n      <td>97.000000</td>\n      <td>259.500000</td>\n      <td>10.00</td>\n      <td>15.000000</td>\n      <td>75.000000</td>\n      <td>22.459999</td>\n      <td>3.27</td>\n      <td>-1.000</td>\n      <td>-1.000</td>\n      <td>-1.000</td>\n    </tr>\n    <tr>\n      <th>4</th>\n      <td>Andorra</td>\n      <td>WESTERN EUROPE</td>\n      <td>71201</td>\n      <td>468</td>\n      <td>152.100006</td>\n      <td>0.000000</td>\n      <td>6.600000</td>\n      <td>4.050000</td>\n      <td>19000.0</td>\n      <td>100.000000</td>\n      <td>497.200012</td>\n      <td>2.22</td>\n      <td>0.000000</td>\n      <td>97.779999</td>\n      <td>8.710000</td>\n      <td>6.25</td>\n      <td>-1.000</td>\n      <td>-1.000</td>\n      <td>-1.000</td>\n    </tr>\n    <tr>\n      <th>...</th>\n      <td>...</td>\n      <td>...</td>\n      <td>...</td>\n      <td>...</td>\n      <td>...</td>\n      <td>...</td>\n      <td>...</td>\n      <td>...</td>\n      <td>...</td>\n      <td>...</td>\n      <td>...</td>\n      <td>...</td>\n      <td>...</td>\n      <td>...</td>\n      <td>...</td>\n      <td>...</td>\n      <td>...</td>\n      <td>...</td>\n      <td>...</td>\n    </tr>\n    <tr>\n      <th>222</th>\n      <td>West Bank</td>\n      <td>NEAR EAST</td>\n      <td>2460492</td>\n      <td>5860</td>\n      <td>419.899994</td>\n      <td>0.000000</td>\n      <td>2.980000</td>\n      <td>19.620001</td>\n      <td>800.0</td>\n      <td>-1.000000</td>\n      <td>145.199997</td>\n      <td>16.90</td>\n      <td>18.969999</td>\n      <td>64.129997</td>\n      <td>31.670000</td>\n      <td>3.92</td>\n      <td>0.090</td>\n      <td>0.280</td>\n      <td>0.630</td>\n    </tr>\n    <tr>\n      <th>223</th>\n      <td>Western Sahara</td>\n      <td>NORTHERN AFRICA</td>\n      <td>273008</td>\n      <td>266000</td>\n      <td>1.000000</td>\n      <td>0.420000</td>\n      <td>-1.000000</td>\n      <td>-1.000000</td>\n      <td>NaN</td>\n      <td>-1.000000</td>\n      <td>-1.000000</td>\n      <td>0.02</td>\n      <td>0.000000</td>\n      <td>99.980003</td>\n      <td>-1.000000</td>\n      <td>-1.00</td>\n      <td>-1.000</td>\n      <td>-1.000</td>\n      <td>0.400</td>\n    </tr>\n    <tr>\n      <th>224</th>\n      <td>Yemen</td>\n      <td>NEAR EAST</td>\n      <td>21456188</td>\n      <td>527970</td>\n      <td>40.599998</td>\n      <td>0.360000</td>\n      <td>0.000000</td>\n      <td>61.500000</td>\n      <td>800.0</td>\n      <td>50.200001</td>\n      <td>37.200001</td>\n      <td>2.78</td>\n      <td>0.240000</td>\n      <td>96.980003</td>\n      <td>42.889999</td>\n      <td>8.30</td>\n      <td>0.135</td>\n      <td>0.472</td>\n      <td>0.393</td>\n    </tr>\n    <tr>\n      <th>225</th>\n      <td>Zambia</td>\n      <td>SUB-SAHARAN AFRICA</td>\n      <td>11502010</td>\n      <td>752614</td>\n      <td>15.300000</td>\n      <td>0.000000</td>\n      <td>0.000000</td>\n      <td>88.290001</td>\n      <td>800.0</td>\n      <td>80.599998</td>\n      <td>8.200000</td>\n      <td>7.08</td>\n      <td>0.030000</td>\n      <td>92.900002</td>\n      <td>41.000000</td>\n      <td>19.93</td>\n      <td>0.220</td>\n      <td>0.290</td>\n      <td>0.489</td>\n    </tr>\n    <tr>\n      <th>226</th>\n      <td>Zimbabwe</td>\n      <td>SUB-SAHARAN AFRICA</td>\n      <td>12236805</td>\n      <td>390580</td>\n      <td>31.299999</td>\n      <td>0.000000</td>\n      <td>0.000000</td>\n      <td>67.690002</td>\n      <td>1900.0</td>\n      <td>90.699997</td>\n      <td>26.799999</td>\n      <td>8.32</td>\n      <td>0.340000</td>\n      <td>91.339996</td>\n      <td>28.010000</td>\n      <td>21.84</td>\n      <td>0.179</td>\n      <td>0.243</td>\n      <td>0.579</td>\n    </tr>\n  </tbody>\n</table>\n<p>227 rows × 19 columns</p>\n</div>"
     },
     "metadata": {},
     "execution_count": 411
    }
   ],
   "source": [
    "cdf.toPandas()"
   ]
  },
  {
   "cell_type": "code",
   "execution_count": 412,
   "metadata": {},
   "outputs": [],
   "source": [
    "cdf = cdf.withColumn('Area (sq mi)', col('Area (sq km)') * 0.38610)\\\n",
    "    .withColumn('Pop Density (per sq mi)', col('Pop Density (per sq km)') / 0.38610)"
   ]
  },
  {
   "cell_type": "code",
   "execution_count": 413,
   "metadata": {},
   "outputs": [],
   "source": [
    "cdf = cdf.withColumn('Area (sq mi)', cdf['Area (sq mi)'].cast(IntegerType()))"
   ]
  },
  {
   "cell_type": "code",
   "execution_count": 414,
   "metadata": {},
   "outputs": [
    {
     "output_type": "execute_result",
     "data": {
      "text/plain": [
       "            Country                Region  Population  Area (sq km)  \\\n",
       "0       Afghanistan  ASIA (EX. NEAR EAST)    31056997        647500   \n",
       "1           Albania        EASTERN EUROPE     3581655         28748   \n",
       "2           Algeria       NORTHERN AFRICA    32930091       2381740   \n",
       "3    American Samoa               OCEANIA       57794           199   \n",
       "4           Andorra        WESTERN EUROPE       71201           468   \n",
       "..              ...                   ...         ...           ...   \n",
       "222       West Bank             NEAR EAST     2460492          5860   \n",
       "223  Western Sahara       NORTHERN AFRICA      273008        266000   \n",
       "224           Yemen             NEAR EAST    21456188        527970   \n",
       "225          Zambia    SUB-SAHARAN AFRICA    11502010        752614   \n",
       "226        Zimbabwe    SUB-SAHARAN AFRICA    12236805        390580   \n",
       "\n",
       "     Pop Density (per sq km)  Coastline (coast/area ratio)  Net migration  \\\n",
       "0                  48.000000                      0.000000      23.059999   \n",
       "1                 124.599998                      1.260000      -4.930000   \n",
       "2                  13.800000                      0.040000      -0.390000   \n",
       "3                 290.399994                     58.290001     -20.709999   \n",
       "4                 152.100006                      0.000000       6.600000   \n",
       "..                       ...                           ...            ...   \n",
       "222               419.899994                      0.000000       2.980000   \n",
       "223                 1.000000                      0.420000      -1.000000   \n",
       "224                40.599998                      0.360000       0.000000   \n",
       "225                15.300000                      0.000000       0.000000   \n",
       "226                31.299999                      0.000000       0.000000   \n",
       "\n",
       "     Infant mortality (per 1000 births)  GDP ($ per capita)  Literacy (%)  \\\n",
       "0                            163.070007               700.0     36.000000   \n",
       "1                             21.520000              4500.0     86.500000   \n",
       "2                             31.000000              6000.0     70.000000   \n",
       "3                              9.270000              8000.0     97.000000   \n",
       "4                              4.050000             19000.0    100.000000   \n",
       "..                                  ...                 ...           ...   \n",
       "222                           19.620001               800.0     -1.000000   \n",
       "223                           -1.000000                 NaN     -1.000000   \n",
       "224                           61.500000               800.0     50.200001   \n",
       "225                           88.290001               800.0     80.599998   \n",
       "226                           67.690002              1900.0     90.699997   \n",
       "\n",
       "     ...  Arable (%)  Crops (%)  Other (%)  Birthrate  Deathrate  Agriculture  \\\n",
       "0    ...       12.13   0.220000  87.650002  46.599998      20.34        0.380   \n",
       "1    ...       21.09   4.420000  74.489998  15.110000       5.22        0.232   \n",
       "2    ...        3.22   0.250000  96.529999  17.139999       4.61        0.101   \n",
       "3    ...       10.00  15.000000  75.000000  22.459999       3.27       -1.000   \n",
       "4    ...        2.22   0.000000  97.779999   8.710000       6.25       -1.000   \n",
       "..   ...         ...        ...        ...        ...        ...          ...   \n",
       "222  ...       16.90  18.969999  64.129997  31.670000       3.92        0.090   \n",
       "223  ...        0.02   0.000000  99.980003  -1.000000      -1.00       -1.000   \n",
       "224  ...        2.78   0.240000  96.980003  42.889999       8.30        0.135   \n",
       "225  ...        7.08   0.030000  92.900002  41.000000      19.93        0.220   \n",
       "226  ...        8.32   0.340000  91.339996  28.010000      21.84        0.179   \n",
       "\n",
       "     Industry  Service  Area (sq mi)  Pop Density (per sq mi)  \n",
       "0       0.240    0.380        249999               124.320124  \n",
       "1       0.188    0.579         11099               322.714319  \n",
       "2       0.600    0.298        919589                35.742036  \n",
       "3      -1.000   -1.000            76               752.136736  \n",
       "4      -1.000   -1.000           180               393.939410  \n",
       "..        ...      ...           ...                      ...  \n",
       "222     0.280    0.630          2262              1087.542072  \n",
       "223    -1.000    0.400        102702                 2.590003  \n",
       "224     0.472    0.393        203849               105.154101  \n",
       "225     0.290    0.489        290584                39.627040  \n",
       "226     0.243    0.579        150802                81.067079  \n",
       "\n",
       "[227 rows x 21 columns]"
      ],
      "text/html": "<div>\n<style scoped>\n    .dataframe tbody tr th:only-of-type {\n        vertical-align: middle;\n    }\n\n    .dataframe tbody tr th {\n        vertical-align: top;\n    }\n\n    .dataframe thead th {\n        text-align: right;\n    }\n</style>\n<table border=\"1\" class=\"dataframe\">\n  <thead>\n    <tr style=\"text-align: right;\">\n      <th></th>\n      <th>Country</th>\n      <th>Region</th>\n      <th>Population</th>\n      <th>Area (sq km)</th>\n      <th>Pop Density (per sq km)</th>\n      <th>Coastline (coast/area ratio)</th>\n      <th>Net migration</th>\n      <th>Infant mortality (per 1000 births)</th>\n      <th>GDP ($ per capita)</th>\n      <th>Literacy (%)</th>\n      <th>...</th>\n      <th>Arable (%)</th>\n      <th>Crops (%)</th>\n      <th>Other (%)</th>\n      <th>Birthrate</th>\n      <th>Deathrate</th>\n      <th>Agriculture</th>\n      <th>Industry</th>\n      <th>Service</th>\n      <th>Area (sq mi)</th>\n      <th>Pop Density (per sq mi)</th>\n    </tr>\n  </thead>\n  <tbody>\n    <tr>\n      <th>0</th>\n      <td>Afghanistan</td>\n      <td>ASIA (EX. NEAR EAST)</td>\n      <td>31056997</td>\n      <td>647500</td>\n      <td>48.000000</td>\n      <td>0.000000</td>\n      <td>23.059999</td>\n      <td>163.070007</td>\n      <td>700.0</td>\n      <td>36.000000</td>\n      <td>...</td>\n      <td>12.13</td>\n      <td>0.220000</td>\n      <td>87.650002</td>\n      <td>46.599998</td>\n      <td>20.34</td>\n      <td>0.380</td>\n      <td>0.240</td>\n      <td>0.380</td>\n      <td>249999</td>\n      <td>124.320124</td>\n    </tr>\n    <tr>\n      <th>1</th>\n      <td>Albania</td>\n      <td>EASTERN EUROPE</td>\n      <td>3581655</td>\n      <td>28748</td>\n      <td>124.599998</td>\n      <td>1.260000</td>\n      <td>-4.930000</td>\n      <td>21.520000</td>\n      <td>4500.0</td>\n      <td>86.500000</td>\n      <td>...</td>\n      <td>21.09</td>\n      <td>4.420000</td>\n      <td>74.489998</td>\n      <td>15.110000</td>\n      <td>5.22</td>\n      <td>0.232</td>\n      <td>0.188</td>\n      <td>0.579</td>\n      <td>11099</td>\n      <td>322.714319</td>\n    </tr>\n    <tr>\n      <th>2</th>\n      <td>Algeria</td>\n      <td>NORTHERN AFRICA</td>\n      <td>32930091</td>\n      <td>2381740</td>\n      <td>13.800000</td>\n      <td>0.040000</td>\n      <td>-0.390000</td>\n      <td>31.000000</td>\n      <td>6000.0</td>\n      <td>70.000000</td>\n      <td>...</td>\n      <td>3.22</td>\n      <td>0.250000</td>\n      <td>96.529999</td>\n      <td>17.139999</td>\n      <td>4.61</td>\n      <td>0.101</td>\n      <td>0.600</td>\n      <td>0.298</td>\n      <td>919589</td>\n      <td>35.742036</td>\n    </tr>\n    <tr>\n      <th>3</th>\n      <td>American Samoa</td>\n      <td>OCEANIA</td>\n      <td>57794</td>\n      <td>199</td>\n      <td>290.399994</td>\n      <td>58.290001</td>\n      <td>-20.709999</td>\n      <td>9.270000</td>\n      <td>8000.0</td>\n      <td>97.000000</td>\n      <td>...</td>\n      <td>10.00</td>\n      <td>15.000000</td>\n      <td>75.000000</td>\n      <td>22.459999</td>\n      <td>3.27</td>\n      <td>-1.000</td>\n      <td>-1.000</td>\n      <td>-1.000</td>\n      <td>76</td>\n      <td>752.136736</td>\n    </tr>\n    <tr>\n      <th>4</th>\n      <td>Andorra</td>\n      <td>WESTERN EUROPE</td>\n      <td>71201</td>\n      <td>468</td>\n      <td>152.100006</td>\n      <td>0.000000</td>\n      <td>6.600000</td>\n      <td>4.050000</td>\n      <td>19000.0</td>\n      <td>100.000000</td>\n      <td>...</td>\n      <td>2.22</td>\n      <td>0.000000</td>\n      <td>97.779999</td>\n      <td>8.710000</td>\n      <td>6.25</td>\n      <td>-1.000</td>\n      <td>-1.000</td>\n      <td>-1.000</td>\n      <td>180</td>\n      <td>393.939410</td>\n    </tr>\n    <tr>\n      <th>...</th>\n      <td>...</td>\n      <td>...</td>\n      <td>...</td>\n      <td>...</td>\n      <td>...</td>\n      <td>...</td>\n      <td>...</td>\n      <td>...</td>\n      <td>...</td>\n      <td>...</td>\n      <td>...</td>\n      <td>...</td>\n      <td>...</td>\n      <td>...</td>\n      <td>...</td>\n      <td>...</td>\n      <td>...</td>\n      <td>...</td>\n      <td>...</td>\n      <td>...</td>\n      <td>...</td>\n    </tr>\n    <tr>\n      <th>222</th>\n      <td>West Bank</td>\n      <td>NEAR EAST</td>\n      <td>2460492</td>\n      <td>5860</td>\n      <td>419.899994</td>\n      <td>0.000000</td>\n      <td>2.980000</td>\n      <td>19.620001</td>\n      <td>800.0</td>\n      <td>-1.000000</td>\n      <td>...</td>\n      <td>16.90</td>\n      <td>18.969999</td>\n      <td>64.129997</td>\n      <td>31.670000</td>\n      <td>3.92</td>\n      <td>0.090</td>\n      <td>0.280</td>\n      <td>0.630</td>\n      <td>2262</td>\n      <td>1087.542072</td>\n    </tr>\n    <tr>\n      <th>223</th>\n      <td>Western Sahara</td>\n      <td>NORTHERN AFRICA</td>\n      <td>273008</td>\n      <td>266000</td>\n      <td>1.000000</td>\n      <td>0.420000</td>\n      <td>-1.000000</td>\n      <td>-1.000000</td>\n      <td>NaN</td>\n      <td>-1.000000</td>\n      <td>...</td>\n      <td>0.02</td>\n      <td>0.000000</td>\n      <td>99.980003</td>\n      <td>-1.000000</td>\n      <td>-1.00</td>\n      <td>-1.000</td>\n      <td>-1.000</td>\n      <td>0.400</td>\n      <td>102702</td>\n      <td>2.590003</td>\n    </tr>\n    <tr>\n      <th>224</th>\n      <td>Yemen</td>\n      <td>NEAR EAST</td>\n      <td>21456188</td>\n      <td>527970</td>\n      <td>40.599998</td>\n      <td>0.360000</td>\n      <td>0.000000</td>\n      <td>61.500000</td>\n      <td>800.0</td>\n      <td>50.200001</td>\n      <td>...</td>\n      <td>2.78</td>\n      <td>0.240000</td>\n      <td>96.980003</td>\n      <td>42.889999</td>\n      <td>8.30</td>\n      <td>0.135</td>\n      <td>0.472</td>\n      <td>0.393</td>\n      <td>203849</td>\n      <td>105.154101</td>\n    </tr>\n    <tr>\n      <th>225</th>\n      <td>Zambia</td>\n      <td>SUB-SAHARAN AFRICA</td>\n      <td>11502010</td>\n      <td>752614</td>\n      <td>15.300000</td>\n      <td>0.000000</td>\n      <td>0.000000</td>\n      <td>88.290001</td>\n      <td>800.0</td>\n      <td>80.599998</td>\n      <td>...</td>\n      <td>7.08</td>\n      <td>0.030000</td>\n      <td>92.900002</td>\n      <td>41.000000</td>\n      <td>19.93</td>\n      <td>0.220</td>\n      <td>0.290</td>\n      <td>0.489</td>\n      <td>290584</td>\n      <td>39.627040</td>\n    </tr>\n    <tr>\n      <th>226</th>\n      <td>Zimbabwe</td>\n      <td>SUB-SAHARAN AFRICA</td>\n      <td>12236805</td>\n      <td>390580</td>\n      <td>31.299999</td>\n      <td>0.000000</td>\n      <td>0.000000</td>\n      <td>67.690002</td>\n      <td>1900.0</td>\n      <td>90.699997</td>\n      <td>...</td>\n      <td>8.32</td>\n      <td>0.340000</td>\n      <td>91.339996</td>\n      <td>28.010000</td>\n      <td>21.84</td>\n      <td>0.179</td>\n      <td>0.243</td>\n      <td>0.579</td>\n      <td>150802</td>\n      <td>81.067079</td>\n    </tr>\n  </tbody>\n</table>\n<p>227 rows × 21 columns</p>\n</div>"
     },
     "metadata": {},
     "execution_count": 414
    }
   ],
   "source": [
    "cdf.toPandas()"
   ]
  },
  {
   "cell_type": "markdown",
   "metadata": {},
   "source": [
    "# Join examples"
   ]
  },
  {
   "cell_type": "code",
   "execution_count": 415,
   "metadata": {},
   "outputs": [],
   "source": [
    "valuesA = [('Pirate',1),('Monkey',2),('Ninja',3),('Spaghetti',4)]\n",
    "TableA = spark.createDataFrame(valuesA,['name','id'])\n",
    " \n",
    "valuesB = [('Rutabaga',1),('Pirate',2),('Ninja',3),('Darth Vader',4)]\n",
    "TableB = spark.createDataFrame(valuesB,['name','id'])"
   ]
  },
  {
   "cell_type": "code",
   "execution_count": 416,
   "metadata": {},
   "outputs": [],
   "source": [
    "a = TableA.alias('a')\n",
    "b = TableB.alias('b')"
   ]
  },
  {
   "cell_type": "code",
   "execution_count": 417,
   "metadata": {},
   "outputs": [
    {
     "output_type": "stream",
     "name": "stdout",
     "text": [
      "+------+---+------+---+\n|  name| id|  name| id|\n+------+---+------+---+\n| Ninja|  3| Ninja|  3|\n|Pirate|  1|Pirate|  2|\n+------+---+------+---+\n\n"
     ]
    }
   ],
   "source": [
    "a.join(b, a.name==b.name).show() # how='inner'"
   ]
  },
  {
   "cell_type": "code",
   "execution_count": 418,
   "metadata": {},
   "outputs": [
    {
     "output_type": "stream",
     "name": "stdout",
     "text": [
      "+---------+---+------+----+\n|     name| id|  name|  id|\n+---------+---+------+----+\n|Spaghetti|  4|  null|null|\n|    Ninja|  3| Ninja|   3|\n|   Pirate|  1|Pirate|   2|\n|   Monkey|  2|  null|null|\n+---------+---+------+----+\n\n"
     ]
    }
   ],
   "source": [
    "a.join(b, a.name==b.name, how='left').show()"
   ]
  },
  {
   "cell_type": "code",
   "execution_count": 419,
   "metadata": {},
   "outputs": [
    {
     "output_type": "stream",
     "name": "stdout",
     "text": [
      "+------+----+-----------+---+\n|  name|  id|       name| id|\n+------+----+-----------+---+\n|  null|null|   Rutabaga|  1|\n| Ninja|   3|      Ninja|  3|\n|Pirate|   1|     Pirate|  2|\n|  null|null|Darth Vader|  4|\n+------+----+-----------+---+\n\n"
     ]
    }
   ],
   "source": [
    "a.join(b, a.name==b.name, how='right').show()"
   ]
  },
  {
   "cell_type": "code",
   "execution_count": 420,
   "metadata": {},
   "outputs": [
    {
     "output_type": "stream",
     "name": "stdout",
     "text": [
      "+---------+----+-----------+----+\n|     name|  id|       name|  id|\n+---------+----+-----------+----+\n|     null|null|   Rutabaga|   1|\n|Spaghetti|   4|       null|null|\n|    Ninja|   3|      Ninja|   3|\n|   Pirate|   1|     Pirate|   2|\n|   Monkey|   2|       null|null|\n|     null|null|Darth Vader|   4|\n+---------+----+-----------+----+\n\n"
     ]
    }
   ],
   "source": [
    "a.join(b, a.name==b.name, how='full_outer').show()"
   ]
  },
  {
   "cell_type": "markdown",
   "metadata": {},
   "source": [
    "# Zadanie 2: zależność liczby lotnisk od powierzchni kraju "
   ]
  },
  {
   "cell_type": "code",
   "execution_count": 421,
   "metadata": {},
   "outputs": [],
   "source": [
    "airports = spark.read.csv(\"airports2.csv\", inferSchema=True, header=False)"
   ]
  },
  {
   "cell_type": "code",
   "execution_count": 422,
   "metadata": {},
   "outputs": [],
   "source": [
    "airports = airports.toDF('Airport ID', 'Name', 'City', 'Country', \n",
    "'IATA', 'ICAO', 'Latitude', 'Longitude', 'Altitude', 'Timezone',\n",
    "'DST', 'Tz database time zone', 'Type', 'Source'\n",
    ")"
   ]
  },
  {
   "cell_type": "code",
   "execution_count": 423,
   "metadata": {},
   "outputs": [
    {
     "output_type": "execute_result",
     "data": {
      "text/plain": [
       "      Airport ID                                         Name          City  \\\n",
       "0              1                               Goroka Airport        Goroka   \n",
       "1              2                               Madang Airport        Madang   \n",
       "2              3                 Mount Hagen Kagamuga Airport   Mount Hagen   \n",
       "3              4                               Nadzab Airport        Nadzab   \n",
       "4              5  Port Moresby Jacksons International Airport  Port Moresby   \n",
       "...          ...                                          ...           ...   \n",
       "7179       12053                               Rugao Air Base         Rugao   \n",
       "7180       12054                                Wuhu Air Base          Wuhu   \n",
       "7181       12055                             Shanshan Airport      Shanshan   \n",
       "7182       12056                        Yingkou Lanqi Airport       Yingkou   \n",
       "7183       12057                      Shenyang Dongta Airport      Shenyang   \n",
       "\n",
       "               Country IATA  ICAO   Latitude   Longitude  Altitude Timezone  \\\n",
       "0     Papua New Guinea  GKA  AYGA  -6.081690  145.391998      5282       10   \n",
       "1     Papua New Guinea  MAG  AYMD  -5.207080  145.789001        20       10   \n",
       "2     Papua New Guinea  HGU  AYMH  -5.826790  144.296005      5388       10   \n",
       "3     Papua New Guinea  LAE  AYNZ  -6.569803  146.725977       239       10   \n",
       "4     Papua New Guinea  POM  AYPY  -9.443380  147.220001       146       10   \n",
       "...                ...  ...   ...        ...         ...       ...      ...   \n",
       "7179             China  RUG  ZSRG  32.257885  120.501656         0       \\N   \n",
       "7180             China  WHU  ZSWU  31.390600  118.408997         0       \\N   \n",
       "7181             China  SXJ  ZWSS  42.911701   90.247498         0       \\N   \n",
       "7182             China  YKH  ZYYK  40.542524  122.358600         0       \\N   \n",
       "7183             China   \\N  ZYYY  41.784401  123.496002         0       \\N   \n",
       "\n",
       "     DST Tz database time zone     Type       Source  \n",
       "0      U  Pacific/Port_Moresby  airport  OurAirports  \n",
       "1      U  Pacific/Port_Moresby  airport  OurAirports  \n",
       "2      U  Pacific/Port_Moresby  airport  OurAirports  \n",
       "3      U  Pacific/Port_Moresby  airport  OurAirports  \n",
       "4      U  Pacific/Port_Moresby  airport  OurAirports  \n",
       "...   ..                   ...      ...          ...  \n",
       "7179  \\N                    \\N  airport  OurAirports  \n",
       "7180  \\N                    \\N  airport  OurAirports  \n",
       "7181  \\N                    \\N  airport  OurAirports  \n",
       "7182  \\N                    \\N  airport  OurAirports  \n",
       "7183  \\N                    \\N  airport  OurAirports  \n",
       "\n",
       "[7184 rows x 14 columns]"
      ],
      "text/html": "<div>\n<style scoped>\n    .dataframe tbody tr th:only-of-type {\n        vertical-align: middle;\n    }\n\n    .dataframe tbody tr th {\n        vertical-align: top;\n    }\n\n    .dataframe thead th {\n        text-align: right;\n    }\n</style>\n<table border=\"1\" class=\"dataframe\">\n  <thead>\n    <tr style=\"text-align: right;\">\n      <th></th>\n      <th>Airport ID</th>\n      <th>Name</th>\n      <th>City</th>\n      <th>Country</th>\n      <th>IATA</th>\n      <th>ICAO</th>\n      <th>Latitude</th>\n      <th>Longitude</th>\n      <th>Altitude</th>\n      <th>Timezone</th>\n      <th>DST</th>\n      <th>Tz database time zone</th>\n      <th>Type</th>\n      <th>Source</th>\n    </tr>\n  </thead>\n  <tbody>\n    <tr>\n      <th>0</th>\n      <td>1</td>\n      <td>Goroka Airport</td>\n      <td>Goroka</td>\n      <td>Papua New Guinea</td>\n      <td>GKA</td>\n      <td>AYGA</td>\n      <td>-6.081690</td>\n      <td>145.391998</td>\n      <td>5282</td>\n      <td>10</td>\n      <td>U</td>\n      <td>Pacific/Port_Moresby</td>\n      <td>airport</td>\n      <td>OurAirports</td>\n    </tr>\n    <tr>\n      <th>1</th>\n      <td>2</td>\n      <td>Madang Airport</td>\n      <td>Madang</td>\n      <td>Papua New Guinea</td>\n      <td>MAG</td>\n      <td>AYMD</td>\n      <td>-5.207080</td>\n      <td>145.789001</td>\n      <td>20</td>\n      <td>10</td>\n      <td>U</td>\n      <td>Pacific/Port_Moresby</td>\n      <td>airport</td>\n      <td>OurAirports</td>\n    </tr>\n    <tr>\n      <th>2</th>\n      <td>3</td>\n      <td>Mount Hagen Kagamuga Airport</td>\n      <td>Mount Hagen</td>\n      <td>Papua New Guinea</td>\n      <td>HGU</td>\n      <td>AYMH</td>\n      <td>-5.826790</td>\n      <td>144.296005</td>\n      <td>5388</td>\n      <td>10</td>\n      <td>U</td>\n      <td>Pacific/Port_Moresby</td>\n      <td>airport</td>\n      <td>OurAirports</td>\n    </tr>\n    <tr>\n      <th>3</th>\n      <td>4</td>\n      <td>Nadzab Airport</td>\n      <td>Nadzab</td>\n      <td>Papua New Guinea</td>\n      <td>LAE</td>\n      <td>AYNZ</td>\n      <td>-6.569803</td>\n      <td>146.725977</td>\n      <td>239</td>\n      <td>10</td>\n      <td>U</td>\n      <td>Pacific/Port_Moresby</td>\n      <td>airport</td>\n      <td>OurAirports</td>\n    </tr>\n    <tr>\n      <th>4</th>\n      <td>5</td>\n      <td>Port Moresby Jacksons International Airport</td>\n      <td>Port Moresby</td>\n      <td>Papua New Guinea</td>\n      <td>POM</td>\n      <td>AYPY</td>\n      <td>-9.443380</td>\n      <td>147.220001</td>\n      <td>146</td>\n      <td>10</td>\n      <td>U</td>\n      <td>Pacific/Port_Moresby</td>\n      <td>airport</td>\n      <td>OurAirports</td>\n    </tr>\n    <tr>\n      <th>...</th>\n      <td>...</td>\n      <td>...</td>\n      <td>...</td>\n      <td>...</td>\n      <td>...</td>\n      <td>...</td>\n      <td>...</td>\n      <td>...</td>\n      <td>...</td>\n      <td>...</td>\n      <td>...</td>\n      <td>...</td>\n      <td>...</td>\n      <td>...</td>\n    </tr>\n    <tr>\n      <th>7179</th>\n      <td>12053</td>\n      <td>Rugao Air Base</td>\n      <td>Rugao</td>\n      <td>China</td>\n      <td>RUG</td>\n      <td>ZSRG</td>\n      <td>32.257885</td>\n      <td>120.501656</td>\n      <td>0</td>\n      <td>\\N</td>\n      <td>\\N</td>\n      <td>\\N</td>\n      <td>airport</td>\n      <td>OurAirports</td>\n    </tr>\n    <tr>\n      <th>7180</th>\n      <td>12054</td>\n      <td>Wuhu Air Base</td>\n      <td>Wuhu</td>\n      <td>China</td>\n      <td>WHU</td>\n      <td>ZSWU</td>\n      <td>31.390600</td>\n      <td>118.408997</td>\n      <td>0</td>\n      <td>\\N</td>\n      <td>\\N</td>\n      <td>\\N</td>\n      <td>airport</td>\n      <td>OurAirports</td>\n    </tr>\n    <tr>\n      <th>7181</th>\n      <td>12055</td>\n      <td>Shanshan Airport</td>\n      <td>Shanshan</td>\n      <td>China</td>\n      <td>SXJ</td>\n      <td>ZWSS</td>\n      <td>42.911701</td>\n      <td>90.247498</td>\n      <td>0</td>\n      <td>\\N</td>\n      <td>\\N</td>\n      <td>\\N</td>\n      <td>airport</td>\n      <td>OurAirports</td>\n    </tr>\n    <tr>\n      <th>7182</th>\n      <td>12056</td>\n      <td>Yingkou Lanqi Airport</td>\n      <td>Yingkou</td>\n      <td>China</td>\n      <td>YKH</td>\n      <td>ZYYK</td>\n      <td>40.542524</td>\n      <td>122.358600</td>\n      <td>0</td>\n      <td>\\N</td>\n      <td>\\N</td>\n      <td>\\N</td>\n      <td>airport</td>\n      <td>OurAirports</td>\n    </tr>\n    <tr>\n      <th>7183</th>\n      <td>12057</td>\n      <td>Shenyang Dongta Airport</td>\n      <td>Shenyang</td>\n      <td>China</td>\n      <td>\\N</td>\n      <td>ZYYY</td>\n      <td>41.784401</td>\n      <td>123.496002</td>\n      <td>0</td>\n      <td>\\N</td>\n      <td>\\N</td>\n      <td>\\N</td>\n      <td>airport</td>\n      <td>OurAirports</td>\n    </tr>\n  </tbody>\n</table>\n<p>7184 rows × 14 columns</p>\n</div>"
     },
     "metadata": {},
     "execution_count": 423
    }
   ],
   "source": [
    "airports.toPandas()"
   ]
  },
  {
   "cell_type": "code",
   "execution_count": 424,
   "metadata": {},
   "outputs": [],
   "source": [
    "# TODO\n",
    "# zacznij od stworzenia ramki, która zawiera posortowaną liczbę lotnisk w poszczególnych krajach"
   ]
  },
  {
   "cell_type": "code",
   "execution_count": 425,
   "metadata": {},
   "outputs": [],
   "source": [
    "import pyspark.sql.functions as func"
   ]
  },
  {
   "cell_type": "code",
   "execution_count": 426,
   "metadata": {},
   "outputs": [],
   "source": [
    "sumAirports = airports \\\n",
    "    .groupBy(\"Country\") \\\n",
    "    .agg(func.count(\"Name\").alias(\"Airports sum\")) \\\n",
    "    .select(\"Country\", \"Airports sum\") \\\n",
    "    .sort(\"Airports sum\") \\\n",
    "    .withColumn(\"Country\", trim(col(\"Country\")))"
   ]
  },
  {
   "cell_type": "code",
   "execution_count": 427,
   "metadata": {},
   "outputs": [],
   "source": [
    "countries = countries.replace(['Korea, South', 'Korea, North', 'South Korea', 'North Korea'], 'Country')"
   ]
  },
  {
   "cell_type": "code",
   "execution_count": 428,
   "metadata": {},
   "outputs": [],
   "source": [
    "countries = countries \\\n",
    "    .withColumn(\"Country\", trim(col(\"Country\")))"
   ]
  },
  {
   "cell_type": "code",
   "execution_count": 429,
   "metadata": {},
   "outputs": [
    {
     "output_type": "execute_result",
     "data": {
      "text/plain": [
       "                            Country  Airports sum\n",
       "0                          Anguilla             1\n",
       "1    British Indian Ocean Territory             1\n",
       "2                            Jersey             1\n",
       "3                    Norfolk Island             1\n",
       "4                      Saint Helena             1\n",
       "..                              ...           ...\n",
       "232                          Russia           238\n",
       "233                         Germany           241\n",
       "234                       Australia           296\n",
       "235                          Canada           417\n",
       "236                   United States          1435\n",
       "\n",
       "[237 rows x 2 columns]"
      ],
      "text/html": "<div>\n<style scoped>\n    .dataframe tbody tr th:only-of-type {\n        vertical-align: middle;\n    }\n\n    .dataframe tbody tr th {\n        vertical-align: top;\n    }\n\n    .dataframe thead th {\n        text-align: right;\n    }\n</style>\n<table border=\"1\" class=\"dataframe\">\n  <thead>\n    <tr style=\"text-align: right;\">\n      <th></th>\n      <th>Country</th>\n      <th>Airports sum</th>\n    </tr>\n  </thead>\n  <tbody>\n    <tr>\n      <th>0</th>\n      <td>Anguilla</td>\n      <td>1</td>\n    </tr>\n    <tr>\n      <th>1</th>\n      <td>British Indian Ocean Territory</td>\n      <td>1</td>\n    </tr>\n    <tr>\n      <th>2</th>\n      <td>Jersey</td>\n      <td>1</td>\n    </tr>\n    <tr>\n      <th>3</th>\n      <td>Norfolk Island</td>\n      <td>1</td>\n    </tr>\n    <tr>\n      <th>4</th>\n      <td>Saint Helena</td>\n      <td>1</td>\n    </tr>\n    <tr>\n      <th>...</th>\n      <td>...</td>\n      <td>...</td>\n    </tr>\n    <tr>\n      <th>232</th>\n      <td>Russia</td>\n      <td>238</td>\n    </tr>\n    <tr>\n      <th>233</th>\n      <td>Germany</td>\n      <td>241</td>\n    </tr>\n    <tr>\n      <th>234</th>\n      <td>Australia</td>\n      <td>296</td>\n    </tr>\n    <tr>\n      <th>235</th>\n      <td>Canada</td>\n      <td>417</td>\n    </tr>\n    <tr>\n      <th>236</th>\n      <td>United States</td>\n      <td>1435</td>\n    </tr>\n  </tbody>\n</table>\n<p>237 rows × 2 columns</p>\n</div>"
     },
     "metadata": {},
     "execution_count": 429
    }
   ],
   "source": [
    "sumAirports.toPandas()"
   ]
  },
  {
   "cell_type": "code",
   "execution_count": 430,
   "metadata": {},
   "outputs": [],
   "source": [
    "# TODO złączenie ramek i wykres"
   ]
  },
  {
   "cell_type": "code",
   "execution_count": 431,
   "metadata": {},
   "outputs": [],
   "source": [
    "a = countries.alias('a')\n",
    "b = sumAirports.alias('b')"
   ]
  },
  {
   "cell_type": "code",
   "execution_count": 439,
   "metadata": {},
   "outputs": [],
   "source": [
    "joined = b.join(a, on=['Country'], how='inner')"
   ]
  },
  {
   "cell_type": "code",
   "execution_count": 440,
   "metadata": {},
   "outputs": [
    {
     "output_type": "execute_result",
     "data": {
      "text/plain": [
       "            Country  Airports sum                               Region  \\\n",
       "0              Chad             6  SUB-SAHARAN AFRICA                    \n",
       "1          Paraguay             8              LATIN AMER. & CARIB       \n",
       "2          Anguilla             1              LATIN AMER. & CARIB       \n",
       "3            Russia           238                 C.W. OF IND. STATES    \n",
       "4             Yemen            11  NEAR EAST                             \n",
       "..              ...           ...                                  ...   \n",
       "200  United Kingdom           162  WESTERN EUROPE                        \n",
       "201         Moldova             5                 C.W. OF IND. STATES    \n",
       "202         Vietnam            24        ASIA (EX. NEAR EAST)            \n",
       "203     Netherlands            26  WESTERN EUROPE                        \n",
       "204            Mali             8  SUB-SAHARAN AFRICA                    \n",
       "\n",
       "     Population  Area (sq mi) Pop Density (per sq mi)  \\\n",
       "0       9944201       1284000                     7,7   \n",
       "1       6506464        406750                    16,0   \n",
       "2         13477           102                   132,1   \n",
       "3     142893540      17075200                     8,4   \n",
       "4      21456188        527970                    40,6   \n",
       "..          ...           ...                     ...   \n",
       "200    60609153        244820                   247,6   \n",
       "201     4466706         33843                   132,0   \n",
       "202    84402966        329560                   256,1   \n",
       "203    16491461         41526                   397,1   \n",
       "204    11716829       1240000                     9,5   \n",
       "\n",
       "    Coastline (coast/area ratio) Net migration  \\\n",
       "0                           0,00         -0,11   \n",
       "1                           0,00         -0,08   \n",
       "2                          59,80         10,76   \n",
       "3                           0,22          1,02   \n",
       "4                           0,36             0   \n",
       "..                           ...           ...   \n",
       "200                         5,08          2,19   \n",
       "201                         0,00         -0,26   \n",
       "202                         1,05         -0,45   \n",
       "203                         1,09          2,91   \n",
       "204                         0,00         -0,33   \n",
       "\n",
       "    Infant mortality (per 1000 births)  GDP ($ per capita)  ...  \\\n",
       "0                                93,82              1200.0  ...   \n",
       "1                                25,63              4700.0  ...   \n",
       "2                                21,03              8600.0  ...   \n",
       "3                                15,39              8900.0  ...   \n",
       "4                                 61,5               800.0  ...   \n",
       "..                                 ...                 ...  ...   \n",
       "200                               5,16             27700.0  ...   \n",
       "201                              40,42              1800.0  ...   \n",
       "202                              25,95              2500.0  ...   \n",
       "203                               5,04             28600.0  ...   \n",
       "204                             116,79               900.0  ...   \n",
       "\n",
       "    Phones (per 1000) Arable (%) Crops (%) Other (%) Climate Birthrate  \\\n",
       "0                 1,3       2,86      0,02     97,12       2     45,73   \n",
       "1                49,2        7,6      0,23     92,17       2      29,1   \n",
       "2               460,0          0         0       100       2     14,17   \n",
       "3               280,6       7,33      0,11     92,56    None      9,95   \n",
       "4                37,2       2,78      0,24     96,98       1     42,89   \n",
       "..                ...        ...       ...       ...     ...       ...   \n",
       "200             543,5      23,46      0,21     76,33       3     10,71   \n",
       "201             208,1       55,3     10,79     33,91    None      15,7   \n",
       "202             187,7      19,97      5,95     74,08       2     16,86   \n",
       "203             460,8      26,71      0,97     72,32       3      10,9   \n",
       "204               6,4       3,82      0,03     96,15       2     49,82   \n",
       "\n",
       "    Deathrate Agriculture Industry Service  \n",
       "0       16,38       0,335    0,259   0,406  \n",
       "1        4,49       0,224    0,207   0,569  \n",
       "2        5,34        0,04     0,18    0,78  \n",
       "3       14,65       0,054    0,371   0,575  \n",
       "4         8,3       0,135    0,472   0,393  \n",
       "..        ...         ...      ...     ...  \n",
       "200     10,13       0,005    0,237   0,758  \n",
       "201     12,64       0,213    0,233   0,555  \n",
       "202      6,22       0,209     0,41   0,381  \n",
       "203      8,68       0,021    0,244   0,736  \n",
       "204     16,89        0,45     0,17    0,38  \n",
       "\n",
       "[205 rows x 21 columns]"
      ],
      "text/html": "<div>\n<style scoped>\n    .dataframe tbody tr th:only-of-type {\n        vertical-align: middle;\n    }\n\n    .dataframe tbody tr th {\n        vertical-align: top;\n    }\n\n    .dataframe thead th {\n        text-align: right;\n    }\n</style>\n<table border=\"1\" class=\"dataframe\">\n  <thead>\n    <tr style=\"text-align: right;\">\n      <th></th>\n      <th>Country</th>\n      <th>Airports sum</th>\n      <th>Region</th>\n      <th>Population</th>\n      <th>Area (sq mi)</th>\n      <th>Pop Density (per sq mi)</th>\n      <th>Coastline (coast/area ratio)</th>\n      <th>Net migration</th>\n      <th>Infant mortality (per 1000 births)</th>\n      <th>GDP ($ per capita)</th>\n      <th>...</th>\n      <th>Phones (per 1000)</th>\n      <th>Arable (%)</th>\n      <th>Crops (%)</th>\n      <th>Other (%)</th>\n      <th>Climate</th>\n      <th>Birthrate</th>\n      <th>Deathrate</th>\n      <th>Agriculture</th>\n      <th>Industry</th>\n      <th>Service</th>\n    </tr>\n  </thead>\n  <tbody>\n    <tr>\n      <th>0</th>\n      <td>Chad</td>\n      <td>6</td>\n      <td>SUB-SAHARAN AFRICA</td>\n      <td>9944201</td>\n      <td>1284000</td>\n      <td>7,7</td>\n      <td>0,00</td>\n      <td>-0,11</td>\n      <td>93,82</td>\n      <td>1200.0</td>\n      <td>...</td>\n      <td>1,3</td>\n      <td>2,86</td>\n      <td>0,02</td>\n      <td>97,12</td>\n      <td>2</td>\n      <td>45,73</td>\n      <td>16,38</td>\n      <td>0,335</td>\n      <td>0,259</td>\n      <td>0,406</td>\n    </tr>\n    <tr>\n      <th>1</th>\n      <td>Paraguay</td>\n      <td>8</td>\n      <td>LATIN AMER. &amp; CARIB</td>\n      <td>6506464</td>\n      <td>406750</td>\n      <td>16,0</td>\n      <td>0,00</td>\n      <td>-0,08</td>\n      <td>25,63</td>\n      <td>4700.0</td>\n      <td>...</td>\n      <td>49,2</td>\n      <td>7,6</td>\n      <td>0,23</td>\n      <td>92,17</td>\n      <td>2</td>\n      <td>29,1</td>\n      <td>4,49</td>\n      <td>0,224</td>\n      <td>0,207</td>\n      <td>0,569</td>\n    </tr>\n    <tr>\n      <th>2</th>\n      <td>Anguilla</td>\n      <td>1</td>\n      <td>LATIN AMER. &amp; CARIB</td>\n      <td>13477</td>\n      <td>102</td>\n      <td>132,1</td>\n      <td>59,80</td>\n      <td>10,76</td>\n      <td>21,03</td>\n      <td>8600.0</td>\n      <td>...</td>\n      <td>460,0</td>\n      <td>0</td>\n      <td>0</td>\n      <td>100</td>\n      <td>2</td>\n      <td>14,17</td>\n      <td>5,34</td>\n      <td>0,04</td>\n      <td>0,18</td>\n      <td>0,78</td>\n    </tr>\n    <tr>\n      <th>3</th>\n      <td>Russia</td>\n      <td>238</td>\n      <td>C.W. OF IND. STATES</td>\n      <td>142893540</td>\n      <td>17075200</td>\n      <td>8,4</td>\n      <td>0,22</td>\n      <td>1,02</td>\n      <td>15,39</td>\n      <td>8900.0</td>\n      <td>...</td>\n      <td>280,6</td>\n      <td>7,33</td>\n      <td>0,11</td>\n      <td>92,56</td>\n      <td>None</td>\n      <td>9,95</td>\n      <td>14,65</td>\n      <td>0,054</td>\n      <td>0,371</td>\n      <td>0,575</td>\n    </tr>\n    <tr>\n      <th>4</th>\n      <td>Yemen</td>\n      <td>11</td>\n      <td>NEAR EAST</td>\n      <td>21456188</td>\n      <td>527970</td>\n      <td>40,6</td>\n      <td>0,36</td>\n      <td>0</td>\n      <td>61,5</td>\n      <td>800.0</td>\n      <td>...</td>\n      <td>37,2</td>\n      <td>2,78</td>\n      <td>0,24</td>\n      <td>96,98</td>\n      <td>1</td>\n      <td>42,89</td>\n      <td>8,3</td>\n      <td>0,135</td>\n      <td>0,472</td>\n      <td>0,393</td>\n    </tr>\n    <tr>\n      <th>...</th>\n      <td>...</td>\n      <td>...</td>\n      <td>...</td>\n      <td>...</td>\n      <td>...</td>\n      <td>...</td>\n      <td>...</td>\n      <td>...</td>\n      <td>...</td>\n      <td>...</td>\n      <td>...</td>\n      <td>...</td>\n      <td>...</td>\n      <td>...</td>\n      <td>...</td>\n      <td>...</td>\n      <td>...</td>\n      <td>...</td>\n      <td>...</td>\n      <td>...</td>\n      <td>...</td>\n    </tr>\n    <tr>\n      <th>200</th>\n      <td>United Kingdom</td>\n      <td>162</td>\n      <td>WESTERN EUROPE</td>\n      <td>60609153</td>\n      <td>244820</td>\n      <td>247,6</td>\n      <td>5,08</td>\n      <td>2,19</td>\n      <td>5,16</td>\n      <td>27700.0</td>\n      <td>...</td>\n      <td>543,5</td>\n      <td>23,46</td>\n      <td>0,21</td>\n      <td>76,33</td>\n      <td>3</td>\n      <td>10,71</td>\n      <td>10,13</td>\n      <td>0,005</td>\n      <td>0,237</td>\n      <td>0,758</td>\n    </tr>\n    <tr>\n      <th>201</th>\n      <td>Moldova</td>\n      <td>5</td>\n      <td>C.W. OF IND. STATES</td>\n      <td>4466706</td>\n      <td>33843</td>\n      <td>132,0</td>\n      <td>0,00</td>\n      <td>-0,26</td>\n      <td>40,42</td>\n      <td>1800.0</td>\n      <td>...</td>\n      <td>208,1</td>\n      <td>55,3</td>\n      <td>10,79</td>\n      <td>33,91</td>\n      <td>None</td>\n      <td>15,7</td>\n      <td>12,64</td>\n      <td>0,213</td>\n      <td>0,233</td>\n      <td>0,555</td>\n    </tr>\n    <tr>\n      <th>202</th>\n      <td>Vietnam</td>\n      <td>24</td>\n      <td>ASIA (EX. NEAR EAST)</td>\n      <td>84402966</td>\n      <td>329560</td>\n      <td>256,1</td>\n      <td>1,05</td>\n      <td>-0,45</td>\n      <td>25,95</td>\n      <td>2500.0</td>\n      <td>...</td>\n      <td>187,7</td>\n      <td>19,97</td>\n      <td>5,95</td>\n      <td>74,08</td>\n      <td>2</td>\n      <td>16,86</td>\n      <td>6,22</td>\n      <td>0,209</td>\n      <td>0,41</td>\n      <td>0,381</td>\n    </tr>\n    <tr>\n      <th>203</th>\n      <td>Netherlands</td>\n      <td>26</td>\n      <td>WESTERN EUROPE</td>\n      <td>16491461</td>\n      <td>41526</td>\n      <td>397,1</td>\n      <td>1,09</td>\n      <td>2,91</td>\n      <td>5,04</td>\n      <td>28600.0</td>\n      <td>...</td>\n      <td>460,8</td>\n      <td>26,71</td>\n      <td>0,97</td>\n      <td>72,32</td>\n      <td>3</td>\n      <td>10,9</td>\n      <td>8,68</td>\n      <td>0,021</td>\n      <td>0,244</td>\n      <td>0,736</td>\n    </tr>\n    <tr>\n      <th>204</th>\n      <td>Mali</td>\n      <td>8</td>\n      <td>SUB-SAHARAN AFRICA</td>\n      <td>11716829</td>\n      <td>1240000</td>\n      <td>9,5</td>\n      <td>0,00</td>\n      <td>-0,33</td>\n      <td>116,79</td>\n      <td>900.0</td>\n      <td>...</td>\n      <td>6,4</td>\n      <td>3,82</td>\n      <td>0,03</td>\n      <td>96,15</td>\n      <td>2</td>\n      <td>49,82</td>\n      <td>16,89</td>\n      <td>0,45</td>\n      <td>0,17</td>\n      <td>0,38</td>\n    </tr>\n  </tbody>\n</table>\n<p>205 rows × 21 columns</p>\n</div>"
     },
     "metadata": {},
     "execution_count": 440
    }
   ],
   "source": [
    "joined.toPandas()"
   ]
  },
  {
   "cell_type": "code",
   "execution_count": 446,
   "metadata": {},
   "outputs": [],
   "source": [
    "joined_anti = a.join(b, on=['Country'], how='leftanti')"
   ]
  },
  {
   "cell_type": "code",
   "execution_count": 447,
   "metadata": {},
   "outputs": [
    {
     "output_type": "execute_result",
     "data": {
      "text/plain": [
       "                 Country                               Region  Population  \\\n",
       "0                Andorra  WESTERN EUROPE                            71201   \n",
       "1      Antigua & Barbuda              LATIN AMER. & CARIB           69108   \n",
       "2           Bahamas, The              LATIN AMER. & CARIB          303770   \n",
       "3   Bosnia & Herzegovina  EASTERN EUROPE                          4498976   \n",
       "4     British Virgin Is.              LATIN AMER. & CARIB           23098   \n",
       "..                   ...                                  ...         ...   \n",
       "17  St Pierre & Miquelon  NORTHERN AMERICA                           7026   \n",
       "18            San Marino  WESTERN EUROPE                            29251   \n",
       "19   Sao Tome & Principe  SUB-SAHARAN AFRICA                       193413   \n",
       "20     Trinidad & Tobago              LATIN AMER. & CARIB         1065842   \n",
       "21     Turks & Caicos Is              LATIN AMER. & CARIB           21152   \n",
       "\n",
       "    Area (sq mi) Pop Density (per sq mi) Coastline (coast/area ratio)  \\\n",
       "0            468                   152,1                         0,00   \n",
       "1            443                   156,0                        34,54   \n",
       "2          13940                    21,8                        25,41   \n",
       "3          51129                    88,0                         0,04   \n",
       "4            153                   151,0                        52,29   \n",
       "..           ...                     ...                          ...   \n",
       "17           242                    29,0                        49,59   \n",
       "18            61                   479,5                         0,00   \n",
       "19          1001                   193,2                        20,88   \n",
       "20          5128                   207,9                         7,06   \n",
       "21           430                    49,2                        90,47   \n",
       "\n",
       "   Net migration Infant mortality (per 1000 births)  GDP ($ per capita)  \\\n",
       "0            6,6                               4,05               19000   \n",
       "1          -6,15                              19,46               11000   \n",
       "2           -2,2                              25,21               16700   \n",
       "3           0,31                              21,05                6100   \n",
       "4          10,01                              18,05               16000   \n",
       "..           ...                                ...                 ...   \n",
       "17         -4,86                               7,54                6900   \n",
       "18         10,98                               5,73               34600   \n",
       "19         -2,72                              43,11                1200   \n",
       "20        -10,83                              24,31                9500   \n",
       "21         11,68                              15,67                9600   \n",
       "\n",
       "   Literacy (%) Phones (per 1000) Arable (%) Crops (%) Other (%) Climate  \\\n",
       "0         100,0             497,2       2,22         0     97,78       3   \n",
       "1          89,0             549,9      18,18      4,55     77,27       2   \n",
       "2          95,6             460,6        0,8       0,4      98,8       2   \n",
       "3          None             215,4       13,6      2,96     83,44       4   \n",
       "4          97,8             506,5         20      6,67     73,33       2   \n",
       "..          ...               ...        ...       ...       ...     ...   \n",
       "17         99,0             683,2      13,04         0     86,96    None   \n",
       "18         96,0             704,3      16,67         0     83,33    None   \n",
       "19         79,3              36,2       6,25     48,96     44,79       2   \n",
       "20         98,6             303,5      14,62      9,16     76,22       2   \n",
       "21         98,0             269,5       2,33         0     97,67       2   \n",
       "\n",
       "   Birthrate Deathrate Agriculture Industry Service  \n",
       "0       8,71      6,25        None     None    None  \n",
       "1      16,93      5,37       0,038     0,22   0,743  \n",
       "2      17,57      9,05        0,03     0,07     0,9  \n",
       "3       8,77      8,27       0,142    0,308    0,55  \n",
       "4      14,89      4,42       0,018    0,062    0,92  \n",
       "..       ...       ...         ...      ...     ...  \n",
       "17     13,52      6,83        None     None    None  \n",
       "18     10,02      8,17        None     None    None  \n",
       "19     40,25      6,47       0,167    0,148   0,684  \n",
       "20      12,9     10,57       0,007     0,57   0,423  \n",
       "21     21,84      4,21        None     None    None  \n",
       "\n",
       "[22 rows x 20 columns]"
      ],
      "text/html": "<div>\n<style scoped>\n    .dataframe tbody tr th:only-of-type {\n        vertical-align: middle;\n    }\n\n    .dataframe tbody tr th {\n        vertical-align: top;\n    }\n\n    .dataframe thead th {\n        text-align: right;\n    }\n</style>\n<table border=\"1\" class=\"dataframe\">\n  <thead>\n    <tr style=\"text-align: right;\">\n      <th></th>\n      <th>Country</th>\n      <th>Region</th>\n      <th>Population</th>\n      <th>Area (sq mi)</th>\n      <th>Pop Density (per sq mi)</th>\n      <th>Coastline (coast/area ratio)</th>\n      <th>Net migration</th>\n      <th>Infant mortality (per 1000 births)</th>\n      <th>GDP ($ per capita)</th>\n      <th>Literacy (%)</th>\n      <th>Phones (per 1000)</th>\n      <th>Arable (%)</th>\n      <th>Crops (%)</th>\n      <th>Other (%)</th>\n      <th>Climate</th>\n      <th>Birthrate</th>\n      <th>Deathrate</th>\n      <th>Agriculture</th>\n      <th>Industry</th>\n      <th>Service</th>\n    </tr>\n  </thead>\n  <tbody>\n    <tr>\n      <th>0</th>\n      <td>Andorra</td>\n      <td>WESTERN EUROPE</td>\n      <td>71201</td>\n      <td>468</td>\n      <td>152,1</td>\n      <td>0,00</td>\n      <td>6,6</td>\n      <td>4,05</td>\n      <td>19000</td>\n      <td>100,0</td>\n      <td>497,2</td>\n      <td>2,22</td>\n      <td>0</td>\n      <td>97,78</td>\n      <td>3</td>\n      <td>8,71</td>\n      <td>6,25</td>\n      <td>None</td>\n      <td>None</td>\n      <td>None</td>\n    </tr>\n    <tr>\n      <th>1</th>\n      <td>Antigua &amp; Barbuda</td>\n      <td>LATIN AMER. &amp; CARIB</td>\n      <td>69108</td>\n      <td>443</td>\n      <td>156,0</td>\n      <td>34,54</td>\n      <td>-6,15</td>\n      <td>19,46</td>\n      <td>11000</td>\n      <td>89,0</td>\n      <td>549,9</td>\n      <td>18,18</td>\n      <td>4,55</td>\n      <td>77,27</td>\n      <td>2</td>\n      <td>16,93</td>\n      <td>5,37</td>\n      <td>0,038</td>\n      <td>0,22</td>\n      <td>0,743</td>\n    </tr>\n    <tr>\n      <th>2</th>\n      <td>Bahamas, The</td>\n      <td>LATIN AMER. &amp; CARIB</td>\n      <td>303770</td>\n      <td>13940</td>\n      <td>21,8</td>\n      <td>25,41</td>\n      <td>-2,2</td>\n      <td>25,21</td>\n      <td>16700</td>\n      <td>95,6</td>\n      <td>460,6</td>\n      <td>0,8</td>\n      <td>0,4</td>\n      <td>98,8</td>\n      <td>2</td>\n      <td>17,57</td>\n      <td>9,05</td>\n      <td>0,03</td>\n      <td>0,07</td>\n      <td>0,9</td>\n    </tr>\n    <tr>\n      <th>3</th>\n      <td>Bosnia &amp; Herzegovina</td>\n      <td>EASTERN EUROPE</td>\n      <td>4498976</td>\n      <td>51129</td>\n      <td>88,0</td>\n      <td>0,04</td>\n      <td>0,31</td>\n      <td>21,05</td>\n      <td>6100</td>\n      <td>None</td>\n      <td>215,4</td>\n      <td>13,6</td>\n      <td>2,96</td>\n      <td>83,44</td>\n      <td>4</td>\n      <td>8,77</td>\n      <td>8,27</td>\n      <td>0,142</td>\n      <td>0,308</td>\n      <td>0,55</td>\n    </tr>\n    <tr>\n      <th>4</th>\n      <td>British Virgin Is.</td>\n      <td>LATIN AMER. &amp; CARIB</td>\n      <td>23098</td>\n      <td>153</td>\n      <td>151,0</td>\n      <td>52,29</td>\n      <td>10,01</td>\n      <td>18,05</td>\n      <td>16000</td>\n      <td>97,8</td>\n      <td>506,5</td>\n      <td>20</td>\n      <td>6,67</td>\n      <td>73,33</td>\n      <td>2</td>\n      <td>14,89</td>\n      <td>4,42</td>\n      <td>0,018</td>\n      <td>0,062</td>\n      <td>0,92</td>\n    </tr>\n    <tr>\n      <th>...</th>\n      <td>...</td>\n      <td>...</td>\n      <td>...</td>\n      <td>...</td>\n      <td>...</td>\n      <td>...</td>\n      <td>...</td>\n      <td>...</td>\n      <td>...</td>\n      <td>...</td>\n      <td>...</td>\n      <td>...</td>\n      <td>...</td>\n      <td>...</td>\n      <td>...</td>\n      <td>...</td>\n      <td>...</td>\n      <td>...</td>\n      <td>...</td>\n      <td>...</td>\n    </tr>\n    <tr>\n      <th>17</th>\n      <td>St Pierre &amp; Miquelon</td>\n      <td>NORTHERN AMERICA</td>\n      <td>7026</td>\n      <td>242</td>\n      <td>29,0</td>\n      <td>49,59</td>\n      <td>-4,86</td>\n      <td>7,54</td>\n      <td>6900</td>\n      <td>99,0</td>\n      <td>683,2</td>\n      <td>13,04</td>\n      <td>0</td>\n      <td>86,96</td>\n      <td>None</td>\n      <td>13,52</td>\n      <td>6,83</td>\n      <td>None</td>\n      <td>None</td>\n      <td>None</td>\n    </tr>\n    <tr>\n      <th>18</th>\n      <td>San Marino</td>\n      <td>WESTERN EUROPE</td>\n      <td>29251</td>\n      <td>61</td>\n      <td>479,5</td>\n      <td>0,00</td>\n      <td>10,98</td>\n      <td>5,73</td>\n      <td>34600</td>\n      <td>96,0</td>\n      <td>704,3</td>\n      <td>16,67</td>\n      <td>0</td>\n      <td>83,33</td>\n      <td>None</td>\n      <td>10,02</td>\n      <td>8,17</td>\n      <td>None</td>\n      <td>None</td>\n      <td>None</td>\n    </tr>\n    <tr>\n      <th>19</th>\n      <td>Sao Tome &amp; Principe</td>\n      <td>SUB-SAHARAN AFRICA</td>\n      <td>193413</td>\n      <td>1001</td>\n      <td>193,2</td>\n      <td>20,88</td>\n      <td>-2,72</td>\n      <td>43,11</td>\n      <td>1200</td>\n      <td>79,3</td>\n      <td>36,2</td>\n      <td>6,25</td>\n      <td>48,96</td>\n      <td>44,79</td>\n      <td>2</td>\n      <td>40,25</td>\n      <td>6,47</td>\n      <td>0,167</td>\n      <td>0,148</td>\n      <td>0,684</td>\n    </tr>\n    <tr>\n      <th>20</th>\n      <td>Trinidad &amp; Tobago</td>\n      <td>LATIN AMER. &amp; CARIB</td>\n      <td>1065842</td>\n      <td>5128</td>\n      <td>207,9</td>\n      <td>7,06</td>\n      <td>-10,83</td>\n      <td>24,31</td>\n      <td>9500</td>\n      <td>98,6</td>\n      <td>303,5</td>\n      <td>14,62</td>\n      <td>9,16</td>\n      <td>76,22</td>\n      <td>2</td>\n      <td>12,9</td>\n      <td>10,57</td>\n      <td>0,007</td>\n      <td>0,57</td>\n      <td>0,423</td>\n    </tr>\n    <tr>\n      <th>21</th>\n      <td>Turks &amp; Caicos Is</td>\n      <td>LATIN AMER. &amp; CARIB</td>\n      <td>21152</td>\n      <td>430</td>\n      <td>49,2</td>\n      <td>90,47</td>\n      <td>11,68</td>\n      <td>15,67</td>\n      <td>9600</td>\n      <td>98,0</td>\n      <td>269,5</td>\n      <td>2,33</td>\n      <td>0</td>\n      <td>97,67</td>\n      <td>2</td>\n      <td>21,84</td>\n      <td>4,21</td>\n      <td>None</td>\n      <td>None</td>\n      <td>None</td>\n    </tr>\n  </tbody>\n</table>\n<p>22 rows × 20 columns</p>\n</div>"
     },
     "metadata": {},
     "execution_count": 447
    }
   ],
   "source": [
    "joined_anti.toPandas()"
   ]
  },
  {
   "cell_type": "code",
   "execution_count": 438,
   "metadata": {},
   "outputs": [],
   "source": [
    "sumAirports.toPandas().to_csv(r'sumAirports.csv', index = False)\n",
    "joined.toPandas().to_csv(r'joined.csv', index = False)\n",
    "\n"
   ]
  },
  {
   "cell_type": "code",
   "execution_count": 434,
   "metadata": {},
   "outputs": [],
   "source": [
    "# TODO wykrycie niepasujących nazw państwa i ujednolicenie wartości "
   ]
  },
  {
   "cell_type": "markdown",
   "metadata": {},
   "source": [
    "# Zadanie 3"
   ]
  },
  {
   "cell_type": "code",
   "execution_count": 435,
   "metadata": {},
   "outputs": [],
   "source": [
    "# TODO"
   ]
  },
  {
   "cell_type": "markdown",
   "metadata": {},
   "source": [
    "# Zadanie 4"
   ]
  },
  {
   "cell_type": "code",
   "execution_count": 436,
   "metadata": {},
   "outputs": [],
   "source": [
    "# TODO"
   ]
  }
 ],
 "metadata": {
  "kernelspec": {
   "display_name": "Python 3.8.5 64-bit ('spk')",
   "language": "python",
   "name": "python38564bitspk7ccd36030465488981be9a4d844688af"
  },
  "language_info": {
   "codemirror_mode": {
    "name": "ipython",
    "version": 3
   },
   "file_extension": ".py",
   "mimetype": "text/x-python",
   "name": "python",
   "nbconvert_exporter": "python",
   "pygments_lexer": "ipython3",
   "version": "3.8.5-final"
  }
 },
 "nbformat": 4,
 "nbformat_minor": 2
}