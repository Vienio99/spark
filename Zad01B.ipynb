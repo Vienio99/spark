{
 "cells": [
  {
   "cell_type": "markdown",
   "metadata": {},
   "source": [
    "Spark Ćwiczenia"
   ]
  },
  {
   "cell_type": "code",
   "execution_count": 21,
   "metadata": {},
   "outputs": [],
   "source": [
    "from pyspark.sql import SparkSession"
   ]
  },
  {
   "cell_type": "code",
   "execution_count": 23,
   "metadata": {},
   "outputs": [],
   "source": [
    "import pandas as pd"
   ]
  },
  {
   "cell_type": "code",
   "execution_count": 25,
   "metadata": {},
   "outputs": [],
   "source": [
    "import numpy as np"
   ]
  },
  {
   "cell_type": "code",
   "execution_count": 27,
   "metadata": {},
   "outputs": [],
   "source": [
    "spark = SparkSession.builder.getOrCreate()"
   ]
  },
  {
   "cell_type": "code",
   "execution_count": 29,
   "metadata": {},
   "outputs": [
    {
     "output_type": "execute_result",
     "data": {
      "text/plain": [
       "<pyspark.sql.session.SparkSession at 0x7f48fe077ac0>"
      ],
      "text/html": "\n            <div>\n                <p><b>SparkSession - in-memory</b></p>\n                \n        <div>\n            <p><b>SparkContext</b></p>\n\n            <p><a href=\"http://192.168.1.20:4041\">Spark UI</a></p>\n\n            <dl>\n              <dt>Version</dt>\n                <dd><code>v3.1.1</code></dd>\n              <dt>Master</dt>\n                <dd><code>local[*]</code></dd>\n              <dt>AppName</dt>\n                <dd><code>pyspark-shell</code></dd>\n            </dl>\n        </div>\n        \n            </div>\n        "
     },
     "metadata": {},
     "execution_count": 29
    }
   ],
   "source": [
    "spark"
   ]
  },
  {
   "cell_type": "code",
   "execution_count": 31,
   "metadata": {},
   "outputs": [],
   "source": [
    "airports = spark.read.csv(\"airports.csv\",inferSchema=True,header=True)"
   ]
  },
  {
   "cell_type": "code",
   "execution_count": 33,
   "metadata": {},
   "outputs": [
    {
     "output_type": "execute_result",
     "data": {
      "text/plain": [
       "    IATA_CODE                              AIRPORT  \\\n",
       "0         ABE  Lehigh Valley International Airport   \n",
       "1         ABI             Abilene Regional Airport   \n",
       "2         ABQ    Albuquerque International Sunport   \n",
       "3         ABR            Aberdeen Regional Airport   \n",
       "4         ABY   Southwest Georgia Regional Airport   \n",
       "..        ...                                  ...   \n",
       "317       WRG                     Wrangell Airport   \n",
       "318       WYS               Westerly State Airport   \n",
       "319       XNA  Northwest Arkansas Regional Airport   \n",
       "320       YAK                      Yakutat Airport   \n",
       "321       YUM           Yuma International Airport   \n",
       "\n",
       "                               CITY STATE COUNTRY  LATITUDE  LONGITUDE  \n",
       "0                         Allentown    PA     USA  40.65236  -75.44040  \n",
       "1                           Abilene    TX     USA  32.41132  -99.68190  \n",
       "2                       Albuquerque    NM     USA  35.04022 -106.60919  \n",
       "3                          Aberdeen    SD     USA  45.44906  -98.42183  \n",
       "4                            Albany    GA     USA  31.53552  -84.19447  \n",
       "..                              ...   ...     ...       ...        ...  \n",
       "317                        Wrangell    AK     USA  56.48433 -132.36982  \n",
       "318                West Yellowstone    MT     USA  44.68840 -111.11764  \n",
       "319  Fayetteville/Springdale/Rogers    AR     USA  36.28187  -94.30681  \n",
       "320                         Yakutat    AK     USA  59.50336 -139.66023  \n",
       "321                            Yuma    AZ     USA  32.65658 -114.60597  \n",
       "\n",
       "[322 rows x 7 columns]"
      ],
      "text/html": "<div>\n<style scoped>\n    .dataframe tbody tr th:only-of-type {\n        vertical-align: middle;\n    }\n\n    .dataframe tbody tr th {\n        vertical-align: top;\n    }\n\n    .dataframe thead th {\n        text-align: right;\n    }\n</style>\n<table border=\"1\" class=\"dataframe\">\n  <thead>\n    <tr style=\"text-align: right;\">\n      <th></th>\n      <th>IATA_CODE</th>\n      <th>AIRPORT</th>\n      <th>CITY</th>\n      <th>STATE</th>\n      <th>COUNTRY</th>\n      <th>LATITUDE</th>\n      <th>LONGITUDE</th>\n    </tr>\n  </thead>\n  <tbody>\n    <tr>\n      <th>0</th>\n      <td>ABE</td>\n      <td>Lehigh Valley International Airport</td>\n      <td>Allentown</td>\n      <td>PA</td>\n      <td>USA</td>\n      <td>40.65236</td>\n      <td>-75.44040</td>\n    </tr>\n    <tr>\n      <th>1</th>\n      <td>ABI</td>\n      <td>Abilene Regional Airport</td>\n      <td>Abilene</td>\n      <td>TX</td>\n      <td>USA</td>\n      <td>32.41132</td>\n      <td>-99.68190</td>\n    </tr>\n    <tr>\n      <th>2</th>\n      <td>ABQ</td>\n      <td>Albuquerque International Sunport</td>\n      <td>Albuquerque</td>\n      <td>NM</td>\n      <td>USA</td>\n      <td>35.04022</td>\n      <td>-106.60919</td>\n    </tr>\n    <tr>\n      <th>3</th>\n      <td>ABR</td>\n      <td>Aberdeen Regional Airport</td>\n      <td>Aberdeen</td>\n      <td>SD</td>\n      <td>USA</td>\n      <td>45.44906</td>\n      <td>-98.42183</td>\n    </tr>\n    <tr>\n      <th>4</th>\n      <td>ABY</td>\n      <td>Southwest Georgia Regional Airport</td>\n      <td>Albany</td>\n      <td>GA</td>\n      <td>USA</td>\n      <td>31.53552</td>\n      <td>-84.19447</td>\n    </tr>\n    <tr>\n      <th>...</th>\n      <td>...</td>\n      <td>...</td>\n      <td>...</td>\n      <td>...</td>\n      <td>...</td>\n      <td>...</td>\n      <td>...</td>\n    </tr>\n    <tr>\n      <th>317</th>\n      <td>WRG</td>\n      <td>Wrangell Airport</td>\n      <td>Wrangell</td>\n      <td>AK</td>\n      <td>USA</td>\n      <td>56.48433</td>\n      <td>-132.36982</td>\n    </tr>\n    <tr>\n      <th>318</th>\n      <td>WYS</td>\n      <td>Westerly State Airport</td>\n      <td>West Yellowstone</td>\n      <td>MT</td>\n      <td>USA</td>\n      <td>44.68840</td>\n      <td>-111.11764</td>\n    </tr>\n    <tr>\n      <th>319</th>\n      <td>XNA</td>\n      <td>Northwest Arkansas Regional Airport</td>\n      <td>Fayetteville/Springdale/Rogers</td>\n      <td>AR</td>\n      <td>USA</td>\n      <td>36.28187</td>\n      <td>-94.30681</td>\n    </tr>\n    <tr>\n      <th>320</th>\n      <td>YAK</td>\n      <td>Yakutat Airport</td>\n      <td>Yakutat</td>\n      <td>AK</td>\n      <td>USA</td>\n      <td>59.50336</td>\n      <td>-139.66023</td>\n    </tr>\n    <tr>\n      <th>321</th>\n      <td>YUM</td>\n      <td>Yuma International Airport</td>\n      <td>Yuma</td>\n      <td>AZ</td>\n      <td>USA</td>\n      <td>32.65658</td>\n      <td>-114.60597</td>\n    </tr>\n  </tbody>\n</table>\n<p>322 rows × 7 columns</p>\n</div>"
     },
     "metadata": {},
     "execution_count": 33
    }
   ],
   "source": [
    "airports.toPandas()"
   ]
  },
  {
   "cell_type": "code",
   "execution_count": 35,
   "metadata": {},
   "outputs": [],
   "source": [
    "from pyspark.sql.functions import col, asc"
   ]
  },
  {
   "cell_type": "markdown",
   "metadata": {},
   "source": [
    "Zadania"
   ]
  },
  {
   "cell_type": "markdown",
   "metadata": {},
   "source": [
    "nr1 Print all the airports that are to the North from Krakow."
   ]
  },
  {
   "cell_type": "code",
   "execution_count": null,
   "metadata": {},
   "outputs": [],
   "source": [
    "airports.filter(col(\"LATITUDE\") > 50).toPandas()"
   ]
  },
  {
   "cell_type": "markdown",
   "metadata": {},
   "source": [
    "nr2 For each state, find the airport which is closest to the South Pole."
   ]
  },
  {
   "cell_type": "code",
   "execution_count": null,
   "metadata": {},
   "outputs": [],
   "source": []
  },
  {
   "cell_type": "code",
   "execution_count": 28,
   "metadata": {},
   "outputs": [],
   "source": [
    "import matplotlib"
   ]
  },
  {
   "cell_type": "code",
   "execution_count": 30,
   "metadata": {},
   "outputs": [],
   "source": [
    "pd_airports = airports.select(\"longitude\", \"latitude\").toPandas()"
   ]
  },
  {
   "cell_type": "code",
   "execution_count": 32,
   "metadata": {},
   "outputs": [
    {
     "output_type": "execute_result",
     "data": {
      "text/plain": [
       "     longitude  latitude\n",
       "0    -75.44040  40.65236\n",
       "1    -99.68190  32.41132\n",
       "2   -106.60919  35.04022\n",
       "3    -98.42183  45.44906\n",
       "4    -84.19447  31.53552\n",
       "..         ...       ...\n",
       "317 -132.36982  56.48433\n",
       "318 -111.11764  44.68840\n",
       "319  -94.30681  36.28187\n",
       "320 -139.66023  59.50336\n",
       "321 -114.60597  32.65658\n",
       "\n",
       "[322 rows x 2 columns]"
      ],
      "text/html": "<div>\n<style scoped>\n    .dataframe tbody tr th:only-of-type {\n        vertical-align: middle;\n    }\n\n    .dataframe tbody tr th {\n        vertical-align: top;\n    }\n\n    .dataframe thead th {\n        text-align: right;\n    }\n</style>\n<table border=\"1\" class=\"dataframe\">\n  <thead>\n    <tr style=\"text-align: right;\">\n      <th></th>\n      <th>longitude</th>\n      <th>latitude</th>\n    </tr>\n  </thead>\n  <tbody>\n    <tr>\n      <th>0</th>\n      <td>-75.44040</td>\n      <td>40.65236</td>\n    </tr>\n    <tr>\n      <th>1</th>\n      <td>-99.68190</td>\n      <td>32.41132</td>\n    </tr>\n    <tr>\n      <th>2</th>\n      <td>-106.60919</td>\n      <td>35.04022</td>\n    </tr>\n    <tr>\n      <th>3</th>\n      <td>-98.42183</td>\n      <td>45.44906</td>\n    </tr>\n    <tr>\n      <th>4</th>\n      <td>-84.19447</td>\n      <td>31.53552</td>\n    </tr>\n    <tr>\n      <th>...</th>\n      <td>...</td>\n      <td>...</td>\n    </tr>\n    <tr>\n      <th>317</th>\n      <td>-132.36982</td>\n      <td>56.48433</td>\n    </tr>\n    <tr>\n      <th>318</th>\n      <td>-111.11764</td>\n      <td>44.68840</td>\n    </tr>\n    <tr>\n      <th>319</th>\n      <td>-94.30681</td>\n      <td>36.28187</td>\n    </tr>\n    <tr>\n      <th>320</th>\n      <td>-139.66023</td>\n      <td>59.50336</td>\n    </tr>\n    <tr>\n      <th>321</th>\n      <td>-114.60597</td>\n      <td>32.65658</td>\n    </tr>\n  </tbody>\n</table>\n<p>322 rows × 2 columns</p>\n</div>"
     },
     "metadata": {},
     "execution_count": 32
    }
   ],
   "source": [
    "pd_airports"
   ]
  },
  {
   "cell_type": "markdown",
   "metadata": {},
   "source": [
    "nr3 Plot the coordinates of all the airports. Bonus: plot on the map."
   ]
  },
  {
   "cell_type": "code",
   "execution_count": 34,
   "metadata": {},
   "outputs": [
    {
     "output_type": "execute_result",
     "data": {
      "text/plain": [
       "<AxesSubplot:xlabel='longitude', ylabel='latitude'>"
      ]
     },
     "metadata": {},
     "execution_count": 34
    },
    {
     "output_type": "display_data",
     "data": {
      "text/plain": "<Figure size 720x432 with 1 Axes>",
      "image/svg+xml": "<?xml version=\"1.0\" encoding=\"utf-8\" standalone=\"no\"?>\n<!DOCTYPE svg PUBLIC \"-//W3C//DTD SVG 1.1//EN\"\n  \"http://www.w3.org/Graphics/SVG/1.1/DTD/svg11.dtd\">\n<!-- Created with matplotlib (https://matplotlib.org/) -->\n<svg height=\"370.91625pt\" version=\"1.1\" viewBox=\"0 0 612.755209 370.91625\" width=\"612.755209pt\" xmlns=\"http://www.w3.org/2000/svg\" xmlns:xlink=\"http://www.w3.org/1999/xlink\">\n <metadata>\n  <rdf:RDF xmlns:cc=\"http://creativecommons.org/ns#\" xmlns:dc=\"http://purl.org/dc/elements/1.1/\" xmlns:rdf=\"http://www.w3.org/1999/02/22-rdf-syntax-ns#\">\n   <cc:Work>\n    <dc:type rdf:resource=\"http://purl.org/dc/dcmitype/StillImage\"/>\n    <dc:date>2021-03-12T20:48:01.369336</dc:date>\n    <dc:format>image/svg+xml</dc:format>\n    <dc:creator>\n     <cc:Agent>\n      <dc:title>Matplotlib v3.3.4, https://matplotlib.org/</dc:title>\n     </cc:Agent>\n    </dc:creator>\n   </cc:Work>\n  </rdf:RDF>\n </metadata>\n <defs>\n  <style type=\"text/css\">*{stroke-linecap:butt;stroke-linejoin:round;}</style>\n </defs>\n <g id=\"figure_1\">\n  <g id=\"patch_1\">\n   <path d=\"M 0 370.91625 \nL 612.755209 370.91625 \nL 612.755209 0 \nL 0 0 \nz\n\" style=\"fill:none;\"/>\n  </g>\n  <g id=\"axes_1\">\n   <g id=\"patch_2\">\n    <path d=\"M 40.603125 333.36 \nL 598.603125 333.36 \nL 598.603125 7.2 \nL 40.603125 7.2 \nz\n\" style=\"fill:#ffffff;\"/>\n   </g>\n   <g id=\"PathCollection_1\">\n    <defs>\n     <path d=\"M 0 2.236068 \nC 0.593012 2.236068 1.161816 2.000462 1.581139 1.581139 \nC 2.000462 1.161816 2.236068 0.593012 2.236068 0 \nC 2.236068 -0.593012 2.000462 -1.161816 1.581139 -1.581139 \nC 1.161816 -2.000462 0.593012 -2.236068 0 -2.236068 \nC -0.593012 -2.236068 -1.161816 -2.000462 -1.581139 -1.581139 \nC -2.000462 -1.161816 -2.236068 -0.593012 -2.236068 0 \nC -2.236068 0.593012 -2.000462 1.161816 -1.581139 1.581139 \nC -1.161816 2.000462 -0.593012 2.236068 0 2.236068 \nz\n\" id=\"m9e759846a8\" style=\"stroke:#1f77b4;\"/>\n    </defs>\n    <g clip-path=\"url(#pb3e1132f5f)\">\n     <use style=\"fill:#1f77b4;stroke:#1f77b4;\" x=\"524.974515\" xlink:href=\"#m9e759846a8\" y=\"179.165167\"/>\n     <use style=\"fill:#1f77b4;stroke:#1f77b4;\" x=\"415.029678\" xlink:href=\"#m9e759846a8\" y=\"221.43954\"/>\n     <use style=\"fill:#1f77b4;stroke:#1f77b4;\" x=\"383.611665\" xlink:href=\"#m9e759846a8\" y=\"207.953973\"/>\n     <use style=\"fill:#1f77b4;stroke:#1f77b4;\" x=\"420.744597\" xlink:href=\"#m9e759846a8\" y=\"154.559355\"/>\n     <use style=\"fill:#1f77b4;stroke:#1f77b4;\" x=\"485.271328\" xlink:href=\"#m9e759846a8\" y=\"225.932164\"/>\n     <use style=\"fill:#1f77b4;stroke:#1f77b4;\" x=\"549.375951\" xlink:href=\"#m9e759846a8\" y=\"176.083785\"/>\n     <use style=\"fill:#1f77b4;stroke:#1f77b4;\" x=\"426.147661\" xlink:href=\"#m9e759846a8\" y=\"225.543484\"/>\n     <use style=\"fill:#1f77b4;stroke:#1f77b4;\" x=\"304.244795\" xlink:href=\"#m9e759846a8\" y=\"177.494104\"/>\n     <use style=\"fill:#1f77b4;stroke:#1f77b4;\" x=\"528.889606\" xlink:href=\"#m9e759846a8\" y=\"185.294075\"/>\n     <use style=\"fill:#1f77b4;stroke:#1f77b4;\" x=\"65.966761\" xlink:href=\"#m9e759846a8\" y=\"121.580785\"/>\n     <use style=\"fill:#1f77b4;stroke:#1f77b4;\" x=\"175.506451\" xlink:href=\"#m9e759846a8\" y=\"91.458915\"/>\n     <use style=\"fill:#1f77b4;stroke:#1f77b4;\" x=\"447.38221\" xlink:href=\"#m9e759846a8\" y=\"226.999919\"/>\n     <use style=\"fill:#1f77b4;stroke:#1f77b4;\" x=\"495.385129\" xlink:href=\"#m9e759846a8\" y=\"216.521968\"/>\n     <use style=\"fill:#1f77b4;stroke:#1f77b4;\" x=\"156.660242\" xlink:href=\"#m9e759846a8\" y=\"86.70452\"/>\n     <use style=\"fill:#1f77b4;stroke:#1f77b4;\" x=\"532.400865\" xlink:href=\"#m9e759846a8\" y=\"168.414468\"/>\n     <use style=\"fill:#1f77b4;stroke:#1f77b4;\" x=\"448.054447\" xlink:href=\"#m9e759846a8\" y=\"169.394453\"/>\n     <use style=\"fill:#1f77b4;stroke:#1f77b4;\" x=\"405.849898\" xlink:href=\"#m9e759846a8\" y=\"207.03498\"/>\n     <use style=\"fill:#1f77b4;stroke:#1f77b4;\" x=\"186.834377\" xlink:href=\"#m9e759846a8\" y=\"73.892898\"/>\n     <use style=\"fill:#1f77b4;stroke:#1f77b4;\" x=\"488.147587\" xlink:href=\"#m9e759846a8\" y=\"156.462436\"/>\n     <use style=\"fill:#1f77b4;stroke:#1f77b4;\" x=\"382.434004\" xlink:href=\"#m9e759846a8\" y=\"186.496588\"/>\n     <use style=\"fill:#1f77b4;stroke:#1f77b4;\" x=\"484.216985\" xlink:href=\"#m9e759846a8\" y=\"215.134477\"/>\n     <use style=\"fill:#1f77b4;stroke:#1f77b4;\" x=\"465.655689\" xlink:href=\"#m9e759846a8\" y=\"160.672207\"/>\n     <use style=\"fill:#1f77b4;stroke:#1f77b4;\" x=\"424.155034\" xlink:href=\"#m9e759846a8\" y=\"232.811091\"/>\n     <use style=\"fill:#1f77b4;stroke:#1f77b4;\" x=\"492.766798\" xlink:href=\"#m9e759846a8\" y=\"205.92275\"/>\n     <use style=\"fill:#1f77b4;stroke:#1f77b4;\" x=\"523.687052\" xlink:href=\"#m9e759846a8\" y=\"175.647244\"/>\n     <use style=\"fill:#1f77b4;stroke:#1f77b4;\" x=\"479.114118\" xlink:href=\"#m9e759846a8\" y=\"171.047255\"/>\n     <use style=\"fill:#1f77b4;stroke:#1f77b4;\" x=\"537.479377\" xlink:href=\"#m9e759846a8\" y=\"172.565708\"/>\n     <use style=\"fill:#1f77b4;stroke:#1f77b4;\" x=\"133.127062\" xlink:href=\"#m9e759846a8\" y=\"75.916785\"/>\n     <use style=\"fill:#1f77b4;stroke:#1f77b4;\" x=\"327.156943\" xlink:href=\"#m9e759846a8\" y=\"205.936036\"/>\n     <use style=\"fill:#1f77b4;stroke:#1f77b4;\" x=\"522.528983\" xlink:href=\"#m9e759846a8\" y=\"171.18268\"/>\n     <use style=\"fill:#1f77b4;stroke:#1f77b4;\" x=\"554.963742\" xlink:href=\"#m9e759846a8\" y=\"157.850697\"/>\n     <use style=\"fill:#1f77b4;stroke:#1f77b4;\" x=\"473.664884\" xlink:href=\"#m9e759846a8\" y=\"215.532031\"/>\n     <use style=\"fill:#1f77b4;stroke:#1f77b4;\" x=\"374.841703\" xlink:href=\"#m9e759846a8\" y=\"152.719831\"/>\n     <use style=\"fill:#1f77b4;stroke:#1f77b4;\" x=\"410.200296\" xlink:href=\"#m9e759846a8\" y=\"147.762196\"/>\n     <use style=\"fill:#1f77b4;stroke:#1f77b4;\" x=\"436.564562\" xlink:href=\"#m9e759846a8\" y=\"143.990249\"/>\n     <use style=\"fill:#1f77b4;stroke:#1f77b4;\" x=\"311.370313\" xlink:href=\"#m9e759846a8\" y=\"137.407103\"/>\n     <use style=\"fill:#1f77b4;stroke:#1f77b4;\" x=\"463.85754\" xlink:href=\"#m9e759846a8\" y=\"180.059639\"/>\n     <use style=\"fill:#1f77b4;stroke:#1f77b4;\" x=\"474.006716\" xlink:href=\"#m9e759846a8\" y=\"202.392003\"/>\n     <use style=\"fill:#1f77b4;stroke:#1f77b4;\" x=\"340.010214\" xlink:href=\"#m9e759846a8\" y=\"164.226961\"/>\n     <use style=\"fill:#1f77b4;stroke:#1f77b4;\" x=\"545.09\" xlink:href=\"#m9e759846a8\" y=\"170.383108\"/>\n     <use style=\"fill:#1f77b4;stroke:#1f77b4;\" x=\"440.705516\" xlink:href=\"#m9e759846a8\" y=\"234.061208\"/>\n     <use style=\"fill:#1f77b4;stroke:#1f77b4;\" x=\"497.644618\" xlink:href=\"#m9e759846a8\" y=\"227.350485\"/>\n     <use style=\"fill:#1f77b4;stroke:#1f77b4;\" x=\"562.668021\" xlink:href=\"#m9e759846a8\" y=\"292.827327\"/>\n     <use style=\"fill:#1f77b4;stroke:#1f77b4;\" x=\"440.17696\" xlink:href=\"#m9e759846a8\" y=\"149.69226\"/>\n     <use style=\"fill:#1f77b4;stroke:#1f77b4;\" x=\"425.261716\" xlink:href=\"#m9e759846a8\" y=\"254.805866\"/>\n     <use style=\"fill:#1f77b4;stroke:#1f77b4;\" x=\"156.130598\" xlink:href=\"#m9e759846a8\" y=\"22.025455\"/>\n     <use style=\"fill:#1f77b4;stroke:#1f77b4;\" x=\"356.90602\" xlink:href=\"#m9e759846a8\" y=\"151.965041\"/>\n     <use style=\"fill:#1f77b4;stroke:#1f77b4;\" x=\"453.726914\" xlink:href=\"#m9e759846a8\" y=\"231.074008\"/>\n     <use style=\"fill:#1f77b4;stroke:#1f77b4;\" x=\"535.360983\" xlink:href=\"#m9e759846a8\" y=\"159.566287\"/>\n     <use style=\"fill:#1f77b4;stroke:#1f77b4;\" x=\"510.04503\" xlink:href=\"#m9e759846a8\" y=\"167.427507\"/>\n     <use style=\"fill:#1f77b4;stroke:#1f77b4;\" x=\"330.323875\" xlink:href=\"#m9e759846a8\" y=\"212.2609\"/>\n     <use style=\"fill:#1f77b4;stroke:#1f77b4;\" x=\"519.405954\" xlink:href=\"#m9e759846a8\" y=\"186.741584\"/>\n     <use style=\"fill:#1f77b4;stroke:#1f77b4;\" x=\"363.003636\" xlink:href=\"#m9e759846a8\" y=\"152.877622\"/>\n     <use style=\"fill:#1f77b4;stroke:#1f77b4;\" x=\"499.217358\" xlink:href=\"#m9e759846a8\" y=\"213.603763\"/>\n     <use style=\"fill:#1f77b4;stroke:#1f77b4;\" x=\"497.752742\" xlink:href=\"#m9e759846a8\" y=\"177.811173\"/>\n     <use style=\"fill:#1f77b4;stroke:#1f77b4;\" x=\"354.179702\" xlink:href=\"#m9e759846a8\" y=\"194.305023\"/>\n     <use style=\"fill:#1f77b4;stroke:#1f77b4;\" x=\"207.327752\" xlink:href=\"#m9e759846a8\" y=\"77.393893\"/>\n     <use style=\"fill:#1f77b4;stroke:#1f77b4;\" x=\"303.664673\" xlink:href=\"#m9e759846a8\" y=\"173.379849\"/>\n     <use style=\"fill:#1f77b4;stroke:#1f77b4;\" x=\"480.693661\" xlink:href=\"#m9e759846a8\" y=\"207.979365\"/>\n     <use style=\"fill:#1f77b4;stroke:#1f77b4;\" x=\"511.311812\" xlink:href=\"#m9e759846a8\" y=\"192.059891\"/>\n     <use style=\"fill:#1f77b4;stroke:#1f77b4;\" x=\"504.111188\" xlink:href=\"#m9e759846a8\" y=\"218.939665\"/>\n     <use style=\"fill:#1f77b4;stroke:#1f77b4;\" x=\"451.181467\" xlink:href=\"#m9e759846a8\" y=\"172.844151\"/>\n     <use style=\"fill:#1f77b4;stroke:#1f77b4;\" x=\"484.010851\" xlink:href=\"#m9e759846a8\" y=\"150.446896\"/>\n     <use style=\"fill:#1f77b4;stroke:#1f77b4;\" x=\"335.221061\" xlink:href=\"#m9e759846a8\" y=\"217.767109\"/>\n     <use style=\"fill:#1f77b4;stroke:#1f77b4;\" x=\"495.907153\" xlink:href=\"#m9e759846a8\" y=\"175.274107\"/>\n     <use style=\"fill:#1f77b4;stroke:#1f77b4;\" x=\"430.07849\" xlink:href=\"#m9e759846a8\" y=\"230.789666\"/>\n     <use style=\"fill:#1f77b4;stroke:#1f77b4;\" x=\"500.017447\" xlink:href=\"#m9e759846a8\" y=\"207.062475\"/>\n     <use style=\"fill:#1f77b4;stroke:#1f77b4;\" x=\"491.179092\" xlink:href=\"#m9e759846a8\" y=\"182.521914\"/>\n     <use style=\"fill:#1f77b4;stroke:#1f77b4;\" x=\"466.750625\" xlink:href=\"#m9e759846a8\" y=\"182.310261\"/>\n     <use style=\"fill:#1f77b4;stroke:#1f77b4;\" x=\"465.793656\" xlink:href=\"#m9e759846a8\" y=\"145.739489\"/>\n     <use style=\"fill:#1f77b4;stroke:#1f77b4;\" x=\"369.344892\" xlink:href=\"#m9e759846a8\" y=\"188.898331\"/>\n     <use style=\"fill:#1f77b4;stroke:#1f77b4;\" x=\"372.660449\" xlink:href=\"#m9e759846a8\" y=\"159.324214\"/>\n     <use style=\"fill:#1f77b4;stroke:#1f77b4;\" x=\"392.269467\" xlink:href=\"#m9e759846a8\" y=\"188.637484\"/>\n     <use style=\"fill:#1f77b4;stroke:#1f77b4;\" x=\"448.874038\" xlink:href=\"#m9e759846a8\" y=\"188.574491\"/>\n     <use style=\"fill:#1f77b4;stroke:#1f77b4;\" x=\"384.268028\" xlink:href=\"#m9e759846a8\" y=\"167.592479\"/>\n     <use style=\"fill:#1f77b4;stroke:#1f77b4;\" x=\"424.919929\" xlink:href=\"#m9e759846a8\" y=\"245.246446\"/>\n     <use style=\"fill:#1f77b4;stroke:#1f77b4;\" x=\"497.069167\" xlink:href=\"#m9e759846a8\" y=\"190.856916\"/>\n     <use style=\"fill:#1f77b4;stroke:#1f77b4;\" x=\"481.895224\" xlink:href=\"#m9e759846a8\" y=\"220.900866\"/>\n     <use style=\"fill:#1f77b4;stroke:#1f77b4;\" x=\"483.150123\" xlink:href=\"#m9e759846a8\" y=\"187.404654\"/>\n     <use style=\"fill:#1f77b4;stroke:#1f77b4;\" x=\"460.452228\" xlink:href=\"#m9e759846a8\" y=\"158.003666\"/>\n     <use style=\"fill:#1f77b4;stroke:#1f77b4;\" x=\"499.496194\" xlink:href=\"#m9e759846a8\" y=\"238.015774\"/>\n     <use style=\"fill:#1f77b4;stroke:#1f77b4;\" x=\"427.865443\" xlink:href=\"#m9e759846a8\" y=\"219.204051\"/>\n     <use style=\"fill:#1f77b4;stroke:#1f77b4;\" x=\"485.158352\" xlink:href=\"#m9e759846a8\" y=\"183.012368\"/>\n     <use style=\"fill:#1f77b4;stroke:#1f77b4;\" x=\"455.724575\" xlink:href=\"#m9e759846a8\" y=\"170.185049\"/>\n     <use style=\"fill:#1f77b4;stroke:#1f77b4;\" x=\"517.730034\" xlink:href=\"#m9e759846a8\" y=\"188.400131\"/>\n     <use style=\"fill:#1f77b4;stroke:#1f77b4;\" x=\"392.420269\" xlink:href=\"#m9e759846a8\" y=\"183.237922\"/>\n     <use style=\"fill:#1f77b4;stroke:#1f77b4;\" x=\"427.024444\" xlink:href=\"#m9e759846a8\" y=\"218.953515\"/>\n     <use style=\"fill:#1f77b4;stroke:#1f77b4;\" x=\"479.578679\" xlink:href=\"#m9e759846a8\" y=\"227.030851\"/>\n     <use style=\"fill:#1f77b4;stroke:#1f77b4;\" x=\"400.879012\" xlink:href=\"#m9e759846a8\" y=\"147.642776\"/>\n     <use style=\"fill:#1f77b4;stroke:#1f77b4;\" x=\"148.251071\" xlink:href=\"#m9e759846a8\" y=\"84.813648\"/>\n     <use style=\"fill:#1f77b4;stroke:#1f77b4;\" x=\"448.991868\" xlink:href=\"#m9e759846a8\" y=\"147.413477\"/>\n     <use style=\"fill:#1f77b4;stroke:#1f77b4;\" x=\"378.42054\" xlink:href=\"#m9e759846a8\" y=\"197.123558\"/>\n     <use style=\"fill:#1f77b4;stroke:#1f77b4;\" x=\"442.338304\" xlink:href=\"#m9e759846a8\" y=\"174.637815\"/>\n     <use style=\"fill:#1f77b4;stroke:#1f77b4;\" x=\"489.106597\" xlink:href=\"#m9e759846a8\" y=\"171.164315\"/>\n     <use style=\"fill:#1f77b4;stroke:#1f77b4;\" x=\"418.536085\" xlink:href=\"#m9e759846a8\" y=\"140.88763\"/>\n     <use style=\"fill:#1f77b4;stroke:#1f77b4;\" x=\"452.20556\" xlink:href=\"#m9e759846a8\" y=\"157.554096\"/>\n     <use style=\"fill:#1f77b4;stroke:#1f77b4;\" x=\"382.21245\" xlink:href=\"#m9e759846a8\" y=\"184.345125\"/>\n     <use style=\"fill:#1f77b4;stroke:#1f77b4;\" x=\"341.965333\" xlink:href=\"#m9e759846a8\" y=\"178.279928\"/>\n     <use style=\"fill:#1f77b4;stroke:#1f77b4;\" x=\"518.393472\" xlink:href=\"#m9e759846a8\" y=\"171.431831\"/>\n     <use style=\"fill:#1f77b4;stroke:#1f77b4;\" x=\"384.661065\" xlink:href=\"#m9e759846a8\" y=\"224.541235\"/>\n     <use style=\"fill:#1f77b4;stroke:#1f77b4;\" x=\"503.495689\" xlink:href=\"#m9e759846a8\" y=\"171.831387\"/>\n     <use style=\"fill:#1f77b4;stroke:#1f77b4;\" x=\"472.122032\" xlink:href=\"#m9e759846a8\" y=\"153.155807\"/>\n     <use style=\"fill:#1f77b4;stroke:#1f77b4;\" x=\"308.280982\" xlink:href=\"#m9e759846a8\" y=\"161.360361\"/>\n     <use style=\"fill:#1f77b4;stroke:#1f77b4;\" x=\"470.140517\" xlink:href=\"#m9e759846a8\" y=\"192.576199\"/>\n     <use style=\"fill:#1f77b4;stroke:#1f77b4;\" x=\"517.706359\" xlink:href=\"#m9e759846a8\" y=\"207.785974\"/>\n     <use style=\"fill:#1f77b4;stroke:#1f77b4;\" x=\"530.742361\" xlink:href=\"#m9e759846a8\" y=\"178.959259\"/>\n     <use style=\"fill:#1f77b4;stroke:#1f77b4;\" x=\"496.314613\" xlink:href=\"#m9e759846a8\" y=\"261.734705\"/>\n     <use style=\"fill:#1f77b4;stroke:#1f77b4;\" x=\"196.524344\" xlink:href=\"#m9e759846a8\" y=\"55.223936\"/>\n     <use style=\"fill:#1f77b4;stroke:#1f77b4;\" x=\"428.032255\" xlink:href=\"#m9e759846a8\" y=\"147.017153\"/>\n     <use style=\"fill:#1f77b4;stroke:#1f77b4;\" x=\"324.157367\" xlink:href=\"#m9e759846a8\" y=\"199.048902\"/>\n     <use style=\"fill:#1f77b4;stroke:#1f77b4;\" x=\"509.374562\" xlink:href=\"#m9e759846a8\" y=\"208.204047\"/>\n     <use style=\"fill:#1f77b4;stroke:#1f77b4;\" x=\"348.934561\" xlink:href=\"#m9e759846a8\" y=\"139.876302\"/>\n     <use style=\"fill:#1f77b4;stroke:#1f77b4;\" x=\"360.653347\" xlink:href=\"#m9e759846a8\" y=\"207.450078\"/>\n     <use style=\"fill:#1f77b4;stroke:#1f77b4;\" x=\"503.602135\" xlink:href=\"#m9e759846a8\" y=\"253.955612\"/>\n     <use style=\"fill:#1f77b4;stroke:#1f77b4;\" x=\"487.316838\" xlink:href=\"#m9e759846a8\" y=\"167.299366\"/>\n     <use style=\"fill:#1f77b4;stroke:#1f77b4;\" x=\"428.364654\" xlink:href=\"#m9e759846a8\" y=\"164.140217\"/>\n     <use style=\"fill:#1f77b4;stroke:#1f77b4;\" x=\"439.132866\" xlink:href=\"#m9e759846a8\" y=\"206.433672\"/>\n     <use style=\"fill:#1f77b4;stroke:#1f77b4;\" x=\"480.732847\" xlink:href=\"#m9e759846a8\" y=\"177.492308\"/>\n     <use style=\"fill:#1f77b4;stroke:#1f77b4;\" x=\"388.463769\" xlink:href=\"#m9e759846a8\" y=\"160.202887\"/>\n     <use style=\"fill:#1f77b4;stroke:#1f77b4;\" x=\"410.301481\" xlink:href=\"#m9e759846a8\" y=\"193.142881\"/>\n     <use style=\"fill:#1f77b4;stroke:#1f77b4;\" x=\"334.064036\" xlink:href=\"#m9e759846a8\" y=\"143.423721\"/>\n     <use style=\"fill:#1f77b4;stroke:#1f77b4;\" x=\"426.394432\" xlink:href=\"#m9e759846a8\" y=\"141.733985\"/>\n     <use style=\"fill:#1f77b4;stroke:#1f77b4;\" x=\"437.571465\" xlink:href=\"#m9e759846a8\" y=\"221.575272\"/>\n     <use style=\"fill:#1f77b4;stroke:#1f77b4;\" x=\"374.914859\" xlink:href=\"#m9e759846a8\" y=\"187.013409\"/>\n     <use style=\"fill:#1f77b4;stroke:#1f77b4;\" x=\"493.991492\" xlink:href=\"#m9e759846a8\" y=\"235.398889\"/>\n     <use style=\"fill:#1f77b4;stroke:#1f77b4;\" x=\"463.158454\" xlink:href=\"#m9e759846a8\" y=\"231.719739\"/>\n     <use style=\"fill:#1f77b4;stroke:#1f77b4;\" x=\"467.423995\" xlink:href=\"#m9e759846a8\" y=\"159.504371\"/>\n     <use style=\"fill:#1f77b4;stroke:#1f77b4;\" x=\"421.258094\" xlink:href=\"#m9e759846a8\" y=\"177.548736\"/>\n     <use style=\"fill:#1f77b4;stroke:#1f77b4;\" x=\"423.438759\" xlink:href=\"#m9e759846a8\" y=\"228.346321\"/>\n     <use style=\"fill:#1f77b4;stroke:#1f77b4;\" x=\"479.24696\" xlink:href=\"#m9e759846a8\" y=\"167.733752\"/>\n     <use style=\"fill:#1f77b4;stroke:#1f77b4;\" x=\"504.579286\" xlink:href=\"#m9e759846a8\" y=\"202.529121\"/>\n     <use style=\"fill:#1f77b4;stroke:#1f77b4;\" x=\"494.231505\" xlink:href=\"#m9e759846a8\" y=\"208.695476\"/>\n     <use style=\"fill:#1f77b4;stroke:#1f77b4;\" x=\"251.639809\" xlink:href=\"#m9e759846a8\" y=\"87.999368\"/>\n     <use style=\"fill:#1f77b4;stroke:#1f77b4;\" x=\"362.01637\" xlink:href=\"#m9e759846a8\" y=\"144.130906\"/>\n     <use style=\"fill:#1f77b4;stroke:#1f77b4;\" x=\"465.329639\" xlink:href=\"#m9e759846a8\" y=\"216.109691\"/>\n     <use style=\"fill:#1f77b4;stroke:#1f77b4;\" x=\"382.142242\" xlink:href=\"#m9e759846a8\" y=\"190.032003\"/>\n     <use style=\"fill:#1f77b4;stroke:#1f77b4;\" x=\"210.419396\" xlink:href=\"#m9e759846a8\" y=\"318.534545\"/>\n     <use style=\"fill:#1f77b4;stroke:#1f77b4;\" x=\"380.852012\" xlink:href=\"#m9e759846a8\" y=\"180.043276\"/>\n     <use style=\"fill:#1f77b4;stroke:#1f77b4;\" x=\"446.064995\" xlink:href=\"#m9e759846a8\" y=\"144.620283\"/>\n     <use style=\"fill:#1f77b4;stroke:#1f77b4;\" x=\"359.240435\" xlink:href=\"#m9e759846a8\" y=\"148.62035\"/>\n     <use style=\"fill:#1f77b4;stroke:#1f77b4;\" x=\"150.885819\" xlink:href=\"#m9e759846a8\" y=\"278.34182\"/>\n     <use style=\"fill:#1f77b4;stroke:#1f77b4;\" x=\"398.996459\" xlink:href=\"#m9e759846a8\" y=\"220.022655\"/>\n     <use style=\"fill:#1f77b4;stroke:#1f77b4;\" x=\"434.999078\" xlink:href=\"#m9e759846a8\" y=\"235.627881\"/>\n     <use style=\"fill:#1f77b4;stroke:#1f77b4;\" x=\"532.833588\" xlink:href=\"#m9e759846a8\" y=\"177.038378\"/>\n     <use style=\"fill:#1f77b4;stroke:#1f77b4;\" x=\"424.225242\" xlink:href=\"#m9e759846a8\" y=\"253.155732\"/>\n     <use style=\"fill:#1f77b4;stroke:#1f77b4;\" x=\"473.576171\" xlink:href=\"#m9e759846a8\" y=\"210.004688\"/>\n     <use style=\"fill:#1f77b4;stroke:#1f77b4;\" x=\"548.377347\" xlink:href=\"#m9e759846a8\" y=\"173.948327\"/>\n     <use style=\"fill:#1f77b4;stroke:#1f77b4;\" x=\"416.879531\" xlink:href=\"#m9e759846a8\" y=\"188.436757\"/>\n     <use style=\"fill:#1f77b4;stroke:#1f77b4;\" x=\"515.83383\" xlink:href=\"#m9e759846a8\" y=\"187.925887\"/>\n     <use style=\"fill:#1f77b4;stroke:#1f77b4;\" x=\"509.078038\" xlink:href=\"#m9e759846a8\" y=\"166.572174\"/>\n     <use style=\"fill:#1f77b4;stroke:#1f77b4;\" x=\"434.72319\" xlink:href=\"#m9e759846a8\" y=\"233.909162\"/>\n     <use style=\"fill:#1f77b4;stroke:#1f77b4;\" x=\"425.229107\" xlink:href=\"#m9e759846a8\" y=\"194.566691\"/>\n     <use style=\"fill:#1f77b4;stroke:#1f77b4;\" x=\"358.84395\" xlink:href=\"#m9e759846a8\" y=\"164.482832\"/>\n     <use style=\"fill:#1f77b4;stroke:#1f77b4;\" x=\"524.221049\" xlink:href=\"#m9e759846a8\" y=\"184.159685\"/>\n     <use style=\"fill:#1f77b4;stroke:#1f77b4;\" x=\"513.807641\" xlink:href=\"#m9e759846a8\" y=\"211.90187\"/>\n     <use style=\"fill:#1f77b4;stroke:#1f77b4;\" x=\"467.492253\" xlink:href=\"#m9e759846a8\" y=\"152.664994\"/>\n     <use style=\"fill:#1f77b4;stroke:#1f77b4;\" x=\"475.747402\" xlink:href=\"#m9e759846a8\" y=\"183.961626\"/>\n     <use style=\"fill:#1f77b4;stroke:#1f77b4;\" x=\"443.506668\" xlink:href=\"#m9e759846a8\" y=\"138.569296\"/>\n     <use style=\"fill:#1f77b4;stroke:#1f77b4;\" x=\"397.067464\" xlink:href=\"#m9e759846a8\" y=\"140.560917\"/>\n     <use style=\"fill:#1f77b4;stroke:#1f77b4;\" x=\"535.588207\" xlink:href=\"#m9e759846a8\" y=\"178.43223\"/>\n     <use style=\"fill:#1f77b4;stroke:#1f77b4;\" x=\"520.357299\" xlink:href=\"#m9e759846a8\" y=\"169.733273\"/>\n     <use style=\"fill:#1f77b4;stroke:#1f77b4;\" x=\"163.920279\" xlink:href=\"#m9e759846a8\" y=\"286.541347\"/>\n     <use style=\"fill:#1f77b4;stroke:#1f77b4;\" x=\"364.88705\" xlink:href=\"#m9e759846a8\" y=\"164.006998\"/>\n     <use style=\"fill:#1f77b4;stroke:#1f77b4;\" x=\"458.596751\" xlink:href=\"#m9e759846a8\" y=\"221.953283\"/>\n     <use style=\"fill:#1f77b4;stroke:#1f77b4;\" x=\"496.639801\" xlink:href=\"#m9e759846a8\" y=\"231.27458\"/>\n     <use style=\"fill:#1f77b4;stroke:#1f77b4;\" x=\"532.509942\" xlink:href=\"#m9e759846a8\" y=\"179.229853\"/>\n     <use style=\"fill:#1f77b4;stroke:#1f77b4;\" x=\"438.5395\" xlink:href=\"#m9e759846a8\" y=\"197.12207\"/>\n     <use style=\"fill:#1f77b4;stroke:#1f77b4;\" x=\"419.581857\" xlink:href=\"#m9e759846a8\" y=\"146.963958\"/>\n     <use style=\"fill:#1f77b4;stroke:#1f77b4;\" x=\"256.769797\" xlink:href=\"#m9e759846a8\" y=\"88.355475\"/>\n     <use style=\"fill:#1f77b4;stroke:#1f77b4;\" x=\"159.397762\" xlink:href=\"#m9e759846a8\" y=\"286.446395\"/>\n     <use style=\"fill:#1f77b4;stroke:#1f77b4;\" x=\"269.752554\" xlink:href=\"#m9e759846a8\" y=\"103.741558\"/>\n     <use style=\"fill:#1f77b4;stroke:#1f77b4;\" x=\"483.489416\" xlink:href=\"#m9e759846a8\" y=\"168.257601\"/>\n     <use style=\"fill:#1f77b4;stroke:#1f77b4;\" x=\"387.848633\" xlink:href=\"#m9e759846a8\" y=\"175.781131\"/>\n     <use style=\"fill:#1f77b4;stroke:#1f77b4;\" x=\"344.86513\" xlink:href=\"#m9e759846a8\" y=\"202.618327\"/>\n     <use style=\"fill:#1f77b4;stroke:#1f77b4;\" x=\"420.768135\" xlink:href=\"#m9e759846a8\" y=\"210.377825\"/>\n     <use style=\"fill:#1f77b4;stroke:#1f77b4;\" x=\"330.099055\" xlink:href=\"#m9e759846a8\" y=\"213.584783\"/>\n     <use style=\"fill:#1f77b4;stroke:#1f77b4;\" x=\"405.319937\" xlink:href=\"#m9e759846a8\" y=\"215.015467\"/>\n     <use style=\"fill:#1f77b4;stroke:#1f77b4;\" x=\"506.994385\" xlink:href=\"#m9e759846a8\" y=\"181.096103\"/>\n     <use style=\"fill:#1f77b4;stroke:#1f77b4;\" x=\"444.321543\" xlink:href=\"#m9e759846a8\" y=\"233.162119\"/>\n     <use style=\"fill:#1f77b4;stroke:#1f77b4;\" x=\"483.407643\" xlink:href=\"#m9e759846a8\" y=\"192.581431\"/>\n     <use style=\"fill:#1f77b4;stroke:#1f77b4;\" x=\"449.926115\" xlink:href=\"#m9e759846a8\" y=\"232.755946\"/>\n     <use style=\"fill:#1f77b4;stroke:#1f77b4;\" x=\"532.085066\" xlink:href=\"#m9e759846a8\" y=\"178.524566\"/>\n     <use style=\"fill:#1f77b4;stroke:#1f77b4;\" x=\"331.262203\" xlink:href=\"#m9e759846a8\" y=\"214.225077\"/>\n     <use style=\"fill:#1f77b4;stroke:#1f77b4;\" x=\"144.461202\" xlink:href=\"#m9e759846a8\" y=\"274.970095\"/>\n     <use style=\"fill:#1f77b4;stroke:#1f77b4;\" x=\"448.853085\" xlink:href=\"#m9e759846a8\" y=\"209.548398\"/>\n     <use style=\"fill:#1f77b4;stroke:#1f77b4;\" x=\"428.285058\" xlink:href=\"#m9e759846a8\" y=\"178.14635\"/>\n     <use style=\"fill:#1f77b4;stroke:#1f77b4;\" x=\"416.029098\" xlink:href=\"#m9e759846a8\" y=\"246.408948\"/>\n     <use style=\"fill:#1f77b4;stroke:#1f77b4;\" x=\"453.242034\" xlink:href=\"#m9e759846a8\" y=\"162.611401\"/>\n     <use style=\"fill:#1f77b4;stroke:#1f77b4;\" x=\"336.415412\" xlink:href=\"#m9e759846a8\" y=\"149.812091\"/>\n     <use style=\"fill:#1f77b4;stroke:#1f77b4;\" x=\"403.600431\" xlink:href=\"#m9e759846a8\" y=\"223.844309\"/>\n     <use style=\"fill:#1f77b4;stroke:#1f77b4;\" x=\"485.792083\" xlink:href=\"#m9e759846a8\" y=\"164.388702\"/>\n     <use style=\"fill:#1f77b4;stroke:#1f77b4;\" x=\"437.561487\" xlink:href=\"#m9e759846a8\" y=\"186.114679\"/>\n     <use style=\"fill:#1f77b4;stroke:#1f77b4;\" x=\"498.326198\" xlink:href=\"#m9e759846a8\" y=\"241.86836\"/>\n     <use style=\"fill:#1f77b4;stroke:#1f77b4;\" x=\"518.974184\" xlink:href=\"#m9e759846a8\" y=\"181.518999\"/>\n     <use style=\"fill:#1f77b4;stroke:#1f77b4;\" x=\"469.134611\" xlink:href=\"#m9e759846a8\" y=\"173.349994\"/>\n     <use style=\"fill:#1f77b4;stroke:#1f77b4;\" x=\"464.604702\" xlink:href=\"#m9e759846a8\" y=\"221.840634\"/>\n     <use style=\"fill:#1f77b4;stroke:#1f77b4;\" x=\"459.046753\" xlink:href=\"#m9e759846a8\" y=\"207.942687\"/>\n     <use style=\"fill:#1f77b4;stroke:#1f77b4;\" x=\"421.575572\" xlink:href=\"#m9e759846a8\" y=\"253.425967\"/>\n     <use style=\"fill:#1f77b4;stroke:#1f77b4;\" x=\"309.846555\" xlink:href=\"#m9e759846a8\" y=\"170.332426\"/>\n     <use style=\"fill:#1f77b4;stroke:#1f77b4;\" x=\"475.295676\" xlink:href=\"#m9e759846a8\" y=\"222.007299\"/>\n     <use style=\"fill:#1f77b4;stroke:#1f77b4;\" x=\"428.686077\" xlink:href=\"#m9e759846a8\" y=\"186.918201\"/>\n     <use style=\"fill:#1f77b4;stroke:#1f77b4;\" x=\"543.131253\" xlink:href=\"#m9e759846a8\" y=\"167.458285\"/>\n     <use style=\"fill:#1f77b4;stroke:#1f77b4;\" x=\"502.977112\" xlink:href=\"#m9e759846a8\" y=\"255.388502\"/>\n     <use style=\"fill:#1f77b4;stroke:#1f77b4;\" x=\"468.480788\" xlink:href=\"#m9e759846a8\" y=\"167.393138\"/>\n     <use style=\"fill:#1f77b4;stroke:#1f77b4;\" x=\"476.00211\" xlink:href=\"#m9e759846a8\" y=\"166.252951\"/>\n     <use style=\"fill:#1f77b4;stroke:#1f77b4;\" x=\"501.365912\" xlink:href=\"#m9e759846a8\" y=\"243.541373\"/>\n     <use style=\"fill:#1f77b4;stroke:#1f77b4;\" x=\"456.639047\" xlink:href=\"#m9e759846a8\" y=\"175.081024\"/>\n     <use style=\"fill:#1f77b4;stroke:#1f77b4;\" x=\"449.699209\" xlink:href=\"#m9e759846a8\" y=\"220.928874\"/>\n     <use style=\"fill:#1f77b4;stroke:#1f77b4;\" x=\"328.150195\" xlink:href=\"#m9e759846a8\" y=\"194.699603\"/>\n     <use style=\"fill:#1f77b4;stroke:#1f77b4;\" x=\"466.910407\" xlink:href=\"#m9e759846a8\" y=\"230.262175\"/>\n     <use style=\"fill:#1f77b4;stroke:#1f77b4;\" x=\"407.780163\" xlink:href=\"#m9e759846a8\" y=\"140.143151\"/>\n     <use style=\"fill:#1f77b4;stroke:#1f77b4;\" x=\"470.75402\" xlink:href=\"#m9e759846a8\" y=\"149.919097\"/>\n     <use style=\"fill:#1f77b4;stroke:#1f77b4;\" x=\"314.520509\" xlink:href=\"#m9e759846a8\" y=\"200.0195\"/>\n     <use style=\"fill:#1f77b4;stroke:#1f77b4;\" x=\"461.945598\" xlink:href=\"#m9e759846a8\" y=\"166.404945\"/>\n     <use style=\"fill:#1f77b4;stroke:#1f77b4;\" x=\"349.680679\" xlink:href=\"#m9e759846a8\" y=\"147.032748\"/>\n     <use style=\"fill:#1f77b4;stroke:#1f77b4;\" x=\"444.350932\" xlink:href=\"#m9e759846a8\" y=\"157.475662\"/>\n     <use style=\"fill:#1f77b4;stroke:#1f77b4;\" x=\"457.770674\" xlink:href=\"#m9e759846a8\" y=\"233.842886\"/>\n     <use style=\"fill:#1f77b4;stroke:#1f77b4;\" x=\"377.785312\" xlink:href=\"#m9e759846a8\" y=\"190.160708\"/>\n     <use style=\"fill:#1f77b4;stroke:#1f77b4;\" x=\"546.86266\" xlink:href=\"#m9e759846a8\" y=\"175.365724\"/>\n     <use style=\"fill:#1f77b4;stroke:#1f77b4;\" x=\"509.155366\" xlink:href=\"#m9e759846a8\" y=\"214.932827\"/>\n     <use style=\"fill:#1f77b4;stroke:#1f77b4;\" x=\"515.124811\" xlink:href=\"#m9e759846a8\" y=\"209.036655\"/>\n     <use style=\"fill:#1f77b4;stroke:#1f77b4;\" x=\"312.807172\" xlink:href=\"#m9e759846a8\" y=\"194.200787\"/>\n     <use style=\"fill:#1f77b4;stroke:#1f77b4;\" x=\"157.652405\" xlink:href=\"#m9e759846a8\" y=\"280.496515\"/>\n     <use style=\"fill:#1f77b4;stroke:#1f77b4;\" x=\"424.468611\" xlink:href=\"#m9e759846a8\" y=\"206.143842\"/>\n     <use style=\"fill:#1f77b4;stroke:#1f77b4;\" x=\"432.208539\" xlink:href=\"#m9e759846a8\" y=\"175.830017\"/>\n     <use style=\"fill:#1f77b4;stroke:#1f77b4;\" x=\"116.76675\" xlink:href=\"#m9e759846a8\" y=\"56.77045\"/>\n     <use style=\"fill:#1f77b4;stroke:#1f77b4;\" x=\"333.758577\" xlink:href=\"#m9e759846a8\" y=\"213.002763\"/>\n     <use style=\"fill:#1f77b4;stroke:#1f77b4;\" x=\"468.445049\" xlink:href=\"#m9e759846a8\" y=\"172.356774\"/>\n     <use style=\"fill:#1f77b4;stroke:#1f77b4;\" x=\"521.523894\" xlink:href=\"#m9e759846a8\" y=\"198.441438\"/>\n     <use style=\"fill:#1f77b4;stroke:#1f77b4;\" x=\"541.141801\" xlink:href=\"#m9e759846a8\" y=\"170.880744\"/>\n     <use style=\"fill:#1f77b4;stroke:#1f77b4;\" x=\"303.621586\" xlink:href=\"#m9e759846a8\" y=\"164.982571\"/>\n     <use style=\"fill:#1f77b4;stroke:#1f77b4;\" x=\"129.677666\" xlink:href=\"#m9e759846a8\" y=\"44.60025\"/>\n     <use style=\"fill:#1f77b4;stroke:#1f77b4;\" x=\"464.502474\" xlink:href=\"#m9e759846a8\" y=\"197.588774\"/>\n     <use style=\"fill:#1f77b4;stroke:#1f77b4;\" x=\"503.861378\" xlink:href=\"#m9e759846a8\" y=\"250.823497\"/>\n     <use style=\"fill:#1f77b4;stroke:#1f77b4;\" x=\"311.098325\" xlink:href=\"#m9e759846a8\" y=\"153.842936\"/>\n     <use style=\"fill:#1f77b4;stroke:#1f77b4;\" x=\"520.200601\" xlink:href=\"#m9e759846a8\" y=\"197.224203\"/>\n     <use style=\"fill:#1f77b4;stroke:#1f77b4;\" x=\"525.878238\" xlink:href=\"#m9e759846a8\" y=\"183.168466\"/>\n     <use style=\"fill:#1f77b4;stroke:#1f77b4;\" x=\"359.125644\" xlink:href=\"#m9e759846a8\" y=\"216.192588\"/>\n     <use style=\"fill:#1f77b4;stroke:#1f77b4;\" x=\"460.331904\" xlink:href=\"#m9e759846a8\" y=\"179.104226\"/>\n     <use style=\"fill:#1f77b4;stroke:#1f77b4;\" x=\"461.947639\" xlink:href=\"#m9e759846a8\" y=\"226.282884\"/>\n     <use style=\"fill:#1f77b4;stroke:#1f77b4;\" x=\"356.459737\" xlink:href=\"#m9e759846a8\" y=\"167.577346\"/>\n     <use style=\"fill:#1f77b4;stroke:#1f77b4;\" x=\"503.238759\" xlink:href=\"#m9e759846a8\" y=\"179.990491\"/>\n     <use style=\"fill:#1f77b4;stroke:#1f77b4;\" x=\"482.539885\" xlink:href=\"#m9e759846a8\" y=\"153.934194\"/>\n     <use style=\"fill:#1f77b4;stroke:#1f77b4;\" x=\"471.69702\" xlink:href=\"#m9e759846a8\" y=\"231.381022\"/>\n     <use style=\"fill:#1f77b4;stroke:#1f77b4;\" x=\"92.886613\" xlink:href=\"#m9e759846a8\" y=\"314.186734\"/>\n     <use style=\"fill:#1f77b4;stroke:#1f77b4;\" x=\"326.874569\" xlink:href=\"#m9e759846a8\" y=\"150.375438\"/>\n     <use style=\"fill:#1f77b4;stroke:#1f77b4;\" x=\"565.237007\" xlink:href=\"#m9e759846a8\" y=\"295.323252\"/>\n     <use style=\"fill:#1f77b4;stroke:#1f77b4;\" x=\"264.16703\" xlink:href=\"#m9e759846a8\" y=\"96.323548\"/>\n     <use style=\"fill:#1f77b4;stroke:#1f77b4;\" x=\"338.724565\" xlink:href=\"#m9e759846a8\" y=\"214.166085\"/>\n     <use style=\"fill:#1f77b4;stroke:#1f77b4;\" x=\"393.193236\" xlink:href=\"#m9e759846a8\" y=\"191.288122\"/>\n     <use style=\"fill:#1f77b4;stroke:#1f77b4;\" x=\"543.171346\" xlink:href=\"#m9e759846a8\" y=\"173.667935\"/>\n     <use style=\"fill:#1f77b4;stroke:#1f77b4;\" x=\"548.248587\" xlink:href=\"#m9e759846a8\" y=\"163.807708\"/>\n     <use style=\"fill:#1f77b4;stroke:#1f77b4;\" x=\"399.72058\" xlink:href=\"#m9e759846a8\" y=\"161.760173\"/>\n     <use style=\"fill:#1f77b4;stroke:#1f77b4;\" x=\"312.477539\" xlink:href=\"#m9e759846a8\" y=\"179.900669\"/>\n     <use style=\"fill:#1f77b4;stroke:#1f77b4;\" x=\"317.663494\" xlink:href=\"#m9e759846a8\" y=\"160.68934\"/>\n     <use style=\"fill:#1f77b4;stroke:#1f77b4;\" x=\"509.794222\" xlink:href=\"#m9e759846a8\" y=\"203.658228\"/>\n     <use style=\"fill:#1f77b4;stroke:#1f77b4;\" x=\"461.356268\" xlink:href=\"#m9e759846a8\" y=\"153.625076\"/>\n     <use style=\"fill:#1f77b4;stroke:#1f77b4;\" x=\"516.451279\" xlink:href=\"#m9e759846a8\" y=\"195.309426\"/>\n     <use style=\"fill:#1f77b4;stroke:#1f77b4;\" x=\"372.472729\" xlink:href=\"#m9e759846a8\" y=\"174.333673\"/>\n     <use style=\"fill:#1f77b4;stroke:#1f77b4;\" x=\"323.93096\" xlink:href=\"#m9e759846a8\" y=\"185.083756\"/>\n     <use style=\"fill:#1f77b4;stroke:#1f77b4;\" x=\"504.406352\" xlink:href=\"#m9e759846a8\" y=\"196.23124\"/>\n     <use style=\"fill:#1f77b4;stroke:#1f77b4;\" x=\"514.851599\" xlink:href=\"#m9e759846a8\" y=\"166.512618\"/>\n     <use style=\"fill:#1f77b4;stroke:#1f77b4;\" x=\"393.039078\" xlink:href=\"#m9e759846a8\" y=\"216.872842\"/>\n     <use style=\"fill:#1f77b4;stroke:#1f77b4;\" x=\"447.611565\" xlink:href=\"#m9e759846a8\" y=\"162.460331\"/>\n     <use style=\"fill:#1f77b4;stroke:#1f77b4;\" x=\"496.334523\" xlink:href=\"#m9e759846a8\" y=\"251.577517\"/>\n     <use style=\"fill:#1f77b4;stroke:#1f77b4;\" x=\"385.974834\" xlink:href=\"#m9e759846a8\" y=\"204.996371\"/>\n     <use style=\"fill:#1f77b4;stroke:#1f77b4;\" x=\"335.625029\" xlink:href=\"#m9e759846a8\" y=\"219.786533\"/>\n     <use style=\"fill:#1f77b4;stroke:#1f77b4;\" x=\"420.527124\" xlink:href=\"#m9e759846a8\" y=\"236.201026\"/>\n     <use style=\"fill:#1f77b4;stroke:#1f77b4;\" x=\"498.842734\" xlink:href=\"#m9e759846a8\" y=\"222.895051\"/>\n     <use style=\"fill:#1f77b4;stroke:#1f77b4;\" x=\"323.603005\" xlink:href=\"#m9e759846a8\" y=\"211.103683\"/>\n     <use style=\"fill:#1f77b4;stroke:#1f77b4;\" x=\"475.638144\" xlink:href=\"#m9e759846a8\" y=\"173.745138\"/>\n     <use style=\"fill:#1f77b4;stroke:#1f77b4;\" x=\"319.965526\" xlink:href=\"#m9e759846a8\" y=\"206.944235\"/>\n     <use style=\"fill:#1f77b4;stroke:#1f77b4;\" x=\"193.778207\" xlink:href=\"#m9e759846a8\" y=\"27.620408\"/>\n     <use style=\"fill:#1f77b4;stroke:#1f77b4;\" x=\"514.062802\" xlink:href=\"#m9e759846a8\" y=\"178.145119\"/>\n     <use style=\"fill:#1f77b4;stroke:#1f77b4;\" x=\"478.279877\" xlink:href=\"#m9e759846a8\" y=\"191.876503\"/>\n     <use style=\"fill:#1f77b4;stroke:#1f77b4;\" x=\"312.405381\" xlink:href=\"#m9e759846a8\" y=\"144.30029\"/>\n     <use style=\"fill:#1f77b4;stroke:#1f77b4;\" x=\"312.108177\" xlink:href=\"#m9e759846a8\" y=\"194.725508\"/>\n     <use style=\"fill:#1f77b4;stroke:#1f77b4;\" x=\"443.580186\" xlink:href=\"#m9e759846a8\" y=\"196.647467\"/>\n     <use style=\"fill:#1f77b4;stroke:#1f77b4;\" x=\"351.937039\" xlink:href=\"#m9e759846a8\" y=\"197.436164\"/>\n     <use style=\"fill:#1f77b4;stroke:#1f77b4;\" x=\"441.590326\" xlink:href=\"#m9e759846a8\" y=\"221.258409\"/>\n     <use style=\"fill:#1f77b4;stroke:#1f77b4;\" x=\"253.208059\" xlink:href=\"#m9e759846a8\" y=\"95.064248\"/>\n     <use style=\"fill:#1f77b4;stroke:#1f77b4;\" x=\"314.130193\" xlink:href=\"#m9e759846a8\" y=\"196.044569\"/>\n     <use style=\"fill:#1f77b4;stroke:#1f77b4;\" x=\"411.336005\" xlink:href=\"#m9e759846a8\" y=\"226.844077\"/>\n     <use style=\"fill:#1f77b4;stroke:#1f77b4;\" x=\"567.782181\" xlink:href=\"#m9e759846a8\" y=\"293.11172\"/>\n     <use style=\"fill:#1f77b4;stroke:#1f77b4;\" x=\"359.263021\" xlink:href=\"#m9e759846a8\" y=\"178.467369\"/>\n     <use style=\"fill:#1f77b4;stroke:#1f77b4;\" x=\"315.664246\" xlink:href=\"#m9e759846a8\" y=\"189.203756\"/>\n     <use style=\"fill:#1f77b4;stroke:#1f77b4;\" x=\"320.803713\" xlink:href=\"#m9e759846a8\" y=\"208.677112\"/>\n     <use style=\"fill:#1f77b4;stroke:#1f77b4;\" x=\"332.547489\" xlink:href=\"#m9e759846a8\" y=\"214.953807\"/>\n     <use style=\"fill:#1f77b4;stroke:#1f77b4;\" x=\"460.403064\" xlink:href=\"#m9e759846a8\" y=\"183.312098\"/>\n     <use style=\"fill:#1f77b4;stroke:#1f77b4;\" x=\"420.426847\" xlink:href=\"#m9e759846a8\" y=\"213.347481\"/>\n     <use style=\"fill:#1f77b4;stroke:#1f77b4;\" x=\"492.711013\" xlink:href=\"#m9e759846a8\" y=\"247.170252\"/>\n     <use style=\"fill:#1f77b4;stroke:#1f77b4;\" x=\"440.534758\" xlink:href=\"#m9e759846a8\" y=\"154.065566\"/>\n     <use style=\"fill:#1f77b4;stroke:#1f77b4;\" x=\"457.308245\" xlink:href=\"#m9e759846a8\" y=\"188.935624\"/>\n     <use style=\"fill:#1f77b4;stroke:#1f77b4;\" x=\"572.446701\" xlink:href=\"#m9e759846a8\" y=\"293.635517\"/>\n     <use style=\"fill:#1f77b4;stroke:#1f77b4;\" x=\"573.239489\" xlink:href=\"#m9e759846a8\" y=\"296.895055\"/>\n     <use style=\"fill:#1f77b4;stroke:#1f77b4;\" x=\"348.746251\" xlink:href=\"#m9e759846a8\" y=\"164.532693\"/>\n     <use style=\"fill:#1f77b4;stroke:#1f77b4;\" x=\"429.985287\" xlink:href=\"#m9e759846a8\" y=\"170.186895\"/>\n     <use style=\"fill:#1f77b4;stroke:#1f77b4;\" x=\"531.03181\" xlink:href=\"#m9e759846a8\" y=\"174.796016\"/>\n     <use style=\"fill:#1f77b4;stroke:#1f77b4;\" x=\"521.954348\" xlink:href=\"#m9e759846a8\" y=\"166.552015\"/>\n     <use style=\"fill:#1f77b4;stroke:#1f77b4;\" x=\"484.564441\" xlink:href=\"#m9e759846a8\" y=\"231.774884\"/>\n     <use style=\"fill:#1f77b4;stroke:#1f77b4;\" x=\"487.024894\" xlink:href=\"#m9e759846a8\" y=\"174.371684\"/>\n     <use style=\"fill:#1f77b4;stroke:#1f77b4;\" x=\"492.805621\" xlink:href=\"#m9e759846a8\" y=\"244.194286\"/>\n     <use style=\"fill:#1f77b4;stroke:#1f77b4;\" x=\"493.37631\" xlink:href=\"#m9e759846a8\" y=\"200.59285\"/>\n     <use style=\"fill:#1f77b4;stroke:#1f77b4;\" x=\"527.817892\" xlink:href=\"#m9e759846a8\" y=\"181.092256\"/>\n     <use style=\"fill:#1f77b4;stroke:#1f77b4;\" x=\"432.235434\" xlink:href=\"#m9e759846a8\" y=\"202.012967\"/>\n     <use style=\"fill:#1f77b4;stroke:#1f77b4;\" x=\"363.965049\" xlink:href=\"#m9e759846a8\" y=\"222.954043\"/>\n     <use style=\"fill:#1f77b4;stroke:#1f77b4;\" x=\"478.97724\" xlink:href=\"#m9e759846a8\" y=\"158.18926\"/>\n     <use style=\"fill:#1f77b4;stroke:#1f77b4;\" x=\"347.87931\" xlink:href=\"#m9e759846a8\" y=\"169.78062\"/>\n     <use style=\"fill:#1f77b4;stroke:#1f77b4;\" x=\"440.840081\" xlink:href=\"#m9e759846a8\" y=\"216.092352\"/>\n     <use style=\"fill:#1f77b4;stroke:#1f77b4;\" x=\"434.438957\" xlink:href=\"#m9e759846a8\" y=\"221.732858\"/>\n     <use style=\"fill:#1f77b4;stroke:#1f77b4;\" x=\"486.18571\" xlink:href=\"#m9e759846a8\" y=\"203.99243\"/>\n     <use style=\"fill:#1f77b4;stroke:#1f77b4;\" x=\"370.455702\" xlink:href=\"#m9e759846a8\" y=\"180.249901\"/>\n     <use style=\"fill:#1f77b4;stroke:#1f77b4;\" x=\"489.433689\" xlink:href=\"#m9e759846a8\" y=\"229.794959\"/>\n     <use style=\"fill:#1f77b4;stroke:#1f77b4;\" x=\"474.699634\" xlink:href=\"#m9e759846a8\" y=\"231.330033\"/>\n     <use style=\"fill:#1f77b4;stroke:#1f77b4;\" x=\"266.77697\" xlink:href=\"#m9e759846a8\" y=\"97.951316\"/>\n     <use style=\"fill:#1f77b4;stroke:#1f77b4;\" x=\"363.164053\" xlink:href=\"#m9e759846a8\" y=\"158.461341\"/>\n     <use style=\"fill:#1f77b4;stroke:#1f77b4;\" x=\"439.407848\" xlink:href=\"#m9e759846a8\" y=\"201.584634\"/>\n     <use style=\"fill:#1f77b4;stroke:#1f77b4;\" x=\"233.712063\" xlink:href=\"#m9e759846a8\" y=\"82.464484\"/>\n     <use style=\"fill:#1f77b4;stroke:#1f77b4;\" x=\"347.34309\" xlink:href=\"#m9e759846a8\" y=\"220.18142\"/>\n    </g>\n   </g>\n   <g id=\"matplotlib.axis_1\">\n    <g id=\"xtick_1\">\n     <g id=\"line2d_1\">\n      <defs>\n       <path d=\"M 0 0 \nL 0 3.5 \n\" id=\"m0ede5cb8fb\" style=\"stroke:#000000;stroke-width:0.8;\"/>\n      </defs>\n      <g>\n       <use style=\"stroke:#000000;stroke-width:0.8;\" x=\"50.755174\" xlink:href=\"#m0ede5cb8fb\" y=\"333.36\"/>\n      </g>\n     </g>\n     <g id=\"text_1\">\n      <!-- −180 -->\n      <g transform=\"translate(37.021581 347.958438)scale(0.1 -0.1)\">\n       <defs>\n        <path d=\"M 10.59375 35.5 \nL 73.1875 35.5 \nL 73.1875 27.203125 \nL 10.59375 27.203125 \nz\n\" id=\"DejaVuSans-8722\"/>\n        <path d=\"M 12.40625 8.296875 \nL 28.515625 8.296875 \nL 28.515625 63.921875 \nL 10.984375 60.40625 \nL 10.984375 69.390625 \nL 28.421875 72.90625 \nL 38.28125 72.90625 \nL 38.28125 8.296875 \nL 54.390625 8.296875 \nL 54.390625 0 \nL 12.40625 0 \nz\n\" id=\"DejaVuSans-49\"/>\n        <path d=\"M 31.78125 34.625 \nQ 24.75 34.625 20.71875 30.859375 \nQ 16.703125 27.09375 16.703125 20.515625 \nQ 16.703125 13.921875 20.71875 10.15625 \nQ 24.75 6.390625 31.78125 6.390625 \nQ 38.8125 6.390625 42.859375 10.171875 \nQ 46.921875 13.96875 46.921875 20.515625 \nQ 46.921875 27.09375 42.890625 30.859375 \nQ 38.875 34.625 31.78125 34.625 \nz\nM 21.921875 38.8125 \nQ 15.578125 40.375 12.03125 44.71875 \nQ 8.5 49.078125 8.5 55.328125 \nQ 8.5 64.0625 14.71875 69.140625 \nQ 20.953125 74.21875 31.78125 74.21875 \nQ 42.671875 74.21875 48.875 69.140625 \nQ 55.078125 64.0625 55.078125 55.328125 \nQ 55.078125 49.078125 51.53125 44.71875 \nQ 48 40.375 41.703125 38.8125 \nQ 48.828125 37.15625 52.796875 32.3125 \nQ 56.78125 27.484375 56.78125 20.515625 \nQ 56.78125 9.90625 50.3125 4.234375 \nQ 43.84375 -1.421875 31.78125 -1.421875 \nQ 19.734375 -1.421875 13.25 4.234375 \nQ 6.78125 9.90625 6.78125 20.515625 \nQ 6.78125 27.484375 10.78125 32.3125 \nQ 14.796875 37.15625 21.921875 38.8125 \nz\nM 18.3125 54.390625 \nQ 18.3125 48.734375 21.84375 45.5625 \nQ 25.390625 42.390625 31.78125 42.390625 \nQ 38.140625 42.390625 41.71875 45.5625 \nQ 45.3125 48.734375 45.3125 54.390625 \nQ 45.3125 60.0625 41.71875 63.234375 \nQ 38.140625 66.40625 31.78125 66.40625 \nQ 25.390625 66.40625 21.84375 63.234375 \nQ 18.3125 60.0625 18.3125 54.390625 \nz\n\" id=\"DejaVuSans-56\"/>\n        <path d=\"M 31.78125 66.40625 \nQ 24.171875 66.40625 20.328125 58.90625 \nQ 16.5 51.421875 16.5 36.375 \nQ 16.5 21.390625 20.328125 13.890625 \nQ 24.171875 6.390625 31.78125 6.390625 \nQ 39.453125 6.390625 43.28125 13.890625 \nQ 47.125 21.390625 47.125 36.375 \nQ 47.125 51.421875 43.28125 58.90625 \nQ 39.453125 66.40625 31.78125 66.40625 \nz\nM 31.78125 74.21875 \nQ 44.046875 74.21875 50.515625 64.515625 \nQ 56.984375 54.828125 56.984375 36.375 \nQ 56.984375 17.96875 50.515625 8.265625 \nQ 44.046875 -1.421875 31.78125 -1.421875 \nQ 19.53125 -1.421875 13.0625 8.265625 \nQ 6.59375 17.96875 6.59375 36.375 \nQ 6.59375 54.828125 13.0625 64.515625 \nQ 19.53125 74.21875 31.78125 74.21875 \nz\n\" id=\"DejaVuSans-48\"/>\n       </defs>\n       <use xlink:href=\"#DejaVuSans-8722\"/>\n       <use x=\"83.789062\" xlink:href=\"#DejaVuSans-49\"/>\n       <use x=\"147.412109\" xlink:href=\"#DejaVuSans-56\"/>\n       <use x=\"211.035156\" xlink:href=\"#DejaVuSans-48\"/>\n      </g>\n     </g>\n    </g>\n    <g id=\"xtick_2\">\n     <g id=\"line2d_2\">\n      <g>\n       <use style=\"stroke:#000000;stroke-width:0.8;\" x=\"141.463123\" xlink:href=\"#m0ede5cb8fb\" y=\"333.36\"/>\n      </g>\n     </g>\n     <g id=\"text_2\">\n      <!-- −160 -->\n      <g transform=\"translate(127.729529 347.958438)scale(0.1 -0.1)\">\n       <defs>\n        <path d=\"M 33.015625 40.375 \nQ 26.375 40.375 22.484375 35.828125 \nQ 18.609375 31.296875 18.609375 23.390625 \nQ 18.609375 15.53125 22.484375 10.953125 \nQ 26.375 6.390625 33.015625 6.390625 \nQ 39.65625 6.390625 43.53125 10.953125 \nQ 47.40625 15.53125 47.40625 23.390625 \nQ 47.40625 31.296875 43.53125 35.828125 \nQ 39.65625 40.375 33.015625 40.375 \nz\nM 52.59375 71.296875 \nL 52.59375 62.3125 \nQ 48.875 64.0625 45.09375 64.984375 \nQ 41.3125 65.921875 37.59375 65.921875 \nQ 27.828125 65.921875 22.671875 59.328125 \nQ 17.53125 52.734375 16.796875 39.40625 \nQ 19.671875 43.65625 24.015625 45.921875 \nQ 28.375 48.1875 33.59375 48.1875 \nQ 44.578125 48.1875 50.953125 41.515625 \nQ 57.328125 34.859375 57.328125 23.390625 \nQ 57.328125 12.15625 50.6875 5.359375 \nQ 44.046875 -1.421875 33.015625 -1.421875 \nQ 20.359375 -1.421875 13.671875 8.265625 \nQ 6.984375 17.96875 6.984375 36.375 \nQ 6.984375 53.65625 15.1875 63.9375 \nQ 23.390625 74.21875 37.203125 74.21875 \nQ 40.921875 74.21875 44.703125 73.484375 \nQ 48.484375 72.75 52.59375 71.296875 \nz\n\" id=\"DejaVuSans-54\"/>\n       </defs>\n       <use xlink:href=\"#DejaVuSans-8722\"/>\n       <use x=\"83.789062\" xlink:href=\"#DejaVuSans-49\"/>\n       <use x=\"147.412109\" xlink:href=\"#DejaVuSans-54\"/>\n       <use x=\"211.035156\" xlink:href=\"#DejaVuSans-48\"/>\n      </g>\n     </g>\n    </g>\n    <g id=\"xtick_3\">\n     <g id=\"line2d_3\">\n      <g>\n       <use style=\"stroke:#000000;stroke-width:0.8;\" x=\"232.171071\" xlink:href=\"#m0ede5cb8fb\" y=\"333.36\"/>\n      </g>\n     </g>\n     <g id=\"text_3\">\n      <!-- −140 -->\n      <g transform=\"translate(218.437478 347.958438)scale(0.1 -0.1)\">\n       <defs>\n        <path d=\"M 37.796875 64.3125 \nL 12.890625 25.390625 \nL 37.796875 25.390625 \nz\nM 35.203125 72.90625 \nL 47.609375 72.90625 \nL 47.609375 25.390625 \nL 58.015625 25.390625 \nL 58.015625 17.1875 \nL 47.609375 17.1875 \nL 47.609375 0 \nL 37.796875 0 \nL 37.796875 17.1875 \nL 4.890625 17.1875 \nL 4.890625 26.703125 \nz\n\" id=\"DejaVuSans-52\"/>\n       </defs>\n       <use xlink:href=\"#DejaVuSans-8722\"/>\n       <use x=\"83.789062\" xlink:href=\"#DejaVuSans-49\"/>\n       <use x=\"147.412109\" xlink:href=\"#DejaVuSans-52\"/>\n       <use x=\"211.035156\" xlink:href=\"#DejaVuSans-48\"/>\n      </g>\n     </g>\n    </g>\n    <g id=\"xtick_4\">\n     <g id=\"line2d_4\">\n      <g>\n       <use style=\"stroke:#000000;stroke-width:0.8;\" x=\"322.87902\" xlink:href=\"#m0ede5cb8fb\" y=\"333.36\"/>\n      </g>\n     </g>\n     <g id=\"text_4\">\n      <!-- −120 -->\n      <g transform=\"translate(309.145426 347.958438)scale(0.1 -0.1)\">\n       <defs>\n        <path d=\"M 19.1875 8.296875 \nL 53.609375 8.296875 \nL 53.609375 0 \nL 7.328125 0 \nL 7.328125 8.296875 \nQ 12.9375 14.109375 22.625 23.890625 \nQ 32.328125 33.6875 34.8125 36.53125 \nQ 39.546875 41.84375 41.421875 45.53125 \nQ 43.3125 49.21875 43.3125 52.78125 \nQ 43.3125 58.59375 39.234375 62.25 \nQ 35.15625 65.921875 28.609375 65.921875 \nQ 23.96875 65.921875 18.8125 64.3125 \nQ 13.671875 62.703125 7.8125 59.421875 \nL 7.8125 69.390625 \nQ 13.765625 71.78125 18.9375 73 \nQ 24.125 74.21875 28.421875 74.21875 \nQ 39.75 74.21875 46.484375 68.546875 \nQ 53.21875 62.890625 53.21875 53.421875 \nQ 53.21875 48.921875 51.53125 44.890625 \nQ 49.859375 40.875 45.40625 35.40625 \nQ 44.1875 33.984375 37.640625 27.21875 \nQ 31.109375 20.453125 19.1875 8.296875 \nz\n\" id=\"DejaVuSans-50\"/>\n       </defs>\n       <use xlink:href=\"#DejaVuSans-8722\"/>\n       <use x=\"83.789062\" xlink:href=\"#DejaVuSans-49\"/>\n       <use x=\"147.412109\" xlink:href=\"#DejaVuSans-50\"/>\n       <use x=\"211.035156\" xlink:href=\"#DejaVuSans-48\"/>\n      </g>\n     </g>\n    </g>\n    <g id=\"xtick_5\">\n     <g id=\"line2d_5\">\n      <g>\n       <use style=\"stroke:#000000;stroke-width:0.8;\" x=\"413.586968\" xlink:href=\"#m0ede5cb8fb\" y=\"333.36\"/>\n      </g>\n     </g>\n     <g id=\"text_5\">\n      <!-- −100 -->\n      <g transform=\"translate(399.853375 347.958438)scale(0.1 -0.1)\">\n       <use xlink:href=\"#DejaVuSans-8722\"/>\n       <use x=\"83.789062\" xlink:href=\"#DejaVuSans-49\"/>\n       <use x=\"147.412109\" xlink:href=\"#DejaVuSans-48\"/>\n       <use x=\"211.035156\" xlink:href=\"#DejaVuSans-48\"/>\n      </g>\n     </g>\n    </g>\n    <g id=\"xtick_6\">\n     <g id=\"line2d_6\">\n      <g>\n       <use style=\"stroke:#000000;stroke-width:0.8;\" x=\"504.294917\" xlink:href=\"#m0ede5cb8fb\" y=\"333.36\"/>\n      </g>\n     </g>\n     <g id=\"text_6\">\n      <!-- −80 -->\n      <g transform=\"translate(493.742573 347.958438)scale(0.1 -0.1)\">\n       <use xlink:href=\"#DejaVuSans-8722\"/>\n       <use x=\"83.789062\" xlink:href=\"#DejaVuSans-56\"/>\n       <use x=\"147.412109\" xlink:href=\"#DejaVuSans-48\"/>\n      </g>\n     </g>\n    </g>\n    <g id=\"xtick_7\">\n     <g id=\"line2d_7\">\n      <g>\n       <use style=\"stroke:#000000;stroke-width:0.8;\" x=\"595.002865\" xlink:href=\"#m0ede5cb8fb\" y=\"333.36\"/>\n      </g>\n     </g>\n     <g id=\"text_7\">\n      <!-- −60 -->\n      <g transform=\"translate(584.450522 347.958438)scale(0.1 -0.1)\">\n       <use xlink:href=\"#DejaVuSans-8722\"/>\n       <use x=\"83.789062\" xlink:href=\"#DejaVuSans-54\"/>\n       <use x=\"147.412109\" xlink:href=\"#DejaVuSans-48\"/>\n      </g>\n     </g>\n    </g>\n    <g id=\"text_8\">\n     <!-- longitude -->\n     <g transform=\"translate(296.042969 361.636562)scale(0.1 -0.1)\">\n      <defs>\n       <path d=\"M 9.421875 75.984375 \nL 18.40625 75.984375 \nL 18.40625 0 \nL 9.421875 0 \nz\n\" id=\"DejaVuSans-108\"/>\n       <path d=\"M 30.609375 48.390625 \nQ 23.390625 48.390625 19.1875 42.75 \nQ 14.984375 37.109375 14.984375 27.296875 \nQ 14.984375 17.484375 19.15625 11.84375 \nQ 23.34375 6.203125 30.609375 6.203125 \nQ 37.796875 6.203125 41.984375 11.859375 \nQ 46.1875 17.53125 46.1875 27.296875 \nQ 46.1875 37.015625 41.984375 42.703125 \nQ 37.796875 48.390625 30.609375 48.390625 \nz\nM 30.609375 56 \nQ 42.328125 56 49.015625 48.375 \nQ 55.71875 40.765625 55.71875 27.296875 \nQ 55.71875 13.875 49.015625 6.21875 \nQ 42.328125 -1.421875 30.609375 -1.421875 \nQ 18.84375 -1.421875 12.171875 6.21875 \nQ 5.515625 13.875 5.515625 27.296875 \nQ 5.515625 40.765625 12.171875 48.375 \nQ 18.84375 56 30.609375 56 \nz\n\" id=\"DejaVuSans-111\"/>\n       <path d=\"M 54.890625 33.015625 \nL 54.890625 0 \nL 45.90625 0 \nL 45.90625 32.71875 \nQ 45.90625 40.484375 42.875 44.328125 \nQ 39.84375 48.1875 33.796875 48.1875 \nQ 26.515625 48.1875 22.3125 43.546875 \nQ 18.109375 38.921875 18.109375 30.90625 \nL 18.109375 0 \nL 9.078125 0 \nL 9.078125 54.6875 \nL 18.109375 54.6875 \nL 18.109375 46.1875 \nQ 21.34375 51.125 25.703125 53.5625 \nQ 30.078125 56 35.796875 56 \nQ 45.21875 56 50.046875 50.171875 \nQ 54.890625 44.34375 54.890625 33.015625 \nz\n\" id=\"DejaVuSans-110\"/>\n       <path d=\"M 45.40625 27.984375 \nQ 45.40625 37.75 41.375 43.109375 \nQ 37.359375 48.484375 30.078125 48.484375 \nQ 22.859375 48.484375 18.828125 43.109375 \nQ 14.796875 37.75 14.796875 27.984375 \nQ 14.796875 18.265625 18.828125 12.890625 \nQ 22.859375 7.515625 30.078125 7.515625 \nQ 37.359375 7.515625 41.375 12.890625 \nQ 45.40625 18.265625 45.40625 27.984375 \nz\nM 54.390625 6.78125 \nQ 54.390625 -7.171875 48.1875 -13.984375 \nQ 42 -20.796875 29.203125 -20.796875 \nQ 24.46875 -20.796875 20.265625 -20.09375 \nQ 16.0625 -19.390625 12.109375 -17.921875 \nL 12.109375 -9.1875 \nQ 16.0625 -11.328125 19.921875 -12.34375 \nQ 23.78125 -13.375 27.78125 -13.375 \nQ 36.625 -13.375 41.015625 -8.765625 \nQ 45.40625 -4.15625 45.40625 5.171875 \nL 45.40625 9.625 \nQ 42.625 4.78125 38.28125 2.390625 \nQ 33.9375 0 27.875 0 \nQ 17.828125 0 11.671875 7.65625 \nQ 5.515625 15.328125 5.515625 27.984375 \nQ 5.515625 40.671875 11.671875 48.328125 \nQ 17.828125 56 27.875 56 \nQ 33.9375 56 38.28125 53.609375 \nQ 42.625 51.21875 45.40625 46.390625 \nL 45.40625 54.6875 \nL 54.390625 54.6875 \nz\n\" id=\"DejaVuSans-103\"/>\n       <path d=\"M 9.421875 54.6875 \nL 18.40625 54.6875 \nL 18.40625 0 \nL 9.421875 0 \nz\nM 9.421875 75.984375 \nL 18.40625 75.984375 \nL 18.40625 64.59375 \nL 9.421875 64.59375 \nz\n\" id=\"DejaVuSans-105\"/>\n       <path d=\"M 18.3125 70.21875 \nL 18.3125 54.6875 \nL 36.8125 54.6875 \nL 36.8125 47.703125 \nL 18.3125 47.703125 \nL 18.3125 18.015625 \nQ 18.3125 11.328125 20.140625 9.421875 \nQ 21.96875 7.515625 27.59375 7.515625 \nL 36.8125 7.515625 \nL 36.8125 0 \nL 27.59375 0 \nQ 17.1875 0 13.234375 3.875 \nQ 9.28125 7.765625 9.28125 18.015625 \nL 9.28125 47.703125 \nL 2.6875 47.703125 \nL 2.6875 54.6875 \nL 9.28125 54.6875 \nL 9.28125 70.21875 \nz\n\" id=\"DejaVuSans-116\"/>\n       <path d=\"M 8.5 21.578125 \nL 8.5 54.6875 \nL 17.484375 54.6875 \nL 17.484375 21.921875 \nQ 17.484375 14.15625 20.5 10.265625 \nQ 23.53125 6.390625 29.59375 6.390625 \nQ 36.859375 6.390625 41.078125 11.03125 \nQ 45.3125 15.671875 45.3125 23.6875 \nL 45.3125 54.6875 \nL 54.296875 54.6875 \nL 54.296875 0 \nL 45.3125 0 \nL 45.3125 8.40625 \nQ 42.046875 3.421875 37.71875 1 \nQ 33.40625 -1.421875 27.6875 -1.421875 \nQ 18.265625 -1.421875 13.375 4.4375 \nQ 8.5 10.296875 8.5 21.578125 \nz\nM 31.109375 56 \nz\n\" id=\"DejaVuSans-117\"/>\n       <path d=\"M 45.40625 46.390625 \nL 45.40625 75.984375 \nL 54.390625 75.984375 \nL 54.390625 0 \nL 45.40625 0 \nL 45.40625 8.203125 \nQ 42.578125 3.328125 38.25 0.953125 \nQ 33.9375 -1.421875 27.875 -1.421875 \nQ 17.96875 -1.421875 11.734375 6.484375 \nQ 5.515625 14.40625 5.515625 27.296875 \nQ 5.515625 40.1875 11.734375 48.09375 \nQ 17.96875 56 27.875 56 \nQ 33.9375 56 38.25 53.625 \nQ 42.578125 51.265625 45.40625 46.390625 \nz\nM 14.796875 27.296875 \nQ 14.796875 17.390625 18.875 11.75 \nQ 22.953125 6.109375 30.078125 6.109375 \nQ 37.203125 6.109375 41.296875 11.75 \nQ 45.40625 17.390625 45.40625 27.296875 \nQ 45.40625 37.203125 41.296875 42.84375 \nQ 37.203125 48.484375 30.078125 48.484375 \nQ 22.953125 48.484375 18.875 42.84375 \nQ 14.796875 37.203125 14.796875 27.296875 \nz\n\" id=\"DejaVuSans-100\"/>\n       <path d=\"M 56.203125 29.59375 \nL 56.203125 25.203125 \nL 14.890625 25.203125 \nQ 15.484375 15.921875 20.484375 11.0625 \nQ 25.484375 6.203125 34.421875 6.203125 \nQ 39.59375 6.203125 44.453125 7.46875 \nQ 49.3125 8.734375 54.109375 11.28125 \nL 54.109375 2.78125 \nQ 49.265625 0.734375 44.1875 -0.34375 \nQ 39.109375 -1.421875 33.890625 -1.421875 \nQ 20.796875 -1.421875 13.15625 6.1875 \nQ 5.515625 13.8125 5.515625 26.8125 \nQ 5.515625 40.234375 12.765625 48.109375 \nQ 20.015625 56 32.328125 56 \nQ 43.359375 56 49.78125 48.890625 \nQ 56.203125 41.796875 56.203125 29.59375 \nz\nM 47.21875 32.234375 \nQ 47.125 39.59375 43.09375 43.984375 \nQ 39.0625 48.390625 32.421875 48.390625 \nQ 24.90625 48.390625 20.390625 44.140625 \nQ 15.875 39.890625 15.1875 32.171875 \nz\n\" id=\"DejaVuSans-101\"/>\n      </defs>\n      <use xlink:href=\"#DejaVuSans-108\"/>\n      <use x=\"27.783203\" xlink:href=\"#DejaVuSans-111\"/>\n      <use x=\"88.964844\" xlink:href=\"#DejaVuSans-110\"/>\n      <use x=\"152.34375\" xlink:href=\"#DejaVuSans-103\"/>\n      <use x=\"215.820312\" xlink:href=\"#DejaVuSans-105\"/>\n      <use x=\"243.603516\" xlink:href=\"#DejaVuSans-116\"/>\n      <use x=\"282.8125\" xlink:href=\"#DejaVuSans-117\"/>\n      <use x=\"346.191406\" xlink:href=\"#DejaVuSans-100\"/>\n      <use x=\"409.667969\" xlink:href=\"#DejaVuSans-101\"/>\n     </g>\n    </g>\n   </g>\n   <g id=\"matplotlib.axis_2\">\n    <g id=\"ytick_1\">\n     <g id=\"line2d_8\">\n      <defs>\n       <path d=\"M 0 0 \nL -3.5 0 \n\" id=\"m9ce2616209\" style=\"stroke:#000000;stroke-width:0.8;\"/>\n      </defs>\n      <g>\n       <use style=\"stroke:#000000;stroke-width:0.8;\" x=\"40.603125\" xlink:href=\"#m9ce2616209\" y=\"285.106354\"/>\n      </g>\n     </g>\n     <g id=\"text_9\">\n      <!-- 20 -->\n      <g transform=\"translate(20.878125 288.905573)scale(0.1 -0.1)\">\n       <use xlink:href=\"#DejaVuSans-50\"/>\n       <use x=\"63.623047\" xlink:href=\"#DejaVuSans-48\"/>\n      </g>\n     </g>\n    </g>\n    <g id=\"ytick_2\">\n     <g id=\"line2d_9\">\n      <g>\n       <use style=\"stroke:#000000;stroke-width:0.8;\" x=\"40.603125\" xlink:href=\"#m9ce2616209\" y=\"233.808978\"/>\n      </g>\n     </g>\n     <g id=\"text_10\">\n      <!-- 30 -->\n      <g transform=\"translate(20.878125 237.608197)scale(0.1 -0.1)\">\n       <defs>\n        <path d=\"M 40.578125 39.3125 \nQ 47.65625 37.796875 51.625 33 \nQ 55.609375 28.21875 55.609375 21.1875 \nQ 55.609375 10.40625 48.1875 4.484375 \nQ 40.765625 -1.421875 27.09375 -1.421875 \nQ 22.515625 -1.421875 17.65625 -0.515625 \nQ 12.796875 0.390625 7.625 2.203125 \nL 7.625 11.71875 \nQ 11.71875 9.328125 16.59375 8.109375 \nQ 21.484375 6.890625 26.8125 6.890625 \nQ 36.078125 6.890625 40.9375 10.546875 \nQ 45.796875 14.203125 45.796875 21.1875 \nQ 45.796875 27.640625 41.28125 31.265625 \nQ 36.765625 34.90625 28.71875 34.90625 \nL 20.21875 34.90625 \nL 20.21875 43.015625 \nL 29.109375 43.015625 \nQ 36.375 43.015625 40.234375 45.921875 \nQ 44.09375 48.828125 44.09375 54.296875 \nQ 44.09375 59.90625 40.109375 62.90625 \nQ 36.140625 65.921875 28.71875 65.921875 \nQ 24.65625 65.921875 20.015625 65.03125 \nQ 15.375 64.15625 9.8125 62.3125 \nL 9.8125 71.09375 \nQ 15.4375 72.65625 20.34375 73.4375 \nQ 25.25 74.21875 29.59375 74.21875 \nQ 40.828125 74.21875 47.359375 69.109375 \nQ 53.90625 64.015625 53.90625 55.328125 \nQ 53.90625 49.265625 50.4375 45.09375 \nQ 46.96875 40.921875 40.578125 39.3125 \nz\n\" id=\"DejaVuSans-51\"/>\n       </defs>\n       <use xlink:href=\"#DejaVuSans-51\"/>\n       <use x=\"63.623047\" xlink:href=\"#DejaVuSans-48\"/>\n      </g>\n     </g>\n    </g>\n    <g id=\"ytick_3\">\n     <g id=\"line2d_10\">\n      <g>\n       <use style=\"stroke:#000000;stroke-width:0.8;\" x=\"40.603125\" xlink:href=\"#m9ce2616209\" y=\"182.511603\"/>\n      </g>\n     </g>\n     <g id=\"text_11\">\n      <!-- 40 -->\n      <g transform=\"translate(20.878125 186.310821)scale(0.1 -0.1)\">\n       <use xlink:href=\"#DejaVuSans-52\"/>\n       <use x=\"63.623047\" xlink:href=\"#DejaVuSans-48\"/>\n      </g>\n     </g>\n    </g>\n    <g id=\"ytick_4\">\n     <g id=\"line2d_11\">\n      <g>\n       <use style=\"stroke:#000000;stroke-width:0.8;\" x=\"40.603125\" xlink:href=\"#m9ce2616209\" y=\"131.214227\"/>\n      </g>\n     </g>\n     <g id=\"text_12\">\n      <!-- 50 -->\n      <g transform=\"translate(20.878125 135.013446)scale(0.1 -0.1)\">\n       <defs>\n        <path d=\"M 10.796875 72.90625 \nL 49.515625 72.90625 \nL 49.515625 64.59375 \nL 19.828125 64.59375 \nL 19.828125 46.734375 \nQ 21.96875 47.46875 24.109375 47.828125 \nQ 26.265625 48.1875 28.421875 48.1875 \nQ 40.625 48.1875 47.75 41.5 \nQ 54.890625 34.8125 54.890625 23.390625 \nQ 54.890625 11.625 47.5625 5.09375 \nQ 40.234375 -1.421875 26.90625 -1.421875 \nQ 22.3125 -1.421875 17.546875 -0.640625 \nQ 12.796875 0.140625 7.71875 1.703125 \nL 7.71875 11.625 \nQ 12.109375 9.234375 16.796875 8.0625 \nQ 21.484375 6.890625 26.703125 6.890625 \nQ 35.15625 6.890625 40.078125 11.328125 \nQ 45.015625 15.765625 45.015625 23.390625 \nQ 45.015625 31 40.078125 35.4375 \nQ 35.15625 39.890625 26.703125 39.890625 \nQ 22.75 39.890625 18.8125 39.015625 \nQ 14.890625 38.140625 10.796875 36.28125 \nz\n\" id=\"DejaVuSans-53\"/>\n       </defs>\n       <use xlink:href=\"#DejaVuSans-53\"/>\n       <use x=\"63.623047\" xlink:href=\"#DejaVuSans-48\"/>\n      </g>\n     </g>\n    </g>\n    <g id=\"ytick_5\">\n     <g id=\"line2d_12\">\n      <g>\n       <use style=\"stroke:#000000;stroke-width:0.8;\" x=\"40.603125\" xlink:href=\"#m9ce2616209\" y=\"79.916851\"/>\n      </g>\n     </g>\n     <g id=\"text_13\">\n      <!-- 60 -->\n      <g transform=\"translate(20.878125 83.71607)scale(0.1 -0.1)\">\n       <use xlink:href=\"#DejaVuSans-54\"/>\n       <use x=\"63.623047\" xlink:href=\"#DejaVuSans-48\"/>\n      </g>\n     </g>\n    </g>\n    <g id=\"ytick_6\">\n     <g id=\"line2d_13\">\n      <g>\n       <use style=\"stroke:#000000;stroke-width:0.8;\" x=\"40.603125\" xlink:href=\"#m9ce2616209\" y=\"28.619476\"/>\n      </g>\n     </g>\n     <g id=\"text_14\">\n      <!-- 70 -->\n      <g transform=\"translate(20.878125 32.418694)scale(0.1 -0.1)\">\n       <defs>\n        <path d=\"M 8.203125 72.90625 \nL 55.078125 72.90625 \nL 55.078125 68.703125 \nL 28.609375 0 \nL 18.3125 0 \nL 43.21875 64.59375 \nL 8.203125 64.59375 \nz\n\" id=\"DejaVuSans-55\"/>\n       </defs>\n       <use xlink:href=\"#DejaVuSans-55\"/>\n       <use x=\"63.623047\" xlink:href=\"#DejaVuSans-48\"/>\n      </g>\n     </g>\n    </g>\n    <g id=\"text_15\">\n     <!-- latitude -->\n     <g transform=\"translate(14.798437 189.462031)rotate(-90)scale(0.1 -0.1)\">\n      <defs>\n       <path d=\"M 34.28125 27.484375 \nQ 23.390625 27.484375 19.1875 25 \nQ 14.984375 22.515625 14.984375 16.5 \nQ 14.984375 11.71875 18.140625 8.90625 \nQ 21.296875 6.109375 26.703125 6.109375 \nQ 34.1875 6.109375 38.703125 11.40625 \nQ 43.21875 16.703125 43.21875 25.484375 \nL 43.21875 27.484375 \nz\nM 52.203125 31.203125 \nL 52.203125 0 \nL 43.21875 0 \nL 43.21875 8.296875 \nQ 40.140625 3.328125 35.546875 0.953125 \nQ 30.953125 -1.421875 24.3125 -1.421875 \nQ 15.921875 -1.421875 10.953125 3.296875 \nQ 6 8.015625 6 15.921875 \nQ 6 25.140625 12.171875 29.828125 \nQ 18.359375 34.515625 30.609375 34.515625 \nL 43.21875 34.515625 \nL 43.21875 35.40625 \nQ 43.21875 41.609375 39.140625 45 \nQ 35.0625 48.390625 27.6875 48.390625 \nQ 23 48.390625 18.546875 47.265625 \nQ 14.109375 46.140625 10.015625 43.890625 \nL 10.015625 52.203125 \nQ 14.9375 54.109375 19.578125 55.046875 \nQ 24.21875 56 28.609375 56 \nQ 40.484375 56 46.34375 49.84375 \nQ 52.203125 43.703125 52.203125 31.203125 \nz\n\" id=\"DejaVuSans-97\"/>\n      </defs>\n      <use xlink:href=\"#DejaVuSans-108\"/>\n      <use x=\"27.783203\" xlink:href=\"#DejaVuSans-97\"/>\n      <use x=\"89.0625\" xlink:href=\"#DejaVuSans-116\"/>\n      <use x=\"128.271484\" xlink:href=\"#DejaVuSans-105\"/>\n      <use x=\"156.054688\" xlink:href=\"#DejaVuSans-116\"/>\n      <use x=\"195.263672\" xlink:href=\"#DejaVuSans-117\"/>\n      <use x=\"258.642578\" xlink:href=\"#DejaVuSans-100\"/>\n      <use x=\"322.119141\" xlink:href=\"#DejaVuSans-101\"/>\n     </g>\n    </g>\n   </g>\n   <g id=\"patch_3\">\n    <path d=\"M 40.603125 333.36 \nL 40.603125 7.2 \n\" style=\"fill:none;stroke:#000000;stroke-linecap:square;stroke-linejoin:miter;stroke-width:0.8;\"/>\n   </g>\n   <g id=\"patch_4\">\n    <path d=\"M 598.603125 333.36 \nL 598.603125 7.2 \n\" style=\"fill:none;stroke:#000000;stroke-linecap:square;stroke-linejoin:miter;stroke-width:0.8;\"/>\n   </g>\n   <g id=\"patch_5\">\n    <path d=\"M 40.603125 333.36 \nL 598.603125 333.36 \n\" style=\"fill:none;stroke:#000000;stroke-linecap:square;stroke-linejoin:miter;stroke-width:0.8;\"/>\n   </g>\n   <g id=\"patch_6\">\n    <path d=\"M 40.603125 7.2 \nL 598.603125 7.2 \n\" style=\"fill:none;stroke:#000000;stroke-linecap:square;stroke-linejoin:miter;stroke-width:0.8;\"/>\n   </g>\n  </g>\n </g>\n <defs>\n  <clipPath id=\"pb3e1132f5f\">\n   <rect height=\"326.16\" width=\"558\" x=\"40.603125\" y=\"7.2\"/>\n  </clipPath>\n </defs>\n</svg>\n",
      "image/png": "[encoded data removed]"
     },
     "metadata": {
      "needs_background": "light"
     }
    }
   ],
   "source": [
    "pd_airports.plot.scatter(x=\"longitude\", y=\"latitude\",figsize=(10, 6))"
   ]
  },
  {
   "cell_type": "code",
   "execution_count": 36,
   "metadata": {},
   "outputs": [
    {
     "output_type": "error",
     "ename": "AnalysisException",
     "evalue": "Path does not exist: file:/home/vienio99/Documents/Projects/spk/countries of the world.csv",
     "traceback": [
      "\u001b[0;31m---------------------------------------------------------------------------\u001b[0m",
      "\u001b[0;31mAnalysisException\u001b[0m                         Traceback (most recent call last)",
      "\u001b[0;32m<ipython-input-36-a53f3e41b4f7>\u001b[0m in \u001b[0;36m<module>\u001b[0;34m\u001b[0m\n\u001b[0;32m----> 1\u001b[0;31m \u001b[0mcountries\u001b[0m \u001b[0;34m=\u001b[0m \u001b[0mspark\u001b[0m\u001b[0;34m.\u001b[0m\u001b[0mread\u001b[0m\u001b[0;34m.\u001b[0m\u001b[0mcsv\u001b[0m\u001b[0;34m(\u001b[0m\u001b[0;34m\"countries of the world.csv\"\u001b[0m\u001b[0;34m,\u001b[0m\u001b[0minferSchema\u001b[0m\u001b[0;34m=\u001b[0m\u001b[0;32mTrue\u001b[0m\u001b[0;34m,\u001b[0m\u001b[0mheader\u001b[0m\u001b[0;34m=\u001b[0m\u001b[0;32mTrue\u001b[0m\u001b[0;34m)\u001b[0m\u001b[0;34m\u001b[0m\u001b[0;34m\u001b[0m\u001b[0m\n\u001b[0m",
      "\u001b[0;32m~/.virtualenvs/spk/lib/python3.8/site-packages/pyspark/sql/readwriter.py\u001b[0m in \u001b[0;36mcsv\u001b[0;34m(self, path, schema, sep, encoding, quote, escape, comment, header, inferSchema, ignoreLeadingWhiteSpace, ignoreTrailingWhiteSpace, nullValue, nanValue, positiveInf, negativeInf, dateFormat, timestampFormat, maxColumns, maxCharsPerColumn, maxMalformedLogPerPartition, mode, columnNameOfCorruptRecord, multiLine, charToEscapeQuoteEscaping, samplingRatio, enforceSchema, emptyValue, locale, lineSep, pathGlobFilter, recursiveFileLookup, modifiedBefore, modifiedAfter, unescapedQuoteHandling)\u001b[0m\n\u001b[1;32m    735\u001b[0m             \u001b[0mpath\u001b[0m \u001b[0;34m=\u001b[0m \u001b[0;34m[\u001b[0m\u001b[0mpath\u001b[0m\u001b[0;34m]\u001b[0m\u001b[0;34m\u001b[0m\u001b[0;34m\u001b[0m\u001b[0m\n\u001b[1;32m    736\u001b[0m         \u001b[0;32mif\u001b[0m \u001b[0mtype\u001b[0m\u001b[0;34m(\u001b[0m\u001b[0mpath\u001b[0m\u001b[0;34m)\u001b[0m \u001b[0;34m==\u001b[0m \u001b[0mlist\u001b[0m\u001b[0;34m:\u001b[0m\u001b[0;34m\u001b[0m\u001b[0;34m\u001b[0m\u001b[0m\n\u001b[0;32m--> 737\u001b[0;31m             \u001b[0;32mreturn\u001b[0m \u001b[0mself\u001b[0m\u001b[0;34m.\u001b[0m\u001b[0m_df\u001b[0m\u001b[0;34m(\u001b[0m\u001b[0mself\u001b[0m\u001b[0;34m.\u001b[0m\u001b[0m_jreader\u001b[0m\u001b[0;34m.\u001b[0m\u001b[0mcsv\u001b[0m\u001b[0;34m(\u001b[0m\u001b[0mself\u001b[0m\u001b[0;34m.\u001b[0m\u001b[0m_spark\u001b[0m\u001b[0;34m.\u001b[0m\u001b[0m_sc\u001b[0m\u001b[0;34m.\u001b[0m\u001b[0m_jvm\u001b[0m\u001b[0;34m.\u001b[0m\u001b[0mPythonUtils\u001b[0m\u001b[0;34m.\u001b[0m\u001b[0mtoSeq\u001b[0m\u001b[0;34m(\u001b[0m\u001b[0mpath\u001b[0m\u001b[0;34m)\u001b[0m\u001b[0;34m)\u001b[0m\u001b[0;34m)\u001b[0m\u001b[0;34m\u001b[0m\u001b[0;34m\u001b[0m\u001b[0m\n\u001b[0m\u001b[1;32m    738\u001b[0m         \u001b[0;32melif\u001b[0m \u001b[0misinstance\u001b[0m\u001b[0;34m(\u001b[0m\u001b[0mpath\u001b[0m\u001b[0;34m,\u001b[0m \u001b[0mRDD\u001b[0m\u001b[0;34m)\u001b[0m\u001b[0;34m:\u001b[0m\u001b[0;34m\u001b[0m\u001b[0;34m\u001b[0m\u001b[0m\n\u001b[1;32m    739\u001b[0m             \u001b[0;32mdef\u001b[0m \u001b[0mfunc\u001b[0m\u001b[0;34m(\u001b[0m\u001b[0miterator\u001b[0m\u001b[0;34m)\u001b[0m\u001b[0;34m:\u001b[0m\u001b[0;34m\u001b[0m\u001b[0;34m\u001b[0m\u001b[0m\n",
      "\u001b[0;32m~/.virtualenvs/spk/lib/python3.8/site-packages/py4j/java_gateway.py\u001b[0m in \u001b[0;36m__call__\u001b[0;34m(self, *args)\u001b[0m\n\u001b[1;32m   1302\u001b[0m \u001b[0;34m\u001b[0m\u001b[0m\n\u001b[1;32m   1303\u001b[0m         \u001b[0manswer\u001b[0m \u001b[0;34m=\u001b[0m \u001b[0mself\u001b[0m\u001b[0;34m.\u001b[0m\u001b[0mgateway_client\u001b[0m\u001b[0;34m.\u001b[0m\u001b[0msend_command\u001b[0m\u001b[0;34m(\u001b[0m\u001b[0mcommand\u001b[0m\u001b[0;34m)\u001b[0m\u001b[0;34m\u001b[0m\u001b[0;34m\u001b[0m\u001b[0m\n\u001b[0;32m-> 1304\u001b[0;31m         return_value = get_return_value(\n\u001b[0m\u001b[1;32m   1305\u001b[0m             answer, self.gateway_client, self.target_id, self.name)\n\u001b[1;32m   1306\u001b[0m \u001b[0;34m\u001b[0m\u001b[0m\n",
      "\u001b[0;32m~/.virtualenvs/spk/lib/python3.8/site-packages/pyspark/sql/utils.py\u001b[0m in \u001b[0;36mdeco\u001b[0;34m(*a, **kw)\u001b[0m\n\u001b[1;32m    115\u001b[0m                 \u001b[0;31m# Hide where the exception came from that shows a non-Pythonic\u001b[0m\u001b[0;34m\u001b[0m\u001b[0;34m\u001b[0m\u001b[0;34m\u001b[0m\u001b[0m\n\u001b[1;32m    116\u001b[0m                 \u001b[0;31m# JVM exception message.\u001b[0m\u001b[0;34m\u001b[0m\u001b[0;34m\u001b[0m\u001b[0;34m\u001b[0m\u001b[0m\n\u001b[0;32m--> 117\u001b[0;31m                 \u001b[0;32mraise\u001b[0m \u001b[0mconverted\u001b[0m \u001b[0;32mfrom\u001b[0m \u001b[0;32mNone\u001b[0m\u001b[0;34m\u001b[0m\u001b[0;34m\u001b[0m\u001b[0m\n\u001b[0m\u001b[1;32m    118\u001b[0m             \u001b[0;32melse\u001b[0m\u001b[0;34m:\u001b[0m\u001b[0;34m\u001b[0m\u001b[0;34m\u001b[0m\u001b[0m\n\u001b[1;32m    119\u001b[0m                 \u001b[0;32mraise\u001b[0m\u001b[0;34m\u001b[0m\u001b[0;34m\u001b[0m\u001b[0m\n",
      "\u001b[0;31mAnalysisException\u001b[0m: Path does not exist: file:/home/vienio99/Documents/Projects/spk/countries of the world.csv"
     ]
    }
   ],
   "source": [
    "countries = spark.read.csv(\"countries of the world.csv\",inferSchema=True,header=True)"
   ]
  },
  {
   "cell_type": "code",
   "execution_count": 38,
   "metadata": {},
   "outputs": [
    {
     "output_type": "error",
     "ename": "NameError",
     "evalue": "name 'countries' is not defined",
     "traceback": [
      "\u001b[0;31m---------------------------------------------------------------------------\u001b[0m",
      "\u001b[0;31mNameError\u001b[0m                                 Traceback (most recent call last)",
      "\u001b[0;32m<ipython-input-38-5b11db708237>\u001b[0m in \u001b[0;36m<module>\u001b[0;34m\u001b[0m\n\u001b[0;32m----> 1\u001b[0;31m \u001b[0mcountries\u001b[0m\u001b[0;34m.\u001b[0m\u001b[0mtoPandas\u001b[0m\u001b[0;34m(\u001b[0m\u001b[0;34m)\u001b[0m\u001b[0;34m\u001b[0m\u001b[0;34m\u001b[0m\u001b[0m\n\u001b[0m",
      "\u001b[0;31mNameError\u001b[0m: name 'countries' is not defined"
     ]
    }
   ],
   "source": [
    "countries.toPandas()"
   ]
  },
  {
   "cell_type": "markdown",
   "metadata": {},
   "source": [
    "nr4 Plot GDP vs. Phones for all countries in Asia."
   ]
  },
  {
   "cell_type": "code",
   "execution_count": 19,
   "metadata": {},
   "outputs": [],
   "source": [
    "from pyspark.sql.types import FloatType\n",
    "from pyspark.sql.functions import udf"
   ]
  },
  {
   "cell_type": "code",
   "execution_count": 20,
   "metadata": {},
   "outputs": [],
   "source": [
    "def to_float (s) :\n",
    "   return float(s.replace(',','.'))"
   ]
  },
  {
   "cell_type": "code",
   "execution_count": 21,
   "metadata": {},
   "outputs": [],
   "source": [
    "float_udf = udf(to_float , FloatType())"
   ]
  },
  {
   "cell_type": "code",
   "execution_count": 22,
   "metadata": {},
   "outputs": [],
   "source": [
    "full_countries = countries.select(\"Region\",'GDP ($ per capita)',\"Phones (per 1000)\" ).na.drop()"
   ]
  },
  {
   "cell_type": "code",
   "execution_count": 23,
   "metadata": {},
   "outputs": [],
   "source": [
    "full_countries = full_countries.withColumn(\"Phones\", float_udf(\"Phones (per 1000)\"))"
   ]
  },
  {
   "cell_type": "code",
   "execution_count": 24,
   "metadata": {},
   "outputs": [
    {
     "name": "stdout",
     "output_type": "stream",
     "text": [
      "+--------------------+------------------+-----------------+------+\n",
      "|              Region|GDP ($ per capita)|Phones (per 1000)|Phones|\n",
      "+--------------------+------------------+-----------------+------+\n",
      "|ASIA (EX. NEAR EA...|               700|              3,2|   3.2|\n",
      "|EASTERN EUROPE   ...|              4500|             71,2|  71.2|\n",
      "|NORTHERN AFRICA  ...|              6000|             78,1|  78.1|\n",
      "|OCEANIA          ...|              8000|            259,5| 259.5|\n",
      "|WESTERN EUROPE   ...|             19000|            497,2| 497.2|\n",
      "|SUB-SAHARAN AFRIC...|              1900|              7,8|   7.8|\n",
      "|LATIN AMER. & CAR...|              8600|            460,0| 460.0|\n",
      "|LATIN AMER. & CAR...|             11000|            549,9| 549.9|\n",
      "|LATIN AMER. & CAR...|             11200|            220,4| 220.4|\n",
      "|C.W. OF IND. STATES |              3500|            195,7| 195.7|\n",
      "|LATIN AMER. & CAR...|             28000|            516,1| 516.1|\n",
      "|OCEANIA          ...|             29000|            565,5| 565.5|\n",
      "|WESTERN EUROPE   ...|             30000|            452,2| 452.2|\n",
      "|C.W. OF IND. STATES |              3400|            137,1| 137.1|\n",
      "|LATIN AMER. & CAR...|             16700|            460,6| 460.6|\n",
      "|NEAR EAST        ...|             16900|            281,3| 281.3|\n",
      "|ASIA (EX. NEAR EA...|              1900|              7,3|   7.3|\n",
      "|LATIN AMER. & CAR...|             15700|            481,9| 481.9|\n",
      "|C.W. OF IND. STATES |              6100|            319,1| 319.1|\n",
      "|WESTERN EUROPE   ...|             29100|            462,6| 462.6|\n",
      "+--------------------+------------------+-----------------+------+\n",
      "only showing top 20 rows\n",
      "\n"
     ]
    }
   ],
   "source": [
    "full_countries.show()"
   ]
  },
  {
   "cell_type": "code",
   "execution_count": 25,
   "metadata": {},
   "outputs": [],
   "source": [
    "pd_asia = full_countries.select(\"GDP ($ per capita)\", \"Phones\")\\\n",
    ".where(col(\"Region\").like(\"%ASIA%\")).toPandas()"
   ]
  },
  {
   "cell_type": "code",
   "execution_count": 26,
   "metadata": {},
   "outputs": [
    {
     "data": {
      "text/html": [
       "<div>\n",
       "<style scoped>\n",
       "    .dataframe tbody tr th:only-of-type {\n",
       "        vertical-align: middle;\n",
       "    }\n",
       "\n",
       "    .dataframe tbody tr th {\n",
       "        vertical-align: top;\n",
       "    }\n",
       "\n",
       "    .dataframe thead th {\n",
       "        text-align: right;\n",
       "    }\n",
       "</style>\n",
       "<table border=\"1\" class=\"dataframe\">\n",
       "  <thead>\n",
       "    <tr style=\"text-align: right;\">\n",
       "      <th></th>\n",
       "      <th>GDP ($ per capita)</th>\n",
       "      <th>Phones</th>\n",
       "    </tr>\n",
       "  </thead>\n",
       "  <tbody>\n",
       "    <tr>\n",
       "      <th>0</th>\n",
       "      <td>700</td>\n",
       "      <td>3.200000</td>\n",
       "    </tr>\n",
       "    <tr>\n",
       "      <th>1</th>\n",
       "      <td>1900</td>\n",
       "      <td>7.300000</td>\n",
       "    </tr>\n",
       "    <tr>\n",
       "      <th>2</th>\n",
       "      <td>1300</td>\n",
       "      <td>14.300000</td>\n",
       "    </tr>\n",
       "    <tr>\n",
       "      <th>3</th>\n",
       "      <td>18600</td>\n",
       "      <td>237.199997</td>\n",
       "    </tr>\n",
       "    <tr>\n",
       "      <th>4</th>\n",
       "      <td>1800</td>\n",
       "      <td>10.100000</td>\n",
       "    </tr>\n",
       "    <tr>\n",
       "      <th>5</th>\n",
       "      <td>1900</td>\n",
       "      <td>2.600000</td>\n",
       "    </tr>\n",
       "    <tr>\n",
       "      <th>6</th>\n",
       "      <td>5000</td>\n",
       "      <td>266.700012</td>\n",
       "    </tr>\n",
       "    <tr>\n",
       "      <th>7</th>\n",
       "      <td>28800</td>\n",
       "      <td>546.700012</td>\n",
       "    </tr>\n",
       "    <tr>\n",
       "      <th>8</th>\n",
       "      <td>2900</td>\n",
       "      <td>45.400002</td>\n",
       "    </tr>\n",
       "    <tr>\n",
       "      <th>9</th>\n",
       "      <td>3200</td>\n",
       "      <td>52.000000</td>\n",
       "    </tr>\n",
       "    <tr>\n",
       "      <th>10</th>\n",
       "      <td>7000</td>\n",
       "      <td>276.399994</td>\n",
       "    </tr>\n",
       "    <tr>\n",
       "      <th>11</th>\n",
       "      <td>28200</td>\n",
       "      <td>461.200012</td>\n",
       "    </tr>\n",
       "    <tr>\n",
       "      <th>12</th>\n",
       "      <td>1300</td>\n",
       "      <td>42.400002</td>\n",
       "    </tr>\n",
       "    <tr>\n",
       "      <th>13</th>\n",
       "      <td>17800</td>\n",
       "      <td>486.100006</td>\n",
       "    </tr>\n",
       "    <tr>\n",
       "      <th>14</th>\n",
       "      <td>1700</td>\n",
       "      <td>14.100000</td>\n",
       "    </tr>\n",
       "    <tr>\n",
       "      <th>15</th>\n",
       "      <td>19400</td>\n",
       "      <td>384.899994</td>\n",
       "    </tr>\n",
       "    <tr>\n",
       "      <th>16</th>\n",
       "      <td>9000</td>\n",
       "      <td>179.000000</td>\n",
       "    </tr>\n",
       "    <tr>\n",
       "      <th>17</th>\n",
       "      <td>3900</td>\n",
       "      <td>90.000000</td>\n",
       "    </tr>\n",
       "    <tr>\n",
       "      <th>18</th>\n",
       "      <td>1800</td>\n",
       "      <td>55.099998</td>\n",
       "    </tr>\n",
       "    <tr>\n",
       "      <th>19</th>\n",
       "      <td>1400</td>\n",
       "      <td>15.900000</td>\n",
       "    </tr>\n",
       "    <tr>\n",
       "      <th>20</th>\n",
       "      <td>2100</td>\n",
       "      <td>31.799999</td>\n",
       "    </tr>\n",
       "    <tr>\n",
       "      <th>21</th>\n",
       "      <td>4600</td>\n",
       "      <td>38.400002</td>\n",
       "    </tr>\n",
       "    <tr>\n",
       "      <th>22</th>\n",
       "      <td>23700</td>\n",
       "      <td>411.399994</td>\n",
       "    </tr>\n",
       "    <tr>\n",
       "      <th>23</th>\n",
       "      <td>3700</td>\n",
       "      <td>61.500000</td>\n",
       "    </tr>\n",
       "    <tr>\n",
       "      <th>24</th>\n",
       "      <td>23400</td>\n",
       "      <td>591.000000</td>\n",
       "    </tr>\n",
       "    <tr>\n",
       "      <th>25</th>\n",
       "      <td>7400</td>\n",
       "      <td>108.900002</td>\n",
       "    </tr>\n",
       "    <tr>\n",
       "      <th>26</th>\n",
       "      <td>2500</td>\n",
       "      <td>187.699997</td>\n",
       "    </tr>\n",
       "  </tbody>\n",
       "</table>\n",
       "</div>"
      ],
      "text/plain": [
       "    GDP ($ per capita)      Phones\n",
       "0                  700    3.200000\n",
       "1                 1900    7.300000\n",
       "2                 1300   14.300000\n",
       "3                18600  237.199997\n",
       "4                 1800   10.100000\n",
       "5                 1900    2.600000\n",
       "6                 5000  266.700012\n",
       "7                28800  546.700012\n",
       "8                 2900   45.400002\n",
       "9                 3200   52.000000\n",
       "10                7000  276.399994\n",
       "11               28200  461.200012\n",
       "12                1300   42.400002\n",
       "13               17800  486.100006\n",
       "14                1700   14.100000\n",
       "15               19400  384.899994\n",
       "16                9000  179.000000\n",
       "17                3900   90.000000\n",
       "18                1800   55.099998\n",
       "19                1400   15.900000\n",
       "20                2100   31.799999\n",
       "21                4600   38.400002\n",
       "22               23700  411.399994\n",
       "23                3700   61.500000\n",
       "24               23400  591.000000\n",
       "25                7400  108.900002\n",
       "26                2500  187.699997"
      ]
     },
     "execution_count": 26,
     "metadata": {},
     "output_type": "execute_result"
    }
   ],
   "source": [
    "pd_asia"
   ]
  },
  {
   "cell_type": "code",
   "execution_count": 27,
   "metadata": {},
   "outputs": [
    {
     "data": {
      "text/plain": [
       "<matplotlib.axes._subplots.AxesSubplot at 0x7f9eb1299340>"
      ]
     },
     "execution_count": 27,
     "metadata": {},
     "output_type": "execute_result"
    },
    {
     "data": {
      "image/png": "[encoded data removed]",
      "text/plain": [
       "<Figure size 720x432 with 1 Axes>"
      ]
     },
     "metadata": {
      "needs_background": "light"
     },
     "output_type": "display_data"
    }
   ],
   "source": [
    "pd_asia.plot(x=\"GDP ($ per capita)\", y=\"Phones\", kind=\"scatter\",figsize=(10, 6))"
   ]
  },
  {
   "cell_type": "markdown",
   "metadata": {},
   "source": [
    "nr5 Plot Infant mortality vs. Literacy for top 30 richest and top 30 poorest countries."
   ]
  },
  {
   "cell_type": "code",
   "execution_count": null,
   "metadata": {},
   "outputs": [],
   "source": []
  },
  {
   "cell_type": "code",
   "execution_count": null,
   "metadata": {},
   "outputs": [],
   "source": []
  }
 ],
 "metadata": {
  "kernelspec": {
   "display_name": "Python 3.8.5 64-bit ('spk')",
   "language": "python",
   "name": "python38564bitspk7ccd36030465488981be9a4d844688af"
  },
  "language_info": {
   "codemirror_mode": {
    "name": "ipython",
    "version": 3
   },
   "file_extension": ".py",
   "mimetype": "text/x-python",
   "name": "python",
   "nbconvert_exporter": "python",
   "pygments_lexer": "ipython3",
   "version": "3.8.5-final"
  }
 },
 "nbformat": 4,
 "nbformat_minor": 4
}